{
  "cells": [
    {
      "cell_type": "markdown",
      "metadata": {
        "id": "view-in-github",
        "colab_type": "text"
      },
      "source": [
        "<a href=\"https://colab.research.google.com/github/valthoraval/stochastic/blob/master/Project_Market_Day_checkpoint.ipynb\" target=\"_parent\"><img src=\"https://colab.research.google.com/assets/colab-badge.svg\" alt=\"Open In Colab\"/></a>"
      ]
    },
    {
      "cell_type": "markdown",
      "id": "d8823f9d",
      "metadata": {
        "id": "d8823f9d"
      },
      "source": [
        "# Project - Market Day\n",
        "\n",
        "<a rel=\"license\" href=\"http://creativecommons.org/licenses/by-sa/4.0/\"><img alt=\"Creative Commons License\" align=\"left\" src=\"https://i.creativecommons.org/l/by-sa/4.0/80x15.png\" /></a>&nbsp;| Dennis G. Wilson | <a href=\"https://supaerodatascience.github.io/stochastic/\">https://supaerodatascience.github.io/stochastic/</a>"
      ]
    },
    {
      "cell_type": "markdown",
      "id": "e6452934",
      "metadata": {
        "id": "e6452934"
      },
      "source": [
        "![Stardew Valley](https://venturebeat.com/wp-content/uploads/2018/01/sw7rtba7p1xs77klsime.png)"
      ]
    },
    {
      "cell_type": "markdown",
      "id": "68359e75",
      "metadata": {
        "id": "68359e75"
      },
      "source": [
        "It is Market Day! You've been working hard for a whole season, planting, watering, and taking care of crops. Now it is time to sell them in town. Just one problem though - your old truck can only carry so much weight. Which crops should you bring to maximize your profits? "
      ]
    },
    {
      "cell_type": "markdown",
      "id": "fa661645",
      "metadata": {
        "id": "fa661645"
      },
      "source": [
        "In this project, you will use a stochastic algorithm of your choice to find the best crop configuration you can load into your truck. You know how much stock you have of each crop, how much each crop weighs, and what price it will fetch at the market. You should use these values throughout the project."
      ]
    },
    {
      "cell_type": "markdown",
      "id": "459e3e1a",
      "metadata": {
        "id": "459e3e1a"
      },
      "source": [
        "Before we start, if you're using colab to run this notebook, you'll need to uncomment and run the following lines:"
      ]
    },
    {
      "cell_type": "code",
      "execution_count": 1,
      "id": "c98dedf7",
      "metadata": {
        "colab": {
          "base_uri": "https://localhost:8080/"
        },
        "id": "c98dedf7",
        "outputId": "1bc6b25d-63fe-4f9c-cefc-9bbd6f3d35a3"
      },
      "outputs": [
        {
          "output_type": "stream",
          "name": "stdout",
          "text": [
            "--2022-11-29 08:34:35--  https://raw.githubusercontent.com/SupaeroDataScience/stochastic/master/project/market.csv\n",
            "Resolving raw.githubusercontent.com (raw.githubusercontent.com)... 185.199.110.133, 185.199.111.133, 185.199.108.133, ...\n",
            "Connecting to raw.githubusercontent.com (raw.githubusercontent.com)|185.199.110.133|:443... connected.\n",
            "HTTP request sent, awaiting response... 200 OK\n",
            "Length: 927 [text/plain]\n",
            "Saving to: ‘market.csv.1’\n",
            "\n",
            "\rmarket.csv.1          0%[                    ]       0  --.-KB/s               \rmarket.csv.1        100%[===================>]     927  --.-KB/s    in 0s      \n",
            "\n",
            "2022-11-29 08:34:36 (54.8 MB/s) - ‘market.csv.1’ saved [927/927]\n",
            "\n",
            "--2022-11-29 08:34:36--  https://raw.githubusercontent.com/SupaeroDataScience/stochastic/master/project/recipes.csv\n",
            "Resolving raw.githubusercontent.com (raw.githubusercontent.com)... 185.199.108.133, 185.199.109.133, 185.199.110.133, ...\n",
            "Connecting to raw.githubusercontent.com (raw.githubusercontent.com)|185.199.108.133|:443... connected.\n",
            "HTTP request sent, awaiting response... 200 OK\n",
            "Length: 388 [text/plain]\n",
            "Saving to: ‘recipes.csv.1’\n",
            "\n",
            "recipes.csv.1       100%[===================>]     388  --.-KB/s    in 0s      \n",
            "\n",
            "2022-11-29 08:34:36 (15.9 MB/s) - ‘recipes.csv.1’ saved [388/388]\n",
            "\n",
            "Looking in indexes: https://pypi.org/simple, https://us-python.pkg.dev/colab-wheels/public/simple/\n",
            "Collecting pymoo\n",
            "  Downloading pymoo-0.6.0-cp37-cp37m-manylinux_2_24_x86_64.whl (1.9 MB)\n",
            "\u001b[K     |████████████████████████████████| 1.9 MB 5.3 MB/s \n",
            "\u001b[?25hRequirement already satisfied: autograd>=1.4 in /usr/local/lib/python3.7/dist-packages (from pymoo) (1.5)\n",
            "Requirement already satisfied: numpy>=1.15 in /usr/local/lib/python3.7/dist-packages (from pymoo) (1.21.6)\n",
            "Collecting cma==3.2.2\n",
            "  Downloading cma-3.2.2-py2.py3-none-any.whl (249 kB)\n",
            "\u001b[K     |████████████████████████████████| 249 kB 57.8 MB/s \n",
            "\u001b[?25hCollecting Deprecated\n",
            "  Downloading Deprecated-1.2.13-py2.py3-none-any.whl (9.6 kB)\n",
            "Requirement already satisfied: matplotlib>=3 in /usr/local/lib/python3.7/dist-packages (from pymoo) (3.2.2)\n",
            "Collecting alive-progress\n",
            "  Downloading alive_progress-2.4.1-py3-none-any.whl (80 kB)\n",
            "\u001b[K     |████████████████████████████████| 80 kB 8.6 MB/s \n",
            "\u001b[?25hRequirement already satisfied: dill in /usr/local/lib/python3.7/dist-packages (from pymoo) (0.3.6)\n",
            "Requirement already satisfied: scipy>=1.1 in /usr/local/lib/python3.7/dist-packages (from pymoo) (1.7.3)\n",
            "Requirement already satisfied: future>=0.15.2 in /usr/local/lib/python3.7/dist-packages (from autograd>=1.4->pymoo) (0.16.0)\n",
            "Requirement already satisfied: cycler>=0.10 in /usr/local/lib/python3.7/dist-packages (from matplotlib>=3->pymoo) (0.11.0)\n",
            "Requirement already satisfied: kiwisolver>=1.0.1 in /usr/local/lib/python3.7/dist-packages (from matplotlib>=3->pymoo) (1.4.4)\n",
            "Requirement already satisfied: python-dateutil>=2.1 in /usr/local/lib/python3.7/dist-packages (from matplotlib>=3->pymoo) (2.8.2)\n",
            "Requirement already satisfied: pyparsing!=2.0.4,!=2.1.2,!=2.1.6,>=2.0.1 in /usr/local/lib/python3.7/dist-packages (from matplotlib>=3->pymoo) (3.0.9)\n",
            "Requirement already satisfied: typing-extensions in /usr/local/lib/python3.7/dist-packages (from kiwisolver>=1.0.1->matplotlib>=3->pymoo) (4.1.1)\n",
            "Requirement already satisfied: six>=1.5 in /usr/local/lib/python3.7/dist-packages (from python-dateutil>=2.1->matplotlib>=3->pymoo) (1.15.0)\n",
            "Collecting grapheme==0.6.0\n",
            "  Downloading grapheme-0.6.0.tar.gz (207 kB)\n",
            "\u001b[K     |████████████████████████████████| 207 kB 39.3 MB/s \n",
            "\u001b[?25hCollecting about-time==3.1.1\n",
            "  Downloading about_time-3.1.1-py3-none-any.whl (9.1 kB)\n",
            "Requirement already satisfied: wrapt<2,>=1.10 in /usr/local/lib/python3.7/dist-packages (from Deprecated->pymoo) (1.14.1)\n",
            "Building wheels for collected packages: grapheme\n",
            "  Building wheel for grapheme (setup.py) ... \u001b[?25l\u001b[?25hdone\n",
            "  Created wheel for grapheme: filename=grapheme-0.6.0-py3-none-any.whl size=210096 sha256=1307d59e5887eea4a478c1744936f8b180fb75c7895251ac4799c918e82abb18\n",
            "  Stored in directory: /root/.cache/pip/wheels/71/fc/c8/142ef03b79c02b618fe80b9f2d01c25bd55f60b0c58eab3f0e\n",
            "Successfully built grapheme\n",
            "Installing collected packages: grapheme, about-time, Deprecated, cma, alive-progress, pymoo\n",
            "Successfully installed Deprecated-1.2.13 about-time-3.1.1 alive-progress-2.4.1 cma-3.2.2 grapheme-0.6.0 pymoo-0.6.0\n"
          ]
        }
      ],
      "source": [
        "!wget https://raw.githubusercontent.com/SupaeroDataScience/stochastic/master/project/market.csv\n",
        "!wget https://raw.githubusercontent.com/SupaeroDataScience/stochastic/master/project/recipes.csv\n",
        "!pip install pymoo"
      ]
    },
    {
      "cell_type": "code",
      "execution_count": 2,
      "id": "3fd3c7cf",
      "metadata": {
        "id": "3fd3c7cf"
      },
      "outputs": [],
      "source": [
        "import numpy as np\n",
        "import pandas as pd\n",
        "import pymoo\n",
        "import copy"
      ]
    },
    {
      "cell_type": "code",
      "execution_count": 79,
      "id": "1c3d4f41",
      "metadata": {
        "colab": {
          "base_uri": "https://localhost:8080/",
          "height": 206
        },
        "id": "1c3d4f41",
        "outputId": "b916e672-7f8f-46a2-dc48-3fcbd3fa7ba9"
      },
      "outputs": [
        {
          "output_type": "execute_result",
          "data": {
            "text/plain": [
              "              stock  weight  price_A  price_B  price_C\n",
              "Apple             5       5     1.00      0.5      1.1\n",
              "Apricot          65       3     0.50      0.2      0.6\n",
              "Blueberry         5       3     0.50      0.3      1.2\n",
              "Cactus Fruit     90       4     0.75      0.3      0.3\n",
              "Cherry           15       4     0.80      0.4      1.1"
            ],
            "text/html": [
              "\n",
              "  <div id=\"df-e8752afc-efb9-4462-920c-5ee8e85b8aa8\">\n",
              "    <div class=\"colab-df-container\">\n",
              "      <div>\n",
              "<style scoped>\n",
              "    .dataframe tbody tr th:only-of-type {\n",
              "        vertical-align: middle;\n",
              "    }\n",
              "\n",
              "    .dataframe tbody tr th {\n",
              "        vertical-align: top;\n",
              "    }\n",
              "\n",
              "    .dataframe thead th {\n",
              "        text-align: right;\n",
              "    }\n",
              "</style>\n",
              "<table border=\"1\" class=\"dataframe\">\n",
              "  <thead>\n",
              "    <tr style=\"text-align: right;\">\n",
              "      <th></th>\n",
              "      <th>stock</th>\n",
              "      <th>weight</th>\n",
              "      <th>price_A</th>\n",
              "      <th>price_B</th>\n",
              "      <th>price_C</th>\n",
              "    </tr>\n",
              "  </thead>\n",
              "  <tbody>\n",
              "    <tr>\n",
              "      <th>Apple</th>\n",
              "      <td>5</td>\n",
              "      <td>5</td>\n",
              "      <td>1.00</td>\n",
              "      <td>0.5</td>\n",
              "      <td>1.1</td>\n",
              "    </tr>\n",
              "    <tr>\n",
              "      <th>Apricot</th>\n",
              "      <td>65</td>\n",
              "      <td>3</td>\n",
              "      <td>0.50</td>\n",
              "      <td>0.2</td>\n",
              "      <td>0.6</td>\n",
              "    </tr>\n",
              "    <tr>\n",
              "      <th>Blueberry</th>\n",
              "      <td>5</td>\n",
              "      <td>3</td>\n",
              "      <td>0.50</td>\n",
              "      <td>0.3</td>\n",
              "      <td>1.2</td>\n",
              "    </tr>\n",
              "    <tr>\n",
              "      <th>Cactus Fruit</th>\n",
              "      <td>90</td>\n",
              "      <td>4</td>\n",
              "      <td>0.75</td>\n",
              "      <td>0.3</td>\n",
              "      <td>0.3</td>\n",
              "    </tr>\n",
              "    <tr>\n",
              "      <th>Cherry</th>\n",
              "      <td>15</td>\n",
              "      <td>4</td>\n",
              "      <td>0.80</td>\n",
              "      <td>0.4</td>\n",
              "      <td>1.1</td>\n",
              "    </tr>\n",
              "  </tbody>\n",
              "</table>\n",
              "</div>\n",
              "      <button class=\"colab-df-convert\" onclick=\"convertToInteractive('df-e8752afc-efb9-4462-920c-5ee8e85b8aa8')\"\n",
              "              title=\"Convert this dataframe to an interactive table.\"\n",
              "              style=\"display:none;\">\n",
              "        \n",
              "  <svg xmlns=\"http://www.w3.org/2000/svg\" height=\"24px\"viewBox=\"0 0 24 24\"\n",
              "       width=\"24px\">\n",
              "    <path d=\"M0 0h24v24H0V0z\" fill=\"none\"/>\n",
              "    <path d=\"M18.56 5.44l.94 2.06.94-2.06 2.06-.94-2.06-.94-.94-2.06-.94 2.06-2.06.94zm-11 1L8.5 8.5l.94-2.06 2.06-.94-2.06-.94L8.5 2.5l-.94 2.06-2.06.94zm10 10l.94 2.06.94-2.06 2.06-.94-2.06-.94-.94-2.06-.94 2.06-2.06.94z\"/><path d=\"M17.41 7.96l-1.37-1.37c-.4-.4-.92-.59-1.43-.59-.52 0-1.04.2-1.43.59L10.3 9.45l-7.72 7.72c-.78.78-.78 2.05 0 2.83L4 21.41c.39.39.9.59 1.41.59.51 0 1.02-.2 1.41-.59l7.78-7.78 2.81-2.81c.8-.78.8-2.07 0-2.86zM5.41 20L4 18.59l7.72-7.72 1.47 1.35L5.41 20z\"/>\n",
              "  </svg>\n",
              "      </button>\n",
              "      \n",
              "  <style>\n",
              "    .colab-df-container {\n",
              "      display:flex;\n",
              "      flex-wrap:wrap;\n",
              "      gap: 12px;\n",
              "    }\n",
              "\n",
              "    .colab-df-convert {\n",
              "      background-color: #E8F0FE;\n",
              "      border: none;\n",
              "      border-radius: 50%;\n",
              "      cursor: pointer;\n",
              "      display: none;\n",
              "      fill: #1967D2;\n",
              "      height: 32px;\n",
              "      padding: 0 0 0 0;\n",
              "      width: 32px;\n",
              "    }\n",
              "\n",
              "    .colab-df-convert:hover {\n",
              "      background-color: #E2EBFA;\n",
              "      box-shadow: 0px 1px 2px rgba(60, 64, 67, 0.3), 0px 1px 3px 1px rgba(60, 64, 67, 0.15);\n",
              "      fill: #174EA6;\n",
              "    }\n",
              "\n",
              "    [theme=dark] .colab-df-convert {\n",
              "      background-color: #3B4455;\n",
              "      fill: #D2E3FC;\n",
              "    }\n",
              "\n",
              "    [theme=dark] .colab-df-convert:hover {\n",
              "      background-color: #434B5C;\n",
              "      box-shadow: 0px 1px 3px 1px rgba(0, 0, 0, 0.15);\n",
              "      filter: drop-shadow(0px 1px 2px rgba(0, 0, 0, 0.3));\n",
              "      fill: #FFFFFF;\n",
              "    }\n",
              "  </style>\n",
              "\n",
              "      <script>\n",
              "        const buttonEl =\n",
              "          document.querySelector('#df-e8752afc-efb9-4462-920c-5ee8e85b8aa8 button.colab-df-convert');\n",
              "        buttonEl.style.display =\n",
              "          google.colab.kernel.accessAllowed ? 'block' : 'none';\n",
              "\n",
              "        async function convertToInteractive(key) {\n",
              "          const element = document.querySelector('#df-e8752afc-efb9-4462-920c-5ee8e85b8aa8');\n",
              "          const dataTable =\n",
              "            await google.colab.kernel.invokeFunction('convertToInteractive',\n",
              "                                                     [key], {});\n",
              "          if (!dataTable) return;\n",
              "\n",
              "          const docLinkHtml = 'Like what you see? Visit the ' +\n",
              "            '<a target=\"_blank\" href=https://colab.research.google.com/notebooks/data_table.ipynb>data table notebook</a>'\n",
              "            + ' to learn more about interactive tables.';\n",
              "          element.innerHTML = '';\n",
              "          dataTable['output_type'] = 'display_data';\n",
              "          await google.colab.output.renderOutput(dataTable, element);\n",
              "          const docLink = document.createElement('div');\n",
              "          docLink.innerHTML = docLinkHtml;\n",
              "          element.appendChild(docLink);\n",
              "        }\n",
              "      </script>\n",
              "    </div>\n",
              "  </div>\n",
              "  "
            ]
          },
          "metadata": {},
          "execution_count": 79
        }
      ],
      "source": [
        "df = pd.read_csv('market.csv', index_col=0)\n",
        "df.head()"
      ]
    },
    {
      "cell_type": "code",
      "execution_count": 119,
      "id": "614d7ba3",
      "metadata": {
        "id": "614d7ba3"
      },
      "outputs": [],
      "source": [
        "stock = df['stock'].to_dict()\n",
        "weight = df['weight'].to_dict()\n",
        "price = df['price_A'].to_dict()"
      ]
    },
    {
      "cell_type": "code",
      "execution_count": 120,
      "id": "5d28fa1e",
      "metadata": {
        "colab": {
          "base_uri": "https://localhost:8080/"
        },
        "id": "5d28fa1e",
        "outputId": "33924c0a-c6f5-4859-b6d4-74ab310ae047"
      },
      "outputs": [
        {
          "output_type": "execute_result",
          "data": {
            "text/plain": [
              "{'Apple': 5,\n",
              " 'Apricot': 65,\n",
              " 'Blueberry': 5,\n",
              " 'Cactus Fruit': 90,\n",
              " 'Cherry': 15,\n",
              " 'Cranberry': 75,\n",
              " 'Grape': 70,\n",
              " 'Melon': 75,\n",
              " 'Orange': 40,\n",
              " 'Peach': 55,\n",
              " 'Pomegranate': 5,\n",
              " 'Rhubarb': 70,\n",
              " 'Starfruit': 5,\n",
              " 'Strawberry': 20,\n",
              " 'Amaranth': 20,\n",
              " 'Artichoke': 65,\n",
              " 'Beet': 30,\n",
              " 'Bok Choy': 55,\n",
              " 'Cauliflower': 70,\n",
              " 'Corn': 90,\n",
              " 'Eggplant': 95,\n",
              " 'Garlic': 95,\n",
              " 'Green Bean': 55,\n",
              " 'Hops': 75,\n",
              " 'Hot Pepper': 25,\n",
              " 'Kale': 5,\n",
              " 'Parsnip': 10,\n",
              " 'Potato': 55,\n",
              " 'Pumpkin': 30,\n",
              " 'Radish': 50,\n",
              " 'Red Cabbage': 55,\n",
              " 'Tomato': 65,\n",
              " 'Wheat': 75,\n",
              " 'Yam': 50,\n",
              " 'Blackberry': 70}"
            ]
          },
          "metadata": {},
          "execution_count": 120
        }
      ],
      "source": [
        "stock"
      ]
    },
    {
      "cell_type": "markdown",
      "id": "91c0dc4b",
      "metadata": {
        "id": "91c0dc4b"
      },
      "source": [
        "To evaluate your possible load going to the market, we will use a function that takes in a dictionary of this type, specifying how many of each crop you will take. This function will take into the constraints of having enough stock of the crop type and of not surpassing the weight limit."
      ]
    },
    {
      "cell_type": "code",
      "execution_count": 121,
      "id": "587b7af3",
      "metadata": {
        "id": "587b7af3"
      },
      "outputs": [],
      "source": [
        "def evaluate(load, stock, weight, price, max_weight=5000):\n",
        "    total_weight = 0\n",
        "    total_price = 0\n",
        "    for k in load:\n",
        "        if load[k] <= stock[k]:\n",
        "            total_price += load[k] * price[k]\n",
        "            total_weight += load[k] * weight[k]\n",
        "            if total_weight > max_weight:\n",
        "                return 0\n",
        "        else:\n",
        "            return 0\n",
        "    return total_price"
      ]
    },
    {
      "cell_type": "code",
      "source": [
        "def evaluate_autre(load, stock, weight, price, max_weight=5000):\n",
        "    total_weight = 0\n",
        "    total_price = 0\n",
        "    for k in load:\n",
        "        if load[k] <= stock[k]:\n",
        "            total_price += load[k] * price[k]\n",
        "            total_weight += load[k] * weight[k]\n",
        "            if total_weight > max_weight:\n",
        "                total_price -= load[k] * price[k]\n",
        "                total_weight -= load[k] * weight[k]\n",
        "                break\n",
        "        else:\n",
        "            pass\n",
        "    print(\"Total weight\", total_weight)\n",
        "    return total_price"
      ],
      "metadata": {
        "id": "lee-nFuth0Sc"
      },
      "id": "lee-nFuth0Sc",
      "execution_count": 83,
      "outputs": []
    },
    {
      "cell_type": "markdown",
      "id": "f832b811",
      "metadata": {
        "id": "f832b811"
      },
      "source": [
        "You can try this with an example load generated randomly:"
      ]
    },
    {
      "cell_type": "code",
      "source": [
        "trial_load = {}\n",
        "\n",
        "for k in stock:\n",
        "    trial_load[k] = np.random.randint(0, stock[k])\n",
        "\n",
        "print(trial_load)\n",
        "type(trial_load)\n",
        "#print(len(trial_load))"
      ],
      "metadata": {
        "colab": {
          "base_uri": "https://localhost:8080/"
        },
        "id": "iq2pLv5H_z7c",
        "outputId": "19e2ede6-0f22-4930-87c6-67d3981511e0"
      },
      "id": "iq2pLv5H_z7c",
      "execution_count": 122,
      "outputs": [
        {
          "output_type": "stream",
          "name": "stdout",
          "text": [
            "{'Apple': 3, 'Apricot': 50, 'Blueberry': 1, 'Cactus Fruit': 10, 'Cherry': 7, 'Cranberry': 14, 'Grape': 29, 'Melon': 10, 'Orange': 38, 'Peach': 50, 'Pomegranate': 2, 'Rhubarb': 28, 'Starfruit': 4, 'Strawberry': 7, 'Amaranth': 1, 'Artichoke': 57, 'Beet': 18, 'Bok Choy': 7, 'Cauliflower': 28, 'Corn': 20, 'Eggplant': 20, 'Garlic': 43, 'Green Bean': 10, 'Hops': 44, 'Hot Pepper': 12, 'Kale': 3, 'Parsnip': 5, 'Potato': 25, 'Pumpkin': 12, 'Radish': 19, 'Red Cabbage': 32, 'Tomato': 44, 'Wheat': 52, 'Yam': 20, 'Blackberry': 66}\n"
          ]
        },
        {
          "output_type": "execute_result",
          "data": {
            "text/plain": [
              "dict"
            ]
          },
          "metadata": {},
          "execution_count": 122
        }
      ]
    },
    {
      "cell_type": "code",
      "execution_count": 123,
      "id": "e9538ac0",
      "metadata": {
        "colab": {
          "base_uri": "https://localhost:8080/"
        },
        "id": "e9538ac0",
        "outputId": "2e8db830-6e75-468f-f5fe-8c2cf29e3dc8"
      },
      "outputs": [
        {
          "output_type": "execute_result",
          "data": {
            "text/plain": [
              "661.9500000000002"
            ]
          },
          "metadata": {},
          "execution_count": 123
        }
      ],
      "source": [
        "evaluate(trial_load, stock, weight, price)"
      ]
    },
    {
      "cell_type": "markdown",
      "id": "b49edb3c",
      "metadata": {
        "id": "b49edb3c"
      },
      "source": [
        "## Challenge 1\n",
        "\n",
        "Use a stochastic algorithm to find the configuration of crops that maximizes profit while respecting the constraints of the weight limit and stock. You can use any of the class code or a library like `pymoo`. You should create a reasonable representation for the problem and appropriate modification functions like mutation and crossover. You can also modify the evaluation function, as long as your final solution is valid according to the weight and stock constraints.\n",
        "\n",
        "Include your code for optimization, any visualizations of the optimization process, as well as code to show the final market load and profit gained. Can you beat the random trial load profits?\n",
        "\n",
        "Hint: this is a constrained case of the [knapsack problem](https://en.wikipedia.org/wiki/Knapsack_problem)"
      ]
    },
    {
      "cell_type": "code",
      "source": [
        "n_population = 100\n",
        "population_trail_load = []\n",
        "\n",
        "for i in range(n_population):\n",
        "    trial_load = {}\n",
        "    for k in stock:\n",
        "        trial_load[k] = np.random.randint(0, stock[k])\n",
        "    population_trail_load.append(trial_load)\n",
        "#trial_load\n",
        "len(population_trail_load)\n",
        "print(population_trail_load[20])\n",
        "print(type(population_trail_load[20]))\n",
        "\n",
        "#print(len(population_trail_load))"
      ],
      "metadata": {
        "colab": {
          "base_uri": "https://localhost:8080/"
        },
        "id": "C1EwhrvG9D8p",
        "outputId": "15a29036-6767-4303-f9db-8958c37dab1b"
      },
      "id": "C1EwhrvG9D8p",
      "execution_count": 124,
      "outputs": [
        {
          "output_type": "stream",
          "name": "stdout",
          "text": [
            "{'Apple': 2, 'Apricot': 16, 'Blueberry': 2, 'Cactus Fruit': 30, 'Cherry': 8, 'Cranberry': 56, 'Grape': 37, 'Melon': 45, 'Orange': 19, 'Peach': 53, 'Pomegranate': 3, 'Rhubarb': 61, 'Starfruit': 4, 'Strawberry': 9, 'Amaranth': 0, 'Artichoke': 52, 'Beet': 20, 'Bok Choy': 31, 'Cauliflower': 15, 'Corn': 16, 'Eggplant': 64, 'Garlic': 92, 'Green Bean': 53, 'Hops': 74, 'Hot Pepper': 22, 'Kale': 2, 'Parsnip': 5, 'Potato': 40, 'Pumpkin': 3, 'Radish': 26, 'Red Cabbage': 11, 'Tomato': 54, 'Wheat': 53, 'Yam': 45, 'Blackberry': 53}\n",
            "<class 'dict'>\n"
          ]
        }
      ]
    },
    {
      "cell_type": "code",
      "source": [
        "def tournament_selection(population, fitness, t_size=3):\n",
        "    rng = np.random.default_rng()\n",
        "    tournament = rng.choice(len(population), size=t_size)\n",
        "    print('tournament',type(tournament))\n",
        "    #print('tournament', tournament)\n",
        "    ind = []\n",
        "    for i in range(len(tournament)):\n",
        "        print('i',i)\n",
        "        ind.append(fitness[tournament[i]])\n",
        "    ind = ind.index(max(ind))\n",
        "    return population[ind], fitness[ind]\n"
      ],
      "metadata": {
        "id": "NCthSEBkkRab"
      },
      "id": "NCthSEBkkRab",
      "execution_count": 140,
      "outputs": []
    },
    {
      "cell_type": "code",
      "source": [
        "fitness = []\n",
        "for i in range(len(population_trail_load)):\n",
        "    #print(population_trail_load[i])\n",
        "    #print(stock)\n",
        "    #print(weight)\n",
        "    #print(price)\n",
        "    prix = evaluate(population_trail_load[i], stock, weight, price)\n",
        "    fitness.append(prix)\n",
        "print(type(fitness))\n",
        "\n",
        "for j in range(5):\n",
        "    p, f = tournament_selection(population_trail_load, fitness, t_size=3)\n",
        "    print(f)"
      ],
      "metadata": {
        "colab": {
          "base_uri": "https://localhost:8080/"
        },
        "id": "scmO5vaX9HlP",
        "outputId": "1d2101a9-96b0-4ddf-fb10-07da7b4f31ce"
      },
      "id": "scmO5vaX9HlP",
      "execution_count": 142,
      "outputs": [
        {
          "output_type": "stream",
          "name": "stdout",
          "text": [
            "<class 'list'>\n",
            "tournament <class 'numpy.ndarray'>\n",
            "i 0\n",
            "i 1\n",
            "i 2\n",
            "774.8500000000001\n",
            "tournament <class 'numpy.ndarray'>\n",
            "i 0\n",
            "i 1\n",
            "i 2\n",
            "711.3000000000001\n",
            "tournament <class 'numpy.ndarray'>\n",
            "i 0\n",
            "i 1\n",
            "i 2\n",
            "774.8500000000001\n",
            "tournament <class 'numpy.ndarray'>\n",
            "i 0\n",
            "i 1\n",
            "i 2\n",
            "688.95\n",
            "tournament <class 'numpy.ndarray'>\n",
            "i 0\n",
            "i 1\n",
            "i 2\n",
            "711.3000000000001\n"
          ]
        }
      ]
    },
    {
      "cell_type": "markdown",
      "id": "1db64ad0",
      "metadata": {
        "id": "1db64ad0"
      },
      "source": [
        "## Challenge 2\n"
      ]
    },
    {
      "cell_type": "markdown",
      "id": "ad10e8aa",
      "metadata": {
        "id": "ad10e8aa"
      },
      "source": [
        "The agricultural market in this world is highly variable. This time, you'll be selling your load to a reseller, but you're not sure which one. Each reseller has different prices, so it depends on which one you'll meet. To be prepared, you should explore the possible options."
      ]
    },
    {
      "cell_type": "code",
      "execution_count": 15,
      "id": "6f1fb98d",
      "metadata": {
        "id": "6f1fb98d"
      },
      "outputs": [],
      "source": [
        "price_a = df['price_A'].to_dict()\n",
        "price_b = df['price_B'].to_dict()\n",
        "price_c = df['price_C'].to_dict()"
      ]
    },
    {
      "cell_type": "code",
      "execution_count": 16,
      "id": "c2b295f9",
      "metadata": {
        "colab": {
          "base_uri": "https://localhost:8080/"
        },
        "id": "c2b295f9",
        "outputId": "d2b6d497-15e7-4d78-c9a1-a508bd0406c7"
      },
      "outputs": [
        {
          "output_type": "execute_result",
          "data": {
            "text/plain": [
              "(0.8, 0.4, 1.1)"
            ]
          },
          "metadata": {},
          "execution_count": 16
        }
      ],
      "source": [
        "price_a['Cherry'], price_b['Cherry'], price_c['Cherry']"
      ]
    },
    {
      "cell_type": "markdown",
      "id": "5ad5ab54",
      "metadata": {
        "id": "5ad5ab54"
      },
      "source": [
        "Given that cherries have very different prices between the different resellers, the example load we made ealier would fetch a wildly different price depending on the reseller:"
      ]
    },
    {
      "cell_type": "code",
      "execution_count": 29,
      "id": "8dc3fa44",
      "metadata": {
        "colab": {
          "base_uri": "https://localhost:8080/"
        },
        "id": "8dc3fa44",
        "outputId": "bd7cc7d3-e847-49a7-a6ee-7aa116201fec"
      },
      "outputs": [
        {
          "output_type": "stream",
          "name": "stdout",
          "text": [
            "Total weight 4063\n",
            "Total weight 4063\n",
            "Total weight 4063\n",
            "686.95 348.79999999999995 469.09999999999997\n"
          ]
        }
      ],
      "source": [
        "a = evaluate(trial_load, stock, weight, price_a)\n",
        "b = evaluate(trial_load, stock, weight, price_b)\n",
        "c = evaluate(trial_load, stock, weight, price_c)\n",
        "print(a, b, c)"
      ]
    },
    {
      "cell_type": "markdown",
      "id": "40447192",
      "metadata": {
        "id": "40447192"
      },
      "source": [
        "Prepare four different options for your market day haul: one option that will be good for reseller A, one for reseller B, one for reseller C, and one which would be pretty good for all three. Display these options and compare their different prices."
      ]
    },
    {
      "cell_type": "markdown",
      "id": "8c3ff230",
      "metadata": {
        "id": "8c3ff230"
      },
      "source": [
        "Hint: you can use a multi-objective algorithm to optimize for all three reseller prices at the same time."
      ]
    },
    {
      "cell_type": "markdown",
      "id": "0d026d23",
      "metadata": {
        "id": "0d026d23"
      },
      "source": [
        "## Challenge 3"
      ]
    },
    {
      "cell_type": "markdown",
      "id": "1d7603f4",
      "metadata": {
        "id": "1d7603f4"
      },
      "source": [
        "You decide to preprare some of your crops by making food for the market day. You know a number of recipes and are famous for your delicious fruit pies."
      ]
    },
    {
      "cell_type": "code",
      "execution_count": 20,
      "id": "025beabd",
      "metadata": {
        "id": "025beabd"
      },
      "outputs": [],
      "source": [
        "recipes = {'Ratatouille': {'Eggplant': 2, 'Garlic': 2, 'Tomato': 4, 'Hot Pepper': 1},\n",
        " 'Apple Pie': {'Apple': 10, 'Wheat': 5},\n",
        " 'Apricot Pie': {'Apricot': 10, 'Wheat': 5},\n",
        " 'Cherry Pie': {'Cherry': 10, 'Wheat': 5},\n",
        " 'Rhubarb Pie': {'Rhubarb': 10, 'Wheat': 5},\n",
        " 'Strawberry Pie': {'Strawberry': 10, 'Wheat': 5},\n",
        " 'Blackberry Pie': {'Blackberry': 10, 'Wheat': 5},\n",
        " 'Pumpkin Pie': {'Pumpkin': 10, 'Wheat': 5},\n",
        " 'Pizza': {'Tomato': 3, 'Wheat': 2, 'Artichoke': 1},\n",
        " 'Baba Ghanoush': {'Eggplant': 2, 'Garlic': 4},\n",
        " 'Squash Soup': {'Yam': 3, 'Pumpkin': 1},\n",
        " 'Peach Beer': {'Hops': 3, 'Peach': 1},\n",
        " 'Blackberry Beer': {'Hops': 3, 'Blackberry': 1}}"
      ]
    },
    {
      "cell_type": "markdown",
      "id": "1e250a2c",
      "metadata": {
        "id": "1e250a2c"
      },
      "source": [
        "These recipes sell for good prices at each of the resellers:"
      ]
    },
    {
      "cell_type": "code",
      "execution_count": 21,
      "id": "7d0bfc4d",
      "metadata": {
        "colab": {
          "base_uri": "https://localhost:8080/",
          "height": 206
        },
        "id": "7d0bfc4d",
        "outputId": "a1e9bb67-2d77-41ee-96b2-86a8d14a25b4"
      },
      "outputs": [
        {
          "output_type": "execute_result",
          "data": {
            "text/plain": [
              "             price_A  price_B  price_C\n",
              "Ratatouille     68.0     13.0     52.0\n",
              "Apple Pie      146.0     84.0    176.0\n",
              "Apricot Pie     81.0     46.0    110.0\n",
              "Cherry Pie     120.0     72.0    176.0\n",
              "Rhubarb Pie    133.0    162.0     98.0"
            ],
            "text/html": [
              "\n",
              "  <div id=\"df-39ca5111-a701-47b5-a899-7a533bd8dece\">\n",
              "    <div class=\"colab-df-container\">\n",
              "      <div>\n",
              "<style scoped>\n",
              "    .dataframe tbody tr th:only-of-type {\n",
              "        vertical-align: middle;\n",
              "    }\n",
              "\n",
              "    .dataframe tbody tr th {\n",
              "        vertical-align: top;\n",
              "    }\n",
              "\n",
              "    .dataframe thead th {\n",
              "        text-align: right;\n",
              "    }\n",
              "</style>\n",
              "<table border=\"1\" class=\"dataframe\">\n",
              "  <thead>\n",
              "    <tr style=\"text-align: right;\">\n",
              "      <th></th>\n",
              "      <th>price_A</th>\n",
              "      <th>price_B</th>\n",
              "      <th>price_C</th>\n",
              "    </tr>\n",
              "  </thead>\n",
              "  <tbody>\n",
              "    <tr>\n",
              "      <th>Ratatouille</th>\n",
              "      <td>68.0</td>\n",
              "      <td>13.0</td>\n",
              "      <td>52.0</td>\n",
              "    </tr>\n",
              "    <tr>\n",
              "      <th>Apple Pie</th>\n",
              "      <td>146.0</td>\n",
              "      <td>84.0</td>\n",
              "      <td>176.0</td>\n",
              "    </tr>\n",
              "    <tr>\n",
              "      <th>Apricot Pie</th>\n",
              "      <td>81.0</td>\n",
              "      <td>46.0</td>\n",
              "      <td>110.0</td>\n",
              "    </tr>\n",
              "    <tr>\n",
              "      <th>Cherry Pie</th>\n",
              "      <td>120.0</td>\n",
              "      <td>72.0</td>\n",
              "      <td>176.0</td>\n",
              "    </tr>\n",
              "    <tr>\n",
              "      <th>Rhubarb Pie</th>\n",
              "      <td>133.0</td>\n",
              "      <td>162.0</td>\n",
              "      <td>98.0</td>\n",
              "    </tr>\n",
              "  </tbody>\n",
              "</table>\n",
              "</div>\n",
              "      <button class=\"colab-df-convert\" onclick=\"convertToInteractive('df-39ca5111-a701-47b5-a899-7a533bd8dece')\"\n",
              "              title=\"Convert this dataframe to an interactive table.\"\n",
              "              style=\"display:none;\">\n",
              "        \n",
              "  <svg xmlns=\"http://www.w3.org/2000/svg\" height=\"24px\"viewBox=\"0 0 24 24\"\n",
              "       width=\"24px\">\n",
              "    <path d=\"M0 0h24v24H0V0z\" fill=\"none\"/>\n",
              "    <path d=\"M18.56 5.44l.94 2.06.94-2.06 2.06-.94-2.06-.94-.94-2.06-.94 2.06-2.06.94zm-11 1L8.5 8.5l.94-2.06 2.06-.94-2.06-.94L8.5 2.5l-.94 2.06-2.06.94zm10 10l.94 2.06.94-2.06 2.06-.94-2.06-.94-.94-2.06-.94 2.06-2.06.94z\"/><path d=\"M17.41 7.96l-1.37-1.37c-.4-.4-.92-.59-1.43-.59-.52 0-1.04.2-1.43.59L10.3 9.45l-7.72 7.72c-.78.78-.78 2.05 0 2.83L4 21.41c.39.39.9.59 1.41.59.51 0 1.02-.2 1.41-.59l7.78-7.78 2.81-2.81c.8-.78.8-2.07 0-2.86zM5.41 20L4 18.59l7.72-7.72 1.47 1.35L5.41 20z\"/>\n",
              "  </svg>\n",
              "      </button>\n",
              "      \n",
              "  <style>\n",
              "    .colab-df-container {\n",
              "      display:flex;\n",
              "      flex-wrap:wrap;\n",
              "      gap: 12px;\n",
              "    }\n",
              "\n",
              "    .colab-df-convert {\n",
              "      background-color: #E8F0FE;\n",
              "      border: none;\n",
              "      border-radius: 50%;\n",
              "      cursor: pointer;\n",
              "      display: none;\n",
              "      fill: #1967D2;\n",
              "      height: 32px;\n",
              "      padding: 0 0 0 0;\n",
              "      width: 32px;\n",
              "    }\n",
              "\n",
              "    .colab-df-convert:hover {\n",
              "      background-color: #E2EBFA;\n",
              "      box-shadow: 0px 1px 2px rgba(60, 64, 67, 0.3), 0px 1px 3px 1px rgba(60, 64, 67, 0.15);\n",
              "      fill: #174EA6;\n",
              "    }\n",
              "\n",
              "    [theme=dark] .colab-df-convert {\n",
              "      background-color: #3B4455;\n",
              "      fill: #D2E3FC;\n",
              "    }\n",
              "\n",
              "    [theme=dark] .colab-df-convert:hover {\n",
              "      background-color: #434B5C;\n",
              "      box-shadow: 0px 1px 3px 1px rgba(0, 0, 0, 0.15);\n",
              "      filter: drop-shadow(0px 1px 2px rgba(0, 0, 0, 0.3));\n",
              "      fill: #FFFFFF;\n",
              "    }\n",
              "  </style>\n",
              "\n",
              "      <script>\n",
              "        const buttonEl =\n",
              "          document.querySelector('#df-39ca5111-a701-47b5-a899-7a533bd8dece button.colab-df-convert');\n",
              "        buttonEl.style.display =\n",
              "          google.colab.kernel.accessAllowed ? 'block' : 'none';\n",
              "\n",
              "        async function convertToInteractive(key) {\n",
              "          const element = document.querySelector('#df-39ca5111-a701-47b5-a899-7a533bd8dece');\n",
              "          const dataTable =\n",
              "            await google.colab.kernel.invokeFunction('convertToInteractive',\n",
              "                                                     [key], {});\n",
              "          if (!dataTable) return;\n",
              "\n",
              "          const docLinkHtml = 'Like what you see? Visit the ' +\n",
              "            '<a target=\"_blank\" href=https://colab.research.google.com/notebooks/data_table.ipynb>data table notebook</a>'\n",
              "            + ' to learn more about interactive tables.';\n",
              "          element.innerHTML = '';\n",
              "          dataTable['output_type'] = 'display_data';\n",
              "          await google.colab.output.renderOutput(dataTable, element);\n",
              "          const docLink = document.createElement('div');\n",
              "          docLink.innerHTML = docLinkHtml;\n",
              "          element.appendChild(docLink);\n",
              "        }\n",
              "      </script>\n",
              "    </div>\n",
              "  </div>\n",
              "  "
            ]
          },
          "metadata": {},
          "execution_count": 21
        }
      ],
      "source": [
        "df = pd.read_csv('recipes.csv', index_col=0)\n",
        "df.head()"
      ]
    },
    {
      "cell_type": "code",
      "execution_count": 22,
      "id": "48b5850f",
      "metadata": {
        "colab": {
          "base_uri": "https://localhost:8080/"
        },
        "id": "48b5850f",
        "outputId": "bcd8a9e7-1c2a-4e2f-a35e-b32e9860dc19"
      },
      "outputs": [
        {
          "output_type": "execute_result",
          "data": {
            "text/plain": [
              "(146.0, 84.0, 176.0)"
            ]
          },
          "metadata": {},
          "execution_count": 22
        }
      ],
      "source": [
        "price_a.update(df['price_A'].to_dict())\n",
        "price_b.update(df['price_B'].to_dict())\n",
        "price_c.update(df['price_C'].to_dict())\n",
        "price_a['Apple Pie'], price_b['Apple Pie'], price_c['Apple Pie']"
      ]
    },
    {
      "cell_type": "markdown",
      "id": "f12c408d",
      "metadata": {
        "id": "f12c408d"
      },
      "source": [
        "Modify the evaluation function to take into account these recipes, making sure not to break the weight or stock constraints. The weight of a recipe is the sum total weight of the ingredients, and you can not make a recipe if you don't have the remaining stock of ingredients. Here's an example of calculating the total weight of a random load of only recipes:"
      ]
    },
    {
      "cell_type": "code",
      "execution_count": 23,
      "id": "bf9c9986",
      "metadata": {
        "colab": {
          "base_uri": "https://localhost:8080/"
        },
        "id": "bf9c9986",
        "outputId": "f227a597-dd14-4cca-fa1e-fa3bdc38c9bb"
      },
      "outputs": [
        {
          "output_type": "execute_result",
          "data": {
            "text/plain": [
              "{'Ratatouille': 2,\n",
              " 'Apple Pie': 0,\n",
              " 'Apricot Pie': 2,\n",
              " 'Cherry Pie': 3,\n",
              " 'Rhubarb Pie': 2,\n",
              " 'Strawberry Pie': 0,\n",
              " 'Blackberry Pie': 2,\n",
              " 'Pumpkin Pie': 1,\n",
              " 'Pizza': 2,\n",
              " 'Baba Ghanoush': 0,\n",
              " 'Squash Soup': 0,\n",
              " 'Peach Beer': 4,\n",
              " 'Blackberry Beer': 3}"
            ]
          },
          "metadata": {},
          "execution_count": 23
        }
      ],
      "source": [
        "recipe_load = {}\n",
        "for k in recipes:\n",
        "    recipe_load[k] = np.random.randint(0, 5)\n",
        "recipe_load"
      ]
    },
    {
      "cell_type": "code",
      "execution_count": 28,
      "id": "6fbd7e02",
      "metadata": {
        "id": "6fbd7e02"
      },
      "outputs": [],
      "source": [
        "def get_weight(recipe_load, recipes, weight):\n",
        "    total_weight = 0\n",
        "    for k in recipe_load:\n",
        "        ingredients = recipes[k]\n",
        "        w = 0\n",
        "        for i in ingredients:\n",
        "            w += weight[i] * ingredients[i]\n",
        "        total_weight += w * recipe_load[k]\n",
        "    return total_weight"
      ]
    },
    {
      "cell_type": "code",
      "execution_count": 25,
      "id": "22027764",
      "metadata": {
        "colab": {
          "base_uri": "https://localhost:8080/"
        },
        "id": "22027764",
        "outputId": "b3c1b54c-1664-41c1-e950-3e8d75354aa1"
      },
      "outputs": [
        {
          "output_type": "execute_result",
          "data": {
            "text/plain": [
              "700"
            ]
          },
          "metadata": {},
          "execution_count": 25
        }
      ],
      "source": [
        "get_weight(recipe_load, recipes, weight)"
      ]
    },
    {
      "cell_type": "markdown",
      "id": "16aa5d3d",
      "metadata": {
        "id": "16aa5d3d"
      },
      "source": [
        "Once you've modified the evaluation function, rerun the optimization algorithm to find a new load for the three resellers, and one load which is good for all three. Display this result and the profit gained, making sure that the constraints are met."
      ]
    },
    {
      "cell_type": "markdown",
      "id": "ac9e164e",
      "metadata": {
        "id": "ac9e164e"
      },
      "source": [
        "## Evaluation"
      ]
    },
    {
      "cell_type": "markdown",
      "id": "3fc7150b",
      "metadata": {
        "id": "3fc7150b"
      },
      "source": [
        "You should submit a saved copy of your notebook (including all of the cell output) to the LMS by December 13th, EOD. You may work with one partner, but you must **individually submit a notebook**. You will be graded based on your results, your code, and any text or visual explanations, according to the following rubric:\n",
        "\n",
        "Criterion | Points\n",
        "--- | ---\n",
        "Results - Challenge 1 | 7\n",
        "Results - Challenge 2 | 5\n",
        "Results - Challenge 3 | 3\n",
        "Presentation (code, text) | 5"
      ]
    },
    {
      "cell_type": "code",
      "execution_count": null,
      "id": "7520033a",
      "metadata": {
        "id": "7520033a"
      },
      "outputs": [],
      "source": []
    }
  ],
  "metadata": {
    "kernelspec": {
      "display_name": "Python 3 (ipykernel)",
      "language": "python",
      "name": "python3"
    },
    "language_info": {
      "codemirror_mode": {
        "name": "ipython",
        "version": 3
      },
      "file_extension": ".py",
      "mimetype": "text/x-python",
      "name": "python",
      "nbconvert_exporter": "python",
      "pygments_lexer": "ipython3",
      "version": "3.8.10"
    },
    "colab": {
      "provenance": [],
      "include_colab_link": true
    }
  },
  "nbformat": 4,
  "nbformat_minor": 5
}