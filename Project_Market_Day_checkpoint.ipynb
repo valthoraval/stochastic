{
  "cells": [
    {
      "cell_type": "markdown",
      "metadata": {
        "id": "view-in-github",
        "colab_type": "text"
      },
      "source": [
        "<a href=\"https://colab.research.google.com/github/valthoraval/stochastic/blob/master/Project_Market_Day_checkpoint.ipynb\" target=\"_parent\"><img src=\"https://colab.research.google.com/assets/colab-badge.svg\" alt=\"Open In Colab\"/></a>"
      ]
    },
    {
      "cell_type": "markdown",
      "id": "d8823f9d",
      "metadata": {
        "id": "d8823f9d"
      },
      "source": [
        "# Project - Market Day\n",
        "\n",
        "<a rel=\"license\" href=\"http://creativecommons.org/licenses/by-sa/4.0/\"><img alt=\"Creative Commons License\" align=\"left\" src=\"https://i.creativecommons.org/l/by-sa/4.0/80x15.png\" /></a>&nbsp;| Dennis G. Wilson | <a href=\"https://supaerodatascience.github.io/stochastic/\">https://supaerodatascience.github.io/stochastic/</a>"
      ]
    },
    {
      "cell_type": "markdown",
      "id": "e6452934",
      "metadata": {
        "id": "e6452934"
      },
      "source": [
        "![Stardew Valley](https://venturebeat.com/wp-content/uploads/2018/01/sw7rtba7p1xs77klsime.png)"
      ]
    },
    {
      "cell_type": "markdown",
      "id": "68359e75",
      "metadata": {
        "id": "68359e75"
      },
      "source": [
        "It is Market Day! You've been working hard for a whole season, planting, watering, and taking care of crops. Now it is time to sell them in town. Just one problem though - your old truck can only carry so much weight. Which crops should you bring to maximize your profits? "
      ]
    },
    {
      "cell_type": "markdown",
      "id": "fa661645",
      "metadata": {
        "id": "fa661645"
      },
      "source": [
        "In this project, you will use a stochastic algorithm of your choice to find the best crop configuration you can load into your truck. You know how much stock you have of each crop, how much each crop weighs, and what price it will fetch at the market. You should use these values throughout the project."
      ]
    },
    {
      "cell_type": "markdown",
      "id": "459e3e1a",
      "metadata": {
        "id": "459e3e1a"
      },
      "source": [
        "Before we start, if you're using colab to run this notebook, you'll need to uncomment and run the following lines:"
      ]
    },
    {
      "cell_type": "code",
      "execution_count": 3,
      "id": "c98dedf7",
      "metadata": {
        "colab": {
          "base_uri": "https://localhost:8080/"
        },
        "id": "c98dedf7",
        "outputId": "39ca3060-c890-4391-88d7-323d276e4e15"
      },
      "outputs": [
        {
          "output_type": "stream",
          "name": "stdout",
          "text": [
            "--2022-12-13 12:08:26--  https://raw.githubusercontent.com/SupaeroDataScience/stochastic/master/project/market.csv\n",
            "Resolving raw.githubusercontent.com (raw.githubusercontent.com)... 185.199.108.133, 185.199.109.133, 185.199.110.133, ...\n",
            "Connecting to raw.githubusercontent.com (raw.githubusercontent.com)|185.199.108.133|:443... connected.\n",
            "HTTP request sent, awaiting response... 200 OK\n",
            "Length: 927 [text/plain]\n",
            "Saving to: ‘market.csv’\n",
            "\n",
            "\rmarket.csv            0%[                    ]       0  --.-KB/s               \rmarket.csv          100%[===================>]     927  --.-KB/s    in 0s      \n",
            "\n",
            "2022-12-13 12:08:26 (59.6 MB/s) - ‘market.csv’ saved [927/927]\n",
            "\n",
            "--2022-12-13 12:08:26--  https://raw.githubusercontent.com/SupaeroDataScience/stochastic/master/project/recipes.csv\n",
            "Resolving raw.githubusercontent.com (raw.githubusercontent.com)... 185.199.111.133, 185.199.108.133, 185.199.110.133, ...\n",
            "Connecting to raw.githubusercontent.com (raw.githubusercontent.com)|185.199.111.133|:443... connected.\n",
            "HTTP request sent, awaiting response... 200 OK\n",
            "Length: 388 [text/plain]\n",
            "Saving to: ‘recipes.csv’\n",
            "\n",
            "recipes.csv         100%[===================>]     388  --.-KB/s    in 0s      \n",
            "\n",
            "2022-12-13 12:08:26 (25.3 MB/s) - ‘recipes.csv’ saved [388/388]\n",
            "\n",
            "Looking in indexes: https://pypi.org/simple, https://us-python.pkg.dev/colab-wheels/public/simple/\n",
            "Collecting pymoo\n",
            "  Downloading pymoo-0.6.0.1-cp38-cp38-manylinux_2_5_x86_64.manylinux1_x86_64.manylinux_2_12_x86_64.manylinux2010_x86_64.whl (2.6 MB)\n",
            "\u001b[K     |████████████████████████████████| 2.6 MB 19.8 MB/s \n",
            "\u001b[?25hRequirement already satisfied: autograd>=1.4 in /usr/local/lib/python3.8/dist-packages (from pymoo) (1.5)\n",
            "Collecting alive-progress\n",
            "  Downloading alive_progress-2.4.1-py3-none-any.whl (80 kB)\n",
            "\u001b[K     |████████████████████████████████| 80 kB 11.6 MB/s \n",
            "\u001b[?25hCollecting Deprecated\n",
            "  Downloading Deprecated-1.2.13-py2.py3-none-any.whl (9.6 kB)\n",
            "Requirement already satisfied: scipy>=1.1 in /usr/local/lib/python3.8/dist-packages (from pymoo) (1.7.3)\n",
            "Requirement already satisfied: numpy>=1.15 in /usr/local/lib/python3.8/dist-packages (from pymoo) (1.21.6)\n",
            "Requirement already satisfied: dill in /usr/local/lib/python3.8/dist-packages (from pymoo) (0.3.6)\n",
            "Collecting cma==3.2.2\n",
            "  Downloading cma-3.2.2-py2.py3-none-any.whl (249 kB)\n",
            "\u001b[K     |████████████████████████████████| 249 kB 39.4 MB/s \n",
            "\u001b[?25hRequirement already satisfied: matplotlib>=3 in /usr/local/lib/python3.8/dist-packages (from pymoo) (3.2.2)\n",
            "Requirement already satisfied: future>=0.15.2 in /usr/local/lib/python3.8/dist-packages (from autograd>=1.4->pymoo) (0.16.0)\n",
            "Requirement already satisfied: python-dateutil>=2.1 in /usr/local/lib/python3.8/dist-packages (from matplotlib>=3->pymoo) (2.8.2)\n",
            "Requirement already satisfied: cycler>=0.10 in /usr/local/lib/python3.8/dist-packages (from matplotlib>=3->pymoo) (0.11.0)\n",
            "Requirement already satisfied: kiwisolver>=1.0.1 in /usr/local/lib/python3.8/dist-packages (from matplotlib>=3->pymoo) (1.4.4)\n",
            "Requirement already satisfied: pyparsing!=2.0.4,!=2.1.2,!=2.1.6,>=2.0.1 in /usr/local/lib/python3.8/dist-packages (from matplotlib>=3->pymoo) (3.0.9)\n",
            "Requirement already satisfied: six>=1.5 in /usr/local/lib/python3.8/dist-packages (from python-dateutil>=2.1->matplotlib>=3->pymoo) (1.15.0)\n",
            "Collecting about-time==3.1.1\n",
            "  Downloading about_time-3.1.1-py3-none-any.whl (9.1 kB)\n",
            "Collecting grapheme==0.6.0\n",
            "  Downloading grapheme-0.6.0.tar.gz (207 kB)\n",
            "\u001b[K     |████████████████████████████████| 207 kB 77.1 MB/s \n",
            "\u001b[?25hRequirement already satisfied: wrapt<2,>=1.10 in /usr/local/lib/python3.8/dist-packages (from Deprecated->pymoo) (1.14.1)\n",
            "Building wheels for collected packages: grapheme\n",
            "  Building wheel for grapheme (setup.py) ... \u001b[?25l\u001b[?25hdone\n",
            "  Created wheel for grapheme: filename=grapheme-0.6.0-py3-none-any.whl size=210096 sha256=686ce78372480e0e6d5cd497be019c1e915befb0f058396486ad5656886c5df6\n",
            "  Stored in directory: /root/.cache/pip/wheels/2d/08/6b/126ea9009f7482fd53a78d0db2ece5aca70af8f4a30445386b\n",
            "Successfully built grapheme\n",
            "Installing collected packages: grapheme, about-time, Deprecated, cma, alive-progress, pymoo\n",
            "Successfully installed Deprecated-1.2.13 about-time-3.1.1 alive-progress-2.4.1 cma-3.2.2 grapheme-0.6.0 pymoo-0.6.0.1\n"
          ]
        }
      ],
      "source": [
        "!wget https://raw.githubusercontent.com/SupaeroDataScience/stochastic/master/project/market.csv\n",
        "!wget https://raw.githubusercontent.com/SupaeroDataScience/stochastic/master/project/recipes.csv\n",
        "!pip install pymoo"
      ]
    },
    {
      "cell_type": "code",
      "execution_count": 4,
      "id": "3fd3c7cf",
      "metadata": {
        "id": "3fd3c7cf"
      },
      "outputs": [],
      "source": [
        "import numpy as np\n",
        "import pandas as pd\n",
        "import pymoo\n",
        "import copy\n",
        "\n",
        "%matplotlib inline\n",
        "import matplotlib.pyplot as plt\n",
        "import numpy as np\n",
        "import math\n",
        "\n",
        "import random"
      ]
    },
    {
      "cell_type": "code",
      "execution_count": 5,
      "id": "1c3d4f41",
      "metadata": {
        "colab": {
          "base_uri": "https://localhost:8080/",
          "height": 206
        },
        "id": "1c3d4f41",
        "outputId": "4bfa7871-b7fa-4f51-b61a-e344cf8f0b1a"
      },
      "outputs": [
        {
          "output_type": "execute_result",
          "data": {
            "text/plain": [
              "              stock  weight  price_A  price_B  price_C\n",
              "Apple             5       5     1.00      0.5      1.1\n",
              "Apricot          65       3     0.50      0.2      0.6\n",
              "Blueberry         5       3     0.50      0.3      1.2\n",
              "Cactus Fruit     90       4     0.75      0.3      0.3\n",
              "Cherry           15       4     0.80      0.4      1.1"
            ],
            "text/html": [
              "\n",
              "  <div id=\"df-4c3dd51d-681e-4155-b65c-ca034387d9ee\">\n",
              "    <div class=\"colab-df-container\">\n",
              "      <div>\n",
              "<style scoped>\n",
              "    .dataframe tbody tr th:only-of-type {\n",
              "        vertical-align: middle;\n",
              "    }\n",
              "\n",
              "    .dataframe tbody tr th {\n",
              "        vertical-align: top;\n",
              "    }\n",
              "\n",
              "    .dataframe thead th {\n",
              "        text-align: right;\n",
              "    }\n",
              "</style>\n",
              "<table border=\"1\" class=\"dataframe\">\n",
              "  <thead>\n",
              "    <tr style=\"text-align: right;\">\n",
              "      <th></th>\n",
              "      <th>stock</th>\n",
              "      <th>weight</th>\n",
              "      <th>price_A</th>\n",
              "      <th>price_B</th>\n",
              "      <th>price_C</th>\n",
              "    </tr>\n",
              "  </thead>\n",
              "  <tbody>\n",
              "    <tr>\n",
              "      <th>Apple</th>\n",
              "      <td>5</td>\n",
              "      <td>5</td>\n",
              "      <td>1.00</td>\n",
              "      <td>0.5</td>\n",
              "      <td>1.1</td>\n",
              "    </tr>\n",
              "    <tr>\n",
              "      <th>Apricot</th>\n",
              "      <td>65</td>\n",
              "      <td>3</td>\n",
              "      <td>0.50</td>\n",
              "      <td>0.2</td>\n",
              "      <td>0.6</td>\n",
              "    </tr>\n",
              "    <tr>\n",
              "      <th>Blueberry</th>\n",
              "      <td>5</td>\n",
              "      <td>3</td>\n",
              "      <td>0.50</td>\n",
              "      <td>0.3</td>\n",
              "      <td>1.2</td>\n",
              "    </tr>\n",
              "    <tr>\n",
              "      <th>Cactus Fruit</th>\n",
              "      <td>90</td>\n",
              "      <td>4</td>\n",
              "      <td>0.75</td>\n",
              "      <td>0.3</td>\n",
              "      <td>0.3</td>\n",
              "    </tr>\n",
              "    <tr>\n",
              "      <th>Cherry</th>\n",
              "      <td>15</td>\n",
              "      <td>4</td>\n",
              "      <td>0.80</td>\n",
              "      <td>0.4</td>\n",
              "      <td>1.1</td>\n",
              "    </tr>\n",
              "  </tbody>\n",
              "</table>\n",
              "</div>\n",
              "      <button class=\"colab-df-convert\" onclick=\"convertToInteractive('df-4c3dd51d-681e-4155-b65c-ca034387d9ee')\"\n",
              "              title=\"Convert this dataframe to an interactive table.\"\n",
              "              style=\"display:none;\">\n",
              "        \n",
              "  <svg xmlns=\"http://www.w3.org/2000/svg\" height=\"24px\"viewBox=\"0 0 24 24\"\n",
              "       width=\"24px\">\n",
              "    <path d=\"M0 0h24v24H0V0z\" fill=\"none\"/>\n",
              "    <path d=\"M18.56 5.44l.94 2.06.94-2.06 2.06-.94-2.06-.94-.94-2.06-.94 2.06-2.06.94zm-11 1L8.5 8.5l.94-2.06 2.06-.94-2.06-.94L8.5 2.5l-.94 2.06-2.06.94zm10 10l.94 2.06.94-2.06 2.06-.94-2.06-.94-.94-2.06-.94 2.06-2.06.94z\"/><path d=\"M17.41 7.96l-1.37-1.37c-.4-.4-.92-.59-1.43-.59-.52 0-1.04.2-1.43.59L10.3 9.45l-7.72 7.72c-.78.78-.78 2.05 0 2.83L4 21.41c.39.39.9.59 1.41.59.51 0 1.02-.2 1.41-.59l7.78-7.78 2.81-2.81c.8-.78.8-2.07 0-2.86zM5.41 20L4 18.59l7.72-7.72 1.47 1.35L5.41 20z\"/>\n",
              "  </svg>\n",
              "      </button>\n",
              "      \n",
              "  <style>\n",
              "    .colab-df-container {\n",
              "      display:flex;\n",
              "      flex-wrap:wrap;\n",
              "      gap: 12px;\n",
              "    }\n",
              "\n",
              "    .colab-df-convert {\n",
              "      background-color: #E8F0FE;\n",
              "      border: none;\n",
              "      border-radius: 50%;\n",
              "      cursor: pointer;\n",
              "      display: none;\n",
              "      fill: #1967D2;\n",
              "      height: 32px;\n",
              "      padding: 0 0 0 0;\n",
              "      width: 32px;\n",
              "    }\n",
              "\n",
              "    .colab-df-convert:hover {\n",
              "      background-color: #E2EBFA;\n",
              "      box-shadow: 0px 1px 2px rgba(60, 64, 67, 0.3), 0px 1px 3px 1px rgba(60, 64, 67, 0.15);\n",
              "      fill: #174EA6;\n",
              "    }\n",
              "\n",
              "    [theme=dark] .colab-df-convert {\n",
              "      background-color: #3B4455;\n",
              "      fill: #D2E3FC;\n",
              "    }\n",
              "\n",
              "    [theme=dark] .colab-df-convert:hover {\n",
              "      background-color: #434B5C;\n",
              "      box-shadow: 0px 1px 3px 1px rgba(0, 0, 0, 0.15);\n",
              "      filter: drop-shadow(0px 1px 2px rgba(0, 0, 0, 0.3));\n",
              "      fill: #FFFFFF;\n",
              "    }\n",
              "  </style>\n",
              "\n",
              "      <script>\n",
              "        const buttonEl =\n",
              "          document.querySelector('#df-4c3dd51d-681e-4155-b65c-ca034387d9ee button.colab-df-convert');\n",
              "        buttonEl.style.display =\n",
              "          google.colab.kernel.accessAllowed ? 'block' : 'none';\n",
              "\n",
              "        async function convertToInteractive(key) {\n",
              "          const element = document.querySelector('#df-4c3dd51d-681e-4155-b65c-ca034387d9ee');\n",
              "          const dataTable =\n",
              "            await google.colab.kernel.invokeFunction('convertToInteractive',\n",
              "                                                     [key], {});\n",
              "          if (!dataTable) return;\n",
              "\n",
              "          const docLinkHtml = 'Like what you see? Visit the ' +\n",
              "            '<a target=\"_blank\" href=https://colab.research.google.com/notebooks/data_table.ipynb>data table notebook</a>'\n",
              "            + ' to learn more about interactive tables.';\n",
              "          element.innerHTML = '';\n",
              "          dataTable['output_type'] = 'display_data';\n",
              "          await google.colab.output.renderOutput(dataTable, element);\n",
              "          const docLink = document.createElement('div');\n",
              "          docLink.innerHTML = docLinkHtml;\n",
              "          element.appendChild(docLink);\n",
              "        }\n",
              "      </script>\n",
              "    </div>\n",
              "  </div>\n",
              "  "
            ]
          },
          "metadata": {},
          "execution_count": 5
        }
      ],
      "source": [
        "df = pd.read_csv('market.csv', index_col=0)\n",
        "df.head()"
      ]
    },
    {
      "cell_type": "code",
      "execution_count": 6,
      "id": "614d7ba3",
      "metadata": {
        "id": "614d7ba3"
      },
      "outputs": [],
      "source": [
        "stock = df['stock'].to_dict()\n",
        "weight = df['weight'].to_dict()\n",
        "price = df['price_A'].to_dict()"
      ]
    },
    {
      "cell_type": "code",
      "execution_count": 7,
      "id": "5d28fa1e",
      "metadata": {
        "colab": {
          "base_uri": "https://localhost:8080/"
        },
        "id": "5d28fa1e",
        "outputId": "59f59d73-77f3-41dc-e262-f47559d6f202"
      },
      "outputs": [
        {
          "output_type": "execute_result",
          "data": {
            "text/plain": [
              "{'Apple': 5,\n",
              " 'Apricot': 65,\n",
              " 'Blueberry': 5,\n",
              " 'Cactus Fruit': 90,\n",
              " 'Cherry': 15,\n",
              " 'Cranberry': 75,\n",
              " 'Grape': 70,\n",
              " 'Melon': 75,\n",
              " 'Orange': 40,\n",
              " 'Peach': 55,\n",
              " 'Pomegranate': 5,\n",
              " 'Rhubarb': 70,\n",
              " 'Starfruit': 5,\n",
              " 'Strawberry': 20,\n",
              " 'Amaranth': 20,\n",
              " 'Artichoke': 65,\n",
              " 'Beet': 30,\n",
              " 'Bok Choy': 55,\n",
              " 'Cauliflower': 70,\n",
              " 'Corn': 90,\n",
              " 'Eggplant': 95,\n",
              " 'Garlic': 95,\n",
              " 'Green Bean': 55,\n",
              " 'Hops': 75,\n",
              " 'Hot Pepper': 25,\n",
              " 'Kale': 5,\n",
              " 'Parsnip': 10,\n",
              " 'Potato': 55,\n",
              " 'Pumpkin': 30,\n",
              " 'Radish': 50,\n",
              " 'Red Cabbage': 55,\n",
              " 'Tomato': 65,\n",
              " 'Wheat': 75,\n",
              " 'Yam': 50,\n",
              " 'Blackberry': 70}"
            ]
          },
          "metadata": {},
          "execution_count": 7
        }
      ],
      "source": [
        "stock"
      ]
    },
    {
      "cell_type": "markdown",
      "id": "91c0dc4b",
      "metadata": {
        "id": "91c0dc4b"
      },
      "source": [
        "To evaluate your possible load going to the market, we will use a function that takes in a dictionary of this type, specifying how many of each crop you will take. This function will take into the constraints of having enough stock of the crop type and of not surpassing the weight limit."
      ]
    },
    {
      "cell_type": "code",
      "execution_count": 8,
      "id": "587b7af3",
      "metadata": {
        "id": "587b7af3"
      },
      "outputs": [],
      "source": [
        "def evaluate(load, stock, weight, price, max_weight=5000):\n",
        "    total_weight = 0\n",
        "    total_price = 0\n",
        "    for k in load:\n",
        "        if load[k] <= stock[k]:\n",
        "            total_price += load[k] * price[k]\n",
        "            total_weight += load[k] * weight[k]\n",
        "            if total_weight > max_weight:\n",
        "                return 0\n",
        "        else:\n",
        "            return 0\n",
        "    return total_price"
      ]
    },
    {
      "cell_type": "markdown",
      "id": "f832b811",
      "metadata": {
        "id": "f832b811"
      },
      "source": [
        "You can try this with an example load generated randomly:"
      ]
    },
    {
      "cell_type": "code",
      "source": [
        "trial_load = {}\n",
        "\n",
        "for k in stock:\n",
        "    trial_load[k] = np.random.randint(0, stock[k])"
      ],
      "metadata": {
        "id": "iq2pLv5H_z7c"
      },
      "id": "iq2pLv5H_z7c",
      "execution_count": 10,
      "outputs": []
    },
    {
      "cell_type": "code",
      "execution_count": 11,
      "id": "e9538ac0",
      "metadata": {
        "colab": {
          "base_uri": "https://localhost:8080/"
        },
        "id": "e9538ac0",
        "outputId": "d087651f-9c54-4ca3-c685-a7f78d410499"
      },
      "outputs": [
        {
          "output_type": "execute_result",
          "data": {
            "text/plain": [
              "694.8000000000002"
            ]
          },
          "metadata": {},
          "execution_count": 11
        }
      ],
      "source": [
        "evaluate(trial_load, stock, weight, price)"
      ]
    },
    {
      "cell_type": "markdown",
      "id": "b49edb3c",
      "metadata": {
        "id": "b49edb3c"
      },
      "source": [
        "## Challenge 1\n",
        "\n",
        "Use a stochastic algorithm to find the configuration of crops that maximizes profit while respecting the constraints of the weight limit and stock. You can use any of the class code or a library like `pymoo`. You should create a reasonable representation for the problem and appropriate modification functions like mutation and crossover. You can also modify the evaluation function, as long as your final solution is valid according to the weight and stock constraints.\n",
        "\n",
        "Include your code for optimization, any visualizations of the optimization process, as well as code to show the final market load and profit gained. Can you beat the random trial load profits?\n",
        "\n",
        "Hint: this is a constrained case of the [knapsack problem](https://en.wikipedia.org/wiki/Knapsack_problem)"
      ]
    },
    {
      "cell_type": "markdown",
      "source": [
        "##Answer Challenge 1"
      ],
      "metadata": {
        "id": "awxuYB0eZ-O5"
      },
      "id": "awxuYB0eZ-O5"
    },
    {
      "cell_type": "markdown",
      "source": [
        "A genetic algorithm was made to complete the first challenge.\n",
        "\n",
        "First, we need a function to evaluate the fitness score for each individual in the population."
      ],
      "metadata": {
        "id": "pLYQaYeGeMwN"
      },
      "id": "pLYQaYeGeMwN"
    },
    {
      "cell_type": "code",
      "source": [
        "# Function to compute the fitness of all individuals in the population\n",
        "\n",
        "def evaluate_population(population, price_1):\n",
        "    fit = []\n",
        "    for i in range(len(population)):\n",
        "        prix = evaluate(population[i], stock, weight, price_1)\n",
        "        fit.append(prix)\n",
        "    return fit"
      ],
      "metadata": {
        "id": "ZSv_yHG3V2AL"
      },
      "id": "ZSv_yHG3V2AL",
      "execution_count": 12,
      "outputs": []
    },
    {
      "cell_type": "markdown",
      "source": [
        "Then, we select 20% of the population with the best fitness score.\n",
        "\n"
      ],
      "metadata": {
        "id": "YxuH8N6vfAHC"
      },
      "id": "YxuH8N6vfAHC"
    },
    {
      "cell_type": "code",
      "source": [
        "# Select the best 20% individuals from the population\n",
        "\n",
        "def truncation_selection(population, fitness, p=0.2):\n",
        "    n_elites = len(population) - int(np.floor(len(population) * p))\n",
        "    elites = np.argsort(np.array(fitness))[n_elites:]\n",
        "    selected_pop, selected_fitness = [], []\n",
        "    for index in elites:\n",
        "        selected_pop.append(population[index])\n",
        "        selected_fitness.append(fitness[index])\n",
        "    return selected_pop, selected_fitness"
      ],
      "metadata": {
        "id": "jb6ZF_lpdliG"
      },
      "id": "jb6ZF_lpdliG",
      "execution_count": 13,
      "outputs": []
    },
    {
      "cell_type": "markdown",
      "source": [
        "We will need to select parents of the children of the next generation. To preserve genetic diversity, we make a tournament selection of each parent in the truncated population. \n",
        "\n",
        "In each case, we select 3 random individuals from the truncated population and keep the one with the highest fitness."
      ],
      "metadata": {
        "id": "pISW7LcHfiBw"
      },
      "id": "pISW7LcHfiBw"
    },
    {
      "cell_type": "code",
      "source": [
        "# Choose randomly 3 individuals and keep the one with the highest fitness\n",
        "\n",
        "def tournament_selection(population, fitness, t_size=3):\n",
        "    rng = np.random.default_rng()\n",
        "    tournament = rng.choice(len(population), size=t_size)\n",
        "    ind = []\n",
        "    for i in range(len(tournament)):\n",
        "        ind.append(fitness[tournament[i]])\n",
        "    ind = ind.index(max(ind))\n",
        "    return population[ind], fitness[ind]"
      ],
      "metadata": {
        "id": "NCthSEBkkRab"
      },
      "id": "NCthSEBkkRab",
      "execution_count": 83,
      "outputs": []
    },
    {
      "cell_type": "markdown",
      "source": [
        "Once two parents are selected, their child will be a crossover of them, as shown below:"
      ],
      "metadata": {
        "id": "wDMe6xnGhnr7"
      },
      "id": "wDMe6xnGhnr7"
    },
    {
      "cell_type": "markdown",
      "source": [
        "![crossover_crop.png](data:image/png;base64,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)"
      ],
      "metadata": {
        "id": "o6QjfwOnpgE6"
      },
      "id": "o6QjfwOnpgE6"
    },
    {
      "cell_type": "code",
      "source": [
        "# Cross loaded items from two possible load 'parent1' and 'parent2' to get the 'child' load\n",
        "\n",
        "def crossover(parent1, parent2):\n",
        "    rng = np.random.default_rng()\n",
        "    x = rng.choice(np.arange(1, np.minimum(len(parent1)-1, len(parent2)-1)))\n",
        "    cross_list = list(np.zeros(len(parent1)))\n",
        "    ind_list = random.sample(list(np.arange(len(parent1))),x)\n",
        "    for index in ind_list:\n",
        "        cross_list[index] = 1\n",
        "    child = {}\n",
        "    for i in range(len(parent1)):\n",
        "        if cross_list[i] == 0:\n",
        "            child[list(parent1.keys())[i]] = list(parent1.values())[i]\n",
        "        else:\n",
        "            child[list(parent2.keys())[i]] = list(parent2.values())[i]\n",
        "    return child"
      ],
      "metadata": {
        "id": "tLXrslOQnR9T"
      },
      "id": "tLXrslOQnR9T",
      "execution_count": 15,
      "outputs": []
    },
    {
      "cell_type": "markdown",
      "source": [
        "Once we got a child, a mutation is performed to search for solutions outside of our selected population. Here, the mutation is simple, we add an item on a random crop and remove one from another random crop."
      ],
      "metadata": {
        "id": "sDn-3ULJqJ3u"
      },
      "id": "sDn-3ULJqJ3u"
    },
    {
      "cell_type": "code",
      "source": [
        "def mutate(indiv):\n",
        "    rng = np.random.default_rng()\n",
        "    continue_mutation = True\n",
        "    while(continue_mutation):\n",
        "        x = rng.choice(len(indiv)-1,2,replace=False)\n",
        "        x1, x2 = x[0], x[1]\n",
        "        # Check if we can add an element the x1 type crop \n",
        "        # and remove an element from the x2 type crop\n",
        "        if((list(indiv.values())[x1]+1 < list(stock.values())[x1]) and\n",
        "           (list(indiv.values())[x2]-1 > 0)):\n",
        "              child = indiv.copy()\n",
        "              child.update({str(list(indiv.keys())[x1]):list(indiv.values())[x1]+1})\n",
        "              child.update({str(list(indiv.keys())[x2]):list(indiv.values())[x2]-1})\n",
        "              continue_mutation = False\n",
        "    return child"
      ],
      "metadata": {
        "id": "ZZp-MPdwhQ5G"
      },
      "id": "ZZp-MPdwhQ5G",
      "execution_count": 16,
      "outputs": []
    },
    {
      "cell_type": "markdown",
      "source": [
        "All these functions were compiled in the following function. For each generation, ga_step computes the next generation."
      ],
      "metadata": {
        "id": "QYvZRRbsrlKV"
      },
      "id": "QYvZRRbsrlKV"
    },
    {
      "cell_type": "code",
      "source": [
        "def ga_step(population, evaluate_population, prix):\n",
        "    fitness = evaluate_population(population, prix)\n",
        "    fp_fits = np.zeros(20)\n",
        "    next_pop, _ = truncation_selection(population, fitness)\n",
        "    while len(next_pop) < len(population):\n",
        "        parent1, _ = tournament_selection(population, fitness)\n",
        "        parent2, _ = tournament_selection(population, fitness)\n",
        "        child = crossover(parent1, parent2)\n",
        "        child = mutate(child)\n",
        "        next_pop.append(child)\n",
        "    next_fitness = evaluate_population(next_pop, prix)\n",
        "    return next_pop, next_fitness"
      ],
      "metadata": {
        "id": "kYZywVzyVqBW"
      },
      "id": "kYZywVzyVqBW",
      "execution_count": 17,
      "outputs": []
    },
    {
      "cell_type": "markdown",
      "source": [
        "We create a population with 100 possible crop loads."
      ],
      "metadata": {
        "id": "0-Db_1rbr4Hg"
      },
      "id": "0-Db_1rbr4Hg"
    },
    {
      "cell_type": "code",
      "source": [
        "n_population = 100\n",
        "population_trail_load = []\n",
        "\n",
        "for i in range(n_population):\n",
        "    trial_load = {}\n",
        "    for k in stock:\n",
        "        trial_load[k] = np.random.randint(0, stock[k])\n",
        "    population_trail_load.append(trial_load)"
      ],
      "metadata": {
        "id": "9dGQXJxEbWuB"
      },
      "id": "9dGQXJxEbWuB",
      "execution_count": 18,
      "outputs": []
    },
    {
      "cell_type": "markdown",
      "source": [
        "Here is our genetic algorithm. We took 2000 generations.\n",
        "\n",
        "The evolution of the maximum fitness score across generations is plotted.\n",
        "\n",
        "It takes about 1 minute to run."
      ],
      "metadata": {
        "id": "fTe4HT71sAxC"
      },
      "id": "fTe4HT71sAxC"
    },
    {
      "cell_type": "code",
      "source": [
        "maxfit = []\n",
        "n_gen = 2000\n",
        "maxfit = np.zeros(n_gen)\n",
        "pop = population_trail_load\n",
        "best_pop = {}\n",
        "for i in range(n_gen):\n",
        "    pop, fitn = ga_step(pop, evaluate_population, price)\n",
        "    maxfit[i] = np.max(fitn)\n",
        "    if (i > 2) and (maxfit[i] > maxfit[i-1]):\n",
        "        #print('Generation('+str(i)+') - Max score'+str(maxfit[i]))\n",
        "        best_pop = pop\n",
        "        ind = np.where(fitn == maxfit[i])[0][0]\n",
        "        best_pop = pop[ind]\n",
        "print('Best load :')\n",
        "print(best_pop)\n",
        "a = evaluate(best_pop, stock, weight, price)\n",
        "print('Final price', a)\n",
        "\n",
        "x = np.arange(n_gen)\n",
        "fig = plt.figure()\n",
        "plt.plot(x, maxfit)\n",
        "plt.xlabel(\"Fitness score\")\n",
        "plt.ylabel(\"Generation\")\n",
        "plt.title(\"Evolution of the maximum score for merchant A across generations\")\n",
        "plt.show()\n"
      ],
      "metadata": {
        "colab": {
          "base_uri": "https://localhost:8080/",
          "height": 367
        },
        "id": "BoRK-TGWbMPE",
        "outputId": "0cf3ea09-2178-4f5c-f957-b33b03a9ae94"
      },
      "id": "BoRK-TGWbMPE",
      "execution_count": 19,
      "outputs": [
        {
          "output_type": "stream",
          "name": "stdout",
          "text": [
            "Best load :\n",
            "{'Apple': 4, 'Apricot': 6, 'Blueberry': 1, 'Cactus Fruit': 89, 'Cherry': 14, 'Cranberry': 40, 'Grape': 69, 'Melon': 1, 'Orange': 39, 'Peach': 54, 'Pomegranate': 4, 'Rhubarb': 1, 'Starfruit': 0, 'Strawberry': 19, 'Amaranth': 19, 'Artichoke': 64, 'Beet': 29, 'Bok Choy': 54, 'Cauliflower': 69, 'Corn': 89, 'Eggplant': 94, 'Garlic': 94, 'Green Bean': 45, 'Hops': 1, 'Hot Pepper': 24, 'Kale': 4, 'Parsnip': 9, 'Potato': 54, 'Pumpkin': 1, 'Radish': 49, 'Red Cabbage': 53, 'Tomato': 64, 'Wheat': 1, 'Yam': 49, 'Blackberry': 5}\n",
            "Final price 1123.9500000000003\n"
          ]
        },
        {
          "output_type": "display_data",
          "data": {
            "text/plain": [
              "<Figure size 432x288 with 1 Axes>"
            ],
            "image/png": "[encoded data removed]"
          },
          "metadata": {
            "needs_background": "light"
          }
        }
      ]
    },
    {
      "cell_type": "markdown",
      "source": [
        "The graph above shows that most of the improvement in the fitness score is made in the first 100 generations. However, the score is still increasing at a logarithmic pace across the other generations. The convergence around the final score appears in the last 100 generations."
      ],
      "metadata": {
        "id": "AbAI_YVG23H-"
      },
      "id": "AbAI_YVG23H-"
    },
    {
      "cell_type": "markdown",
      "id": "1db64ad0",
      "metadata": {
        "id": "1db64ad0"
      },
      "source": [
        "## Challenge 2\n"
      ]
    },
    {
      "cell_type": "markdown",
      "id": "ad10e8aa",
      "metadata": {
        "id": "ad10e8aa"
      },
      "source": [
        "The agricultural market in this world is highly variable. This time, you'll be selling your load to a reseller, but you're not sure which one. Each reseller has different prices, so it depends on which one you'll meet. To be prepared, you should explore the possible options."
      ]
    },
    {
      "cell_type": "code",
      "execution_count": 20,
      "id": "6f1fb98d",
      "metadata": {
        "id": "6f1fb98d"
      },
      "outputs": [],
      "source": [
        "price_a = df['price_A'].to_dict()\n",
        "price_b = df['price_B'].to_dict()\n",
        "price_c = df['price_C'].to_dict()"
      ]
    },
    {
      "cell_type": "code",
      "execution_count": 21,
      "id": "c2b295f9",
      "metadata": {
        "colab": {
          "base_uri": "https://localhost:8080/"
        },
        "id": "c2b295f9",
        "outputId": "62625602-59d5-4310-b788-5aece2306606"
      },
      "outputs": [
        {
          "output_type": "execute_result",
          "data": {
            "text/plain": [
              "(0.8, 0.4, 1.1)"
            ]
          },
          "metadata": {},
          "execution_count": 21
        }
      ],
      "source": [
        "price_a['Cherry'], price_b['Cherry'], price_c['Cherry']"
      ]
    },
    {
      "cell_type": "markdown",
      "id": "5ad5ab54",
      "metadata": {
        "id": "5ad5ab54"
      },
      "source": [
        "Given that cherries have very different prices between the different resellers, the example load we made ealier would fetch a wildly different price depending on the reseller:"
      ]
    },
    {
      "cell_type": "code",
      "execution_count": 22,
      "id": "8dc3fa44",
      "metadata": {
        "colab": {
          "base_uri": "https://localhost:8080/"
        },
        "id": "8dc3fa44",
        "outputId": "61816a1c-d0ea-46ce-f2f8-67a3f9e7b89e"
      },
      "outputs": [
        {
          "output_type": "stream",
          "name": "stdout",
          "text": [
            "787.4000000000001 337.80000000000007 513.0\n"
          ]
        }
      ],
      "source": [
        "a = evaluate(trial_load, stock, weight, price_a)\n",
        "b = evaluate(trial_load, stock, weight, price_b)\n",
        "c = evaluate(trial_load, stock, weight, price_c)\n",
        "print(a, b, c)"
      ]
    },
    {
      "cell_type": "markdown",
      "id": "40447192",
      "metadata": {
        "id": "40447192"
      },
      "source": [
        "Prepare four different options for your market day haul: one option that will be good for reseller A, one for reseller B, one for reseller C, and one which would be pretty good for all three. Display these options and compare their different prices."
      ]
    },
    {
      "cell_type": "markdown",
      "id": "8c3ff230",
      "metadata": {
        "id": "8c3ff230"
      },
      "source": [
        "Hint: you can use a multi-objective algorithm to optimize for all three reseller prices at the same time."
      ]
    },
    {
      "cell_type": "markdown",
      "source": [
        "##Answer Challenge 2"
      ],
      "metadata": {
        "id": "RDhwdP53axAQ"
      },
      "id": "RDhwdP53axAQ"
    },
    {
      "cell_type": "markdown",
      "source": [
        "For this second challenge, we change the evaluate_population function so that it can be used for each of the four options for the market day haul. If the input `price_2` is `all_three`, a mean of the price of each merchant is computed. Each price has the same weight in this function of 1/3."
      ],
      "metadata": {
        "id": "PSNekF0gtzc9"
      },
      "id": "PSNekF0gtzc9"
    },
    {
      "cell_type": "code",
      "source": [
        "def evaluate_population_2(population, price_2):\n",
        "    fit = []\n",
        "    for i in range(len(population)):\n",
        "      if(price_2 != 'all_three'):\n",
        "        prix_2 = evaluate(population[i], stock, weight, price_2)\n",
        "        fit.append(prix_2)\n",
        "      else:\n",
        "        # Compute the mean fitness for each merchant\n",
        "        prix_2 = evaluate(population[i], stock, weight, price_a) + evaluate(population[i], stock, weight, price_b) + evaluate(population[i], stock, weight, price_c)\n",
        "        prix_2 = prix_2/3\n",
        "        fit.append(prix_2)\n",
        "    return fit"
      ],
      "metadata": {
        "id": "HHa1SAeI7keB"
      },
      "id": "HHa1SAeI7keB",
      "execution_count": 23,
      "outputs": []
    },
    {
      "cell_type": "markdown",
      "source": [
        "We create another population of 100 possible crop loads."
      ],
      "metadata": {
        "id": "VMiwyXCjxutD"
      },
      "id": "VMiwyXCjxutD"
    },
    {
      "cell_type": "code",
      "source": [
        "n_population = 100\n",
        "population_trail_load = []\n",
        "\n",
        "for i in range(n_population):\n",
        "    trial_load = {}\n",
        "    for k in stock:\n",
        "        trial_load[k] = np.random.randint(0, stock[k])\n",
        "    population_trail_load.append(trial_load)"
      ],
      "metadata": {
        "id": "TkDHYSuv8kxV"
      },
      "id": "TkDHYSuv8kxV",
      "execution_count": 80,
      "outputs": []
    },
    {
      "cell_type": "markdown",
      "source": [
        "Here is our genetic algorithm. We took 2000 generations.\n",
        "\n",
        "The evolution of the maximum fitness score across generations is plotted for each option for the market day haul.\n",
        "\n",
        "It takes about 4 minutes to run."
      ],
      "metadata": {
        "id": "R6PHNxDRx0VR"
      },
      "id": "R6PHNxDRx0VR"
    },
    {
      "cell_type": "code",
      "source": [
        "list_price = [price_a, price_b, price_c, 'all_three']\n",
        "list_etiquette = ['Price A', 'Price B', 'Price C', 'All three']\n",
        "list_col = ['b', 'r', 'g', 'k']\n",
        "result_list = []\n",
        "pop_list = []\n",
        "\n",
        "for p in list_price:\n",
        "    result = (0,0)\n",
        "    n_gen = 2000\n",
        "    maxfit = np.zeros(n_gen)\n",
        "    pop = population_trail_load\n",
        "    best_pop = {}\n",
        "    for i in range(n_gen):\n",
        "        pop, fitn = ga_step(pop, evaluate_population_2, p)\n",
        "        maxfit[i] = np.max(fitn)\n",
        "        if p == 'all_three':\n",
        "            ind = int(np.where(fitn == np.max(fitn))[0][0])\n",
        "            pop_list.append(pop[ind])\n",
        "        if (i > 2) and (maxfit[i] > maxfit[i-1]):\n",
        "            result = (i, maxfit[i])\n",
        "            ind = int(np.where(fitn == np.max(fitn))[0][0])\n",
        "            best_pop = pop[ind]\n",
        "    result_list.append(maxfit)\n",
        "    if p != 'all_three':\n",
        "        print('Option : '+str(list_etiquette[list_price.index(p)])+\n",
        "              ' ; Last generation : '+str(result[0])+' ; Highest score : ' +str(result[1]))\n",
        "        print('Best load :', best_pop, '\\n')\n",
        "\n",
        "    else:\n",
        "        a = evaluate(best_pop, stock, weight, price_a)\n",
        "        b = evaluate(best_pop, stock, weight, price_b)\n",
        "        c = evaluate(best_pop, stock, weight, price_c)\n",
        "        print('Option : '+str(list_etiquette[list_price.index(p)])+\n",
        "              ' ; Last generation : '+str(result[0])+' ; Highest score : ' +str((a, b, c)))\n",
        "        print('Best load :', best_pop, '\\n')\n",
        "\n",
        "# Plot result of optimization on each price separetely\n",
        "x = np.arange(n_gen)\n",
        "fig = plt.figure()\n",
        "for i in range(3):\n",
        "    plt.plot(x, result_list[i], list_col[i], label=list_etiquette[i])\n",
        "plt.xlabel(\"Generation\")\n",
        "plt.ylabel(\"Fitness score\")\n",
        "plt.legend(loc='upper right')\n",
        "plt.title(\"Evolution of the maximum score for merchant A, B and C seperately across generations\")\n",
        "plt.show()\n",
        "\n",
        "# Plot result of optimization on all price together\n",
        "fig = plt.figure()\n",
        "for p in range(3):\n",
        "    result_fit = np.zeros(n_gen)\n",
        "    for ind, pop in enumerate(pop_list):\n",
        "        result_fit[ind] = evaluate(pop, stock, weight, list_price[p])\n",
        "    plt.plot(x, result_fit, list_col[p], label=list_etiquette[p])\n",
        "plt.xlabel(\"Generation\")\n",
        "plt.ylabel(\"Fitness score\")\n",
        "plt.legend(loc='upper right')\n",
        "plt.title(\"Evolution of the maximum score for all three merchant across generations\")\n",
        "plt.show()\n",
        "\n",
        "fig = plt.figure()\n",
        "for p in range(3):\n",
        "    result_fit = np.zeros(n_gen)\n",
        "    for ind, pop in enumerate(pop_list):\n",
        "        result_fit[ind] = evaluate(pop, stock, weight, list_price[p])\n",
        "    plt.plot(x[:200], result_fit[:200], list_col[p], label=list_etiquette[p])\n",
        "plt.xlabel(\"Generation\")\n",
        "plt.ylabel(\"Fitness score\")\n",
        "plt.legend(loc='upper right')\n",
        "plt.title(\"Zoom on the evolution of the maximum score for all three merchant across generations\")\n",
        "plt.show()\n"
      ],
      "metadata": {
        "id": "x3qCDpta8uBe",
        "outputId": "db124ed7-1290-49f8-b3b6-89ba33e7475f",
        "colab": {
          "base_uri": "https://localhost:8080/",
          "height": 1000
        }
      },
      "id": "x3qCDpta8uBe",
      "execution_count": 77,
      "outputs": [
        {
          "output_type": "stream",
          "name": "stdout",
          "text": [
            "Option : Price A ; Last generation : 1971 ; Highest score : 1119.9000000000003\n",
            "Best load : {'Apple': 4, 'Apricot': 5, 'Blueberry': 4, 'Cactus Fruit': 87, 'Cherry': 14, 'Cranberry': 73, 'Grape': 69, 'Melon': 1, 'Orange': 39, 'Peach': 39, 'Pomegranate': 3, 'Rhubarb': 1, 'Starfruit': 1, 'Strawberry': 19, 'Amaranth': 19, 'Artichoke': 64, 'Beet': 29, 'Bok Choy': 54, 'Cauliflower': 69, 'Corn': 89, 'Eggplant': 94, 'Garlic': 94, 'Green Bean': 35, 'Hops': 1, 'Hot Pepper': 17, 'Kale': 4, 'Parsnip': 9, 'Potato': 54, 'Pumpkin': 1, 'Radish': 49, 'Red Cabbage': 48, 'Tomato': 64, 'Wheat': 1, 'Yam': 49, 'Blackberry': 47} \n",
            "\n",
            "Option : Price B ; Last generation : 1994 ; Highest score : 455.1000000000002\n",
            "Best load : {'Apple': 4, 'Apricot': 1, 'Blueberry': 4, 'Cactus Fruit': 8, 'Cherry': 14, 'Cranberry': 35, 'Grape': 1, 'Melon': 74, 'Orange': 39, 'Peach': 54, 'Pomegranate': 4, 'Rhubarb': 69, 'Starfruit': 0, 'Strawberry': 19, 'Amaranth': 19, 'Artichoke': 51, 'Beet': 29, 'Bok Choy': 13, 'Cauliflower': 5, 'Corn': 1, 'Eggplant': 1, 'Garlic': 1, 'Green Bean': 1, 'Hops': 14, 'Hot Pepper': 24, 'Kale': 3, 'Parsnip': 8, 'Potato': 1, 'Pumpkin': 29, 'Radish': 49, 'Red Cabbage': 50, 'Tomato': 1, 'Wheat': 1, 'Yam': 49, 'Blackberry': 38} \n",
            "\n",
            "Option : Price C ; Last generation : 1901 ; Highest score : 743.3999999999999\n",
            "Best load : {'Apple': 4, 'Apricot': 64, 'Blueberry': 4, 'Cactus Fruit': 16, 'Cherry': 14, 'Cranberry': 74, 'Grape': 69, 'Melon': 71, 'Orange': 39, 'Peach': 5, 'Pomegranate': 4, 'Rhubarb': 1, 'Starfruit': 1, 'Strawberry': 19, 'Amaranth': 19, 'Artichoke': 64, 'Beet': 29, 'Bok Choy': 54, 'Cauliflower': 8, 'Corn': 89, 'Eggplant': 94, 'Garlic': 34, 'Green Bean': 54, 'Hops': 27, 'Hot Pepper': 24, 'Kale': 4, 'Parsnip': 9, 'Potato': 54, 'Pumpkin': 0, 'Radish': 49, 'Red Cabbage': 1, 'Tomato': 64, 'Wheat': 74, 'Yam': 49, 'Blackberry': 60} \n",
            "\n",
            "Option : All three ; Last generation : 1977 ; Highest score : (1097.25, 399.29999999999995, 726.3999999999999)\n",
            "Best load : {'Apple': 4, 'Apricot': 64, 'Blueberry': 4, 'Cactus Fruit': 53, 'Cherry': 14, 'Cranberry': 74, 'Grape': 69, 'Melon': 32, 'Orange': 39, 'Peach': 33, 'Pomegranate': 4, 'Rhubarb': 1, 'Starfruit': 0, 'Strawberry': 19, 'Amaranth': 19, 'Artichoke': 64, 'Beet': 29, 'Bok Choy': 54, 'Cauliflower': 69, 'Corn': 89, 'Eggplant': 85, 'Garlic': 63, 'Green Bean': 54, 'Hops': 1, 'Hot Pepper': 24, 'Kale': 4, 'Parsnip': 9, 'Potato': 54, 'Pumpkin': 0, 'Radish': 49, 'Red Cabbage': 13, 'Tomato': 64, 'Wheat': 1, 'Yam': 49, 'Blackberry': 69} \n",
            "\n"
          ]
        },
        {
          "output_type": "display_data",
          "data": {
            "text/plain": [
              "<Figure size 432x288 with 1 Axes>"
            ],
            "image/png": "[encoded data removed]"
          },
          "metadata": {
            "needs_background": "light"
          }
        },
        {
          "output_type": "display_data",
          "data": {
            "text/plain": [
              "<Figure size 432x288 with 1 Axes>"
            ],
            "image/png": "[encoded data removed]"
          },
          "metadata": {
            "needs_background": "light"
          }
        },
        {
          "output_type": "display_data",
          "data": {
            "text/plain": [
              "<Figure size 432x288 with 1 Axes>"
            ],
            "image/png": "[encoded data removed]"
          },
          "metadata": {
            "needs_background": "light"
          }
        }
      ]
    },
    {
      "cell_type": "markdown",
      "source": [
        "For the three first options, the first graph above shows that most of the improvement in the fitness score is made in the first 100 generations. The score is still increasing at a logarithmic pace across the other generations. The convergence around the final score seems to appear earlier with prices B and C than with price A. This is due to the scale effect related to the significant difference between the optimal values of each price.\n",
        "\n",
        "For the options with all three merchants, we got naturally lower scores for each price compared to cases where they were optimized separately. The zoom on the first 200 generations shows that there are some oscillations in the maximum fitness score for each price, which disappear or are attenuated before the 100th generation. The evolution for price B is steady compared to price C and especially price A which both keep increasing at a logarithmic pace across generations.\n",
        "\n",
        "This issue could be solved by choosing other coefficients of 1/3 in the ```\n",
        "evaluate_population_2 ``` function on each price by instance by 17% in price A, 50% in price B, and 33% in price C, based on their individual optimal fitness score.\n",
        "\n"
      ],
      "metadata": {
        "id": "ds9QK5Ff37ej"
      },
      "id": "ds9QK5Ff37ej"
    },
    {
      "cell_type": "markdown",
      "id": "0d026d23",
      "metadata": {
        "id": "0d026d23"
      },
      "source": [
        "## Challenge 3"
      ]
    },
    {
      "cell_type": "markdown",
      "id": "1d7603f4",
      "metadata": {
        "id": "1d7603f4"
      },
      "source": [
        "You decide to preprare some of your crops by making food for the market day. You know a number of recipes and are famous for your delicious fruit pies."
      ]
    },
    {
      "cell_type": "code",
      "execution_count": 27,
      "id": "025beabd",
      "metadata": {
        "id": "025beabd"
      },
      "outputs": [],
      "source": [
        "recipes = {'Ratatouille': {'Eggplant': 2, 'Garlic': 2, 'Tomato': 4, 'Hot Pepper': 1},\n",
        " 'Apple Pie': {'Apple': 10, 'Wheat': 5},\n",
        " 'Apricot Pie': {'Apricot': 10, 'Wheat': 5},\n",
        " 'Cherry Pie': {'Cherry': 10, 'Wheat': 5},\n",
        " 'Rhubarb Pie': {'Rhubarb': 10, 'Wheat': 5},\n",
        " 'Strawberry Pie': {'Strawberry': 10, 'Wheat': 5},\n",
        " 'Blackberry Pie': {'Blackberry': 10, 'Wheat': 5},\n",
        " 'Pumpkin Pie': {'Pumpkin': 10, 'Wheat': 5},\n",
        " 'Pizza': {'Tomato': 3, 'Wheat': 2, 'Artichoke': 1},\n",
        " 'Baba Ghanoush': {'Eggplant': 2, 'Garlic': 4},\n",
        " 'Squash Soup': {'Yam': 3, 'Pumpkin': 1},\n",
        " 'Peach Beer': {'Hops': 3, 'Peach': 1},\n",
        " 'Blackberry Beer': {'Hops': 3, 'Blackberry': 1}}"
      ]
    },
    {
      "cell_type": "markdown",
      "id": "1e250a2c",
      "metadata": {
        "id": "1e250a2c"
      },
      "source": [
        "These recipes sell for good prices at each of the resellers:"
      ]
    },
    {
      "cell_type": "code",
      "execution_count": 28,
      "id": "7d0bfc4d",
      "metadata": {
        "colab": {
          "base_uri": "https://localhost:8080/",
          "height": 206
        },
        "id": "7d0bfc4d",
        "outputId": "76092699-56ca-4ecf-b917-f35cd04bbfea"
      },
      "outputs": [
        {
          "output_type": "execute_result",
          "data": {
            "text/plain": [
              "             price_A  price_B  price_C\n",
              "Ratatouille     68.0     13.0     52.0\n",
              "Apple Pie      146.0     84.0    176.0\n",
              "Apricot Pie     81.0     46.0    110.0\n",
              "Cherry Pie     120.0     72.0    176.0\n",
              "Rhubarb Pie    133.0    162.0     98.0"
            ],
            "text/html": [
              "\n",
              "  <div id=\"df-527c6fb4-9726-43e5-88c3-2e50834cdc2c\">\n",
              "    <div class=\"colab-df-container\">\n",
              "      <div>\n",
              "<style scoped>\n",
              "    .dataframe tbody tr th:only-of-type {\n",
              "        vertical-align: middle;\n",
              "    }\n",
              "\n",
              "    .dataframe tbody tr th {\n",
              "        vertical-align: top;\n",
              "    }\n",
              "\n",
              "    .dataframe thead th {\n",
              "        text-align: right;\n",
              "    }\n",
              "</style>\n",
              "<table border=\"1\" class=\"dataframe\">\n",
              "  <thead>\n",
              "    <tr style=\"text-align: right;\">\n",
              "      <th></th>\n",
              "      <th>price_A</th>\n",
              "      <th>price_B</th>\n",
              "      <th>price_C</th>\n",
              "    </tr>\n",
              "  </thead>\n",
              "  <tbody>\n",
              "    <tr>\n",
              "      <th>Ratatouille</th>\n",
              "      <td>68.0</td>\n",
              "      <td>13.0</td>\n",
              "      <td>52.0</td>\n",
              "    </tr>\n",
              "    <tr>\n",
              "      <th>Apple Pie</th>\n",
              "      <td>146.0</td>\n",
              "      <td>84.0</td>\n",
              "      <td>176.0</td>\n",
              "    </tr>\n",
              "    <tr>\n",
              "      <th>Apricot Pie</th>\n",
              "      <td>81.0</td>\n",
              "      <td>46.0</td>\n",
              "      <td>110.0</td>\n",
              "    </tr>\n",
              "    <tr>\n",
              "      <th>Cherry Pie</th>\n",
              "      <td>120.0</td>\n",
              "      <td>72.0</td>\n",
              "      <td>176.0</td>\n",
              "    </tr>\n",
              "    <tr>\n",
              "      <th>Rhubarb Pie</th>\n",
              "      <td>133.0</td>\n",
              "      <td>162.0</td>\n",
              "      <td>98.0</td>\n",
              "    </tr>\n",
              "  </tbody>\n",
              "</table>\n",
              "</div>\n",
              "      <button class=\"colab-df-convert\" onclick=\"convertToInteractive('df-527c6fb4-9726-43e5-88c3-2e50834cdc2c')\"\n",
              "              title=\"Convert this dataframe to an interactive table.\"\n",
              "              style=\"display:none;\">\n",
              "        \n",
              "  <svg xmlns=\"http://www.w3.org/2000/svg\" height=\"24px\"viewBox=\"0 0 24 24\"\n",
              "       width=\"24px\">\n",
              "    <path d=\"M0 0h24v24H0V0z\" fill=\"none\"/>\n",
              "    <path d=\"M18.56 5.44l.94 2.06.94-2.06 2.06-.94-2.06-.94-.94-2.06-.94 2.06-2.06.94zm-11 1L8.5 8.5l.94-2.06 2.06-.94-2.06-.94L8.5 2.5l-.94 2.06-2.06.94zm10 10l.94 2.06.94-2.06 2.06-.94-2.06-.94-.94-2.06-.94 2.06-2.06.94z\"/><path d=\"M17.41 7.96l-1.37-1.37c-.4-.4-.92-.59-1.43-.59-.52 0-1.04.2-1.43.59L10.3 9.45l-7.72 7.72c-.78.78-.78 2.05 0 2.83L4 21.41c.39.39.9.59 1.41.59.51 0 1.02-.2 1.41-.59l7.78-7.78 2.81-2.81c.8-.78.8-2.07 0-2.86zM5.41 20L4 18.59l7.72-7.72 1.47 1.35L5.41 20z\"/>\n",
              "  </svg>\n",
              "      </button>\n",
              "      \n",
              "  <style>\n",
              "    .colab-df-container {\n",
              "      display:flex;\n",
              "      flex-wrap:wrap;\n",
              "      gap: 12px;\n",
              "    }\n",
              "\n",
              "    .colab-df-convert {\n",
              "      background-color: #E8F0FE;\n",
              "      border: none;\n",
              "      border-radius: 50%;\n",
              "      cursor: pointer;\n",
              "      display: none;\n",
              "      fill: #1967D2;\n",
              "      height: 32px;\n",
              "      padding: 0 0 0 0;\n",
              "      width: 32px;\n",
              "    }\n",
              "\n",
              "    .colab-df-convert:hover {\n",
              "      background-color: #E2EBFA;\n",
              "      box-shadow: 0px 1px 2px rgba(60, 64, 67, 0.3), 0px 1px 3px 1px rgba(60, 64, 67, 0.15);\n",
              "      fill: #174EA6;\n",
              "    }\n",
              "\n",
              "    [theme=dark] .colab-df-convert {\n",
              "      background-color: #3B4455;\n",
              "      fill: #D2E3FC;\n",
              "    }\n",
              "\n",
              "    [theme=dark] .colab-df-convert:hover {\n",
              "      background-color: #434B5C;\n",
              "      box-shadow: 0px 1px 3px 1px rgba(0, 0, 0, 0.15);\n",
              "      filter: drop-shadow(0px 1px 2px rgba(0, 0, 0, 0.3));\n",
              "      fill: #FFFFFF;\n",
              "    }\n",
              "  </style>\n",
              "\n",
              "      <script>\n",
              "        const buttonEl =\n",
              "          document.querySelector('#df-527c6fb4-9726-43e5-88c3-2e50834cdc2c button.colab-df-convert');\n",
              "        buttonEl.style.display =\n",
              "          google.colab.kernel.accessAllowed ? 'block' : 'none';\n",
              "\n",
              "        async function convertToInteractive(key) {\n",
              "          const element = document.querySelector('#df-527c6fb4-9726-43e5-88c3-2e50834cdc2c');\n",
              "          const dataTable =\n",
              "            await google.colab.kernel.invokeFunction('convertToInteractive',\n",
              "                                                     [key], {});\n",
              "          if (!dataTable) return;\n",
              "\n",
              "          const docLinkHtml = 'Like what you see? Visit the ' +\n",
              "            '<a target=\"_blank\" href=https://colab.research.google.com/notebooks/data_table.ipynb>data table notebook</a>'\n",
              "            + ' to learn more about interactive tables.';\n",
              "          element.innerHTML = '';\n",
              "          dataTable['output_type'] = 'display_data';\n",
              "          await google.colab.output.renderOutput(dataTable, element);\n",
              "          const docLink = document.createElement('div');\n",
              "          docLink.innerHTML = docLinkHtml;\n",
              "          element.appendChild(docLink);\n",
              "        }\n",
              "      </script>\n",
              "    </div>\n",
              "  </div>\n",
              "  "
            ]
          },
          "metadata": {},
          "execution_count": 28
        }
      ],
      "source": [
        "df = pd.read_csv('recipes.csv', index_col=0)\n",
        "df.head()"
      ]
    },
    {
      "cell_type": "code",
      "execution_count": 29,
      "id": "48b5850f",
      "metadata": {
        "colab": {
          "base_uri": "https://localhost:8080/"
        },
        "id": "48b5850f",
        "outputId": "c1f9ac0f-dfe5-4555-b09f-1ce5fe2a1a07"
      },
      "outputs": [
        {
          "output_type": "execute_result",
          "data": {
            "text/plain": [
              "(146.0, 84.0, 176.0)"
            ]
          },
          "metadata": {},
          "execution_count": 29
        }
      ],
      "source": [
        "price_a.update(df['price_A'].to_dict())\n",
        "price_b.update(df['price_B'].to_dict())\n",
        "price_c.update(df['price_C'].to_dict())\n",
        "price_a['Apple Pie'], price_b['Apple Pie'], price_c['Apple Pie']"
      ]
    },
    {
      "cell_type": "markdown",
      "id": "f12c408d",
      "metadata": {
        "id": "f12c408d"
      },
      "source": [
        "Modify the evaluation function to take into account these recipes, making sure not to break the weight or stock constraints. The weight of a recipe is the sum total weight of the ingredients, and you can not make a recipe if you don't have the remaining stock of ingredients. Here's an example of calculating the total weight of a random load of only recipes:"
      ]
    },
    {
      "cell_type": "code",
      "execution_count": 30,
      "id": "bf9c9986",
      "metadata": {
        "colab": {
          "base_uri": "https://localhost:8080/"
        },
        "id": "bf9c9986",
        "outputId": "aa1bb4e1-4016-4cae-e11a-2cf7e147cea0"
      },
      "outputs": [
        {
          "output_type": "execute_result",
          "data": {
            "text/plain": [
              "{'Ratatouille': 3,\n",
              " 'Apple Pie': 3,\n",
              " 'Apricot Pie': 3,\n",
              " 'Cherry Pie': 0,\n",
              " 'Rhubarb Pie': 4,\n",
              " 'Strawberry Pie': 1,\n",
              " 'Blackberry Pie': 3,\n",
              " 'Pumpkin Pie': 2,\n",
              " 'Pizza': 2,\n",
              " 'Baba Ghanoush': 0,\n",
              " 'Squash Soup': 3,\n",
              " 'Peach Beer': 2,\n",
              " 'Blackberry Beer': 3}"
            ]
          },
          "metadata": {},
          "execution_count": 30
        }
      ],
      "source": [
        "recipe_load = {}\n",
        "for k in recipes:\n",
        "    recipe_load[k] = np.random.randint(0, 5)\n",
        "recipe_load"
      ]
    },
    {
      "cell_type": "code",
      "execution_count": 31,
      "id": "6fbd7e02",
      "metadata": {
        "id": "6fbd7e02"
      },
      "outputs": [],
      "source": [
        "def get_weight(recipe_load, recipes, weight):\n",
        "    total_weight = 0\n",
        "    for k in recipe_load:\n",
        "        ingredients = recipes[k]\n",
        "        w = 0\n",
        "        for i in ingredients:\n",
        "            w += weight[i] * ingredients[i]\n",
        "        total_weight += w * recipe_load[k]\n",
        "    return total_weight"
      ]
    },
    {
      "cell_type": "code",
      "execution_count": 32,
      "id": "22027764",
      "metadata": {
        "colab": {
          "base_uri": "https://localhost:8080/"
        },
        "id": "22027764",
        "outputId": "783cc29e-3630-409d-9900-76e9a4d3d03b"
      },
      "outputs": [
        {
          "output_type": "execute_result",
          "data": {
            "text/plain": [
              "1671"
            ]
          },
          "metadata": {},
          "execution_count": 32
        }
      ],
      "source": [
        "get_weight(recipe_load, recipes, weight)"
      ]
    },
    {
      "cell_type": "markdown",
      "id": "16aa5d3d",
      "metadata": {
        "id": "16aa5d3d"
      },
      "source": [
        "Once you've modified the evaluation function, rerun the optimization algorithm to find a new load for the three resellers, and one load which is good for all three. Display this result and the profit gained, making sure that the constraints are met."
      ]
    },
    {
      "cell_type": "markdown",
      "source": [
        "##Answer Challenge 3"
      ],
      "metadata": {
        "id": "4tgvT5KWjSeP"
      },
      "id": "4tgvT5KWjSeP"
    },
    {
      "cell_type": "markdown",
      "source": [
        "A new ```\n",
        "evaluate\n",
        "``` function was created to include recipes in the final price. \n",
        "\n",
        "The load has the same as above. This function checks firstly if each recipe is feasible, that is if there are enough ingredients in the load. Then, the unused crops are evaluated."
      ],
      "metadata": {
        "id": "iUcRKOTxjX4M"
      },
      "id": "iUcRKOTxjX4M"
    },
    {
      "cell_type": "code",
      "source": [
        "def evaluate_with_recipes(load, stock, weight, price, max_weight=5000):\n",
        "    total_weight = 0\n",
        "    total_price = 0\n",
        "    final_load = load.copy()\n",
        "    recipe_load = {}\n",
        "\n",
        "    for r in recipes.keys():    \n",
        "        ingredients = recipes[r]\n",
        "        weight_recipe = 0\n",
        "        nb_recipe = 0\n",
        "        # Check if we can make the recipe with our numbers of ingredients\n",
        "        list_ingredient = np.zeros(len(ingredients))\n",
        "        for index, i in enumerate(ingredients):\n",
        "            nb_ingredient = 0\n",
        "            while nb_ingredient * ingredients[i] < final_load[i]:\n",
        "                list_ingredient[index] = nb_ingredient\n",
        "                nb_ingredient += 1\n",
        "            if list_ingredient[index] == 0:\n",
        "                break\n",
        "        nb_recipe = np.min(list_ingredient)\n",
        "        if nb_recipe != 0:\n",
        "            for ing in ingredients:\n",
        "                nb_ing = nb_recipe * ingredients[ing]\n",
        "                final_load.update({str(ing) : final_load[ing] - nb_ing})\n",
        "        recipe_load.update({str(r) : nb_recipe})\n",
        "        total_price += nb_recipe * price[r]\n",
        "    total_weight += get_weight(recipe_load, recipes, weight)\n",
        "\n",
        "    for k in load:\n",
        "        # Initial evaluation for the remaining elements in the final load\n",
        "        if final_load[k] <= stock[k]:\n",
        "            total_price += final_load[k] * price[k]\n",
        "            total_weight += final_load[k] * weight[k]\n",
        "            if total_weight > max_weight:\n",
        "                return 0\n",
        "        else:\n",
        "            return 0\n",
        "    return total_price"
      ],
      "metadata": {
        "id": "CM0Fb0kibj1H"
      },
      "id": "CM0Fb0kibj1H",
      "execution_count": 34,
      "outputs": []
    },
    {
      "cell_type": "markdown",
      "source": [
        "From ```\n",
        "evaluate_with_recipes\n",
        "```, we create a new function 'evaluate population' (```\n",
        "evaluation_population_3\n",
        "```)."
      ],
      "metadata": {
        "id": "RL_e8_BQmFdG"
      },
      "id": "RL_e8_BQmFdG"
    },
    {
      "cell_type": "code",
      "source": [
        "def evaluate_population_3(population, price_2):\n",
        "    fit = []\n",
        "    for i in range(len(population)):\n",
        "      if(price_2 != 'all_three'):\n",
        "        prix_2 = evaluate_with_recipes(population[i], stock, weight, price_2)\n",
        "        fit.append(prix_2)\n",
        "      else:\n",
        "        prix_2 = evaluate_with_recipes(population[i], stock, weight, price_a) + evaluate_with_recipes(population[i], stock, weight, price_b) + evaluate_with_recipes(population[i], stock, weight, price_c)\n",
        "        prix_2 = prix_2/3\n",
        "        fit.append(prix_2)\n",
        "    return fit"
      ],
      "metadata": {
        "id": "ugwaUM2sMaNP"
      },
      "id": "ugwaUM2sMaNP",
      "execution_count": 55,
      "outputs": []
    },
    {
      "cell_type": "markdown",
      "source": [
        "For the last time, we create a population of 100 possible crop loads."
      ],
      "metadata": {
        "id": "SsjRDnp_mUfW"
      },
      "id": "SsjRDnp_mUfW"
    },
    {
      "cell_type": "code",
      "source": [
        "n_population = 100\n",
        "population_trail_load = []\n",
        "\n",
        "for i in range(n_population):\n",
        "    trial_load = {}\n",
        "    for k in stock:\n",
        "        trial_load[k] = np.random.randint(0, stock[k])\n",
        "    population_trail_load.append(trial_load)"
      ],
      "metadata": {
        "id": "nfAkRsilZN7S"
      },
      "id": "nfAkRsilZN7S",
      "execution_count": 78,
      "outputs": []
    },
    {
      "cell_type": "markdown",
      "source": [
        "Here is our genetic algorithm. We took 2000 generations.\n",
        "\n",
        "The evolution of the maximum fitness score across generations, including recipe, is plotted for each options for the market day haul.\n",
        "\n",
        "It takes about 14 minutes to run."
      ],
      "metadata": {
        "id": "AM124vdXmbaJ"
      },
      "id": "AM124vdXmbaJ"
    },
    {
      "cell_type": "code",
      "source": [
        "list_price = [price_a, price_b, price_c, 'all_three']\n",
        "list_etiquette = ['Price A', 'Price B', 'Price C', 'All three']\n",
        "list_col = ['b', 'r', 'g', 'k']\n",
        "result_list = []\n",
        "pop_list = []\n",
        "\n",
        "for p in list_price:\n",
        "    result = (0,0)\n",
        "    n_gen = 2000\n",
        "    maxfit = np.zeros(n_gen)\n",
        "    pop = population_trail_load\n",
        "    best_pop = {}\n",
        "    for i in range(n_gen):\n",
        "        pop, fitn = ga_step(pop, evaluate_population_3, p)\n",
        "        maxfit[i] = np.max(fitn)\n",
        "        if p == 'all_three':\n",
        "            ind = int(np.where(fitn == np.max(fitn))[0][0])\n",
        "            pop_list.append(pop[ind])\n",
        "        if (i > 2) and (maxfit[i] > maxfit[i-1]):\n",
        "            result = (i, maxfit[i])\n",
        "            ind = int(np.where(fitn == np.max(fitn))[0][0])\n",
        "            best_pop = pop[ind]\n",
        "    result_list.append(maxfit)\n",
        "    if p != 'all_three':\n",
        "        print('Option : '+str(list_etiquette[list_price.index(p)])+\n",
        "              ' ; Last generation : '+str(result[0])+' ; Highest score : ' +str(result[1]))\n",
        "        print('Best load :', best_pop, '\\n')\n",
        "    else:\n",
        "        a = evaluate_with_recipes(best_pop, stock, weight, price_a)\n",
        "        b = evaluate_with_recipes(best_pop, stock, weight, price_b)\n",
        "        c = evaluate_with_recipes(best_pop, stock, weight, price_c)\n",
        "        print('Option : '+str(list_etiquette[list_price.index(p)])+\n",
        "              ' ; Last generation : '+str(result[0])+' ; Highest score : ' +str((a, b, c)))\n",
        "        print('Best load :', best_pop, '\\n')\n",
        "\n",
        "# Plot result of optimization on each price separetely\n",
        "x = np.arange(n_gen)\n",
        "fig = plt.figure()\n",
        "for i in range(3):\n",
        "    plt.plot(x, result_list[i], list_col[i], label=list_etiquette[i])\n",
        "plt.xlabel(\"Generation\")\n",
        "plt.ylabel(\"Fitness score\")\n",
        "plt.legend(loc='upper right')\n",
        "plt.title(\"Evolution of the maximum score for merchant A, B and C seperately across generations\")\n",
        "plt.show()\n",
        "\n",
        "# Plot result of optimization on all price together\n",
        "fig = plt.figure()\n",
        "\n",
        "for p in range(3):\n",
        "    result_fit = np.zeros(n_gen)\n",
        "    for ind, pop in enumerate(pop_list):\n",
        "        result_fit[ind] = evaluate_with_recipes(pop, stock, weight, list_price[p])\n",
        "    plt.plot(x, result_fit, list_col[p], label=list_etiquette[p])\n",
        "\n",
        "plt.xlabel(\"Generation\")\n",
        "plt.ylabel(\"Fitness score\")\n",
        "plt.legend(loc='upper right')\n",
        "plt.title(\"Evolution of the maximum score for all three merchant across generations\")\n",
        "plt.show()\n",
        "\n",
        "fig = plt.figure()\n",
        "for p in range(3):\n",
        "    result_fit = np.zeros(n_gen)\n",
        "    for ind, pop in enumerate(pop_list):\n",
        "        result_fit[ind] = evaluate_with_recipes(pop, stock, weight, list_price[p])\n",
        "    plt.plot(x[:200], result_fit[:200], list_col[p], label=list_etiquette[p])\n",
        "plt.xlabel(\"Generation\")\n",
        "plt.ylabel(\"Fitness score\")\n",
        "plt.legend(loc='upper right')\n",
        "plt.title(\"Zoom on the evolution of the maximum score for all three merchant across generations\")\n",
        "plt.show()"
      ],
      "metadata": {
        "colab": {
          "base_uri": "https://localhost:8080/",
          "height": 1000
        },
        "id": "q10qSod1vjCK",
        "outputId": "fe366bd4-712f-4a44-e79c-a8ae4ccd3f53"
      },
      "id": "q10qSod1vjCK",
      "execution_count": 79,
      "outputs": [
        {
          "output_type": "stream",
          "name": "stdout",
          "text": [
            "Option : Price A ; Last generation : 1995 ; Highest score : 5175.0999999999985\n",
            "Best load : {'Apple': 1, 'Apricot': 11, 'Blueberry': 1, 'Cactus Fruit': 1, 'Cherry': 1, 'Cranberry': 1, 'Grape': 55, 'Melon': 1, 'Orange': 13, 'Peach': 25, 'Pomegranate': 1, 'Rhubarb': 61, 'Starfruit': 1, 'Strawberry': 11, 'Amaranth': 19, 'Artichoke': 64, 'Beet': 29, 'Bok Choy': 54, 'Cauliflower': 58, 'Corn': 64, 'Eggplant': 89, 'Garlic': 93, 'Green Bean': 37, 'Hops': 73, 'Hot Pepper': 10, 'Kale': 4, 'Parsnip': 8, 'Potato': 54, 'Pumpkin': 29, 'Radish': 48, 'Red Cabbage': 1, 'Tomato': 64, 'Wheat': 69, 'Yam': 49, 'Blackberry': 6} \n",
            "\n",
            "Option : Price B ; Last generation : 1699 ; Highest score : 3122.2\n",
            "Best load : {'Apple': 4, 'Apricot': 21, 'Blueberry': 3, 'Cactus Fruit': 1, 'Cherry': 14, 'Cranberry': 1, 'Grape': 11, 'Melon': 21, 'Orange': 39, 'Peach': 49, 'Pomegranate': 4, 'Rhubarb': 66, 'Starfruit': 1, 'Strawberry': 19, 'Amaranth': 19, 'Artichoke': 53, 'Beet': 29, 'Bok Choy': 8, 'Cauliflower': 2, 'Corn': 3, 'Eggplant': 50, 'Garlic': 77, 'Green Bean': 13, 'Hops': 73, 'Hot Pepper': 11, 'Kale': 4, 'Parsnip': 9, 'Potato': 4, 'Pumpkin': 29, 'Radish': 39, 'Red Cabbage': 50, 'Tomato': 47, 'Wheat': 60, 'Yam': 49, 'Blackberry': 3} \n",
            "\n",
            "Option : Price C ; Last generation : 1925 ; Highest score : 4067.400000000001\n",
            "Best load : {'Apple': 4, 'Apricot': 64, 'Blueberry': 4, 'Cactus Fruit': 3, 'Cherry': 14, 'Cranberry': 42, 'Grape': 69, 'Melon': 22, 'Orange': 39, 'Peach': 28, 'Pomegranate': 4, 'Rhubarb': 11, 'Starfruit': 1, 'Strawberry': 19, 'Amaranth': 19, 'Artichoke': 64, 'Beet': 29, 'Bok Choy': 54, 'Cauliflower': 1, 'Corn': 45, 'Eggplant': 94, 'Garlic': 75, 'Green Bean': 54, 'Hops': 74, 'Hot Pepper': 24, 'Kale': 4, 'Parsnip': 9, 'Potato': 54, 'Pumpkin': 17, 'Radish': 49, 'Red Cabbage': 12, 'Tomato': 64, 'Wheat': 74, 'Yam': 49, 'Blackberry': 60} \n",
            "\n",
            "Option : All three ; Last generation : 1955 ; Highest score : (5779.65, 3156.899999999999, 4083.0000000000005)\n",
            "Best load : {'Apple': 4, 'Apricot': 63, 'Blueberry': 4, 'Cactus Fruit': 1, 'Cherry': 14, 'Cranberry': 39, 'Grape': 38, 'Melon': 1, 'Orange': 39, 'Peach': 25, 'Pomegranate': 4, 'Rhubarb': 61, 'Starfruit': 0, 'Strawberry': 19, 'Amaranth': 19, 'Artichoke': 64, 'Beet': 29, 'Bok Choy': 54, 'Cauliflower': 16, 'Corn': 29, 'Eggplant': 67, 'Garlic': 92, 'Green Bean': 51, 'Hops': 73, 'Hot Pepper': 24, 'Kale': 4, 'Parsnip': 9, 'Potato': 54, 'Pumpkin': 17, 'Radish': 49, 'Red Cabbage': 1, 'Tomato': 64, 'Wheat': 73, 'Yam': 49, 'Blackberry': 18} \n",
            "\n"
          ]
        },
        {
          "output_type": "display_data",
          "data": {
            "text/plain": [
              "<Figure size 432x288 with 1 Axes>"
            ],
            "image/png": "[encoded data removed]"
          },
          "metadata": {
            "needs_background": "light"
          }
        },
        {
          "output_type": "display_data",
          "data": {
            "text/plain": [
              "<Figure size 432x288 with 1 Axes>"
            ],
            "image/png": "[encoded data removed]"
          },
          "metadata": {
            "needs_background": "light"
          }
        },
        {
          "output_type": "display_data",
          "data": {
            "text/plain": [
              "<Figure size 432x288 with 1 Axes>"
            ],
            "image/png": "[encoded data removed]"
          },
          "metadata": {
            "needs_background": "light"
          }
        }
      ]
    },
    {
      "cell_type": "markdown",
      "source": [
        "As seen in previous challenges, for the three first options, the first graph above shows that most of the improvement in the fitness score is made in the first 100 generations. The score is still increasing at a logarithmic pace across the other generations. The convergence around the final score seems to appear earlier with prices A and B, even though some late leaps are visible for price B.\n",
        "\n",
        "For the options with all three merchants, we got naturally lower scores for each price compared to cases where they were optimized separately. The zoom on the first 200 generations shows that there are some oscillations in the maximum fitness score for each price, which are attenuated in the long run as highlighted on the second graph. \n",
        "\n",
        "The second graph shows that the increase of the fitness score for price B is slight compared to price C and especially price A. This issue could be solved by taking other coefficients in the `evaluate_population_3` function on each price or using an NSGA-II.\n",
        "\n",
        "It is interesting to notice, on the 2nd graph above, that the optimization on all prices the variation of each fitness score curve happened at the same generations."
      ],
      "metadata": {
        "id": "hU3Bd5MG84XK"
      },
      "id": "hU3Bd5MG84XK"
    },
    {
      "cell_type": "markdown",
      "id": "ac9e164e",
      "metadata": {
        "id": "ac9e164e"
      },
      "source": [
        "## Evaluation"
      ]
    },
    {
      "cell_type": "markdown",
      "id": "3fc7150b",
      "metadata": {
        "id": "3fc7150b"
      },
      "source": [
        "You should submit a saved copy of your notebook (including all of the cell output) to the LMS by December 13th, EOD. You may work with one partner, but you must **individually submit a notebook**. You will be graded based on your results, your code, and any text or visual explanations, according to the following rubric:\n",
        "\n",
        "Criterion | Points\n",
        "--- | ---\n",
        "Results - Challenge 1 | 7\n",
        "Results - Challenge 2 | 5\n",
        "Results - Challenge 3 | 3\n",
        "Presentation (code, text) | 5"
      ]
    },
    {
      "cell_type": "code",
      "source": [],
      "metadata": {
        "id": "7fodDx_LiM3I"
      },
      "id": "7fodDx_LiM3I",
      "execution_count": null,
      "outputs": []
    }
  ],
  "metadata": {
    "kernelspec": {
      "display_name": "Python 3 (ipykernel)",
      "language": "python",
      "name": "python3"
    },
    "language_info": {
      "codemirror_mode": {
        "name": "ipython",
        "version": 3
      },
      "file_extension": ".py",
      "mimetype": "text/x-python",
      "name": "python",
      "nbconvert_exporter": "python",
      "pygments_lexer": "ipython3",
      "version": "3.8.10"
    },
    "colab": {
      "provenance": [],
      "include_colab_link": true
    }
  },
  "nbformat": 4,
  "nbformat_minor": 5
}