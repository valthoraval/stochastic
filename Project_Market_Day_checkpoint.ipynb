{
  "cells": [
    {
      "cell_type": "markdown",
      "metadata": {
        "id": "view-in-github",
        "colab_type": "text"
      },
      "source": [
        "<a href=\"https://colab.research.google.com/github/valthoraval/stochastic/blob/master/Project_Market_Day_checkpoint.ipynb\" target=\"_parent\"><img src=\"https://colab.research.google.com/assets/colab-badge.svg\" alt=\"Open In Colab\"/></a>"
      ]
    },
    {
      "cell_type": "markdown",
      "id": "d8823f9d",
      "metadata": {
        "id": "d8823f9d"
      },
      "source": [
        "# Project - Market Day\n",
        "\n",
        "<a rel=\"license\" href=\"http://creativecommons.org/licenses/by-sa/4.0/\"><img alt=\"Creative Commons License\" align=\"left\" src=\"https://i.creativecommons.org/l/by-sa/4.0/80x15.png\" /></a>&nbsp;| Dennis G. Wilson | <a href=\"https://supaerodatascience.github.io/stochastic/\">https://supaerodatascience.github.io/stochastic/</a>"
      ]
    },
    {
      "cell_type": "markdown",
      "id": "e6452934",
      "metadata": {
        "id": "e6452934"
      },
      "source": [
        "![Stardew Valley](https://venturebeat.com/wp-content/uploads/2018/01/sw7rtba7p1xs77klsime.png)"
      ]
    },
    {
      "cell_type": "markdown",
      "id": "68359e75",
      "metadata": {
        "id": "68359e75"
      },
      "source": [
        "It is Market Day! You've been working hard for a whole season, planting, watering, and taking care of crops. Now it is time to sell them in town. Just one problem though - your old truck can only carry so much weight. Which crops should you bring to maximize your profits? "
      ]
    },
    {
      "cell_type": "markdown",
      "id": "fa661645",
      "metadata": {
        "id": "fa661645"
      },
      "source": [
        "In this project, you will use a stochastic algorithm of your choice to find the best crop configuration you can load into your truck. You know how much stock you have of each crop, how much each crop weighs, and what price it will fetch at the market. You should use these values throughout the project."
      ]
    },
    {
      "cell_type": "markdown",
      "id": "459e3e1a",
      "metadata": {
        "id": "459e3e1a"
      },
      "source": [
        "Before we start, if you're using colab to run this notebook, you'll need to uncomment and run the following lines:"
      ]
    },
    {
      "cell_type": "code",
      "execution_count": 1,
      "id": "c98dedf7",
      "metadata": {
        "colab": {
          "base_uri": "https://localhost:8080/"
        },
        "id": "c98dedf7",
        "outputId": "fabc4c4e-8400-42d5-da70-69de3c42ff20"
      },
      "outputs": [
        {
          "output_type": "stream",
          "name": "stdout",
          "text": [
            "--2022-12-03 17:53:52--  https://raw.githubusercontent.com/SupaeroDataScience/stochastic/master/project/market.csv\n",
            "Resolving raw.githubusercontent.com (raw.githubusercontent.com)... 185.199.109.133, 185.199.108.133, 185.199.111.133, ...\n",
            "Connecting to raw.githubusercontent.com (raw.githubusercontent.com)|185.199.109.133|:443... connected.\n",
            "HTTP request sent, awaiting response... 200 OK\n",
            "Length: 927 [text/plain]\n",
            "Saving to: ‘market.csv’\n",
            "\n",
            "\rmarket.csv            0%[                    ]       0  --.-KB/s               \rmarket.csv          100%[===================>]     927  --.-KB/s    in 0s      \n",
            "\n",
            "2022-12-03 17:53:52 (26.9 MB/s) - ‘market.csv’ saved [927/927]\n",
            "\n",
            "--2022-12-03 17:53:53--  https://raw.githubusercontent.com/SupaeroDataScience/stochastic/master/project/recipes.csv\n",
            "Resolving raw.githubusercontent.com (raw.githubusercontent.com)... 185.199.110.133, 185.199.108.133, 185.199.109.133, ...\n",
            "Connecting to raw.githubusercontent.com (raw.githubusercontent.com)|185.199.110.133|:443... connected.\n",
            "HTTP request sent, awaiting response... 200 OK\n",
            "Length: 388 [text/plain]\n",
            "Saving to: ‘recipes.csv’\n",
            "\n",
            "recipes.csv         100%[===================>]     388  --.-KB/s    in 0s      \n",
            "\n",
            "2022-12-03 17:53:53 (13.5 MB/s) - ‘recipes.csv’ saved [388/388]\n",
            "\n",
            "Looking in indexes: https://pypi.org/simple, https://us-python.pkg.dev/colab-wheels/public/simple/\n",
            "Collecting pymoo\n",
            "  Downloading pymoo-0.6.0-cp38-cp38-manylinux_2_24_x86_64.whl (2.1 MB)\n",
            "\u001b[K     |████████████████████████████████| 2.1 MB 5.1 MB/s \n",
            "\u001b[?25hCollecting cma==3.2.2\n",
            "  Downloading cma-3.2.2-py2.py3-none-any.whl (249 kB)\n",
            "\u001b[K     |████████████████████████████████| 249 kB 44.5 MB/s \n",
            "\u001b[?25hRequirement already satisfied: autograd>=1.4 in /usr/local/lib/python3.8/dist-packages (from pymoo) (1.5)\n",
            "Requirement already satisfied: scipy>=1.1 in /usr/local/lib/python3.8/dist-packages (from pymoo) (1.7.3)\n",
            "Collecting Deprecated\n",
            "  Downloading Deprecated-1.2.13-py2.py3-none-any.whl (9.6 kB)\n",
            "Collecting alive-progress\n",
            "  Downloading alive_progress-2.4.1-py3-none-any.whl (80 kB)\n",
            "\u001b[K     |████████████████████████████████| 80 kB 4.3 MB/s \n",
            "\u001b[?25hRequirement already satisfied: dill in /usr/local/lib/python3.8/dist-packages (from pymoo) (0.3.6)\n",
            "Requirement already satisfied: numpy>=1.15 in /usr/local/lib/python3.8/dist-packages (from pymoo) (1.21.6)\n",
            "Requirement already satisfied: matplotlib>=3 in /usr/local/lib/python3.8/dist-packages (from pymoo) (3.2.2)\n",
            "Requirement already satisfied: future>=0.15.2 in /usr/local/lib/python3.8/dist-packages (from autograd>=1.4->pymoo) (0.16.0)\n",
            "Requirement already satisfied: kiwisolver>=1.0.1 in /usr/local/lib/python3.8/dist-packages (from matplotlib>=3->pymoo) (1.4.4)\n",
            "Requirement already satisfied: pyparsing!=2.0.4,!=2.1.2,!=2.1.6,>=2.0.1 in /usr/local/lib/python3.8/dist-packages (from matplotlib>=3->pymoo) (3.0.9)\n",
            "Requirement already satisfied: cycler>=0.10 in /usr/local/lib/python3.8/dist-packages (from matplotlib>=3->pymoo) (0.11.0)\n",
            "Requirement already satisfied: python-dateutil>=2.1 in /usr/local/lib/python3.8/dist-packages (from matplotlib>=3->pymoo) (2.8.2)\n",
            "Requirement already satisfied: six>=1.5 in /usr/local/lib/python3.8/dist-packages (from python-dateutil>=2.1->matplotlib>=3->pymoo) (1.15.0)\n",
            "Collecting grapheme==0.6.0\n",
            "  Downloading grapheme-0.6.0.tar.gz (207 kB)\n",
            "\u001b[K     |████████████████████████████████| 207 kB 28.3 MB/s \n",
            "\u001b[?25hCollecting about-time==3.1.1\n",
            "  Downloading about_time-3.1.1-py3-none-any.whl (9.1 kB)\n",
            "Requirement already satisfied: wrapt<2,>=1.10 in /usr/local/lib/python3.8/dist-packages (from Deprecated->pymoo) (1.14.1)\n",
            "Building wheels for collected packages: grapheme\n",
            "  Building wheel for grapheme (setup.py) ... \u001b[?25l\u001b[?25hdone\n",
            "  Created wheel for grapheme: filename=grapheme-0.6.0-py3-none-any.whl size=210096 sha256=9750083256ed437f08726ec8aa991da44546a0a9598f3fa4ca700dcea97cfb70\n",
            "  Stored in directory: /root/.cache/pip/wheels/2d/08/6b/126ea9009f7482fd53a78d0db2ece5aca70af8f4a30445386b\n",
            "Successfully built grapheme\n",
            "Installing collected packages: grapheme, about-time, Deprecated, cma, alive-progress, pymoo\n",
            "Successfully installed Deprecated-1.2.13 about-time-3.1.1 alive-progress-2.4.1 cma-3.2.2 grapheme-0.6.0 pymoo-0.6.0\n"
          ]
        }
      ],
      "source": [
        "!wget https://raw.githubusercontent.com/SupaeroDataScience/stochastic/master/project/market.csv\n",
        "!wget https://raw.githubusercontent.com/SupaeroDataScience/stochastic/master/project/recipes.csv\n",
        "!pip install pymoo"
      ]
    },
    {
      "cell_type": "code",
      "execution_count": 221,
      "id": "3fd3c7cf",
      "metadata": {
        "id": "3fd3c7cf"
      },
      "outputs": [],
      "source": [
        "import numpy as np\n",
        "import pandas as pd\n",
        "import pymoo\n",
        "import copy\n",
        "\n",
        "%matplotlib inline\n",
        "import matplotlib.pyplot as plt\n",
        "import numpy as np\n",
        "import math\n",
        "\n",
        "import random"
      ]
    },
    {
      "cell_type": "code",
      "execution_count": 86,
      "id": "1c3d4f41",
      "metadata": {
        "colab": {
          "base_uri": "https://localhost:8080/",
          "height": 206
        },
        "id": "1c3d4f41",
        "outputId": "7d547ef8-e3b0-4855-9855-fb1ff9f351b5"
      },
      "outputs": [
        {
          "output_type": "execute_result",
          "data": {
            "text/plain": [
              "              stock  weight  price_A  price_B  price_C\n",
              "Apple             5       5     1.00      0.5      1.1\n",
              "Apricot          65       3     0.50      0.2      0.6\n",
              "Blueberry         5       3     0.50      0.3      1.2\n",
              "Cactus Fruit     90       4     0.75      0.3      0.3\n",
              "Cherry           15       4     0.80      0.4      1.1"
            ],
            "text/html": [
              "\n",
              "  <div id=\"df-fd2c9446-4252-4cc9-99aa-507b3b9c3246\">\n",
              "    <div class=\"colab-df-container\">\n",
              "      <div>\n",
              "<style scoped>\n",
              "    .dataframe tbody tr th:only-of-type {\n",
              "        vertical-align: middle;\n",
              "    }\n",
              "\n",
              "    .dataframe tbody tr th {\n",
              "        vertical-align: top;\n",
              "    }\n",
              "\n",
              "    .dataframe thead th {\n",
              "        text-align: right;\n",
              "    }\n",
              "</style>\n",
              "<table border=\"1\" class=\"dataframe\">\n",
              "  <thead>\n",
              "    <tr style=\"text-align: right;\">\n",
              "      <th></th>\n",
              "      <th>stock</th>\n",
              "      <th>weight</th>\n",
              "      <th>price_A</th>\n",
              "      <th>price_B</th>\n",
              "      <th>price_C</th>\n",
              "    </tr>\n",
              "  </thead>\n",
              "  <tbody>\n",
              "    <tr>\n",
              "      <th>Apple</th>\n",
              "      <td>5</td>\n",
              "      <td>5</td>\n",
              "      <td>1.00</td>\n",
              "      <td>0.5</td>\n",
              "      <td>1.1</td>\n",
              "    </tr>\n",
              "    <tr>\n",
              "      <th>Apricot</th>\n",
              "      <td>65</td>\n",
              "      <td>3</td>\n",
              "      <td>0.50</td>\n",
              "      <td>0.2</td>\n",
              "      <td>0.6</td>\n",
              "    </tr>\n",
              "    <tr>\n",
              "      <th>Blueberry</th>\n",
              "      <td>5</td>\n",
              "      <td>3</td>\n",
              "      <td>0.50</td>\n",
              "      <td>0.3</td>\n",
              "      <td>1.2</td>\n",
              "    </tr>\n",
              "    <tr>\n",
              "      <th>Cactus Fruit</th>\n",
              "      <td>90</td>\n",
              "      <td>4</td>\n",
              "      <td>0.75</td>\n",
              "      <td>0.3</td>\n",
              "      <td>0.3</td>\n",
              "    </tr>\n",
              "    <tr>\n",
              "      <th>Cherry</th>\n",
              "      <td>15</td>\n",
              "      <td>4</td>\n",
              "      <td>0.80</td>\n",
              "      <td>0.4</td>\n",
              "      <td>1.1</td>\n",
              "    </tr>\n",
              "  </tbody>\n",
              "</table>\n",
              "</div>\n",
              "      <button class=\"colab-df-convert\" onclick=\"convertToInteractive('df-fd2c9446-4252-4cc9-99aa-507b3b9c3246')\"\n",
              "              title=\"Convert this dataframe to an interactive table.\"\n",
              "              style=\"display:none;\">\n",
              "        \n",
              "  <svg xmlns=\"http://www.w3.org/2000/svg\" height=\"24px\"viewBox=\"0 0 24 24\"\n",
              "       width=\"24px\">\n",
              "    <path d=\"M0 0h24v24H0V0z\" fill=\"none\"/>\n",
              "    <path d=\"M18.56 5.44l.94 2.06.94-2.06 2.06-.94-2.06-.94-.94-2.06-.94 2.06-2.06.94zm-11 1L8.5 8.5l.94-2.06 2.06-.94-2.06-.94L8.5 2.5l-.94 2.06-2.06.94zm10 10l.94 2.06.94-2.06 2.06-.94-2.06-.94-.94-2.06-.94 2.06-2.06.94z\"/><path d=\"M17.41 7.96l-1.37-1.37c-.4-.4-.92-.59-1.43-.59-.52 0-1.04.2-1.43.59L10.3 9.45l-7.72 7.72c-.78.78-.78 2.05 0 2.83L4 21.41c.39.39.9.59 1.41.59.51 0 1.02-.2 1.41-.59l7.78-7.78 2.81-2.81c.8-.78.8-2.07 0-2.86zM5.41 20L4 18.59l7.72-7.72 1.47 1.35L5.41 20z\"/>\n",
              "  </svg>\n",
              "      </button>\n",
              "      \n",
              "  <style>\n",
              "    .colab-df-container {\n",
              "      display:flex;\n",
              "      flex-wrap:wrap;\n",
              "      gap: 12px;\n",
              "    }\n",
              "\n",
              "    .colab-df-convert {\n",
              "      background-color: #E8F0FE;\n",
              "      border: none;\n",
              "      border-radius: 50%;\n",
              "      cursor: pointer;\n",
              "      display: none;\n",
              "      fill: #1967D2;\n",
              "      height: 32px;\n",
              "      padding: 0 0 0 0;\n",
              "      width: 32px;\n",
              "    }\n",
              "\n",
              "    .colab-df-convert:hover {\n",
              "      background-color: #E2EBFA;\n",
              "      box-shadow: 0px 1px 2px rgba(60, 64, 67, 0.3), 0px 1px 3px 1px rgba(60, 64, 67, 0.15);\n",
              "      fill: #174EA6;\n",
              "    }\n",
              "\n",
              "    [theme=dark] .colab-df-convert {\n",
              "      background-color: #3B4455;\n",
              "      fill: #D2E3FC;\n",
              "    }\n",
              "\n",
              "    [theme=dark] .colab-df-convert:hover {\n",
              "      background-color: #434B5C;\n",
              "      box-shadow: 0px 1px 3px 1px rgba(0, 0, 0, 0.15);\n",
              "      filter: drop-shadow(0px 1px 2px rgba(0, 0, 0, 0.3));\n",
              "      fill: #FFFFFF;\n",
              "    }\n",
              "  </style>\n",
              "\n",
              "      <script>\n",
              "        const buttonEl =\n",
              "          document.querySelector('#df-fd2c9446-4252-4cc9-99aa-507b3b9c3246 button.colab-df-convert');\n",
              "        buttonEl.style.display =\n",
              "          google.colab.kernel.accessAllowed ? 'block' : 'none';\n",
              "\n",
              "        async function convertToInteractive(key) {\n",
              "          const element = document.querySelector('#df-fd2c9446-4252-4cc9-99aa-507b3b9c3246');\n",
              "          const dataTable =\n",
              "            await google.colab.kernel.invokeFunction('convertToInteractive',\n",
              "                                                     [key], {});\n",
              "          if (!dataTable) return;\n",
              "\n",
              "          const docLinkHtml = 'Like what you see? Visit the ' +\n",
              "            '<a target=\"_blank\" href=https://colab.research.google.com/notebooks/data_table.ipynb>data table notebook</a>'\n",
              "            + ' to learn more about interactive tables.';\n",
              "          element.innerHTML = '';\n",
              "          dataTable['output_type'] = 'display_data';\n",
              "          await google.colab.output.renderOutput(dataTable, element);\n",
              "          const docLink = document.createElement('div');\n",
              "          docLink.innerHTML = docLinkHtml;\n",
              "          element.appendChild(docLink);\n",
              "        }\n",
              "      </script>\n",
              "    </div>\n",
              "  </div>\n",
              "  "
            ]
          },
          "metadata": {},
          "execution_count": 86
        }
      ],
      "source": [
        "df = pd.read_csv('market.csv', index_col=0)\n",
        "df.head()"
      ]
    },
    {
      "cell_type": "code",
      "execution_count": 4,
      "id": "614d7ba3",
      "metadata": {
        "id": "614d7ba3"
      },
      "outputs": [],
      "source": [
        "stock = df['stock'].to_dict()\n",
        "weight = df['weight'].to_dict()\n",
        "price = df['price_A'].to_dict()"
      ]
    },
    {
      "cell_type": "code",
      "execution_count": 87,
      "id": "5d28fa1e",
      "metadata": {
        "colab": {
          "base_uri": "https://localhost:8080/"
        },
        "id": "5d28fa1e",
        "outputId": "3d7714b4-b0f3-4136-f9c7-e88077789c68"
      },
      "outputs": [
        {
          "output_type": "execute_result",
          "data": {
            "text/plain": [
              "{'Apple': 5,\n",
              " 'Apricot': 65,\n",
              " 'Blueberry': 5,\n",
              " 'Cactus Fruit': 90,\n",
              " 'Cherry': 15,\n",
              " 'Cranberry': 75,\n",
              " 'Grape': 70,\n",
              " 'Melon': 75,\n",
              " 'Orange': 40,\n",
              " 'Peach': 55,\n",
              " 'Pomegranate': 5,\n",
              " 'Rhubarb': 70,\n",
              " 'Starfruit': 5,\n",
              " 'Strawberry': 20,\n",
              " 'Amaranth': 20,\n",
              " 'Artichoke': 65,\n",
              " 'Beet': 30,\n",
              " 'Bok Choy': 55,\n",
              " 'Cauliflower': 70,\n",
              " 'Corn': 90,\n",
              " 'Eggplant': 95,\n",
              " 'Garlic': 95,\n",
              " 'Green Bean': 55,\n",
              " 'Hops': 75,\n",
              " 'Hot Pepper': 25,\n",
              " 'Kale': 5,\n",
              " 'Parsnip': 10,\n",
              " 'Potato': 55,\n",
              " 'Pumpkin': 30,\n",
              " 'Radish': 50,\n",
              " 'Red Cabbage': 55,\n",
              " 'Tomato': 65,\n",
              " 'Wheat': 75,\n",
              " 'Yam': 50,\n",
              " 'Blackberry': 70}"
            ]
          },
          "metadata": {},
          "execution_count": 87
        }
      ],
      "source": [
        "stock"
      ]
    },
    {
      "cell_type": "markdown",
      "id": "91c0dc4b",
      "metadata": {
        "id": "91c0dc4b"
      },
      "source": [
        "To evaluate your possible load going to the market, we will use a function that takes in a dictionary of this type, specifying how many of each crop you will take. This function will take into the constraints of having enough stock of the crop type and of not surpassing the weight limit."
      ]
    },
    {
      "cell_type": "code",
      "execution_count": 88,
      "id": "587b7af3",
      "metadata": {
        "id": "587b7af3"
      },
      "outputs": [],
      "source": [
        "def evaluate(load, stock, weight, price, max_weight=5000):\n",
        "    total_weight = 0\n",
        "    total_price = 0\n",
        "    for k in load:\n",
        "        if load[k] <= stock[k]:\n",
        "            total_price += load[k] * price[k]\n",
        "            total_weight += load[k] * weight[k]\n",
        "            if total_weight > max_weight:\n",
        "                return 0\n",
        "        else:\n",
        "            return 0\n",
        "    return total_price"
      ]
    },
    {
      "cell_type": "code",
      "source": [
        "def evaluate_autre(load, stock, weight, price, max_weight=5000):\n",
        "    total_weight = 0\n",
        "    total_price = 0\n",
        "    for k in load:\n",
        "        if load[k] <= stock[k]:\n",
        "            total_price += load[k] * price[k]\n",
        "            total_weight += load[k] * weight[k]\n",
        "            if total_weight > max_weight:\n",
        "                total_price -= load[k] * price[k]\n",
        "                total_weight -= load[k] * weight[k]\n",
        "                break\n",
        "        else:\n",
        "            pass\n",
        "    print(\"Total weight\", total_weight)\n",
        "    return total_price"
      ],
      "metadata": {
        "id": "lee-nFuth0Sc"
      },
      "id": "lee-nFuth0Sc",
      "execution_count": 89,
      "outputs": []
    },
    {
      "cell_type": "code",
      "source": [
        "def toDict(lst):\n",
        "    res_dct = {lst[i][0] : lst[i][1] for i in range(0, len(lst))}\n",
        "    return res_dct"
      ],
      "metadata": {
        "id": "rZYYQb8VMSf2"
      },
      "id": "rZYYQb8VMSf2",
      "execution_count": 90,
      "outputs": []
    },
    {
      "cell_type": "markdown",
      "id": "f832b811",
      "metadata": {
        "id": "f832b811"
      },
      "source": [
        "You can try this with an example load generated randomly:"
      ]
    },
    {
      "cell_type": "code",
      "source": [
        "trial_load = {}\n",
        "\n",
        "for k in stock:\n",
        "    trial_load[k] = np.random.randint(0, stock[k])\n",
        "\n",
        "print(trial_load)\n",
        "type(trial_load)\n",
        "print(list(trial_load.items())[:10])\n",
        "dict_1 = toDict(list(trial_load.items())[:10])\n",
        "print(dict_1)\n",
        "dict_2 = toDict(list(trial_load.items())[10:])\n",
        "print(dict_2)\n",
        "print({**dict_1, **dict_2})"
      ],
      "metadata": {
        "colab": {
          "base_uri": "https://localhost:8080/"
        },
        "id": "iq2pLv5H_z7c",
        "outputId": "4759b83b-26a0-41d0-b8d2-64c519df6a09"
      },
      "id": "iq2pLv5H_z7c",
      "execution_count": 91,
      "outputs": [
        {
          "output_type": "stream",
          "name": "stdout",
          "text": [
            "{'Apple': 2, 'Apricot': 43, 'Blueberry': 4, 'Cactus Fruit': 43, 'Cherry': 14, 'Cranberry': 4, 'Grape': 20, 'Melon': 29, 'Orange': 36, 'Peach': 24, 'Pomegranate': 2, 'Rhubarb': 49, 'Starfruit': 0, 'Strawberry': 18, 'Amaranth': 19, 'Artichoke': 33, 'Beet': 27, 'Bok Choy': 24, 'Cauliflower': 14, 'Corn': 18, 'Eggplant': 87, 'Garlic': 3, 'Green Bean': 6, 'Hops': 55, 'Hot Pepper': 14, 'Kale': 2, 'Parsnip': 7, 'Potato': 40, 'Pumpkin': 10, 'Radish': 36, 'Red Cabbage': 40, 'Tomato': 23, 'Wheat': 1, 'Yam': 9, 'Blackberry': 34}\n",
            "[('Apple', 2), ('Apricot', 43), ('Blueberry', 4), ('Cactus Fruit', 43), ('Cherry', 14), ('Cranberry', 4), ('Grape', 20), ('Melon', 29), ('Orange', 36), ('Peach', 24)]\n",
            "{'Apple': 2, 'Apricot': 43, 'Blueberry': 4, 'Cactus Fruit': 43, 'Cherry': 14, 'Cranberry': 4, 'Grape': 20, 'Melon': 29, 'Orange': 36, 'Peach': 24}\n",
            "{'Pomegranate': 2, 'Rhubarb': 49, 'Starfruit': 0, 'Strawberry': 18, 'Amaranth': 19, 'Artichoke': 33, 'Beet': 27, 'Bok Choy': 24, 'Cauliflower': 14, 'Corn': 18, 'Eggplant': 87, 'Garlic': 3, 'Green Bean': 6, 'Hops': 55, 'Hot Pepper': 14, 'Kale': 2, 'Parsnip': 7, 'Potato': 40, 'Pumpkin': 10, 'Radish': 36, 'Red Cabbage': 40, 'Tomato': 23, 'Wheat': 1, 'Yam': 9, 'Blackberry': 34}\n",
            "{'Apple': 2, 'Apricot': 43, 'Blueberry': 4, 'Cactus Fruit': 43, 'Cherry': 14, 'Cranberry': 4, 'Grape': 20, 'Melon': 29, 'Orange': 36, 'Peach': 24, 'Pomegranate': 2, 'Rhubarb': 49, 'Starfruit': 0, 'Strawberry': 18, 'Amaranth': 19, 'Artichoke': 33, 'Beet': 27, 'Bok Choy': 24, 'Cauliflower': 14, 'Corn': 18, 'Eggplant': 87, 'Garlic': 3, 'Green Bean': 6, 'Hops': 55, 'Hot Pepper': 14, 'Kale': 2, 'Parsnip': 7, 'Potato': 40, 'Pumpkin': 10, 'Radish': 36, 'Red Cabbage': 40, 'Tomato': 23, 'Wheat': 1, 'Yam': 9, 'Blackberry': 34}\n"
          ]
        }
      ]
    },
    {
      "cell_type": "code",
      "source": [
        "print(list(trial_load.values())[5])\n",
        "print(list(trial_load.keys())[5])\n",
        "trial_2 = trial_load.copy()\n",
        "print(trial_2)\n",
        "trial_2.update({str(list(trial_load.keys())[5]):20})\n",
        "print(trial_2)"
      ],
      "metadata": {
        "colab": {
          "base_uri": "https://localhost:8080/"
        },
        "id": "byvXmYOdP-9b",
        "outputId": "bb437b29-ae5f-46e7-d7b7-7e5b1a132649"
      },
      "id": "byvXmYOdP-9b",
      "execution_count": 92,
      "outputs": [
        {
          "output_type": "stream",
          "name": "stdout",
          "text": [
            "4\n",
            "Cranberry\n",
            "{'Apple': 2, 'Apricot': 43, 'Blueberry': 4, 'Cactus Fruit': 43, 'Cherry': 14, 'Cranberry': 4, 'Grape': 20, 'Melon': 29, 'Orange': 36, 'Peach': 24, 'Pomegranate': 2, 'Rhubarb': 49, 'Starfruit': 0, 'Strawberry': 18, 'Amaranth': 19, 'Artichoke': 33, 'Beet': 27, 'Bok Choy': 24, 'Cauliflower': 14, 'Corn': 18, 'Eggplant': 87, 'Garlic': 3, 'Green Bean': 6, 'Hops': 55, 'Hot Pepper': 14, 'Kale': 2, 'Parsnip': 7, 'Potato': 40, 'Pumpkin': 10, 'Radish': 36, 'Red Cabbage': 40, 'Tomato': 23, 'Wheat': 1, 'Yam': 9, 'Blackberry': 34}\n",
            "{'Apple': 2, 'Apricot': 43, 'Blueberry': 4, 'Cactus Fruit': 43, 'Cherry': 14, 'Cranberry': 20, 'Grape': 20, 'Melon': 29, 'Orange': 36, 'Peach': 24, 'Pomegranate': 2, 'Rhubarb': 49, 'Starfruit': 0, 'Strawberry': 18, 'Amaranth': 19, 'Artichoke': 33, 'Beet': 27, 'Bok Choy': 24, 'Cauliflower': 14, 'Corn': 18, 'Eggplant': 87, 'Garlic': 3, 'Green Bean': 6, 'Hops': 55, 'Hot Pepper': 14, 'Kale': 2, 'Parsnip': 7, 'Potato': 40, 'Pumpkin': 10, 'Radish': 36, 'Red Cabbage': 40, 'Tomato': 23, 'Wheat': 1, 'Yam': 9, 'Blackberry': 34}\n"
          ]
        }
      ]
    },
    {
      "cell_type": "code",
      "execution_count": 93,
      "id": "e9538ac0",
      "metadata": {
        "colab": {
          "base_uri": "https://localhost:8080/"
        },
        "id": "e9538ac0",
        "outputId": "b681c335-e019-4d43-e24f-862ff72062a3"
      },
      "outputs": [
        {
          "output_type": "execute_result",
          "data": {
            "text/plain": [
              "686.5999999999999"
            ]
          },
          "metadata": {},
          "execution_count": 93
        }
      ],
      "source": [
        "evaluate(trial_load, stock, weight, price)"
      ]
    },
    {
      "cell_type": "markdown",
      "id": "b49edb3c",
      "metadata": {
        "id": "b49edb3c"
      },
      "source": [
        "## Challenge 1\n",
        "\n",
        "Use a stochastic algorithm to find the configuration of crops that maximizes profit while respecting the constraints of the weight limit and stock. You can use any of the class code or a library like `pymoo`. You should create a reasonable representation for the problem and appropriate modification functions like mutation and crossover. You can also modify the evaluation function, as long as your final solution is valid according to the weight and stock constraints.\n",
        "\n",
        "Include your code for optimization, any visualizations of the optimization process, as well as code to show the final market load and profit gained. Can you beat the random trial load profits?\n",
        "\n",
        "Hint: this is a constrained case of the [knapsack problem](https://en.wikipedia.org/wiki/Knapsack_problem)"
      ]
    },
    {
      "cell_type": "code",
      "source": [
        "n_population = 100\n",
        "population_trail_load = []\n",
        "\n",
        "for i in range(n_population):\n",
        "    trial_load = {}\n",
        "    for k in stock:\n",
        "        trial_load[k] = np.random.randint(0, stock[k])\n",
        "    population_trail_load.append(trial_load)\n",
        "#trial_load\n",
        "len(population_trail_load)\n",
        "print(population_trail_load[20])\n",
        "print(type(population_trail_load[20]))\n",
        "\n",
        "print(len(population_trail_load))"
      ],
      "metadata": {
        "colab": {
          "base_uri": "https://localhost:8080/"
        },
        "id": "C1EwhrvG9D8p",
        "outputId": "f0827c4d-3882-4e0a-989f-406050577154"
      },
      "id": "C1EwhrvG9D8p",
      "execution_count": 222,
      "outputs": [
        {
          "output_type": "stream",
          "name": "stdout",
          "text": [
            "{'Apple': 3, 'Apricot': 51, 'Blueberry': 3, 'Cactus Fruit': 82, 'Cherry': 10, 'Cranberry': 22, 'Grape': 6, 'Melon': 32, 'Orange': 29, 'Peach': 18, 'Pomegranate': 4, 'Rhubarb': 45, 'Starfruit': 1, 'Strawberry': 15, 'Amaranth': 0, 'Artichoke': 38, 'Beet': 19, 'Bok Choy': 17, 'Cauliflower': 68, 'Corn': 8, 'Eggplant': 76, 'Garlic': 24, 'Green Bean': 39, 'Hops': 16, 'Hot Pepper': 7, 'Kale': 2, 'Parsnip': 4, 'Potato': 25, 'Pumpkin': 21, 'Radish': 18, 'Red Cabbage': 18, 'Tomato': 60, 'Wheat': 35, 'Yam': 12, 'Blackberry': 56}\n",
            "<class 'dict'>\n",
            "100\n"
          ]
        }
      ]
    },
    {
      "cell_type": "code",
      "source": [
        "def evaluate_population(population):\n",
        "    fit = []\n",
        "    for i in range(len(population)):\n",
        "        prix = evaluate(population[i], stock, weight, price)\n",
        "        fit.append(prix)\n",
        "    return fit"
      ],
      "metadata": {
        "id": "ZSv_yHG3V2AL"
      },
      "id": "ZSv_yHG3V2AL",
      "execution_count": 129,
      "outputs": []
    },
    {
      "cell_type": "code",
      "source": [
        "fitness = evaluate_population(population_trail_load)\n",
        "print(fitness)"
      ],
      "metadata": {
        "colab": {
          "base_uri": "https://localhost:8080/"
        },
        "id": "9Xi01UzWX0W7",
        "outputId": "8fcc817a-38f5-43fa-c4b2-d016da02c6b0"
      },
      "id": "9Xi01UzWX0W7",
      "execution_count": 223,
      "outputs": [
        {
          "output_type": "stream",
          "name": "stdout",
          "text": [
            "[686.9500000000002, 615.3000000000001, 763.5999999999999, 704.2500000000001, 727.3000000000001, 0, 807.1500000000002, 551.4, 844.25, 836.0999999999999, 738.3500000000001, 530.4999999999999, 563.05, 602.1, 538.7, 585.6499999999999, 612.05, 608.3500000000001, 650.45, 811.6999999999999, 755.3500000000001, 814.8500000000001, 588.35, 689.8, 842.3999999999999, 779.9000000000001, 709.9000000000001, 601.5999999999999, 734.6, 703.4000000000002, 673.8499999999999, 765.5499999999997, 695.2999999999997, 720.0500000000002, 609.7, 711.8000000000001, 811.5500000000002, 686.7499999999998, 801.85, 0, 768.2, 738.65, 699.1, 718.5500000000002, 693.6500000000001, 695.9999999999999, 722.9499999999999, 867.4500000000002, 841.35, 775.8, 0, 0, 627.6000000000001, 729.5, 744.5000000000002, 733.4499999999998, 864.6999999999999, 688.7499999999999, 832.9500000000002, 718.35, 696.9000000000002, 800.7, 819.7000000000002, 687.4499999999998, 0, 622.1000000000001, 657.3, 631.5000000000001, 504.00000000000006, 764.8499999999999, 557.6499999999999, 732.85, 500.2, 698.5999999999999, 715.35, 727.5000000000001, 683.3000000000002, 749.55, 585.5999999999999, 645.8999999999999, 635.1499999999999, 816.0, 710.5499999999997, 0, 657.8499999999999, 767.2499999999999, 678.45, 714.0999999999998, 762.25, 611.5500000000001, 0, 740.6499999999999, 707.8500000000001, 745.0, 582.6000000000001, 683.3500000000003, 734.2500000000001, 0, 757.1500000000001, 714.0]\n"
          ]
        }
      ]
    },
    {
      "cell_type": "code",
      "source": [
        "def fp_selection(population, fitness):\n",
        "    m = max(fitness)\n",
        "    p = np.zeros(len(fitness))\n",
        "    for i in range(len(fitness)):\n",
        "        p[i] = (m - fitness[i])\n",
        "    p /= sum(p)\n",
        "    rng = np.random.default_rng()\n",
        "    n = len(population)\n",
        "    #continueSelection = True\n",
        "    '''\n",
        "    while(continueSelection):\n",
        "        ind = rng.choice(n, p=p)\n",
        "        #print(ind)\n",
        "        if(fitness[ind] != 0):\n",
        "           continueSelection = False\n",
        "    '''\n",
        "    ind = rng.choice(n, p=p)\n",
        "    return population[ind], fitness[ind]"
      ],
      "metadata": {
        "id": "yPd9dDl9XKj6"
      },
      "id": "yPd9dDl9XKj6",
      "execution_count": 250,
      "outputs": []
    },
    {
      "cell_type": "code",
      "source": [
        "fp_fits = np.zeros(20)\n",
        "for i in range(20):\n",
        "    p, f = fp_selection(population_trail_load, fitness)\n",
        "    fp_fits[i] = f\n",
        "plt.hist(fitness, color='k')\n",
        "#plt.hist(efit, color='b')\n",
        "plt.hist(fp_fits, color='r');\n",
        "print(fp_fits.size)"
      ],
      "metadata": {
        "colab": {
          "base_uri": "https://localhost:8080/",
          "height": 283
        },
        "id": "iMa7wWAvXb8L",
        "outputId": "2a800db3-7651-4712-a081-e62143890b98"
      },
      "id": "iMa7wWAvXb8L",
      "execution_count": 145,
      "outputs": [
        {
          "output_type": "stream",
          "name": "stdout",
          "text": [
            "20\n"
          ]
        },
        {
          "output_type": "display_data",
          "data": {
            "text/plain": [
              "<Figure size 432x288 with 1 Axes>"
            ],
            "image/png": "[encoded data removed]"
          },
          "metadata": {
            "needs_background": "light"
          }
        }
      ]
    },
    {
      "cell_type": "code",
      "source": [
        "def truncation_selection(population, fitness, p=0.2):\n",
        "    n_elites = len(population) - int(np.floor(len(population) * p))\n",
        "    #print(n_elites)\n",
        "    elites = np.argsort(np.array(fitness))[n_elites:]\n",
        "    selected_pop, selected_fitness = [], []\n",
        "    for index in elites:\n",
        "        selected_pop.append(population[index])\n",
        "        selected_fitness.append(fitness[index])\n",
        "    return selected_pop, selected_fitness"
      ],
      "metadata": {
        "id": "jb6ZF_lpdliG"
      },
      "id": "jb6ZF_lpdliG",
      "execution_count": 169,
      "outputs": []
    },
    {
      "cell_type": "code",
      "source": [
        "p_elites, efit = truncation_selection(population_trail_load, fitness)\n",
        "plt.hist(fitness, color='k')\n",
        "plt.hist(efit, color='b');\n",
        "print('elites',p_elites,len(p_elites))\n",
        "print(len(p_elites), len(efit), len(population_trail_load), len(fitness))"
      ],
      "metadata": {
        "colab": {
          "base_uri": "https://localhost:8080/",
          "height": 337
        },
        "id": "07X_3WOAeOik",
        "outputId": "4e686aa8-09d4-417c-8454-23c707093ac7"
      },
      "id": "07X_3WOAeOik",
      "execution_count": 159,
      "outputs": [
        {
          "output_type": "stream",
          "name": "stdout",
          "text": [
            "80\n",
            "elites [{'Apple': 2, 'Apricot': 34, 'Blueberry': 3, 'Cactus Fruit': 80, 'Cherry': 1, 'Cranberry': 28, 'Grape': 62, 'Melon': 18, 'Orange': 9, 'Peach': 49, 'Pomegranate': 4, 'Rhubarb': 46, 'Starfruit': 4, 'Strawberry': 19, 'Amaranth': 4, 'Artichoke': 39, 'Beet': 14, 'Bok Choy': 52, 'Cauliflower': 2, 'Corn': 7, 'Eggplant': 85, 'Garlic': 18, 'Green Bean': 16, 'Hops': 71, 'Hot Pepper': 2, 'Kale': 2, 'Parsnip': 3, 'Potato': 51, 'Pumpkin': 12, 'Radish': 0, 'Red Cabbage': 50, 'Tomato': 7, 'Wheat': 16, 'Yam': 7, 'Blackberry': 1}, {'Apple': 2, 'Apricot': 8, 'Blueberry': 3, 'Cactus Fruit': 17, 'Cherry': 8, 'Cranberry': 34, 'Grape': 47, 'Melon': 4, 'Orange': 33, 'Peach': 38, 'Pomegranate': 2, 'Rhubarb': 45, 'Starfruit': 0, 'Strawberry': 5, 'Amaranth': 14, 'Artichoke': 33, 'Beet': 12, 'Bok Choy': 29, 'Cauliflower': 29, 'Corn': 85, 'Eggplant': 79, 'Garlic': 66, 'Green Bean': 7, 'Hops': 27, 'Hot Pepper': 20, 'Kale': 4, 'Parsnip': 4, 'Potato': 23, 'Pumpkin': 16, 'Radish': 43, 'Red Cabbage': 16, 'Tomato': 39, 'Wheat': 17, 'Yam': 13, 'Blackberry': 56}, {'Apple': 3, 'Apricot': 18, 'Blueberry': 0, 'Cactus Fruit': 42, 'Cherry': 4, 'Cranberry': 3, 'Grape': 64, 'Melon': 27, 'Orange': 36, 'Peach': 1, 'Pomegranate': 3, 'Rhubarb': 8, 'Starfruit': 2, 'Strawberry': 3, 'Amaranth': 7, 'Artichoke': 6, 'Beet': 12, 'Bok Choy': 30, 'Cauliflower': 37, 'Corn': 78, 'Eggplant': 88, 'Garlic': 44, 'Green Bean': 40, 'Hops': 32, 'Hot Pepper': 24, 'Kale': 3, 'Parsnip': 4, 'Potato': 22, 'Pumpkin': 11, 'Radish': 34, 'Red Cabbage': 35, 'Tomato': 19, 'Wheat': 27, 'Yam': 21, 'Blackberry': 19}, {'Apple': 4, 'Apricot': 62, 'Blueberry': 1, 'Cactus Fruit': 87, 'Cherry': 5, 'Cranberry': 15, 'Grape': 45, 'Melon': 18, 'Orange': 19, 'Peach': 3, 'Pomegranate': 0, 'Rhubarb': 7, 'Starfruit': 2, 'Strawberry': 11, 'Amaranth': 14, 'Artichoke': 21, 'Beet': 25, 'Bok Choy': 10, 'Cauliflower': 64, 'Corn': 66, 'Eggplant': 26, 'Garlic': 2, 'Green Bean': 52, 'Hops': 51, 'Hot Pepper': 12, 'Kale': 3, 'Parsnip': 4, 'Potato': 24, 'Pumpkin': 16, 'Radish': 5, 'Red Cabbage': 15, 'Tomato': 3, 'Wheat': 48, 'Yam': 19, 'Blackberry': 44}, {'Apple': 0, 'Apricot': 9, 'Blueberry': 4, 'Cactus Fruit': 17, 'Cherry': 13, 'Cranberry': 4, 'Grape': 56, 'Melon': 72, 'Orange': 31, 'Peach': 22, 'Pomegranate': 0, 'Rhubarb': 3, 'Starfruit': 2, 'Strawberry': 11, 'Amaranth': 8, 'Artichoke': 35, 'Beet': 28, 'Bok Choy': 51, 'Cauliflower': 63, 'Corn': 76, 'Eggplant': 53, 'Garlic': 58, 'Green Bean': 54, 'Hops': 58, 'Hot Pepper': 1, 'Kale': 0, 'Parsnip': 5, 'Potato': 45, 'Pumpkin': 11, 'Radish': 4, 'Red Cabbage': 29, 'Tomato': 28, 'Wheat': 67, 'Yam': 38, 'Blackberry': 21}, {'Apple': 4, 'Apricot': 3, 'Blueberry': 3, 'Cactus Fruit': 8, 'Cherry': 8, 'Cranberry': 53, 'Grape': 43, 'Melon': 8, 'Orange': 33, 'Peach': 43, 'Pomegranate': 2, 'Rhubarb': 16, 'Starfruit': 0, 'Strawberry': 14, 'Amaranth': 14, 'Artichoke': 56, 'Beet': 8, 'Bok Choy': 34, 'Cauliflower': 68, 'Corn': 69, 'Eggplant': 76, 'Garlic': 13, 'Green Bean': 29, 'Hops': 4, 'Hot Pepper': 17, 'Kale': 4, 'Parsnip': 2, 'Potato': 31, 'Pumpkin': 25, 'Radish': 32, 'Red Cabbage': 11, 'Tomato': 19, 'Wheat': 73, 'Yam': 6, 'Blackberry': 39}, {'Apple': 4, 'Apricot': 40, 'Blueberry': 4, 'Cactus Fruit': 38, 'Cherry': 4, 'Cranberry': 58, 'Grape': 52, 'Melon': 2, 'Orange': 32, 'Peach': 27, 'Pomegranate': 0, 'Rhubarb': 30, 'Starfruit': 1, 'Strawberry': 2, 'Amaranth': 2, 'Artichoke': 52, 'Beet': 15, 'Bok Choy': 42, 'Cauliflower': 66, 'Corn': 50, 'Eggplant': 7, 'Garlic': 3, 'Green Bean': 1, 'Hops': 52, 'Hot Pepper': 1, 'Kale': 2, 'Parsnip': 6, 'Potato': 54, 'Pumpkin': 20, 'Radish': 9, 'Red Cabbage': 12, 'Tomato': 12, 'Wheat': 72, 'Yam': 30, 'Blackberry': 58}, {'Apple': 1, 'Apricot': 42, 'Blueberry': 0, 'Cactus Fruit': 48, 'Cherry': 11, 'Cranberry': 40, 'Grape': 41, 'Melon': 19, 'Orange': 2, 'Peach': 25, 'Pomegranate': 4, 'Rhubarb': 68, 'Starfruit': 0, 'Strawberry': 2, 'Amaranth': 18, 'Artichoke': 51, 'Beet': 12, 'Bok Choy': 41, 'Cauliflower': 6, 'Corn': 78, 'Eggplant': 87, 'Garlic': 65, 'Green Bean': 23, 'Hops': 56, 'Hot Pepper': 6, 'Kale': 3, 'Parsnip': 4, 'Potato': 37, 'Pumpkin': 13, 'Radish': 1, 'Red Cabbage': 13, 'Tomato': 34, 'Wheat': 47, 'Yam': 14, 'Blackberry': 48}, {'Apple': 0, 'Apricot': 27, 'Blueberry': 2, 'Cactus Fruit': 21, 'Cherry': 11, 'Cranberry': 65, 'Grape': 56, 'Melon': 9, 'Orange': 29, 'Peach': 2, 'Pomegranate': 4, 'Rhubarb': 15, 'Starfruit': 3, 'Strawberry': 8, 'Amaranth': 5, 'Artichoke': 12, 'Beet': 20, 'Bok Choy': 21, 'Cauliflower': 63, 'Corn': 29, 'Eggplant': 83, 'Garlic': 60, 'Green Bean': 13, 'Hops': 44, 'Hot Pepper': 12, 'Kale': 0, 'Parsnip': 0, 'Potato': 19, 'Pumpkin': 2, 'Radish': 36, 'Red Cabbage': 37, 'Tomato': 29, 'Wheat': 1, 'Yam': 34, 'Blackberry': 48}, {'Apple': 0, 'Apricot': 18, 'Blueberry': 0, 'Cactus Fruit': 73, 'Cherry': 12, 'Cranberry': 30, 'Grape': 36, 'Melon': 69, 'Orange': 9, 'Peach': 26, 'Pomegranate': 4, 'Rhubarb': 50, 'Starfruit': 3, 'Strawberry': 10, 'Amaranth': 19, 'Artichoke': 9, 'Beet': 14, 'Bok Choy': 31, 'Cauliflower': 15, 'Corn': 57, 'Eggplant': 42, 'Garlic': 6, 'Green Bean': 37, 'Hops': 46, 'Hot Pepper': 20, 'Kale': 2, 'Parsnip': 5, 'Potato': 30, 'Pumpkin': 10, 'Radish': 5, 'Red Cabbage': 16, 'Tomato': 48, 'Wheat': 27, 'Yam': 24, 'Blackberry': 21}, {'Apple': 1, 'Apricot': 48, 'Blueberry': 1, 'Cactus Fruit': 20, 'Cherry': 13, 'Cranberry': 24, 'Grape': 66, 'Melon': 54, 'Orange': 20, 'Peach': 3, 'Pomegranate': 1, 'Rhubarb': 50, 'Starfruit': 1, 'Strawberry': 4, 'Amaranth': 17, 'Artichoke': 48, 'Beet': 15, 'Bok Choy': 34, 'Cauliflower': 53, 'Corn': 41, 'Eggplant': 40, 'Garlic': 66, 'Green Bean': 34, 'Hops': 0, 'Hot Pepper': 17, 'Kale': 4, 'Parsnip': 2, 'Potato': 13, 'Pumpkin': 10, 'Radish': 39, 'Red Cabbage': 12, 'Tomato': 30, 'Wheat': 22, 'Yam': 4, 'Blackberry': 29}, {'Apple': 1, 'Apricot': 9, 'Blueberry': 2, 'Cactus Fruit': 19, 'Cherry': 12, 'Cranberry': 51, 'Grape': 60, 'Melon': 7, 'Orange': 39, 'Peach': 18, 'Pomegranate': 3, 'Rhubarb': 30, 'Starfruit': 2, 'Strawberry': 17, 'Amaranth': 16, 'Artichoke': 2, 'Beet': 13, 'Bok Choy': 33, 'Cauliflower': 42, 'Corn': 43, 'Eggplant': 17, 'Garlic': 36, 'Green Bean': 46, 'Hops': 59, 'Hot Pepper': 2, 'Kale': 0, 'Parsnip': 9, 'Potato': 14, 'Pumpkin': 0, 'Radish': 28, 'Red Cabbage': 53, 'Tomato': 62, 'Wheat': 41, 'Yam': 10, 'Blackberry': 9}, {'Apple': 3, 'Apricot': 37, 'Blueberry': 0, 'Cactus Fruit': 22, 'Cherry': 9, 'Cranberry': 73, 'Grape': 36, 'Melon': 34, 'Orange': 18, 'Peach': 51, 'Pomegranate': 4, 'Rhubarb': 33, 'Starfruit': 2, 'Strawberry': 9, 'Amaranth': 18, 'Artichoke': 57, 'Beet': 16, 'Bok Choy': 10, 'Cauliflower': 25, 'Corn': 83, 'Eggplant': 81, 'Garlic': 10, 'Green Bean': 29, 'Hops': 70, 'Hot Pepper': 17, 'Kale': 0, 'Parsnip': 5, 'Potato': 18, 'Pumpkin': 21, 'Radish': 23, 'Red Cabbage': 26, 'Tomato': 37, 'Wheat': 46, 'Yam': 49, 'Blackberry': 69}, {'Apple': 2, 'Apricot': 40, 'Blueberry': 1, 'Cactus Fruit': 16, 'Cherry': 7, 'Cranberry': 31, 'Grape': 24, 'Melon': 62, 'Orange': 38, 'Peach': 52, 'Pomegranate': 4, 'Rhubarb': 41, 'Starfruit': 0, 'Strawberry': 0, 'Amaranth': 9, 'Artichoke': 16, 'Beet': 29, 'Bok Choy': 9, 'Cauliflower': 66, 'Corn': 56, 'Eggplant': 91, 'Garlic': 35, 'Green Bean': 33, 'Hops': 65, 'Hot Pepper': 10, 'Kale': 2, 'Parsnip': 3, 'Potato': 21, 'Pumpkin': 24, 'Radish': 32, 'Red Cabbage': 32, 'Tomato': 56, 'Wheat': 20, 'Yam': 18, 'Blackberry': 31}, {'Apple': 1, 'Apricot': 36, 'Blueberry': 2, 'Cactus Fruit': 65, 'Cherry': 7, 'Cranberry': 65, 'Grape': 3, 'Melon': 24, 'Orange': 21, 'Peach': 27, 'Pomegranate': 2, 'Rhubarb': 65, 'Starfruit': 1, 'Strawberry': 13, 'Amaranth': 4, 'Artichoke': 18, 'Beet': 16, 'Bok Choy': 5, 'Cauliflower': 4, 'Corn': 4, 'Eggplant': 78, 'Garlic': 11, 'Green Bean': 11, 'Hops': 35, 'Hot Pepper': 16, 'Kale': 3, 'Parsnip': 9, 'Potato': 42, 'Pumpkin': 6, 'Radish': 10, 'Red Cabbage': 29, 'Tomato': 34, 'Wheat': 60, 'Yam': 12, 'Blackberry': 12}, {'Apple': 4, 'Apricot': 34, 'Blueberry': 4, 'Cactus Fruit': 32, 'Cherry': 3, 'Cranberry': 2, 'Grape': 22, 'Melon': 49, 'Orange': 3, 'Peach': 7, 'Pomegranate': 3, 'Rhubarb': 23, 'Starfruit': 3, 'Strawberry': 4, 'Amaranth': 11, 'Artichoke': 32, 'Beet': 28, 'Bok Choy': 38, 'Cauliflower': 25, 'Corn': 52, 'Eggplant': 29, 'Garlic': 50, 'Green Bean': 53, 'Hops': 65, 'Hot Pepper': 8, 'Kale': 1, 'Parsnip': 7, 'Potato': 19, 'Pumpkin': 23, 'Radish': 34, 'Red Cabbage': 37, 'Tomato': 38, 'Wheat': 33, 'Yam': 42, 'Blackberry': 29}, {'Apple': 1, 'Apricot': 41, 'Blueberry': 3, 'Cactus Fruit': 13, 'Cherry': 13, 'Cranberry': 60, 'Grape': 51, 'Melon': 3, 'Orange': 14, 'Peach': 27, 'Pomegranate': 4, 'Rhubarb': 53, 'Starfruit': 4, 'Strawberry': 6, 'Amaranth': 2, 'Artichoke': 32, 'Beet': 19, 'Bok Choy': 29, 'Cauliflower': 35, 'Corn': 53, 'Eggplant': 24, 'Garlic': 4, 'Green Bean': 10, 'Hops': 1, 'Hot Pepper': 2, 'Kale': 2, 'Parsnip': 4, 'Potato': 49, 'Pumpkin': 7, 'Radish': 41, 'Red Cabbage': 0, 'Tomato': 11, 'Wheat': 45, 'Yam': 36, 'Blackberry': 37}, {'Apple': 1, 'Apricot': 45, 'Blueberry': 3, 'Cactus Fruit': 19, 'Cherry': 7, 'Cranberry': 4, 'Grape': 5, 'Melon': 39, 'Orange': 18, 'Peach': 7, 'Pomegranate': 0, 'Rhubarb': 62, 'Starfruit': 3, 'Strawberry': 2, 'Amaranth': 2, 'Artichoke': 14, 'Beet': 24, 'Bok Choy': 20, 'Cauliflower': 47, 'Corn': 33, 'Eggplant': 5, 'Garlic': 64, 'Green Bean': 26, 'Hops': 38, 'Hot Pepper': 23, 'Kale': 4, 'Parsnip': 2, 'Potato': 23, 'Pumpkin': 27, 'Radish': 21, 'Red Cabbage': 18, 'Tomato': 3, 'Wheat': 19, 'Yam': 20, 'Blackberry': 8}, {'Apple': 0, 'Apricot': 13, 'Blueberry': 2, 'Cactus Fruit': 42, 'Cherry': 5, 'Cranberry': 59, 'Grape': 20, 'Melon': 36, 'Orange': 10, 'Peach': 53, 'Pomegranate': 2, 'Rhubarb': 56, 'Starfruit': 0, 'Strawberry': 8, 'Amaranth': 16, 'Artichoke': 46, 'Beet': 13, 'Bok Choy': 24, 'Cauliflower': 0, 'Corn': 83, 'Eggplant': 83, 'Garlic': 78, 'Green Bean': 24, 'Hops': 29, 'Hot Pepper': 19, 'Kale': 4, 'Parsnip': 9, 'Potato': 32, 'Pumpkin': 22, 'Radish': 36, 'Red Cabbage': 11, 'Tomato': 15, 'Wheat': 14, 'Yam': 16, 'Blackberry': 11}, {'Apple': 3, 'Apricot': 34, 'Blueberry': 3, 'Cactus Fruit': 0, 'Cherry': 5, 'Cranberry': 31, 'Grape': 27, 'Melon': 1, 'Orange': 5, 'Peach': 16, 'Pomegranate': 0, 'Rhubarb': 46, 'Starfruit': 0, 'Strawberry': 1, 'Amaranth': 3, 'Artichoke': 15, 'Beet': 18, 'Bok Choy': 6, 'Cauliflower': 38, 'Corn': 78, 'Eggplant': 16, 'Garlic': 35, 'Green Bean': 4, 'Hops': 74, 'Hot Pepper': 4, 'Kale': 0, 'Parsnip': 3, 'Potato': 5, 'Pumpkin': 26, 'Radish': 26, 'Red Cabbage': 19, 'Tomato': 46, 'Wheat': 8, 'Yam': 43, 'Blackberry': 27}] 20\n",
            "20 20 100 100\n"
          ]
        },
        {
          "output_type": "display_data",
          "data": {
            "text/plain": [
              "<Figure size 432x288 with 1 Axes>"
            ],
            "image/png": "[encoded data removed]"
          },
          "metadata": {
            "needs_background": "light"
          }
        }
      ]
    },
    {
      "cell_type": "code",
      "source": [
        "def tournament_selection(population, fitness, t_size=3):\n",
        "    rng = np.random.default_rng()\n",
        "    tournament = rng.choice(len(population), size=t_size)\n",
        "    #print('tournament',type(tournament))\n",
        "    #print('tournament', tournament)\n",
        "    ind = []\n",
        "    for i in range(len(tournament)):\n",
        "        ind.append(fitness[tournament[i]])\n",
        "    ind = ind.index(max(ind))\n",
        "    return population[ind], fitness[ind]\n"
      ],
      "metadata": {
        "id": "NCthSEBkkRab"
      },
      "id": "NCthSEBkkRab",
      "execution_count": 131,
      "outputs": []
    },
    {
      "cell_type": "code",
      "source": [
        "for j in range(5):\n",
        "    p, f = tournament_selection(population_trail_load, fitness, t_size=3)\n",
        "    print(p)\n",
        "    print(f)"
      ],
      "metadata": {
        "colab": {
          "base_uri": "https://localhost:8080/"
        },
        "id": "scmO5vaX9HlP",
        "outputId": "ebac3092-989c-4379-892c-8f6ceb92d698"
      },
      "id": "scmO5vaX9HlP",
      "execution_count": 120,
      "outputs": [
        {
          "output_type": "stream",
          "name": "stdout",
          "text": [
            "{'Apple': 3, 'Apricot': 22, 'Blueberry': 3, 'Cactus Fruit': 4, 'Cherry': 7, 'Cranberry': 68, 'Grape': 23, 'Melon': 64, 'Orange': 13, 'Peach': 50, 'Pomegranate': 3, 'Rhubarb': 66, 'Starfruit': 0, 'Strawberry': 5, 'Amaranth': 5, 'Artichoke': 61, 'Beet': 24, 'Bok Choy': 19, 'Cauliflower': 65, 'Corn': 0, 'Eggplant': 11, 'Garlic': 8, 'Green Bean': 54, 'Hops': 4, 'Hot Pepper': 2, 'Kale': 1, 'Parsnip': 6, 'Potato': 52, 'Pumpkin': 15, 'Radish': 18, 'Red Cabbage': 30, 'Tomato': 19, 'Wheat': 10, 'Yam': 24, 'Blackberry': 63}\n",
            "826.85\n",
            "{'Apple': 3, 'Apricot': 22, 'Blueberry': 3, 'Cactus Fruit': 4, 'Cherry': 7, 'Cranberry': 68, 'Grape': 23, 'Melon': 64, 'Orange': 13, 'Peach': 50, 'Pomegranate': 3, 'Rhubarb': 66, 'Starfruit': 0, 'Strawberry': 5, 'Amaranth': 5, 'Artichoke': 61, 'Beet': 24, 'Bok Choy': 19, 'Cauliflower': 65, 'Corn': 0, 'Eggplant': 11, 'Garlic': 8, 'Green Bean': 54, 'Hops': 4, 'Hot Pepper': 2, 'Kale': 1, 'Parsnip': 6, 'Potato': 52, 'Pumpkin': 15, 'Radish': 18, 'Red Cabbage': 30, 'Tomato': 19, 'Wheat': 10, 'Yam': 24, 'Blackberry': 63}\n",
            "826.85\n",
            "{'Apple': 3, 'Apricot': 22, 'Blueberry': 3, 'Cactus Fruit': 4, 'Cherry': 7, 'Cranberry': 68, 'Grape': 23, 'Melon': 64, 'Orange': 13, 'Peach': 50, 'Pomegranate': 3, 'Rhubarb': 66, 'Starfruit': 0, 'Strawberry': 5, 'Amaranth': 5, 'Artichoke': 61, 'Beet': 24, 'Bok Choy': 19, 'Cauliflower': 65, 'Corn': 0, 'Eggplant': 11, 'Garlic': 8, 'Green Bean': 54, 'Hops': 4, 'Hot Pepper': 2, 'Kale': 1, 'Parsnip': 6, 'Potato': 52, 'Pumpkin': 15, 'Radish': 18, 'Red Cabbage': 30, 'Tomato': 19, 'Wheat': 10, 'Yam': 24, 'Blackberry': 63}\n",
            "826.85\n",
            "{'Apple': 4, 'Apricot': 30, 'Blueberry': 3, 'Cactus Fruit': 59, 'Cherry': 10, 'Cranberry': 35, 'Grape': 6, 'Melon': 13, 'Orange': 10, 'Peach': 42, 'Pomegranate': 0, 'Rhubarb': 1, 'Starfruit': 1, 'Strawberry': 2, 'Amaranth': 17, 'Artichoke': 0, 'Beet': 8, 'Bok Choy': 9, 'Cauliflower': 57, 'Corn': 68, 'Eggplant': 64, 'Garlic': 84, 'Green Bean': 27, 'Hops': 64, 'Hot Pepper': 18, 'Kale': 3, 'Parsnip': 2, 'Potato': 5, 'Pumpkin': 7, 'Radish': 13, 'Red Cabbage': 0, 'Tomato': 55, 'Wheat': 51, 'Yam': 40, 'Blackberry': 68}\n",
            "644.6\n",
            "{'Apple': 3, 'Apricot': 22, 'Blueberry': 3, 'Cactus Fruit': 4, 'Cherry': 7, 'Cranberry': 68, 'Grape': 23, 'Melon': 64, 'Orange': 13, 'Peach': 50, 'Pomegranate': 3, 'Rhubarb': 66, 'Starfruit': 0, 'Strawberry': 5, 'Amaranth': 5, 'Artichoke': 61, 'Beet': 24, 'Bok Choy': 19, 'Cauliflower': 65, 'Corn': 0, 'Eggplant': 11, 'Garlic': 8, 'Green Bean': 54, 'Hops': 4, 'Hot Pepper': 2, 'Kale': 1, 'Parsnip': 6, 'Potato': 52, 'Pumpkin': 15, 'Radish': 18, 'Red Cabbage': 30, 'Tomato': 19, 'Wheat': 10, 'Yam': 24, 'Blackberry': 63}\n",
            "826.85\n"
          ]
        }
      ]
    },
    {
      "cell_type": "code",
      "source": [
        "def crossover(parent1, parent2):\n",
        "    rng = np.random.default_rng()\n",
        "    x = rng.choice(np.arange(1, np.minimum(len(parent1)-1, len(parent2)-1)))\n",
        "    #print(x)\n",
        "    p1 = toDict(list(parent1.items())[:x])\n",
        "    p2 = toDict(list(parent2.items())[x:])\n",
        "    child = {**p1, **p2}\n",
        "    return child"
      ],
      "metadata": {
        "id": "W2j-WbIGIVFO"
      },
      "id": "W2j-WbIGIVFO",
      "execution_count": 195,
      "outputs": []
    },
    {
      "cell_type": "code",
      "source": [
        "parent1, _ = tournament_selection(population_trail_load, fitness, t_size=3)\n",
        "parent2, _ = tournament_selection(population_trail_load, fitness, t_size=3)\n",
        " \n",
        "print(parent1)\n",
        "print(parent2)\n",
        "print('Child')\n",
        "print(crossover(parent1, parent2))"
      ],
      "metadata": {
        "colab": {
          "base_uri": "https://localhost:8080/"
        },
        "id": "GWo7sD37OusF",
        "outputId": "0414d2b0-51d4-478b-fc84-ca888ed843cc"
      },
      "id": "GWo7sD37OusF",
      "execution_count": 54,
      "outputs": [
        {
          "output_type": "stream",
          "name": "stdout",
          "text": [
            "{'Apple': 0, 'Apricot': 45, 'Blueberry': 1, 'Cactus Fruit': 87, 'Cherry': 13, 'Cranberry': 12, 'Grape': 54, 'Melon': 32, 'Orange': 17, 'Peach': 3, 'Pomegranate': 2, 'Rhubarb': 29, 'Starfruit': 0, 'Strawberry': 9, 'Amaranth': 15, 'Artichoke': 56, 'Beet': 12, 'Bok Choy': 40, 'Cauliflower': 24, 'Corn': 6, 'Eggplant': 68, 'Garlic': 10, 'Green Bean': 39, 'Hops': 65, 'Hot Pepper': 3, 'Kale': 1, 'Parsnip': 9, 'Potato': 28, 'Pumpkin': 1, 'Radish': 10, 'Red Cabbage': 36, 'Tomato': 50, 'Wheat': 46, 'Yam': 45, 'Blackberry': 58}\n",
            "{'Apple': 1, 'Apricot': 56, 'Blueberry': 0, 'Cactus Fruit': 79, 'Cherry': 6, 'Cranberry': 35, 'Grape': 40, 'Melon': 3, 'Orange': 19, 'Peach': 7, 'Pomegranate': 3, 'Rhubarb': 48, 'Starfruit': 1, 'Strawberry': 7, 'Amaranth': 13, 'Artichoke': 50, 'Beet': 16, 'Bok Choy': 7, 'Cauliflower': 48, 'Corn': 58, 'Eggplant': 26, 'Garlic': 59, 'Green Bean': 1, 'Hops': 29, 'Hot Pepper': 6, 'Kale': 1, 'Parsnip': 5, 'Potato': 3, 'Pumpkin': 15, 'Radish': 15, 'Red Cabbage': 17, 'Tomato': 5, 'Wheat': 31, 'Yam': 10, 'Blackberry': 11}\n",
            "Child\n",
            "27\n",
            "{'Apple': 0, 'Apricot': 45, 'Blueberry': 1, 'Cactus Fruit': 87, 'Cherry': 13, 'Cranberry': 12, 'Grape': 54, 'Melon': 32, 'Orange': 17, 'Peach': 3, 'Pomegranate': 2, 'Rhubarb': 29, 'Starfruit': 0, 'Strawberry': 9, 'Amaranth': 15, 'Artichoke': 56, 'Beet': 12, 'Bok Choy': 40, 'Cauliflower': 24, 'Corn': 6, 'Eggplant': 68, 'Garlic': 10, 'Green Bean': 39, 'Hops': 65, 'Hot Pepper': 3, 'Kale': 1, 'Parsnip': 9, 'Potato': 3, 'Pumpkin': 15, 'Radish': 15, 'Red Cabbage': 17, 'Tomato': 5, 'Wheat': 31, 'Yam': 10, 'Blackberry': 11}\n"
          ]
        }
      ]
    },
    {
      "cell_type": "code",
      "source": [
        "def crossover_2(parent1, parent2):\n",
        "    rng = np.random.default_rng()\n",
        "    x = rng.choice(np.arange(1, np.minimum(len(parent1)-1, len(parent2)-1)))\n",
        "    #print(x)\n",
        "    cross_list = list(np.zeros(len(parent1)))\n",
        "    ind_list = random.sample(list(np.arange(len(parent1))),x)\n",
        "    for index in ind_list:\n",
        "        cross_list[index] = 1\n",
        "    #print(cross_list)\n",
        "    child = {}\n",
        "    for i in range(len(parent1)):\n",
        "        if cross_list[i] == 0:\n",
        "            child[list(parent1.keys())[i]] = list(parent1.values())[i]\n",
        "        else:\n",
        "            child[list(parent2.keys())[i]] = list(parent2.values())[i]\n",
        "    return child"
      ],
      "metadata": {
        "id": "tLXrslOQnR9T"
      },
      "id": "tLXrslOQnR9T",
      "execution_count": 237,
      "outputs": []
    },
    {
      "cell_type": "code",
      "source": [
        "parent1, _ = tournament_selection(population_trail_load, fitness, t_size=3)\n",
        "parent2, _ = tournament_selection(population_trail_load, fitness, t_size=3)\n",
        " \n",
        "print(parent1)\n",
        "print(parent2)\n",
        "print('Child')\n",
        "print(crossover_2(parent1, parent2))"
      ],
      "metadata": {
        "colab": {
          "base_uri": "https://localhost:8080/"
        },
        "id": "U_drPi4Bp4eC",
        "outputId": "672a4e70-7f52-4f9f-8d11-a28b9a378242"
      },
      "id": "U_drPi4Bp4eC",
      "execution_count": 233,
      "outputs": [
        {
          "output_type": "stream",
          "name": "stdout",
          "text": [
            "{'Apple': 4, 'Apricot': 61, 'Blueberry': 3, 'Cactus Fruit': 20, 'Cherry': 10, 'Cranberry': 67, 'Grape': 43, 'Melon': 44, 'Orange': 36, 'Peach': 42, 'Pomegranate': 1, 'Rhubarb': 16, 'Starfruit': 2, 'Strawberry': 11, 'Amaranth': 6, 'Artichoke': 22, 'Beet': 9, 'Bok Choy': 51, 'Cauliflower': 64, 'Corn': 80, 'Eggplant': 10, 'Garlic': 27, 'Green Bean': 42, 'Hops': 34, 'Hot Pepper': 4, 'Kale': 4, 'Parsnip': 1, 'Potato': 16, 'Pumpkin': 12, 'Radish': 0, 'Red Cabbage': 26, 'Tomato': 30, 'Wheat': 10, 'Yam': 17, 'Blackberry': 64}\n",
            "{'Apple': 4, 'Apricot': 45, 'Blueberry': 2, 'Cactus Fruit': 39, 'Cherry': 14, 'Cranberry': 71, 'Grape': 43, 'Melon': 48, 'Orange': 17, 'Peach': 40, 'Pomegranate': 2, 'Rhubarb': 37, 'Starfruit': 4, 'Strawberry': 12, 'Amaranth': 12, 'Artichoke': 9, 'Beet': 6, 'Bok Choy': 28, 'Cauliflower': 16, 'Corn': 26, 'Eggplant': 9, 'Garlic': 68, 'Green Bean': 41, 'Hops': 50, 'Hot Pepper': 24, 'Kale': 2, 'Parsnip': 2, 'Potato': 8, 'Pumpkin': 12, 'Radish': 9, 'Red Cabbage': 37, 'Tomato': 17, 'Wheat': 55, 'Yam': 18, 'Blackberry': 18}\n",
            "Child\n",
            "[0.0, 0.0, 0.0, 0.0, 0.0, 0.0, 0.0, 0.0, 0.0, 0.0, 0.0, 0.0, 1, 0.0, 0.0, 1, 0.0, 0.0, 0.0, 0.0, 0.0, 1, 0.0, 0.0, 0.0, 0.0, 0.0, 0.0, 1, 0.0, 0.0, 0.0, 0.0, 0.0, 0.0]\n",
            "{'Apple': 4, 'Apricot': 61, 'Blueberry': 3, 'Cactus Fruit': 20, 'Cherry': 10, 'Cranberry': 67, 'Grape': 43, 'Melon': 44, 'Orange': 36, 'Peach': 42, 'Pomegranate': 1, 'Rhubarb': 16, 'Starfruit': 4, 'Strawberry': 11, 'Amaranth': 6, 'Artichoke': 9, 'Beet': 9, 'Bok Choy': 51, 'Cauliflower': 64, 'Corn': 80, 'Eggplant': 10, 'Garlic': 68, 'Green Bean': 42, 'Hops': 34, 'Hot Pepper': 4, 'Kale': 4, 'Parsnip': 1, 'Potato': 16, 'Pumpkin': 12, 'Radish': 0, 'Red Cabbage': 26, 'Tomato': 30, 'Wheat': 10, 'Yam': 17, 'Blackberry': 64}\n"
          ]
        }
      ]
    },
    {
      "cell_type": "code",
      "source": [
        "'''\n",
        "def mutate(ind):\n",
        "    rng = np.random.default_rng()\n",
        "    continue_mutation = True\n",
        "    while(continue_mutation):\n",
        "        x = rng.choice(len(ind)-1)\n",
        "        #print('x_mutate',x)\n",
        "        if((list(ind.values())[x] < list(stock.values())[x+1]) and\n",
        "           (list(ind.values())[x+1] < list(stock.values())[x])):\n",
        "              child = ind.copy()\n",
        "              child.update({str(list(ind.keys())[x]):list(ind.values())[x+1]})\n",
        "              child.update({str(list(ind.keys())[x+1]):list(ind.values())[x]})\n",
        "              continue_mutation = False\n",
        "    return child\n",
        "'''"
      ],
      "metadata": {
        "id": "Z-Ft-CgDPa7L"
      },
      "id": "Z-Ft-CgDPa7L",
      "execution_count": 127,
      "outputs": []
    },
    {
      "cell_type": "code",
      "source": [
        "def mutate(ind):\n",
        "    rng = np.random.default_rng()\n",
        "    continue_mutation = True\n",
        "    while(continue_mutation):\n",
        "        x = rng.choice(len(ind)-1)\n",
        "        #print('x_mutate',x)\n",
        "        if((list(ind.values())[x]+1 < list(stock.values())[x]) and\n",
        "           (list(ind.values())[x+1]-1 > 0)):\n",
        "              child = ind.copy()\n",
        "              child.update({str(list(ind.keys())[x]):list(ind.values())[x]+1})\n",
        "              child.update({str(list(ind.keys())[x+1]):list(ind.values())[x+1]-1})\n",
        "              continue_mutation = False\n",
        "    return child"
      ],
      "metadata": {
        "id": "ZZp-MPdwhQ5G"
      },
      "id": "ZZp-MPdwhQ5G",
      "execution_count": 269,
      "outputs": []
    },
    {
      "cell_type": "code",
      "source": [
        "parent1, _ = tournament_selection(population_trail_load, fitness, t_size=3)\n",
        "parent2, _ = tournament_selection(population_trail_load, fitness, t_size=3)\n",
        "print(parent1)\n",
        "print(parent2)\n",
        "child_1 = crossover(parent1, parent2)\n",
        "child_1 = mutate(child_1)\n",
        "print(child_1)"
      ],
      "metadata": {
        "colab": {
          "base_uri": "https://localhost:8080/"
        },
        "id": "a9uwrbBYRthz",
        "outputId": "66516804-d7c5-46a7-bb49-6477b914dd9f"
      },
      "id": "a9uwrbBYRthz",
      "execution_count": 191,
      "outputs": [
        {
          "output_type": "stream",
          "name": "stdout",
          "text": [
            "{'Apple': 2, 'Apricot': 24, 'Blueberry': 3, 'Cactus Fruit': 56, 'Cherry': 5, 'Cranberry': 57, 'Grape': 19, 'Melon': 42, 'Orange': 0, 'Peach': 11, 'Pomegranate': 2, 'Rhubarb': 3, 'Starfruit': 3, 'Strawberry': 16, 'Amaranth': 5, 'Artichoke': 35, 'Beet': 6, 'Bok Choy': 16, 'Cauliflower': 19, 'Corn': 27, 'Eggplant': 53, 'Garlic': 68, 'Green Bean': 6, 'Hops': 50, 'Hot Pepper': 1, 'Kale': 0, 'Parsnip': 5, 'Potato': 17, 'Pumpkin': 26, 'Radish': 47, 'Red Cabbage': 33, 'Tomato': 33, 'Wheat': 20, 'Yam': 1, 'Blackberry': 52}\n",
            "{'Apple': 2, 'Apricot': 54, 'Blueberry': 0, 'Cactus Fruit': 71, 'Cherry': 1, 'Cranberry': 45, 'Grape': 37, 'Melon': 23, 'Orange': 27, 'Peach': 9, 'Pomegranate': 3, 'Rhubarb': 57, 'Starfruit': 1, 'Strawberry': 9, 'Amaranth': 0, 'Artichoke': 24, 'Beet': 17, 'Bok Choy': 4, 'Cauliflower': 56, 'Corn': 77, 'Eggplant': 45, 'Garlic': 57, 'Green Bean': 34, 'Hops': 53, 'Hot Pepper': 14, 'Kale': 1, 'Parsnip': 8, 'Potato': 15, 'Pumpkin': 12, 'Radish': 22, 'Red Cabbage': 5, 'Tomato': 57, 'Wheat': 63, 'Yam': 4, 'Blackberry': 41}\n",
            "13\n",
            "x_mutate 24\n",
            "x_mutate 29\n",
            "{'Apple': 2, 'Apricot': 24, 'Blueberry': 3, 'Cactus Fruit': 56, 'Cherry': 5, 'Cranberry': 57, 'Grape': 19, 'Melon': 42, 'Orange': 0, 'Peach': 11, 'Pomegranate': 2, 'Rhubarb': 3, 'Starfruit': 3, 'Strawberry': 9, 'Amaranth': 0, 'Artichoke': 24, 'Beet': 17, 'Bok Choy': 4, 'Cauliflower': 56, 'Corn': 77, 'Eggplant': 45, 'Garlic': 57, 'Green Bean': 34, 'Hops': 53, 'Hot Pepper': 14, 'Kale': 1, 'Parsnip': 8, 'Potato': 15, 'Pumpkin': 12, 'Radish': 23, 'Red Cabbage': 4, 'Tomato': 57, 'Wheat': 63, 'Yam': 4, 'Blackberry': 41}\n"
          ]
        }
      ]
    },
    {
      "cell_type": "code",
      "source": [
        "def ga_step(population):\n",
        "    fitness = evaluate_population(population)\n",
        "    fp_fits = np.zeros(20)\n",
        "    next_pop, _ = truncation_selection(population, fitness)\n",
        "    '''\n",
        "    next_pop = []\n",
        "    for i in range(20):\n",
        "        p, f = fp_selection(population_trail_load, fitness)\n",
        "        next_pop.append(p)\n",
        "        fp_fits[i] = f\n",
        "    '''\n",
        "    while len(next_pop) < len(population):\n",
        "        parent1, _ = tournament_selection(population, fitness)\n",
        "        parent2, _ = tournament_selection(population, fitness)\n",
        "        #child = crossover(parent1, parent2)\n",
        "        child = crossover_2(parent1, parent2)\n",
        "        child = mutate(child)\n",
        "        next_pop.append(child)\n",
        "    next_fitness = evaluate_population(next_pop)\n",
        "    return next_pop, next_fitness"
      ],
      "metadata": {
        "id": "kYZywVzyVqBW"
      },
      "id": "kYZywVzyVqBW",
      "execution_count": 284,
      "outputs": []
    },
    {
      "cell_type": "code",
      "source": [
        "n_population = 100\n",
        "population_trail_load = []\n",
        "\n",
        "for i in range(n_population):\n",
        "    trial_load = {}\n",
        "    for k in stock:\n",
        "        trial_load[k] = np.random.randint(0, stock[k])\n",
        "    population_trail_load.append(trial_load)\n",
        "\n",
        "fitness = evaluate_population(population_trail_load)\n",
        "\n"
      ],
      "metadata": {
        "id": "9dGQXJxEbWuB"
      },
      "id": "9dGQXJxEbWuB",
      "execution_count": 285,
      "outputs": []
    },
    {
      "cell_type": "code",
      "source": [
        "n_gen = 1000\n",
        "maxfit = np.zeros(n_gen)\n",
        "for i in range(n_gen):\n",
        "    population_trail_load, fitness = ga_step(population_trail_load)\n",
        "    maxfit[i] = np.max(fitness)\n",
        "    if (i > 2) and (maxfit[i] > maxfit[i-1]):\n",
        "        print(i, maxfit[i])"
      ],
      "metadata": {
        "colab": {
          "base_uri": "https://localhost:8080/"
        },
        "id": "BoRK-TGWbMPE",
        "outputId": "937e78cf-9f52-40c8-c992-4ec68a765ec4"
      },
      "id": "BoRK-TGWbMPE",
      "execution_count": 286,
      "outputs": [
        {
          "output_type": "stream",
          "name": "stdout",
          "text": [
            "3 908.4499999999999\n",
            "5 924.05\n",
            "7 973.9000000000001\n",
            "13 982.6999999999999\n",
            "16 1048.2\n",
            "32 1052.65\n",
            "33 1062.2\n",
            "44 1065.45\n",
            "49 1069.3\n",
            "50 1070.5999999999997\n",
            "51 1072.95\n",
            "53 1074.7000000000003\n",
            "55 1077.3\n",
            "60 1077.5000000000002\n",
            "62 1078.2\n",
            "63 1079.15\n",
            "64 1080.4\n",
            "69 1081.3999999999999\n",
            "73 1081.7\n",
            "75 1081.85\n",
            "78 1082.2\n",
            "79 1083.0\n",
            "80 1083.05\n",
            "81 1083.8000000000002\n",
            "84 1084.2\n",
            "85 1084.75\n",
            "90 1085.3999999999999\n",
            "93 1085.5500000000002\n",
            "94 1085.75\n",
            "95 1085.9\n",
            "96 1086.75\n",
            "98 1087.1000000000001\n",
            "100 1087.15\n",
            "102 1088.5500000000002\n",
            "105 1088.65\n",
            "106 1088.95\n",
            "107 1089.3\n",
            "109 1090.5000000000002\n",
            "114 1091.2500000000002\n",
            "117 1092.55\n",
            "119 1092.5500000000002\n",
            "123 1092.6000000000001\n",
            "124 1093.3500000000001\n",
            "126 1094.65\n",
            "134 1095.7\n",
            "138 1095.8500000000001\n",
            "141 1096.65\n",
            "145 1097.9\n",
            "147 1098.0\n",
            "152 1098.7500000000002\n",
            "166 1099.0\n",
            "167 1099.45\n",
            "169 1099.65\n",
            "175 1099.7\n",
            "176 1100.15\n",
            "179 1100.2\n",
            "181 1100.7\n",
            "189 1101.05\n",
            "195 1102.1000000000001\n",
            "200 1102.45\n",
            "208 1102.9499999999998\n",
            "224 1103.1\n",
            "225 1104.15\n",
            "230 1104.35\n",
            "231 1104.55\n",
            "232 1105.25\n",
            "243 1105.7\n",
            "251 1105.95\n",
            "253 1106.15\n",
            "262 1106.4\n"
          ]
        }
      ]
    },
    {
      "cell_type": "markdown",
      "id": "1db64ad0",
      "metadata": {
        "id": "1db64ad0"
      },
      "source": [
        "## Challenge 2\n"
      ]
    },
    {
      "cell_type": "markdown",
      "id": "ad10e8aa",
      "metadata": {
        "id": "ad10e8aa"
      },
      "source": [
        "The agricultural market in this world is highly variable. This time, you'll be selling your load to a reseller, but you're not sure which one. Each reseller has different prices, so it depends on which one you'll meet. To be prepared, you should explore the possible options."
      ]
    },
    {
      "cell_type": "code",
      "execution_count": 12,
      "id": "6f1fb98d",
      "metadata": {
        "id": "6f1fb98d"
      },
      "outputs": [],
      "source": [
        "price_a = df['price_A'].to_dict()\n",
        "price_b = df['price_B'].to_dict()\n",
        "price_c = df['price_C'].to_dict()"
      ]
    },
    {
      "cell_type": "code",
      "execution_count": null,
      "id": "c2b295f9",
      "metadata": {
        "colab": {
          "base_uri": "https://localhost:8080/"
        },
        "id": "c2b295f9",
        "outputId": "d2b6d497-15e7-4d78-c9a1-a508bd0406c7"
      },
      "outputs": [
        {
          "output_type": "execute_result",
          "data": {
            "text/plain": [
              "(0.8, 0.4, 1.1)"
            ]
          },
          "metadata": {},
          "execution_count": 16
        }
      ],
      "source": [
        "price_a['Cherry'], price_b['Cherry'], price_c['Cherry']"
      ]
    },
    {
      "cell_type": "markdown",
      "id": "5ad5ab54",
      "metadata": {
        "id": "5ad5ab54"
      },
      "source": [
        "Given that cherries have very different prices between the different resellers, the example load we made ealier would fetch a wildly different price depending on the reseller:"
      ]
    },
    {
      "cell_type": "code",
      "execution_count": null,
      "id": "8dc3fa44",
      "metadata": {
        "colab": {
          "base_uri": "https://localhost:8080/"
        },
        "id": "8dc3fa44",
        "outputId": "bd7cc7d3-e847-49a7-a6ee-7aa116201fec"
      },
      "outputs": [
        {
          "output_type": "stream",
          "name": "stdout",
          "text": [
            "Total weight 4063\n",
            "Total weight 4063\n",
            "Total weight 4063\n",
            "686.95 348.79999999999995 469.09999999999997\n"
          ]
        }
      ],
      "source": [
        "a = evaluate(trial_load, stock, weight, price_a)\n",
        "b = evaluate(trial_load, stock, weight, price_b)\n",
        "c = evaluate(trial_load, stock, weight, price_c)\n",
        "print(a, b, c)"
      ]
    },
    {
      "cell_type": "markdown",
      "id": "40447192",
      "metadata": {
        "id": "40447192"
      },
      "source": [
        "Prepare four different options for your market day haul: one option that will be good for reseller A, one for reseller B, one for reseller C, and one which would be pretty good for all three. Display these options and compare their different prices."
      ]
    },
    {
      "cell_type": "markdown",
      "id": "8c3ff230",
      "metadata": {
        "id": "8c3ff230"
      },
      "source": [
        "Hint: you can use a multi-objective algorithm to optimize for all three reseller prices at the same time."
      ]
    },
    {
      "cell_type": "markdown",
      "id": "0d026d23",
      "metadata": {
        "id": "0d026d23"
      },
      "source": [
        "## Challenge 3"
      ]
    },
    {
      "cell_type": "markdown",
      "id": "1d7603f4",
      "metadata": {
        "id": "1d7603f4"
      },
      "source": [
        "You decide to preprare some of your crops by making food for the market day. You know a number of recipes and are famous for your delicious fruit pies."
      ]
    },
    {
      "cell_type": "code",
      "execution_count": null,
      "id": "025beabd",
      "metadata": {
        "id": "025beabd"
      },
      "outputs": [],
      "source": [
        "recipes = {'Ratatouille': {'Eggplant': 2, 'Garlic': 2, 'Tomato': 4, 'Hot Pepper': 1},\n",
        " 'Apple Pie': {'Apple': 10, 'Wheat': 5},\n",
        " 'Apricot Pie': {'Apricot': 10, 'Wheat': 5},\n",
        " 'Cherry Pie': {'Cherry': 10, 'Wheat': 5},\n",
        " 'Rhubarb Pie': {'Rhubarb': 10, 'Wheat': 5},\n",
        " 'Strawberry Pie': {'Strawberry': 10, 'Wheat': 5},\n",
        " 'Blackberry Pie': {'Blackberry': 10, 'Wheat': 5},\n",
        " 'Pumpkin Pie': {'Pumpkin': 10, 'Wheat': 5},\n",
        " 'Pizza': {'Tomato': 3, 'Wheat': 2, 'Artichoke': 1},\n",
        " 'Baba Ghanoush': {'Eggplant': 2, 'Garlic': 4},\n",
        " 'Squash Soup': {'Yam': 3, 'Pumpkin': 1},\n",
        " 'Peach Beer': {'Hops': 3, 'Peach': 1},\n",
        " 'Blackberry Beer': {'Hops': 3, 'Blackberry': 1}}"
      ]
    },
    {
      "cell_type": "markdown",
      "id": "1e250a2c",
      "metadata": {
        "id": "1e250a2c"
      },
      "source": [
        "These recipes sell for good prices at each of the resellers:"
      ]
    },
    {
      "cell_type": "code",
      "execution_count": null,
      "id": "7d0bfc4d",
      "metadata": {
        "colab": {
          "base_uri": "https://localhost:8080/",
          "height": 206
        },
        "id": "7d0bfc4d",
        "outputId": "a1e9bb67-2d77-41ee-96b2-86a8d14a25b4"
      },
      "outputs": [
        {
          "output_type": "execute_result",
          "data": {
            "text/plain": [
              "             price_A  price_B  price_C\n",
              "Ratatouille     68.0     13.0     52.0\n",
              "Apple Pie      146.0     84.0    176.0\n",
              "Apricot Pie     81.0     46.0    110.0\n",
              "Cherry Pie     120.0     72.0    176.0\n",
              "Rhubarb Pie    133.0    162.0     98.0"
            ],
            "text/html": [
              "\n",
              "  <div id=\"df-39ca5111-a701-47b5-a899-7a533bd8dece\">\n",
              "    <div class=\"colab-df-container\">\n",
              "      <div>\n",
              "<style scoped>\n",
              "    .dataframe tbody tr th:only-of-type {\n",
              "        vertical-align: middle;\n",
              "    }\n",
              "\n",
              "    .dataframe tbody tr th {\n",
              "        vertical-align: top;\n",
              "    }\n",
              "\n",
              "    .dataframe thead th {\n",
              "        text-align: right;\n",
              "    }\n",
              "</style>\n",
              "<table border=\"1\" class=\"dataframe\">\n",
              "  <thead>\n",
              "    <tr style=\"text-align: right;\">\n",
              "      <th></th>\n",
              "      <th>price_A</th>\n",
              "      <th>price_B</th>\n",
              "      <th>price_C</th>\n",
              "    </tr>\n",
              "  </thead>\n",
              "  <tbody>\n",
              "    <tr>\n",
              "      <th>Ratatouille</th>\n",
              "      <td>68.0</td>\n",
              "      <td>13.0</td>\n",
              "      <td>52.0</td>\n",
              "    </tr>\n",
              "    <tr>\n",
              "      <th>Apple Pie</th>\n",
              "      <td>146.0</td>\n",
              "      <td>84.0</td>\n",
              "      <td>176.0</td>\n",
              "    </tr>\n",
              "    <tr>\n",
              "      <th>Apricot Pie</th>\n",
              "      <td>81.0</td>\n",
              "      <td>46.0</td>\n",
              "      <td>110.0</td>\n",
              "    </tr>\n",
              "    <tr>\n",
              "      <th>Cherry Pie</th>\n",
              "      <td>120.0</td>\n",
              "      <td>72.0</td>\n",
              "      <td>176.0</td>\n",
              "    </tr>\n",
              "    <tr>\n",
              "      <th>Rhubarb Pie</th>\n",
              "      <td>133.0</td>\n",
              "      <td>162.0</td>\n",
              "      <td>98.0</td>\n",
              "    </tr>\n",
              "  </tbody>\n",
              "</table>\n",
              "</div>\n",
              "      <button class=\"colab-df-convert\" onclick=\"convertToInteractive('df-39ca5111-a701-47b5-a899-7a533bd8dece')\"\n",
              "              title=\"Convert this dataframe to an interactive table.\"\n",
              "              style=\"display:none;\">\n",
              "        \n",
              "  <svg xmlns=\"http://www.w3.org/2000/svg\" height=\"24px\"viewBox=\"0 0 24 24\"\n",
              "       width=\"24px\">\n",
              "    <path d=\"M0 0h24v24H0V0z\" fill=\"none\"/>\n",
              "    <path d=\"M18.56 5.44l.94 2.06.94-2.06 2.06-.94-2.06-.94-.94-2.06-.94 2.06-2.06.94zm-11 1L8.5 8.5l.94-2.06 2.06-.94-2.06-.94L8.5 2.5l-.94 2.06-2.06.94zm10 10l.94 2.06.94-2.06 2.06-.94-2.06-.94-.94-2.06-.94 2.06-2.06.94z\"/><path d=\"M17.41 7.96l-1.37-1.37c-.4-.4-.92-.59-1.43-.59-.52 0-1.04.2-1.43.59L10.3 9.45l-7.72 7.72c-.78.78-.78 2.05 0 2.83L4 21.41c.39.39.9.59 1.41.59.51 0 1.02-.2 1.41-.59l7.78-7.78 2.81-2.81c.8-.78.8-2.07 0-2.86zM5.41 20L4 18.59l7.72-7.72 1.47 1.35L5.41 20z\"/>\n",
              "  </svg>\n",
              "      </button>\n",
              "      \n",
              "  <style>\n",
              "    .colab-df-container {\n",
              "      display:flex;\n",
              "      flex-wrap:wrap;\n",
              "      gap: 12px;\n",
              "    }\n",
              "\n",
              "    .colab-df-convert {\n",
              "      background-color: #E8F0FE;\n",
              "      border: none;\n",
              "      border-radius: 50%;\n",
              "      cursor: pointer;\n",
              "      display: none;\n",
              "      fill: #1967D2;\n",
              "      height: 32px;\n",
              "      padding: 0 0 0 0;\n",
              "      width: 32px;\n",
              "    }\n",
              "\n",
              "    .colab-df-convert:hover {\n",
              "      background-color: #E2EBFA;\n",
              "      box-shadow: 0px 1px 2px rgba(60, 64, 67, 0.3), 0px 1px 3px 1px rgba(60, 64, 67, 0.15);\n",
              "      fill: #174EA6;\n",
              "    }\n",
              "\n",
              "    [theme=dark] .colab-df-convert {\n",
              "      background-color: #3B4455;\n",
              "      fill: #D2E3FC;\n",
              "    }\n",
              "\n",
              "    [theme=dark] .colab-df-convert:hover {\n",
              "      background-color: #434B5C;\n",
              "      box-shadow: 0px 1px 3px 1px rgba(0, 0, 0, 0.15);\n",
              "      filter: drop-shadow(0px 1px 2px rgba(0, 0, 0, 0.3));\n",
              "      fill: #FFFFFF;\n",
              "    }\n",
              "  </style>\n",
              "\n",
              "      <script>\n",
              "        const buttonEl =\n",
              "          document.querySelector('#df-39ca5111-a701-47b5-a899-7a533bd8dece button.colab-df-convert');\n",
              "        buttonEl.style.display =\n",
              "          google.colab.kernel.accessAllowed ? 'block' : 'none';\n",
              "\n",
              "        async function convertToInteractive(key) {\n",
              "          const element = document.querySelector('#df-39ca5111-a701-47b5-a899-7a533bd8dece');\n",
              "          const dataTable =\n",
              "            await google.colab.kernel.invokeFunction('convertToInteractive',\n",
              "                                                     [key], {});\n",
              "          if (!dataTable) return;\n",
              "\n",
              "          const docLinkHtml = 'Like what you see? Visit the ' +\n",
              "            '<a target=\"_blank\" href=https://colab.research.google.com/notebooks/data_table.ipynb>data table notebook</a>'\n",
              "            + ' to learn more about interactive tables.';\n",
              "          element.innerHTML = '';\n",
              "          dataTable['output_type'] = 'display_data';\n",
              "          await google.colab.output.renderOutput(dataTable, element);\n",
              "          const docLink = document.createElement('div');\n",
              "          docLink.innerHTML = docLinkHtml;\n",
              "          element.appendChild(docLink);\n",
              "        }\n",
              "      </script>\n",
              "    </div>\n",
              "  </div>\n",
              "  "
            ]
          },
          "metadata": {},
          "execution_count": 21
        }
      ],
      "source": [
        "df = pd.read_csv('recipes.csv', index_col=0)\n",
        "df.head()"
      ]
    },
    {
      "cell_type": "code",
      "execution_count": null,
      "id": "48b5850f",
      "metadata": {
        "colab": {
          "base_uri": "https://localhost:8080/"
        },
        "id": "48b5850f",
        "outputId": "bcd8a9e7-1c2a-4e2f-a35e-b32e9860dc19"
      },
      "outputs": [
        {
          "output_type": "execute_result",
          "data": {
            "text/plain": [
              "(146.0, 84.0, 176.0)"
            ]
          },
          "metadata": {},
          "execution_count": 22
        }
      ],
      "source": [
        "price_a.update(df['price_A'].to_dict())\n",
        "price_b.update(df['price_B'].to_dict())\n",
        "price_c.update(df['price_C'].to_dict())\n",
        "price_a['Apple Pie'], price_b['Apple Pie'], price_c['Apple Pie']"
      ]
    },
    {
      "cell_type": "markdown",
      "id": "f12c408d",
      "metadata": {
        "id": "f12c408d"
      },
      "source": [
        "Modify the evaluation function to take into account these recipes, making sure not to break the weight or stock constraints. The weight of a recipe is the sum total weight of the ingredients, and you can not make a recipe if you don't have the remaining stock of ingredients. Here's an example of calculating the total weight of a random load of only recipes:"
      ]
    },
    {
      "cell_type": "code",
      "execution_count": null,
      "id": "bf9c9986",
      "metadata": {
        "colab": {
          "base_uri": "https://localhost:8080/"
        },
        "id": "bf9c9986",
        "outputId": "f227a597-dd14-4cca-fa1e-fa3bdc38c9bb"
      },
      "outputs": [
        {
          "output_type": "execute_result",
          "data": {
            "text/plain": [
              "{'Ratatouille': 2,\n",
              " 'Apple Pie': 0,\n",
              " 'Apricot Pie': 2,\n",
              " 'Cherry Pie': 3,\n",
              " 'Rhubarb Pie': 2,\n",
              " 'Strawberry Pie': 0,\n",
              " 'Blackberry Pie': 2,\n",
              " 'Pumpkin Pie': 1,\n",
              " 'Pizza': 2,\n",
              " 'Baba Ghanoush': 0,\n",
              " 'Squash Soup': 0,\n",
              " 'Peach Beer': 4,\n",
              " 'Blackberry Beer': 3}"
            ]
          },
          "metadata": {},
          "execution_count": 23
        }
      ],
      "source": [
        "recipe_load = {}\n",
        "for k in recipes:\n",
        "    recipe_load[k] = np.random.randint(0, 5)\n",
        "recipe_load"
      ]
    },
    {
      "cell_type": "code",
      "execution_count": null,
      "id": "6fbd7e02",
      "metadata": {
        "id": "6fbd7e02"
      },
      "outputs": [],
      "source": [
        "def get_weight(recipe_load, recipes, weight):\n",
        "    total_weight = 0\n",
        "    for k in recipe_load:\n",
        "        ingredients = recipes[k]\n",
        "        w = 0\n",
        "        for i in ingredients:\n",
        "            w += weight[i] * ingredients[i]\n",
        "        total_weight += w * recipe_load[k]\n",
        "    return total_weight"
      ]
    },
    {
      "cell_type": "code",
      "execution_count": null,
      "id": "22027764",
      "metadata": {
        "colab": {
          "base_uri": "https://localhost:8080/"
        },
        "id": "22027764",
        "outputId": "b3c1b54c-1664-41c1-e950-3e8d75354aa1"
      },
      "outputs": [
        {
          "output_type": "execute_result",
          "data": {
            "text/plain": [
              "700"
            ]
          },
          "metadata": {},
          "execution_count": 25
        }
      ],
      "source": [
        "get_weight(recipe_load, recipes, weight)"
      ]
    },
    {
      "cell_type": "markdown",
      "id": "16aa5d3d",
      "metadata": {
        "id": "16aa5d3d"
      },
      "source": [
        "Once you've modified the evaluation function, rerun the optimization algorithm to find a new load for the three resellers, and one load which is good for all three. Display this result and the profit gained, making sure that the constraints are met."
      ]
    },
    {
      "cell_type": "markdown",
      "id": "ac9e164e",
      "metadata": {
        "id": "ac9e164e"
      },
      "source": [
        "## Evaluation"
      ]
    },
    {
      "cell_type": "markdown",
      "id": "3fc7150b",
      "metadata": {
        "id": "3fc7150b"
      },
      "source": [
        "You should submit a saved copy of your notebook (including all of the cell output) to the LMS by December 13th, EOD. You may work with one partner, but you must **individually submit a notebook**. You will be graded based on your results, your code, and any text or visual explanations, according to the following rubric:\n",
        "\n",
        "Criterion | Points\n",
        "--- | ---\n",
        "Results - Challenge 1 | 7\n",
        "Results - Challenge 2 | 5\n",
        "Results - Challenge 3 | 3\n",
        "Presentation (code, text) | 5"
      ]
    },
    {
      "cell_type": "code",
      "execution_count": null,
      "id": "7520033a",
      "metadata": {
        "id": "7520033a"
      },
      "outputs": [],
      "source": []
    }
  ],
  "metadata": {
    "kernelspec": {
      "display_name": "Python 3 (ipykernel)",
      "language": "python",
      "name": "python3"
    },
    "language_info": {
      "codemirror_mode": {
        "name": "ipython",
        "version": 3
      },
      "file_extension": ".py",
      "mimetype": "text/x-python",
      "name": "python",
      "nbconvert_exporter": "python",
      "pygments_lexer": "ipython3",
      "version": "3.8.10"
    },
    "colab": {
      "provenance": [],
      "include_colab_link": true
    }
  },
  "nbformat": 4,
  "nbformat_minor": 5
}