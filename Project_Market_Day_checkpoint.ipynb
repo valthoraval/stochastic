{
  "cells": [
    {
      "cell_type": "markdown",
      "metadata": {
        "id": "view-in-github",
        "colab_type": "text"
      },
      "source": [
        "<a href=\"https://colab.research.google.com/github/valthoraval/stochastic/blob/master/Project_Market_Day_checkpoint.ipynb\" target=\"_parent\"><img src=\"https://colab.research.google.com/assets/colab-badge.svg\" alt=\"Open In Colab\"/></a>"
      ]
    },
    {
      "cell_type": "markdown",
      "id": "d8823f9d",
      "metadata": {
        "id": "d8823f9d"
      },
      "source": [
        "# Project - Market Day\n",
        "\n",
        "<a rel=\"license\" href=\"http://creativecommons.org/licenses/by-sa/4.0/\"><img alt=\"Creative Commons License\" align=\"left\" src=\"https://i.creativecommons.org/l/by-sa/4.0/80x15.png\" /></a>&nbsp;| Dennis G. Wilson | <a href=\"https://supaerodatascience.github.io/stochastic/\">https://supaerodatascience.github.io/stochastic/</a>"
      ]
    },
    {
      "cell_type": "markdown",
      "id": "e6452934",
      "metadata": {
        "id": "e6452934"
      },
      "source": [
        "![Stardew Valley](https://venturebeat.com/wp-content/uploads/2018/01/sw7rtba7p1xs77klsime.png)"
      ]
    },
    {
      "cell_type": "markdown",
      "id": "68359e75",
      "metadata": {
        "id": "68359e75"
      },
      "source": [
        "It is Market Day! You've been working hard for a whole season, planting, watering, and taking care of crops. Now it is time to sell them in town. Just one problem though - your old truck can only carry so much weight. Which crops should you bring to maximize your profits? "
      ]
    },
    {
      "cell_type": "markdown",
      "id": "fa661645",
      "metadata": {
        "id": "fa661645"
      },
      "source": [
        "In this project, you will use a stochastic algorithm of your choice to find the best crop configuration you can load into your truck. You know how much stock you have of each crop, how much each crop weighs, and what price it will fetch at the market. You should use these values throughout the project."
      ]
    },
    {
      "cell_type": "markdown",
      "id": "459e3e1a",
      "metadata": {
        "id": "459e3e1a"
      },
      "source": [
        "Before we start, if you're using colab to run this notebook, you'll need to uncomment and run the following lines:"
      ]
    },
    {
      "cell_type": "code",
      "execution_count": 3,
      "id": "c98dedf7",
      "metadata": {
        "colab": {
          "base_uri": "https://localhost:8080/"
        },
        "id": "c98dedf7",
        "outputId": "3a0b0c4b-680a-439d-f470-854a29eefab6"
      },
      "outputs": [
        {
          "output_type": "stream",
          "name": "stdout",
          "text": [
            "--2022-12-12 16:26:18--  https://raw.githubusercontent.com/SupaeroDataScience/stochastic/master/project/market.csv\n",
            "Resolving raw.githubusercontent.com (raw.githubusercontent.com)... 185.199.108.133, 185.199.109.133, 185.199.110.133, ...\n",
            "Connecting to raw.githubusercontent.com (raw.githubusercontent.com)|185.199.108.133|:443... connected.\n",
            "HTTP request sent, awaiting response... 200 OK\n",
            "Length: 927 [text/plain]\n",
            "Saving to: ‘market.csv’\n",
            "\n",
            "\rmarket.csv            0%[                    ]       0  --.-KB/s               \rmarket.csv          100%[===================>]     927  --.-KB/s    in 0s      \n",
            "\n",
            "2022-12-12 16:26:18 (32.1 MB/s) - ‘market.csv’ saved [927/927]\n",
            "\n",
            "--2022-12-12 16:26:18--  https://raw.githubusercontent.com/SupaeroDataScience/stochastic/master/project/recipes.csv\n",
            "Resolving raw.githubusercontent.com (raw.githubusercontent.com)... 185.199.110.133, 185.199.109.133, 185.199.111.133, ...\n",
            "Connecting to raw.githubusercontent.com (raw.githubusercontent.com)|185.199.110.133|:443... connected.\n",
            "HTTP request sent, awaiting response... 200 OK\n",
            "Length: 388 [text/plain]\n",
            "Saving to: ‘recipes.csv’\n",
            "\n",
            "recipes.csv         100%[===================>]     388  --.-KB/s    in 0s      \n",
            "\n",
            "2022-12-12 16:26:18 (15.4 MB/s) - ‘recipes.csv’ saved [388/388]\n",
            "\n",
            "Looking in indexes: https://pypi.org/simple, https://us-python.pkg.dev/colab-wheels/public/simple/\n",
            "Collecting pymoo\n",
            "  Downloading pymoo-0.6.0.1-cp38-cp38-manylinux_2_5_x86_64.manylinux1_x86_64.manylinux_2_12_x86_64.manylinux2010_x86_64.whl (2.6 MB)\n",
            "\u001b[K     |████████████████████████████████| 2.6 MB 25.6 MB/s \n",
            "\u001b[?25hRequirement already satisfied: scipy>=1.1 in /usr/local/lib/python3.8/dist-packages (from pymoo) (1.7.3)\n",
            "Requirement already satisfied: autograd>=1.4 in /usr/local/lib/python3.8/dist-packages (from pymoo) (1.5)\n",
            "Requirement already satisfied: numpy>=1.15 in /usr/local/lib/python3.8/dist-packages (from pymoo) (1.21.6)\n",
            "Requirement already satisfied: matplotlib>=3 in /usr/local/lib/python3.8/dist-packages (from pymoo) (3.2.2)\n",
            "Collecting alive-progress\n",
            "  Downloading alive_progress-2.4.1-py3-none-any.whl (80 kB)\n",
            "\u001b[K     |████████████████████████████████| 80 kB 10.2 MB/s \n",
            "\u001b[?25hCollecting Deprecated\n",
            "  Downloading Deprecated-1.2.13-py2.py3-none-any.whl (9.6 kB)\n",
            "Requirement already satisfied: dill in /usr/local/lib/python3.8/dist-packages (from pymoo) (0.3.6)\n",
            "Collecting cma==3.2.2\n",
            "  Downloading cma-3.2.2-py2.py3-none-any.whl (249 kB)\n",
            "\u001b[K     |████████████████████████████████| 249 kB 74.6 MB/s \n",
            "\u001b[?25hRequirement already satisfied: future>=0.15.2 in /usr/local/lib/python3.8/dist-packages (from autograd>=1.4->pymoo) (0.16.0)\n",
            "Requirement already satisfied: cycler>=0.10 in /usr/local/lib/python3.8/dist-packages (from matplotlib>=3->pymoo) (0.11.0)\n",
            "Requirement already satisfied: python-dateutil>=2.1 in /usr/local/lib/python3.8/dist-packages (from matplotlib>=3->pymoo) (2.8.2)\n",
            "Requirement already satisfied: kiwisolver>=1.0.1 in /usr/local/lib/python3.8/dist-packages (from matplotlib>=3->pymoo) (1.4.4)\n",
            "Requirement already satisfied: pyparsing!=2.0.4,!=2.1.2,!=2.1.6,>=2.0.1 in /usr/local/lib/python3.8/dist-packages (from matplotlib>=3->pymoo) (3.0.9)\n",
            "Requirement already satisfied: six>=1.5 in /usr/local/lib/python3.8/dist-packages (from python-dateutil>=2.1->matplotlib>=3->pymoo) (1.15.0)\n",
            "Collecting about-time==3.1.1\n",
            "  Downloading about_time-3.1.1-py3-none-any.whl (9.1 kB)\n",
            "Collecting grapheme==0.6.0\n",
            "  Downloading grapheme-0.6.0.tar.gz (207 kB)\n",
            "\u001b[K     |████████████████████████████████| 207 kB 61.9 MB/s \n",
            "\u001b[?25hRequirement already satisfied: wrapt<2,>=1.10 in /usr/local/lib/python3.8/dist-packages (from Deprecated->pymoo) (1.14.1)\n",
            "Building wheels for collected packages: grapheme\n",
            "  Building wheel for grapheme (setup.py) ... \u001b[?25l\u001b[?25hdone\n",
            "  Created wheel for grapheme: filename=grapheme-0.6.0-py3-none-any.whl size=210096 sha256=ab7bf2232a0742bafa765c1c8a3143c12561403dc3e1ef29f3b6ff659f959e59\n",
            "  Stored in directory: /root/.cache/pip/wheels/2d/08/6b/126ea9009f7482fd53a78d0db2ece5aca70af8f4a30445386b\n",
            "Successfully built grapheme\n",
            "Installing collected packages: grapheme, about-time, Deprecated, cma, alive-progress, pymoo\n",
            "Successfully installed Deprecated-1.2.13 about-time-3.1.1 alive-progress-2.4.1 cma-3.2.2 grapheme-0.6.0 pymoo-0.6.0.1\n"
          ]
        }
      ],
      "source": [
        "!wget https://raw.githubusercontent.com/SupaeroDataScience/stochastic/master/project/market.csv\n",
        "!wget https://raw.githubusercontent.com/SupaeroDataScience/stochastic/master/project/recipes.csv\n",
        "!pip install pymoo"
      ]
    },
    {
      "cell_type": "code",
      "execution_count": 4,
      "id": "3fd3c7cf",
      "metadata": {
        "id": "3fd3c7cf"
      },
      "outputs": [],
      "source": [
        "import numpy as np\n",
        "import pandas as pd\n",
        "import pymoo\n",
        "import copy\n",
        "\n",
        "%matplotlib inline\n",
        "import matplotlib.pyplot as plt\n",
        "import numpy as np\n",
        "import math\n",
        "\n",
        "import random"
      ]
    },
    {
      "cell_type": "code",
      "execution_count": 5,
      "id": "1c3d4f41",
      "metadata": {
        "colab": {
          "base_uri": "https://localhost:8080/",
          "height": 206
        },
        "id": "1c3d4f41",
        "outputId": "77f341c9-0bc4-4d18-aa6e-f82daa208991"
      },
      "outputs": [
        {
          "output_type": "execute_result",
          "data": {
            "text/plain": [
              "              stock  weight  price_A  price_B  price_C\n",
              "Apple             5       5     1.00      0.5      1.1\n",
              "Apricot          65       3     0.50      0.2      0.6\n",
              "Blueberry         5       3     0.50      0.3      1.2\n",
              "Cactus Fruit     90       4     0.75      0.3      0.3\n",
              "Cherry           15       4     0.80      0.4      1.1"
            ],
            "text/html": [
              "\n",
              "  <div id=\"df-e8a71afc-2097-4743-9a5f-bebf4ccf0bbb\">\n",
              "    <div class=\"colab-df-container\">\n",
              "      <div>\n",
              "<style scoped>\n",
              "    .dataframe tbody tr th:only-of-type {\n",
              "        vertical-align: middle;\n",
              "    }\n",
              "\n",
              "    .dataframe tbody tr th {\n",
              "        vertical-align: top;\n",
              "    }\n",
              "\n",
              "    .dataframe thead th {\n",
              "        text-align: right;\n",
              "    }\n",
              "</style>\n",
              "<table border=\"1\" class=\"dataframe\">\n",
              "  <thead>\n",
              "    <tr style=\"text-align: right;\">\n",
              "      <th></th>\n",
              "      <th>stock</th>\n",
              "      <th>weight</th>\n",
              "      <th>price_A</th>\n",
              "      <th>price_B</th>\n",
              "      <th>price_C</th>\n",
              "    </tr>\n",
              "  </thead>\n",
              "  <tbody>\n",
              "    <tr>\n",
              "      <th>Apple</th>\n",
              "      <td>5</td>\n",
              "      <td>5</td>\n",
              "      <td>1.00</td>\n",
              "      <td>0.5</td>\n",
              "      <td>1.1</td>\n",
              "    </tr>\n",
              "    <tr>\n",
              "      <th>Apricot</th>\n",
              "      <td>65</td>\n",
              "      <td>3</td>\n",
              "      <td>0.50</td>\n",
              "      <td>0.2</td>\n",
              "      <td>0.6</td>\n",
              "    </tr>\n",
              "    <tr>\n",
              "      <th>Blueberry</th>\n",
              "      <td>5</td>\n",
              "      <td>3</td>\n",
              "      <td>0.50</td>\n",
              "      <td>0.3</td>\n",
              "      <td>1.2</td>\n",
              "    </tr>\n",
              "    <tr>\n",
              "      <th>Cactus Fruit</th>\n",
              "      <td>90</td>\n",
              "      <td>4</td>\n",
              "      <td>0.75</td>\n",
              "      <td>0.3</td>\n",
              "      <td>0.3</td>\n",
              "    </tr>\n",
              "    <tr>\n",
              "      <th>Cherry</th>\n",
              "      <td>15</td>\n",
              "      <td>4</td>\n",
              "      <td>0.80</td>\n",
              "      <td>0.4</td>\n",
              "      <td>1.1</td>\n",
              "    </tr>\n",
              "  </tbody>\n",
              "</table>\n",
              "</div>\n",
              "      <button class=\"colab-df-convert\" onclick=\"convertToInteractive('df-e8a71afc-2097-4743-9a5f-bebf4ccf0bbb')\"\n",
              "              title=\"Convert this dataframe to an interactive table.\"\n",
              "              style=\"display:none;\">\n",
              "        \n",
              "  <svg xmlns=\"http://www.w3.org/2000/svg\" height=\"24px\"viewBox=\"0 0 24 24\"\n",
              "       width=\"24px\">\n",
              "    <path d=\"M0 0h24v24H0V0z\" fill=\"none\"/>\n",
              "    <path d=\"M18.56 5.44l.94 2.06.94-2.06 2.06-.94-2.06-.94-.94-2.06-.94 2.06-2.06.94zm-11 1L8.5 8.5l.94-2.06 2.06-.94-2.06-.94L8.5 2.5l-.94 2.06-2.06.94zm10 10l.94 2.06.94-2.06 2.06-.94-2.06-.94-.94-2.06-.94 2.06-2.06.94z\"/><path d=\"M17.41 7.96l-1.37-1.37c-.4-.4-.92-.59-1.43-.59-.52 0-1.04.2-1.43.59L10.3 9.45l-7.72 7.72c-.78.78-.78 2.05 0 2.83L4 21.41c.39.39.9.59 1.41.59.51 0 1.02-.2 1.41-.59l7.78-7.78 2.81-2.81c.8-.78.8-2.07 0-2.86zM5.41 20L4 18.59l7.72-7.72 1.47 1.35L5.41 20z\"/>\n",
              "  </svg>\n",
              "      </button>\n",
              "      \n",
              "  <style>\n",
              "    .colab-df-container {\n",
              "      display:flex;\n",
              "      flex-wrap:wrap;\n",
              "      gap: 12px;\n",
              "    }\n",
              "\n",
              "    .colab-df-convert {\n",
              "      background-color: #E8F0FE;\n",
              "      border: none;\n",
              "      border-radius: 50%;\n",
              "      cursor: pointer;\n",
              "      display: none;\n",
              "      fill: #1967D2;\n",
              "      height: 32px;\n",
              "      padding: 0 0 0 0;\n",
              "      width: 32px;\n",
              "    }\n",
              "\n",
              "    .colab-df-convert:hover {\n",
              "      background-color: #E2EBFA;\n",
              "      box-shadow: 0px 1px 2px rgba(60, 64, 67, 0.3), 0px 1px 3px 1px rgba(60, 64, 67, 0.15);\n",
              "      fill: #174EA6;\n",
              "    }\n",
              "\n",
              "    [theme=dark] .colab-df-convert {\n",
              "      background-color: #3B4455;\n",
              "      fill: #D2E3FC;\n",
              "    }\n",
              "\n",
              "    [theme=dark] .colab-df-convert:hover {\n",
              "      background-color: #434B5C;\n",
              "      box-shadow: 0px 1px 3px 1px rgba(0, 0, 0, 0.15);\n",
              "      filter: drop-shadow(0px 1px 2px rgba(0, 0, 0, 0.3));\n",
              "      fill: #FFFFFF;\n",
              "    }\n",
              "  </style>\n",
              "\n",
              "      <script>\n",
              "        const buttonEl =\n",
              "          document.querySelector('#df-e8a71afc-2097-4743-9a5f-bebf4ccf0bbb button.colab-df-convert');\n",
              "        buttonEl.style.display =\n",
              "          google.colab.kernel.accessAllowed ? 'block' : 'none';\n",
              "\n",
              "        async function convertToInteractive(key) {\n",
              "          const element = document.querySelector('#df-e8a71afc-2097-4743-9a5f-bebf4ccf0bbb');\n",
              "          const dataTable =\n",
              "            await google.colab.kernel.invokeFunction('convertToInteractive',\n",
              "                                                     [key], {});\n",
              "          if (!dataTable) return;\n",
              "\n",
              "          const docLinkHtml = 'Like what you see? Visit the ' +\n",
              "            '<a target=\"_blank\" href=https://colab.research.google.com/notebooks/data_table.ipynb>data table notebook</a>'\n",
              "            + ' to learn more about interactive tables.';\n",
              "          element.innerHTML = '';\n",
              "          dataTable['output_type'] = 'display_data';\n",
              "          await google.colab.output.renderOutput(dataTable, element);\n",
              "          const docLink = document.createElement('div');\n",
              "          docLink.innerHTML = docLinkHtml;\n",
              "          element.appendChild(docLink);\n",
              "        }\n",
              "      </script>\n",
              "    </div>\n",
              "  </div>\n",
              "  "
            ]
          },
          "metadata": {},
          "execution_count": 5
        }
      ],
      "source": [
        "df = pd.read_csv('market.csv', index_col=0)\n",
        "df.head()"
      ]
    },
    {
      "cell_type": "code",
      "execution_count": 6,
      "id": "614d7ba3",
      "metadata": {
        "id": "614d7ba3"
      },
      "outputs": [],
      "source": [
        "stock = df['stock'].to_dict()\n",
        "weight = df['weight'].to_dict()\n",
        "price = df['price_A'].to_dict()"
      ]
    },
    {
      "cell_type": "code",
      "execution_count": 7,
      "id": "5d28fa1e",
      "metadata": {
        "colab": {
          "base_uri": "https://localhost:8080/"
        },
        "id": "5d28fa1e",
        "outputId": "cc332fe4-83ce-4ad6-b479-e8b9be4d1acc"
      },
      "outputs": [
        {
          "output_type": "execute_result",
          "data": {
            "text/plain": [
              "{'Apple': 5,\n",
              " 'Apricot': 65,\n",
              " 'Blueberry': 5,\n",
              " 'Cactus Fruit': 90,\n",
              " 'Cherry': 15,\n",
              " 'Cranberry': 75,\n",
              " 'Grape': 70,\n",
              " 'Melon': 75,\n",
              " 'Orange': 40,\n",
              " 'Peach': 55,\n",
              " 'Pomegranate': 5,\n",
              " 'Rhubarb': 70,\n",
              " 'Starfruit': 5,\n",
              " 'Strawberry': 20,\n",
              " 'Amaranth': 20,\n",
              " 'Artichoke': 65,\n",
              " 'Beet': 30,\n",
              " 'Bok Choy': 55,\n",
              " 'Cauliflower': 70,\n",
              " 'Corn': 90,\n",
              " 'Eggplant': 95,\n",
              " 'Garlic': 95,\n",
              " 'Green Bean': 55,\n",
              " 'Hops': 75,\n",
              " 'Hot Pepper': 25,\n",
              " 'Kale': 5,\n",
              " 'Parsnip': 10,\n",
              " 'Potato': 55,\n",
              " 'Pumpkin': 30,\n",
              " 'Radish': 50,\n",
              " 'Red Cabbage': 55,\n",
              " 'Tomato': 65,\n",
              " 'Wheat': 75,\n",
              " 'Yam': 50,\n",
              " 'Blackberry': 70}"
            ]
          },
          "metadata": {},
          "execution_count": 7
        }
      ],
      "source": [
        "stock"
      ]
    },
    {
      "cell_type": "markdown",
      "id": "91c0dc4b",
      "metadata": {
        "id": "91c0dc4b"
      },
      "source": [
        "To evaluate your possible load going to the market, we will use a function that takes in a dictionary of this type, specifying how many of each crop you will take. This function will take into the constraints of having enough stock of the crop type and of not surpassing the weight limit."
      ]
    },
    {
      "cell_type": "code",
      "execution_count": 8,
      "id": "587b7af3",
      "metadata": {
        "id": "587b7af3"
      },
      "outputs": [],
      "source": [
        "def evaluate(load, stock, weight, price, max_weight=5000):\n",
        "    total_weight = 0\n",
        "    total_price = 0\n",
        "    for k in load:\n",
        "        if load[k] <= stock[k]:\n",
        "            total_price += load[k] * price[k]\n",
        "            total_weight += load[k] * weight[k]\n",
        "            if total_weight > max_weight:\n",
        "                return 0\n",
        "        else:\n",
        "            return 0\n",
        "    return total_price"
      ]
    },
    {
      "cell_type": "code",
      "source": [
        "def evaluate_autre(load, stock, weight, price, max_weight=5000):\n",
        "    total_weight = 0\n",
        "    total_price = 0\n",
        "    for k in load:\n",
        "        if load[k] <= stock[k]:\n",
        "            total_price += load[k] * price[k]\n",
        "            total_weight += load[k] * weight[k]\n",
        "            if total_weight > max_weight:\n",
        "                total_price -= load[k] * price[k]\n",
        "                total_weight -= load[k] * weight[k]\n",
        "                break\n",
        "        else:\n",
        "            pass\n",
        "    print(\"Total weight\", total_weight)\n",
        "    return total_price"
      ],
      "metadata": {
        "id": "lee-nFuth0Sc"
      },
      "id": "lee-nFuth0Sc",
      "execution_count": 9,
      "outputs": []
    },
    {
      "cell_type": "code",
      "source": [
        "def toDict(lst):\n",
        "    res_dct = {lst[i][0] : lst[i][1] for i in range(0, len(lst))}\n",
        "    return res_dct"
      ],
      "metadata": {
        "id": "rZYYQb8VMSf2"
      },
      "id": "rZYYQb8VMSf2",
      "execution_count": 10,
      "outputs": []
    },
    {
      "cell_type": "markdown",
      "id": "f832b811",
      "metadata": {
        "id": "f832b811"
      },
      "source": [
        "You can try this with an example load generated randomly:"
      ]
    },
    {
      "cell_type": "code",
      "source": [
        "trial_load = {}\n",
        "\n",
        "for k in stock:\n",
        "    trial_load[k] = np.random.randint(0, stock[k])"
      ],
      "metadata": {
        "id": "iq2pLv5H_z7c"
      },
      "id": "iq2pLv5H_z7c",
      "execution_count": 11,
      "outputs": []
    },
    {
      "cell_type": "code",
      "source": [
        "print(trial_load)\n",
        "type(trial_load)\n",
        "print(list(trial_load.items())[:10])\n",
        "dict_1 = toDict(list(trial_load.items())[:10])\n",
        "print(dict_1)\n",
        "dict_2 = toDict(list(trial_load.items())[10:])\n",
        "print(dict_2)\n",
        "print({**dict_1, **dict_2})"
      ],
      "metadata": {
        "id": "MFtuRt1xQuFP",
        "outputId": "635924ae-92e8-4a70-8203-9f349da8727f",
        "colab": {
          "base_uri": "https://localhost:8080/"
        }
      },
      "id": "MFtuRt1xQuFP",
      "execution_count": 12,
      "outputs": [
        {
          "output_type": "stream",
          "name": "stdout",
          "text": [
            "{'Apple': 2, 'Apricot': 45, 'Blueberry': 2, 'Cactus Fruit': 64, 'Cherry': 0, 'Cranberry': 54, 'Grape': 42, 'Melon': 11, 'Orange': 23, 'Peach': 37, 'Pomegranate': 2, 'Rhubarb': 67, 'Starfruit': 1, 'Strawberry': 10, 'Amaranth': 1, 'Artichoke': 37, 'Beet': 22, 'Bok Choy': 31, 'Cauliflower': 52, 'Corn': 71, 'Eggplant': 17, 'Garlic': 30, 'Green Bean': 1, 'Hops': 16, 'Hot Pepper': 19, 'Kale': 1, 'Parsnip': 8, 'Potato': 36, 'Pumpkin': 2, 'Radish': 19, 'Red Cabbage': 13, 'Tomato': 52, 'Wheat': 18, 'Yam': 48, 'Blackberry': 9}\n",
            "[('Apple', 2), ('Apricot', 45), ('Blueberry', 2), ('Cactus Fruit', 64), ('Cherry', 0), ('Cranberry', 54), ('Grape', 42), ('Melon', 11), ('Orange', 23), ('Peach', 37)]\n",
            "{'Apple': 2, 'Apricot': 45, 'Blueberry': 2, 'Cactus Fruit': 64, 'Cherry': 0, 'Cranberry': 54, 'Grape': 42, 'Melon': 11, 'Orange': 23, 'Peach': 37}\n",
            "{'Pomegranate': 2, 'Rhubarb': 67, 'Starfruit': 1, 'Strawberry': 10, 'Amaranth': 1, 'Artichoke': 37, 'Beet': 22, 'Bok Choy': 31, 'Cauliflower': 52, 'Corn': 71, 'Eggplant': 17, 'Garlic': 30, 'Green Bean': 1, 'Hops': 16, 'Hot Pepper': 19, 'Kale': 1, 'Parsnip': 8, 'Potato': 36, 'Pumpkin': 2, 'Radish': 19, 'Red Cabbage': 13, 'Tomato': 52, 'Wheat': 18, 'Yam': 48, 'Blackberry': 9}\n",
            "{'Apple': 2, 'Apricot': 45, 'Blueberry': 2, 'Cactus Fruit': 64, 'Cherry': 0, 'Cranberry': 54, 'Grape': 42, 'Melon': 11, 'Orange': 23, 'Peach': 37, 'Pomegranate': 2, 'Rhubarb': 67, 'Starfruit': 1, 'Strawberry': 10, 'Amaranth': 1, 'Artichoke': 37, 'Beet': 22, 'Bok Choy': 31, 'Cauliflower': 52, 'Corn': 71, 'Eggplant': 17, 'Garlic': 30, 'Green Bean': 1, 'Hops': 16, 'Hot Pepper': 19, 'Kale': 1, 'Parsnip': 8, 'Potato': 36, 'Pumpkin': 2, 'Radish': 19, 'Red Cabbage': 13, 'Tomato': 52, 'Wheat': 18, 'Yam': 48, 'Blackberry': 9}\n"
          ]
        }
      ]
    },
    {
      "cell_type": "code",
      "source": [
        "print(list(trial_load.values())[5])\n",
        "print(list(trial_load.keys())[5])\n",
        "trial_2 = trial_load.copy()\n",
        "print(trial_2)\n",
        "trial_2.update({str(list(trial_load.keys())[5]):20})\n",
        "print(trial_2)"
      ],
      "metadata": {
        "colab": {
          "base_uri": "https://localhost:8080/"
        },
        "id": "byvXmYOdP-9b",
        "outputId": "20c9590b-a010-4d8d-dec7-03197952aadb"
      },
      "id": "byvXmYOdP-9b",
      "execution_count": 13,
      "outputs": [
        {
          "output_type": "stream",
          "name": "stdout",
          "text": [
            "54\n",
            "Cranberry\n",
            "{'Apple': 2, 'Apricot': 45, 'Blueberry': 2, 'Cactus Fruit': 64, 'Cherry': 0, 'Cranberry': 54, 'Grape': 42, 'Melon': 11, 'Orange': 23, 'Peach': 37, 'Pomegranate': 2, 'Rhubarb': 67, 'Starfruit': 1, 'Strawberry': 10, 'Amaranth': 1, 'Artichoke': 37, 'Beet': 22, 'Bok Choy': 31, 'Cauliflower': 52, 'Corn': 71, 'Eggplant': 17, 'Garlic': 30, 'Green Bean': 1, 'Hops': 16, 'Hot Pepper': 19, 'Kale': 1, 'Parsnip': 8, 'Potato': 36, 'Pumpkin': 2, 'Radish': 19, 'Red Cabbage': 13, 'Tomato': 52, 'Wheat': 18, 'Yam': 48, 'Blackberry': 9}\n",
            "{'Apple': 2, 'Apricot': 45, 'Blueberry': 2, 'Cactus Fruit': 64, 'Cherry': 0, 'Cranberry': 20, 'Grape': 42, 'Melon': 11, 'Orange': 23, 'Peach': 37, 'Pomegranate': 2, 'Rhubarb': 67, 'Starfruit': 1, 'Strawberry': 10, 'Amaranth': 1, 'Artichoke': 37, 'Beet': 22, 'Bok Choy': 31, 'Cauliflower': 52, 'Corn': 71, 'Eggplant': 17, 'Garlic': 30, 'Green Bean': 1, 'Hops': 16, 'Hot Pepper': 19, 'Kale': 1, 'Parsnip': 8, 'Potato': 36, 'Pumpkin': 2, 'Radish': 19, 'Red Cabbage': 13, 'Tomato': 52, 'Wheat': 18, 'Yam': 48, 'Blackberry': 9}\n"
          ]
        }
      ]
    },
    {
      "cell_type": "code",
      "execution_count": 14,
      "id": "e9538ac0",
      "metadata": {
        "colab": {
          "base_uri": "https://localhost:8080/"
        },
        "id": "e9538ac0",
        "outputId": "9ccbab91-be87-437d-e322-9743484c4828"
      },
      "outputs": [
        {
          "output_type": "execute_result",
          "data": {
            "text/plain": [
              "776.0"
            ]
          },
          "metadata": {},
          "execution_count": 14
        }
      ],
      "source": [
        "evaluate(trial_load, stock, weight, price)"
      ]
    },
    {
      "cell_type": "markdown",
      "id": "b49edb3c",
      "metadata": {
        "id": "b49edb3c"
      },
      "source": [
        "## Challenge 1\n",
        "\n",
        "Use a stochastic algorithm to find the configuration of crops that maximizes profit while respecting the constraints of the weight limit and stock. You can use any of the class code or a library like `pymoo`. You should create a reasonable representation for the problem and appropriate modification functions like mutation and crossover. You can also modify the evaluation function, as long as your final solution is valid according to the weight and stock constraints.\n",
        "\n",
        "Include your code for optimization, any visualizations of the optimization process, as well as code to show the final market load and profit gained. Can you beat the random trial load profits?\n",
        "\n",
        "Hint: this is a constrained case of the [knapsack problem](https://en.wikipedia.org/wiki/Knapsack_problem)"
      ]
    },
    {
      "cell_type": "code",
      "source": [
        "n_population = 100\n",
        "population_trail_load = []\n",
        "\n",
        "for i in range(n_population):\n",
        "    trial_load = {}\n",
        "    for k in stock:\n",
        "        trial_load[k] = np.random.randint(0, stock[k])\n",
        "    population_trail_load.append(trial_load)\n",
        "#trial_load\n",
        "len(population_trail_load)\n",
        "print(population_trail_load[20])\n",
        "print(type(population_trail_load[20]))\n",
        "\n",
        "print(len(population_trail_load))"
      ],
      "metadata": {
        "colab": {
          "base_uri": "https://localhost:8080/"
        },
        "id": "C1EwhrvG9D8p",
        "outputId": "aabbf3c4-1f20-49cd-e444-96bf10e77977"
      },
      "id": "C1EwhrvG9D8p",
      "execution_count": 15,
      "outputs": [
        {
          "output_type": "stream",
          "name": "stdout",
          "text": [
            "{'Apple': 4, 'Apricot': 5, 'Blueberry': 1, 'Cactus Fruit': 49, 'Cherry': 7, 'Cranberry': 74, 'Grape': 55, 'Melon': 54, 'Orange': 27, 'Peach': 47, 'Pomegranate': 0, 'Rhubarb': 60, 'Starfruit': 3, 'Strawberry': 8, 'Amaranth': 10, 'Artichoke': 43, 'Beet': 27, 'Bok Choy': 52, 'Cauliflower': 27, 'Corn': 84, 'Eggplant': 54, 'Garlic': 10, 'Green Bean': 18, 'Hops': 58, 'Hot Pepper': 13, 'Kale': 2, 'Parsnip': 1, 'Potato': 9, 'Pumpkin': 21, 'Radish': 44, 'Red Cabbage': 37, 'Tomato': 52, 'Wheat': 46, 'Yam': 44, 'Blackberry': 28}\n",
            "<class 'dict'>\n",
            "100\n"
          ]
        }
      ]
    },
    {
      "cell_type": "code",
      "source": [
        "def evaluate_population(population):\n",
        "    fit = []\n",
        "    for i in range(len(population)):\n",
        "        prix = evaluate(population[i], stock, weight, price)\n",
        "        fit.append(prix)\n",
        "    return fit"
      ],
      "metadata": {
        "id": "ZSv_yHG3V2AL"
      },
      "id": "ZSv_yHG3V2AL",
      "execution_count": 16,
      "outputs": []
    },
    {
      "cell_type": "code",
      "source": [
        "fitness = evaluate_population(population_trail_load)\n",
        "print(fitness)"
      ],
      "metadata": {
        "colab": {
          "base_uri": "https://localhost:8080/"
        },
        "id": "9Xi01UzWX0W7",
        "outputId": "48a58899-4cca-43a7-94ee-e33fb688a011"
      },
      "id": "9Xi01UzWX0W7",
      "execution_count": 17,
      "outputs": [
        {
          "output_type": "stream",
          "name": "stdout",
          "text": [
            "[712.0, 0, 715.2000000000002, 716.2, 670.2000000000002, 663.3999999999999, 566.7500000000001, 655.7, 663.6500000000001, 668.4499999999998, 726.3499999999999, 0, 556.7, 650.5500000000002, 685.85, 610.4000000000001, 606.6, 506.70000000000005, 607.45, 814.2499999999999, 0, 688.8000000000001, 666.0500000000001, 683.5999999999999, 704.0500000000002, 606.35, 845.3000000000001, 704.65, 725.1000000000001, 743.3000000000001, 699.8, 706.3000000000001, 814.3000000000003, 0, 711.75, 732.8000000000002, 600.5, 674.05, 581.5500000000002, 780.9, 635.25, 795.6499999999999, 740.3499999999999, 648.6500000000001, 748.0, 710.0000000000001, 662.1, 704.7999999999998, 787.9499999999999, 673.4, 676.4, 635.7999999999998, 733.5500000000001, 675.6500000000001, 615.3000000000001, 0, 747.3499999999999, 715.9000000000002, 711.4, 482.09999999999997, 606.15, 673.3, 684.3500000000001, 729.8999999999999, 651.05, 0, 566.7, 0, 592.35, 650.9499999999999, 871.8000000000001, 826.1000000000003, 475.8, 797.5499999999996, 748.15, 657.95, 745.15, 519.7500000000001, 0, 619.5, 701.0499999999998, 538.6999999999999, 601.0, 727.8499999999999, 638.5500000000002, 643.85, 499.45, 809.8, 668.8000000000002, 0, 817.05, 0, 872.3000000000001, 804.2, 633.25, 670.7499999999999, 748.1499999999999, 787.4000000000001, 768.4000000000001, 753.3000000000001]\n"
          ]
        }
      ]
    },
    {
      "cell_type": "code",
      "source": [
        "def fp_selection(population, fitness):\n",
        "    m = max(fitness)\n",
        "    p = np.zeros(len(fitness))\n",
        "    for i in range(len(fitness)):\n",
        "        p[i] = (m - fitness[i])\n",
        "    p /= sum(p)\n",
        "    rng = np.random.default_rng()\n",
        "    n = len(population)\n",
        "    #continueSelection = True\n",
        "    '''\n",
        "    while(continueSelection):\n",
        "        ind = rng.choice(n, p=p)\n",
        "        #print(ind)\n",
        "        if(fitness[ind] != 0):\n",
        "           continueSelection = False\n",
        "    '''\n",
        "    ind = rng.choice(n, p=p)\n",
        "    return population[ind], fitness[ind]"
      ],
      "metadata": {
        "id": "yPd9dDl9XKj6"
      },
      "id": "yPd9dDl9XKj6",
      "execution_count": 18,
      "outputs": []
    },
    {
      "cell_type": "code",
      "source": [
        "fp_fits = np.zeros(20)\n",
        "for i in range(20):\n",
        "    p, f = fp_selection(population_trail_load, fitness)\n",
        "    fp_fits[i] = f\n",
        "plt.hist(fitness, color='k')\n",
        "#plt.hist(efit, color='b')\n",
        "plt.hist(fp_fits, color='r');\n",
        "print(fp_fits.size)"
      ],
      "metadata": {
        "colab": {
          "base_uri": "https://localhost:8080/",
          "height": 282
        },
        "id": "iMa7wWAvXb8L",
        "outputId": "a5003970-d4db-4925-fff0-287383be09e5"
      },
      "id": "iMa7wWAvXb8L",
      "execution_count": 19,
      "outputs": [
        {
          "output_type": "stream",
          "name": "stdout",
          "text": [
            "20\n"
          ]
        },
        {
          "output_type": "display_data",
          "data": {
            "text/plain": [
              "<Figure size 432x288 with 1 Axes>"
            ],
            "image/png": "[encoded data removed]"
          },
          "metadata": {
            "needs_background": "light"
          }
        }
      ]
    },
    {
      "cell_type": "code",
      "source": [
        "def truncation_selection(population, fitness, p=0.2):\n",
        "    n_elites = len(population) - int(np.floor(len(population) * p))\n",
        "    #print(n_elites)\n",
        "    elites = np.argsort(np.array(fitness))[n_elites:]\n",
        "    selected_pop, selected_fitness = [], []\n",
        "    for index in elites:\n",
        "        selected_pop.append(population[index])\n",
        "        selected_fitness.append(fitness[index])\n",
        "    return selected_pop, selected_fitness"
      ],
      "metadata": {
        "id": "jb6ZF_lpdliG"
      },
      "id": "jb6ZF_lpdliG",
      "execution_count": 20,
      "outputs": []
    },
    {
      "cell_type": "code",
      "source": [
        "p_elites, efit = truncation_selection(population_trail_load, fitness)\n",
        "plt.hist(fitness, color='k')\n",
        "plt.hist(efit, color='b');\n",
        "print('elites',p_elites,len(p_elites))\n",
        "print(len(p_elites), len(efit), len(population_trail_load), len(fitness))"
      ],
      "metadata": {
        "colab": {
          "base_uri": "https://localhost:8080/",
          "height": 320
        },
        "id": "07X_3WOAeOik",
        "outputId": "b14a30b9-755b-45da-febe-0b31341a4ce6"
      },
      "id": "07X_3WOAeOik",
      "execution_count": 21,
      "outputs": [
        {
          "output_type": "stream",
          "name": "stdout",
          "text": [
            "elites [{'Apple': 3, 'Apricot': 32, 'Blueberry': 1, 'Cactus Fruit': 61, 'Cherry': 12, 'Cranberry': 56, 'Grape': 40, 'Melon': 24, 'Orange': 10, 'Peach': 37, 'Pomegranate': 1, 'Rhubarb': 18, 'Starfruit': 1, 'Strawberry': 10, 'Amaranth': 4, 'Artichoke': 49, 'Beet': 0, 'Bok Choy': 49, 'Cauliflower': 33, 'Corn': 32, 'Eggplant': 50, 'Garlic': 81, 'Green Bean': 36, 'Hops': 55, 'Hot Pepper': 10, 'Kale': 2, 'Parsnip': 7, 'Potato': 45, 'Pumpkin': 5, 'Radish': 42, 'Red Cabbage': 10, 'Tomato': 23, 'Wheat': 41, 'Yam': 21, 'Blackberry': 22}, {'Apple': 3, 'Apricot': 44, 'Blueberry': 1, 'Cactus Fruit': 63, 'Cherry': 14, 'Cranberry': 24, 'Grape': 16, 'Melon': 62, 'Orange': 12, 'Peach': 41, 'Pomegranate': 0, 'Rhubarb': 55, 'Starfruit': 1, 'Strawberry': 6, 'Amaranth': 5, 'Artichoke': 5, 'Beet': 7, 'Bok Choy': 31, 'Cauliflower': 65, 'Corn': 21, 'Eggplant': 4, 'Garlic': 55, 'Green Bean': 17, 'Hops': 44, 'Hot Pepper': 12, 'Kale': 0, 'Parsnip': 7, 'Potato': 12, 'Pumpkin': 13, 'Radish': 42, 'Red Cabbage': 52, 'Tomato': 13, 'Wheat': 17, 'Yam': 7, 'Blackberry': 61}, {'Apple': 0, 'Apricot': 61, 'Blueberry': 2, 'Cactus Fruit': 6, 'Cherry': 9, 'Cranberry': 21, 'Grape': 11, 'Melon': 39, 'Orange': 35, 'Peach': 33, 'Pomegranate': 0, 'Rhubarb': 62, 'Starfruit': 3, 'Strawberry': 12, 'Amaranth': 7, 'Artichoke': 35, 'Beet': 14, 'Bok Choy': 8, 'Cauliflower': 55, 'Corn': 49, 'Eggplant': 6, 'Garlic': 86, 'Green Bean': 49, 'Hops': 41, 'Hot Pepper': 12, 'Kale': 3, 'Parsnip': 0, 'Potato': 30, 'Pumpkin': 3, 'Radish': 45, 'Red Cabbage': 18, 'Tomato': 45, 'Wheat': 70, 'Yam': 13, 'Blackberry': 30}, {'Apple': 1, 'Apricot': 22, 'Blueberry': 2, 'Cactus Fruit': 72, 'Cherry': 13, 'Cranberry': 72, 'Grape': 3, 'Melon': 15, 'Orange': 7, 'Peach': 1, 'Pomegranate': 2, 'Rhubarb': 10, 'Starfruit': 4, 'Strawberry': 12, 'Amaranth': 2, 'Artichoke': 56, 'Beet': 20, 'Bok Choy': 16, 'Cauliflower': 47, 'Corn': 22, 'Eggplant': 66, 'Garlic': 87, 'Green Bean': 41, 'Hops': 56, 'Hot Pepper': 15, 'Kale': 0, 'Parsnip': 0, 'Potato': 6, 'Pumpkin': 26, 'Radish': 37, 'Red Cabbage': 39, 'Tomato': 59, 'Wheat': 26, 'Yam': 20, 'Blackberry': 14}, {'Apple': 2, 'Apricot': 60, 'Blueberry': 4, 'Cactus Fruit': 58, 'Cherry': 3, 'Cranberry': 39, 'Grape': 26, 'Melon': 33, 'Orange': 37, 'Peach': 33, 'Pomegranate': 0, 'Rhubarb': 24, 'Starfruit': 2, 'Strawberry': 6, 'Amaranth': 7, 'Artichoke': 62, 'Beet': 26, 'Bok Choy': 38, 'Cauliflower': 9, 'Corn': 49, 'Eggplant': 11, 'Garlic': 56, 'Green Bean': 47, 'Hops': 35, 'Hot Pepper': 14, 'Kale': 4, 'Parsnip': 2, 'Potato': 49, 'Pumpkin': 21, 'Radish': 19, 'Red Cabbage': 5, 'Tomato': 43, 'Wheat': 19, 'Yam': 28, 'Blackberry': 56}, {'Apple': 0, 'Apricot': 42, 'Blueberry': 1, 'Cactus Fruit': 45, 'Cherry': 2, 'Cranberry': 51, 'Grape': 60, 'Melon': 58, 'Orange': 33, 'Peach': 12, 'Pomegranate': 3, 'Rhubarb': 19, 'Starfruit': 1, 'Strawberry': 3, 'Amaranth': 11, 'Artichoke': 16, 'Beet': 6, 'Bok Choy': 11, 'Cauliflower': 51, 'Corn': 44, 'Eggplant': 9, 'Garlic': 90, 'Green Bean': 0, 'Hops': 42, 'Hot Pepper': 17, 'Kale': 1, 'Parsnip': 2, 'Potato': 22, 'Pumpkin': 9, 'Radish': 10, 'Red Cabbage': 53, 'Tomato': 60, 'Wheat': 69, 'Yam': 18, 'Blackberry': 61}, {'Apple': 1, 'Apricot': 59, 'Blueberry': 1, 'Cactus Fruit': 57, 'Cherry': 7, 'Cranberry': 22, 'Grape': 24, 'Melon': 6, 'Orange': 32, 'Peach': 30, 'Pomegranate': 1, 'Rhubarb': 29, 'Starfruit': 4, 'Strawberry': 0, 'Amaranth': 12, 'Artichoke': 37, 'Beet': 7, 'Bok Choy': 29, 'Cauliflower': 56, 'Corn': 50, 'Eggplant': 89, 'Garlic': 18, 'Green Bean': 6, 'Hops': 38, 'Hot Pepper': 17, 'Kale': 3, 'Parsnip': 2, 'Potato': 27, 'Pumpkin': 29, 'Radish': 39, 'Red Cabbage': 15, 'Tomato': 52, 'Wheat': 51, 'Yam': 46, 'Blackberry': 15}, {'Apple': 1, 'Apricot': 52, 'Blueberry': 4, 'Cactus Fruit': 30, 'Cherry': 1, 'Cranberry': 5, 'Grape': 19, 'Melon': 51, 'Orange': 35, 'Peach': 23, 'Pomegranate': 3, 'Rhubarb': 14, 'Starfruit': 4, 'Strawberry': 19, 'Amaranth': 3, 'Artichoke': 46, 'Beet': 24, 'Bok Choy': 37, 'Cauliflower': 57, 'Corn': 15, 'Eggplant': 61, 'Garlic': 69, 'Green Bean': 3, 'Hops': 72, 'Hot Pepper': 13, 'Kale': 2, 'Parsnip': 4, 'Potato': 51, 'Pumpkin': 26, 'Radish': 13, 'Red Cabbage': 19, 'Tomato': 59, 'Wheat': 40, 'Yam': 11, 'Blackberry': 44}, {'Apple': 1, 'Apricot': 53, 'Blueberry': 3, 'Cactus Fruit': 72, 'Cherry': 9, 'Cranberry': 25, 'Grape': 15, 'Melon': 58, 'Orange': 32, 'Peach': 11, 'Pomegranate': 0, 'Rhubarb': 25, 'Starfruit': 2, 'Strawberry': 15, 'Amaranth': 5, 'Artichoke': 18, 'Beet': 11, 'Bok Choy': 39, 'Cauliflower': 31, 'Corn': 25, 'Eggplant': 83, 'Garlic': 90, 'Green Bean': 49, 'Hops': 68, 'Hot Pepper': 1, 'Kale': 3, 'Parsnip': 8, 'Potato': 51, 'Pumpkin': 5, 'Radish': 33, 'Red Cabbage': 23, 'Tomato': 40, 'Wheat': 33, 'Yam': 28, 'Blackberry': 43}, {'Apple': 1, 'Apricot': 43, 'Blueberry': 2, 'Cactus Fruit': 41, 'Cherry': 13, 'Cranberry': 39, 'Grape': 30, 'Melon': 62, 'Orange': 13, 'Peach': 53, 'Pomegranate': 4, 'Rhubarb': 57, 'Starfruit': 0, 'Strawberry': 1, 'Amaranth': 14, 'Artichoke': 49, 'Beet': 5, 'Bok Choy': 32, 'Cauliflower': 3, 'Corn': 11, 'Eggplant': 87, 'Garlic': 36, 'Green Bean': 33, 'Hops': 59, 'Hot Pepper': 17, 'Kale': 4, 'Parsnip': 9, 'Potato': 16, 'Pumpkin': 3, 'Radish': 47, 'Red Cabbage': 5, 'Tomato': 38, 'Wheat': 54, 'Yam': 43, 'Blackberry': 54}, {'Apple': 0, 'Apricot': 38, 'Blueberry': 2, 'Cactus Fruit': 89, 'Cherry': 9, 'Cranberry': 65, 'Grape': 61, 'Melon': 60, 'Orange': 18, 'Peach': 18, 'Pomegranate': 1, 'Rhubarb': 16, 'Starfruit': 1, 'Strawberry': 10, 'Amaranth': 3, 'Artichoke': 17, 'Beet': 29, 'Bok Choy': 49, 'Cauliflower': 5, 'Corn': 81, 'Eggplant': 30, 'Garlic': 79, 'Green Bean': 17, 'Hops': 32, 'Hot Pepper': 19, 'Kale': 3, 'Parsnip': 3, 'Potato': 23, 'Pumpkin': 15, 'Radish': 17, 'Red Cabbage': 54, 'Tomato': 45, 'Wheat': 71, 'Yam': 8, 'Blackberry': 38}, {'Apple': 1, 'Apricot': 63, 'Blueberry': 0, 'Cactus Fruit': 26, 'Cherry': 12, 'Cranberry': 6, 'Grape': 41, 'Melon': 41, 'Orange': 29, 'Peach': 41, 'Pomegranate': 3, 'Rhubarb': 60, 'Starfruit': 3, 'Strawberry': 9, 'Amaranth': 17, 'Artichoke': 56, 'Beet': 13, 'Bok Choy': 43, 'Cauliflower': 55, 'Corn': 45, 'Eggplant': 12, 'Garlic': 16, 'Green Bean': 27, 'Hops': 27, 'Hot Pepper': 15, 'Kale': 0, 'Parsnip': 3, 'Potato': 12, 'Pumpkin': 22, 'Radish': 18, 'Red Cabbage': 31, 'Tomato': 56, 'Wheat': 29, 'Yam': 6, 'Blackberry': 60}, {'Apple': 2, 'Apricot': 15, 'Blueberry': 0, 'Cactus Fruit': 7, 'Cherry': 8, 'Cranberry': 30, 'Grape': 13, 'Melon': 39, 'Orange': 7, 'Peach': 51, 'Pomegranate': 4, 'Rhubarb': 50, 'Starfruit': 4, 'Strawberry': 9, 'Amaranth': 18, 'Artichoke': 54, 'Beet': 26, 'Bok Choy': 12, 'Cauliflower': 23, 'Corn': 5, 'Eggplant': 94, 'Garlic': 43, 'Green Bean': 24, 'Hops': 4, 'Hot Pepper': 2, 'Kale': 4, 'Parsnip': 3, 'Potato': 42, 'Pumpkin': 11, 'Radish': 49, 'Red Cabbage': 52, 'Tomato': 43, 'Wheat': 23, 'Yam': 29, 'Blackberry': 63}, {'Apple': 1, 'Apricot': 34, 'Blueberry': 0, 'Cactus Fruit': 15, 'Cherry': 5, 'Cranberry': 69, 'Grape': 63, 'Melon': 54, 'Orange': 10, 'Peach': 50, 'Pomegranate': 1, 'Rhubarb': 49, 'Starfruit': 3, 'Strawberry': 19, 'Amaranth': 0, 'Artichoke': 11, 'Beet': 17, 'Bok Choy': 4, 'Cauliflower': 57, 'Corn': 29, 'Eggplant': 43, 'Garlic': 76, 'Green Bean': 21, 'Hops': 17, 'Hot Pepper': 20, 'Kale': 3, 'Parsnip': 1, 'Potato': 36, 'Pumpkin': 13, 'Radish': 34, 'Red Cabbage': 7, 'Tomato': 28, 'Wheat': 46, 'Yam': 49, 'Blackberry': 37}, {'Apple': 0, 'Apricot': 19, 'Blueberry': 2, 'Cactus Fruit': 66, 'Cherry': 13, 'Cranberry': 37, 'Grape': 13, 'Melon': 59, 'Orange': 10, 'Peach': 29, 'Pomegranate': 1, 'Rhubarb': 7, 'Starfruit': 0, 'Strawberry': 3, 'Amaranth': 10, 'Artichoke': 55, 'Beet': 5, 'Bok Choy': 19, 'Cauliflower': 54, 'Corn': 76, 'Eggplant': 27, 'Garlic': 93, 'Green Bean': 20, 'Hops': 57, 'Hot Pepper': 21, 'Kale': 1, 'Parsnip': 1, 'Potato': 19, 'Pumpkin': 16, 'Radish': 6, 'Red Cabbage': 30, 'Tomato': 12, 'Wheat': 55, 'Yam': 47, 'Blackberry': 58}, {'Apple': 3, 'Apricot': 36, 'Blueberry': 0, 'Cactus Fruit': 20, 'Cherry': 4, 'Cranberry': 46, 'Grape': 30, 'Melon': 70, 'Orange': 1, 'Peach': 20, 'Pomegranate': 3, 'Rhubarb': 49, 'Starfruit': 3, 'Strawberry': 17, 'Amaranth': 18, 'Artichoke': 16, 'Beet': 15, 'Bok Choy': 38, 'Cauliflower': 36, 'Corn': 86, 'Eggplant': 64, 'Garlic': 63, 'Green Bean': 47, 'Hops': 4, 'Hot Pepper': 3, 'Kale': 3, 'Parsnip': 5, 'Potato': 7, 'Pumpkin': 25, 'Radish': 14, 'Red Cabbage': 23, 'Tomato': 52, 'Wheat': 30, 'Yam': 46, 'Blackberry': 58}, {'Apple': 1, 'Apricot': 24, 'Blueberry': 1, 'Cactus Fruit': 50, 'Cherry': 5, 'Cranberry': 55, 'Grape': 67, 'Melon': 55, 'Orange': 25, 'Peach': 47, 'Pomegranate': 2, 'Rhubarb': 4, 'Starfruit': 0, 'Strawberry': 14, 'Amaranth': 5, 'Artichoke': 19, 'Beet': 29, 'Bok Choy': 42, 'Cauliflower': 23, 'Corn': 82, 'Eggplant': 1, 'Garlic': 7, 'Green Bean': 52, 'Hops': 68, 'Hot Pepper': 5, 'Kale': 3, 'Parsnip': 2, 'Potato': 48, 'Pumpkin': 29, 'Radish': 34, 'Red Cabbage': 53, 'Tomato': 31, 'Wheat': 24, 'Yam': 20, 'Blackberry': 21}, {'Apple': 0, 'Apricot': 45, 'Blueberry': 4, 'Cactus Fruit': 54, 'Cherry': 6, 'Cranberry': 32, 'Grape': 14, 'Melon': 18, 'Orange': 36, 'Peach': 38, 'Pomegranate': 1, 'Rhubarb': 50, 'Starfruit': 2, 'Strawberry': 19, 'Amaranth': 18, 'Artichoke': 57, 'Beet': 8, 'Bok Choy': 40, 'Cauliflower': 38, 'Corn': 70, 'Eggplant': 43, 'Garlic': 41, 'Green Bean': 52, 'Hops': 54, 'Hot Pepper': 11, 'Kale': 4, 'Parsnip': 6, 'Potato': 43, 'Pumpkin': 12, 'Radish': 39, 'Red Cabbage': 21, 'Tomato': 2, 'Wheat': 30, 'Yam': 42, 'Blackberry': 26}, {'Apple': 2, 'Apricot': 14, 'Blueberry': 0, 'Cactus Fruit': 29, 'Cherry': 0, 'Cranberry': 57, 'Grape': 66, 'Melon': 45, 'Orange': 34, 'Peach': 33, 'Pomegranate': 4, 'Rhubarb': 67, 'Starfruit': 0, 'Strawberry': 18, 'Amaranth': 10, 'Artichoke': 17, 'Beet': 22, 'Bok Choy': 1, 'Cauliflower': 60, 'Corn': 57, 'Eggplant': 90, 'Garlic': 63, 'Green Bean': 3, 'Hops': 44, 'Hot Pepper': 14, 'Kale': 2, 'Parsnip': 7, 'Potato': 45, 'Pumpkin': 3, 'Radish': 42, 'Red Cabbage': 31, 'Tomato': 44, 'Wheat': 3, 'Yam': 23, 'Blackberry': 33}, {'Apple': 0, 'Apricot': 31, 'Blueberry': 3, 'Cactus Fruit': 16, 'Cherry': 3, 'Cranberry': 31, 'Grape': 66, 'Melon': 41, 'Orange': 38, 'Peach': 28, 'Pomegranate': 0, 'Rhubarb': 46, 'Starfruit': 4, 'Strawberry': 9, 'Amaranth': 16, 'Artichoke': 59, 'Beet': 28, 'Bok Choy': 39, 'Cauliflower': 67, 'Corn': 87, 'Eggplant': 47, 'Garlic': 93, 'Green Bean': 35, 'Hops': 32, 'Hot Pepper': 0, 'Kale': 3, 'Parsnip': 3, 'Potato': 37, 'Pumpkin': 0, 'Radish': 20, 'Red Cabbage': 6, 'Tomato': 30, 'Wheat': 33, 'Yam': 22, 'Blackberry': 23}] 20\n",
            "20 20 100 100\n"
          ]
        },
        {
          "output_type": "display_data",
          "data": {
            "text/plain": [
              "<Figure size 432x288 with 1 Axes>"
            ],
            "image/png": "[encoded data removed]"
          },
          "metadata": {
            "needs_background": "light"
          }
        }
      ]
    },
    {
      "cell_type": "code",
      "source": [
        "def tournament_selection(population, fitness, t_size=3):\n",
        "    rng = np.random.default_rng()\n",
        "    tournament = rng.choice(len(population), size=t_size)\n",
        "    #print('tournament',type(tournament))\n",
        "    #print('tournament', tournament)\n",
        "    ind = []\n",
        "    for i in range(len(tournament)):\n",
        "        ind.append(fitness[tournament[i]])\n",
        "    ind = ind.index(max(ind))\n",
        "    return population[ind], fitness[ind]\n"
      ],
      "metadata": {
        "id": "NCthSEBkkRab"
      },
      "id": "NCthSEBkkRab",
      "execution_count": 22,
      "outputs": []
    },
    {
      "cell_type": "code",
      "source": [
        "for j in range(5):\n",
        "    p, f = tournament_selection(population_trail_load, fitness, t_size=3)\n",
        "    print(p)\n",
        "    print(f)"
      ],
      "metadata": {
        "colab": {
          "base_uri": "https://localhost:8080/"
        },
        "id": "scmO5vaX9HlP",
        "outputId": "6bde82da-3ec0-4b8e-be6c-1c920757b830"
      },
      "id": "scmO5vaX9HlP",
      "execution_count": 23,
      "outputs": [
        {
          "output_type": "stream",
          "name": "stdout",
          "text": [
            "{'Apple': 0, 'Apricot': 56, 'Blueberry': 1, 'Cactus Fruit': 83, 'Cherry': 3, 'Cranberry': 54, 'Grape': 56, 'Melon': 65, 'Orange': 18, 'Peach': 19, 'Pomegranate': 0, 'Rhubarb': 43, 'Starfruit': 4, 'Strawberry': 0, 'Amaranth': 13, 'Artichoke': 30, 'Beet': 20, 'Bok Choy': 52, 'Cauliflower': 60, 'Corn': 6, 'Eggplant': 84, 'Garlic': 35, 'Green Bean': 10, 'Hops': 65, 'Hot Pepper': 24, 'Kale': 3, 'Parsnip': 7, 'Potato': 28, 'Pumpkin': 14, 'Radish': 40, 'Red Cabbage': 33, 'Tomato': 36, 'Wheat': 42, 'Yam': 19, 'Blackberry': 67}\n",
            "0\n",
            "{'Apple': 4, 'Apricot': 60, 'Blueberry': 2, 'Cactus Fruit': 83, 'Cherry': 4, 'Cranberry': 70, 'Grape': 68, 'Melon': 68, 'Orange': 28, 'Peach': 6, 'Pomegranate': 3, 'Rhubarb': 1, 'Starfruit': 3, 'Strawberry': 0, 'Amaranth': 2, 'Artichoke': 14, 'Beet': 2, 'Bok Choy': 41, 'Cauliflower': 15, 'Corn': 18, 'Eggplant': 79, 'Garlic': 1, 'Green Bean': 22, 'Hops': 23, 'Hot Pepper': 0, 'Kale': 3, 'Parsnip': 2, 'Potato': 22, 'Pumpkin': 7, 'Radish': 30, 'Red Cabbage': 54, 'Tomato': 10, 'Wheat': 33, 'Yam': 19, 'Blackberry': 68}\n",
            "712.0\n",
            "{'Apple': 0, 'Apricot': 56, 'Blueberry': 1, 'Cactus Fruit': 83, 'Cherry': 3, 'Cranberry': 54, 'Grape': 56, 'Melon': 65, 'Orange': 18, 'Peach': 19, 'Pomegranate': 0, 'Rhubarb': 43, 'Starfruit': 4, 'Strawberry': 0, 'Amaranth': 13, 'Artichoke': 30, 'Beet': 20, 'Bok Choy': 52, 'Cauliflower': 60, 'Corn': 6, 'Eggplant': 84, 'Garlic': 35, 'Green Bean': 10, 'Hops': 65, 'Hot Pepper': 24, 'Kale': 3, 'Parsnip': 7, 'Potato': 28, 'Pumpkin': 14, 'Radish': 40, 'Red Cabbage': 33, 'Tomato': 36, 'Wheat': 42, 'Yam': 19, 'Blackberry': 67}\n",
            "0\n",
            "{'Apple': 4, 'Apricot': 60, 'Blueberry': 2, 'Cactus Fruit': 83, 'Cherry': 4, 'Cranberry': 70, 'Grape': 68, 'Melon': 68, 'Orange': 28, 'Peach': 6, 'Pomegranate': 3, 'Rhubarb': 1, 'Starfruit': 3, 'Strawberry': 0, 'Amaranth': 2, 'Artichoke': 14, 'Beet': 2, 'Bok Choy': 41, 'Cauliflower': 15, 'Corn': 18, 'Eggplant': 79, 'Garlic': 1, 'Green Bean': 22, 'Hops': 23, 'Hot Pepper': 0, 'Kale': 3, 'Parsnip': 2, 'Potato': 22, 'Pumpkin': 7, 'Radish': 30, 'Red Cabbage': 54, 'Tomato': 10, 'Wheat': 33, 'Yam': 19, 'Blackberry': 68}\n",
            "712.0\n",
            "{'Apple': 3, 'Apricot': 18, 'Blueberry': 4, 'Cactus Fruit': 4, 'Cherry': 8, 'Cranberry': 68, 'Grape': 44, 'Melon': 56, 'Orange': 23, 'Peach': 27, 'Pomegranate': 3, 'Rhubarb': 65, 'Starfruit': 3, 'Strawberry': 9, 'Amaranth': 13, 'Artichoke': 30, 'Beet': 15, 'Bok Choy': 19, 'Cauliflower': 54, 'Corn': 84, 'Eggplant': 8, 'Garlic': 17, 'Green Bean': 14, 'Hops': 73, 'Hot Pepper': 18, 'Kale': 0, 'Parsnip': 1, 'Potato': 20, 'Pumpkin': 5, 'Radish': 41, 'Red Cabbage': 11, 'Tomato': 30, 'Wheat': 10, 'Yam': 1, 'Blackberry': 33}\n",
            "715.2000000000002\n"
          ]
        }
      ]
    },
    {
      "cell_type": "code",
      "source": [
        "def crossover(parent1, parent2):\n",
        "    rng = np.random.default_rng()\n",
        "    x = rng.choice(np.arange(1, np.minimum(len(parent1)-1, len(parent2)-1)))\n",
        "    #print(x)\n",
        "    p1 = toDict(list(parent1.items())[:x])\n",
        "    p2 = toDict(list(parent2.items())[x:])\n",
        "    child = {**p1, **p2}\n",
        "    return child"
      ],
      "metadata": {
        "id": "W2j-WbIGIVFO"
      },
      "id": "W2j-WbIGIVFO",
      "execution_count": 24,
      "outputs": []
    },
    {
      "cell_type": "code",
      "source": [
        "parent1, _ = tournament_selection(population_trail_load, fitness, t_size=3)\n",
        "parent2, _ = tournament_selection(population_trail_load, fitness, t_size=3)\n",
        " \n",
        "print(parent1)\n",
        "print(parent2)\n",
        "print('Child')\n",
        "print(crossover(parent1, parent2))"
      ],
      "metadata": {
        "colab": {
          "base_uri": "https://localhost:8080/"
        },
        "id": "GWo7sD37OusF",
        "outputId": "575c614e-67a0-41d5-908e-25d3de9e4359"
      },
      "id": "GWo7sD37OusF",
      "execution_count": 25,
      "outputs": [
        {
          "output_type": "stream",
          "name": "stdout",
          "text": [
            "{'Apple': 3, 'Apricot': 18, 'Blueberry': 4, 'Cactus Fruit': 4, 'Cherry': 8, 'Cranberry': 68, 'Grape': 44, 'Melon': 56, 'Orange': 23, 'Peach': 27, 'Pomegranate': 3, 'Rhubarb': 65, 'Starfruit': 3, 'Strawberry': 9, 'Amaranth': 13, 'Artichoke': 30, 'Beet': 15, 'Bok Choy': 19, 'Cauliflower': 54, 'Corn': 84, 'Eggplant': 8, 'Garlic': 17, 'Green Bean': 14, 'Hops': 73, 'Hot Pepper': 18, 'Kale': 0, 'Parsnip': 1, 'Potato': 20, 'Pumpkin': 5, 'Radish': 41, 'Red Cabbage': 11, 'Tomato': 30, 'Wheat': 10, 'Yam': 1, 'Blackberry': 33}\n",
            "{'Apple': 3, 'Apricot': 18, 'Blueberry': 4, 'Cactus Fruit': 4, 'Cherry': 8, 'Cranberry': 68, 'Grape': 44, 'Melon': 56, 'Orange': 23, 'Peach': 27, 'Pomegranate': 3, 'Rhubarb': 65, 'Starfruit': 3, 'Strawberry': 9, 'Amaranth': 13, 'Artichoke': 30, 'Beet': 15, 'Bok Choy': 19, 'Cauliflower': 54, 'Corn': 84, 'Eggplant': 8, 'Garlic': 17, 'Green Bean': 14, 'Hops': 73, 'Hot Pepper': 18, 'Kale': 0, 'Parsnip': 1, 'Potato': 20, 'Pumpkin': 5, 'Radish': 41, 'Red Cabbage': 11, 'Tomato': 30, 'Wheat': 10, 'Yam': 1, 'Blackberry': 33}\n",
            "Child\n",
            "{'Apple': 3, 'Apricot': 18, 'Blueberry': 4, 'Cactus Fruit': 4, 'Cherry': 8, 'Cranberry': 68, 'Grape': 44, 'Melon': 56, 'Orange': 23, 'Peach': 27, 'Pomegranate': 3, 'Rhubarb': 65, 'Starfruit': 3, 'Strawberry': 9, 'Amaranth': 13, 'Artichoke': 30, 'Beet': 15, 'Bok Choy': 19, 'Cauliflower': 54, 'Corn': 84, 'Eggplant': 8, 'Garlic': 17, 'Green Bean': 14, 'Hops': 73, 'Hot Pepper': 18, 'Kale': 0, 'Parsnip': 1, 'Potato': 20, 'Pumpkin': 5, 'Radish': 41, 'Red Cabbage': 11, 'Tomato': 30, 'Wheat': 10, 'Yam': 1, 'Blackberry': 33}\n"
          ]
        }
      ]
    },
    {
      "cell_type": "code",
      "source": [
        "def crossover_2(parent1, parent2):\n",
        "    rng = np.random.default_rng()\n",
        "    x = rng.choice(np.arange(1, np.minimum(len(parent1)-1, len(parent2)-1)))\n",
        "    #print(x)\n",
        "    cross_list = list(np.zeros(len(parent1)))\n",
        "    ind_list = random.sample(list(np.arange(len(parent1))),x)\n",
        "    for index in ind_list:\n",
        "        cross_list[index] = 1\n",
        "    #print(cross_list)\n",
        "    child = {}\n",
        "    for i in range(len(parent1)):\n",
        "        if cross_list[i] == 0:\n",
        "            child[list(parent1.keys())[i]] = list(parent1.values())[i]\n",
        "        else:\n",
        "            child[list(parent2.keys())[i]] = list(parent2.values())[i]\n",
        "    return child"
      ],
      "metadata": {
        "id": "tLXrslOQnR9T"
      },
      "id": "tLXrslOQnR9T",
      "execution_count": 26,
      "outputs": []
    },
    {
      "cell_type": "code",
      "source": [
        "parent1, _ = tournament_selection(population_trail_load, fitness, t_size=3)\n",
        "parent2, _ = tournament_selection(population_trail_load, fitness, t_size=3)\n",
        " \n",
        "print(parent1)\n",
        "print(parent2)\n",
        "print('Child')\n",
        "print(crossover_2(parent1, parent2))"
      ],
      "metadata": {
        "colab": {
          "base_uri": "https://localhost:8080/"
        },
        "id": "U_drPi4Bp4eC",
        "outputId": "66ef7d89-e3ba-4622-b399-477b65269037"
      },
      "id": "U_drPi4Bp4eC",
      "execution_count": 27,
      "outputs": [
        {
          "output_type": "stream",
          "name": "stdout",
          "text": [
            "{'Apple': 4, 'Apricot': 60, 'Blueberry': 2, 'Cactus Fruit': 83, 'Cherry': 4, 'Cranberry': 70, 'Grape': 68, 'Melon': 68, 'Orange': 28, 'Peach': 6, 'Pomegranate': 3, 'Rhubarb': 1, 'Starfruit': 3, 'Strawberry': 0, 'Amaranth': 2, 'Artichoke': 14, 'Beet': 2, 'Bok Choy': 41, 'Cauliflower': 15, 'Corn': 18, 'Eggplant': 79, 'Garlic': 1, 'Green Bean': 22, 'Hops': 23, 'Hot Pepper': 0, 'Kale': 3, 'Parsnip': 2, 'Potato': 22, 'Pumpkin': 7, 'Radish': 30, 'Red Cabbage': 54, 'Tomato': 10, 'Wheat': 33, 'Yam': 19, 'Blackberry': 68}\n",
            "{'Apple': 4, 'Apricot': 60, 'Blueberry': 2, 'Cactus Fruit': 83, 'Cherry': 4, 'Cranberry': 70, 'Grape': 68, 'Melon': 68, 'Orange': 28, 'Peach': 6, 'Pomegranate': 3, 'Rhubarb': 1, 'Starfruit': 3, 'Strawberry': 0, 'Amaranth': 2, 'Artichoke': 14, 'Beet': 2, 'Bok Choy': 41, 'Cauliflower': 15, 'Corn': 18, 'Eggplant': 79, 'Garlic': 1, 'Green Bean': 22, 'Hops': 23, 'Hot Pepper': 0, 'Kale': 3, 'Parsnip': 2, 'Potato': 22, 'Pumpkin': 7, 'Radish': 30, 'Red Cabbage': 54, 'Tomato': 10, 'Wheat': 33, 'Yam': 19, 'Blackberry': 68}\n",
            "Child\n",
            "{'Apple': 4, 'Apricot': 60, 'Blueberry': 2, 'Cactus Fruit': 83, 'Cherry': 4, 'Cranberry': 70, 'Grape': 68, 'Melon': 68, 'Orange': 28, 'Peach': 6, 'Pomegranate': 3, 'Rhubarb': 1, 'Starfruit': 3, 'Strawberry': 0, 'Amaranth': 2, 'Artichoke': 14, 'Beet': 2, 'Bok Choy': 41, 'Cauliflower': 15, 'Corn': 18, 'Eggplant': 79, 'Garlic': 1, 'Green Bean': 22, 'Hops': 23, 'Hot Pepper': 0, 'Kale': 3, 'Parsnip': 2, 'Potato': 22, 'Pumpkin': 7, 'Radish': 30, 'Red Cabbage': 54, 'Tomato': 10, 'Wheat': 33, 'Yam': 19, 'Blackberry': 68}\n"
          ]
        }
      ]
    },
    {
      "cell_type": "code",
      "source": [
        "def mutate(ind):\n",
        "    rng = np.random.default_rng()\n",
        "    continue_mutation = True\n",
        "    while(continue_mutation):\n",
        "        x = rng.choice(len(ind)-1)\n",
        "        #print('x_mutate',x)\n",
        "        if((list(ind.values())[x] < list(stock.values())[x+1]) and\n",
        "           (list(ind.values())[x+1] < list(stock.values())[x])):\n",
        "              child = ind.copy()\n",
        "              child.update({str(list(ind.keys())[x]):list(ind.values())[x+1]})\n",
        "              child.update({str(list(ind.keys())[x+1]):list(ind.values())[x]})\n",
        "              continue_mutation = False\n",
        "    return child\n"
      ],
      "metadata": {
        "id": "Z-Ft-CgDPa7L"
      },
      "id": "Z-Ft-CgDPa7L",
      "execution_count": 28,
      "outputs": []
    },
    {
      "cell_type": "code",
      "source": [
        "def mutate_2(ind):\n",
        "    rng = np.random.default_rng()\n",
        "    continue_mutation = True\n",
        "    while(continue_mutation):\n",
        "        x = rng.choice(len(ind)-1,2,replace=False)\n",
        "        #print('x_mutate',x)\n",
        "        x1, x2 = x[0], x[1]\n",
        "        if((list(ind.values())[x1]+1 < list(stock.values())[x1]) and\n",
        "           (list(ind.values())[x2]-1 > 0)):\n",
        "              child = ind.copy()\n",
        "              child.update({str(list(ind.keys())[x1]):list(ind.values())[x1]+1})\n",
        "              child.update({str(list(ind.keys())[x2]):list(ind.values())[x2]-1})\n",
        "              continue_mutation = False\n",
        "    return child"
      ],
      "metadata": {
        "id": "ZZp-MPdwhQ5G"
      },
      "id": "ZZp-MPdwhQ5G",
      "execution_count": 29,
      "outputs": []
    },
    {
      "cell_type": "code",
      "source": [
        "parent1, _ = tournament_selection(population_trail_load, fitness, t_size=3)\n",
        "parent2, _ = tournament_selection(population_trail_load, fitness, t_size=3)\n",
        "print(parent1)\n",
        "print(parent2)\n",
        "child_1 = crossover(parent1, parent2)\n",
        "child_1 = mutate_2(child_1)\n",
        "print(child_1)"
      ],
      "metadata": {
        "colab": {
          "base_uri": "https://localhost:8080/"
        },
        "id": "a9uwrbBYRthz",
        "outputId": "7243ae30-b121-47a5-999c-5b86a3c24b80"
      },
      "id": "a9uwrbBYRthz",
      "execution_count": 30,
      "outputs": [
        {
          "output_type": "stream",
          "name": "stdout",
          "text": [
            "{'Apple': 3, 'Apricot': 18, 'Blueberry': 4, 'Cactus Fruit': 4, 'Cherry': 8, 'Cranberry': 68, 'Grape': 44, 'Melon': 56, 'Orange': 23, 'Peach': 27, 'Pomegranate': 3, 'Rhubarb': 65, 'Starfruit': 3, 'Strawberry': 9, 'Amaranth': 13, 'Artichoke': 30, 'Beet': 15, 'Bok Choy': 19, 'Cauliflower': 54, 'Corn': 84, 'Eggplant': 8, 'Garlic': 17, 'Green Bean': 14, 'Hops': 73, 'Hot Pepper': 18, 'Kale': 0, 'Parsnip': 1, 'Potato': 20, 'Pumpkin': 5, 'Radish': 41, 'Red Cabbage': 11, 'Tomato': 30, 'Wheat': 10, 'Yam': 1, 'Blackberry': 33}\n",
            "{'Apple': 0, 'Apricot': 56, 'Blueberry': 1, 'Cactus Fruit': 83, 'Cherry': 3, 'Cranberry': 54, 'Grape': 56, 'Melon': 65, 'Orange': 18, 'Peach': 19, 'Pomegranate': 0, 'Rhubarb': 43, 'Starfruit': 4, 'Strawberry': 0, 'Amaranth': 13, 'Artichoke': 30, 'Beet': 20, 'Bok Choy': 52, 'Cauliflower': 60, 'Corn': 6, 'Eggplant': 84, 'Garlic': 35, 'Green Bean': 10, 'Hops': 65, 'Hot Pepper': 24, 'Kale': 3, 'Parsnip': 7, 'Potato': 28, 'Pumpkin': 14, 'Radish': 40, 'Red Cabbage': 33, 'Tomato': 36, 'Wheat': 42, 'Yam': 19, 'Blackberry': 67}\n",
            "{'Apple': 3, 'Apricot': 18, 'Blueberry': 4, 'Cactus Fruit': 4, 'Cherry': 8, 'Cranberry': 68, 'Grape': 44, 'Melon': 56, 'Orange': 23, 'Peach': 27, 'Pomegranate': 3, 'Rhubarb': 65, 'Starfruit': 2, 'Strawberry': 9, 'Amaranth': 13, 'Artichoke': 30, 'Beet': 20, 'Bok Choy': 53, 'Cauliflower': 60, 'Corn': 6, 'Eggplant': 84, 'Garlic': 35, 'Green Bean': 10, 'Hops': 65, 'Hot Pepper': 24, 'Kale': 3, 'Parsnip': 7, 'Potato': 28, 'Pumpkin': 14, 'Radish': 40, 'Red Cabbage': 33, 'Tomato': 36, 'Wheat': 42, 'Yam': 19, 'Blackberry': 67}\n"
          ]
        }
      ]
    },
    {
      "cell_type": "code",
      "source": [
        "def ga_step(population):\n",
        "    fitness = evaluate_population(population)\n",
        "    fp_fits = np.zeros(20)\n",
        "    next_pop, _ = truncation_selection(population, fitness)\n",
        "    '''\n",
        "    next_pop = []\n",
        "    for i in range(20):\n",
        "        p, f = fp_selection(population_trail_load, fitness)\n",
        "        next_pop.append(p)\n",
        "        fp_fits[i] = f\n",
        "    '''\n",
        "    while len(next_pop) < len(population):\n",
        "        parent1, _ = tournament_selection(population, fitness)\n",
        "        parent2, _ = tournament_selection(population, fitness)\n",
        "        #child = crossover(parent1, parent2)\n",
        "        child = crossover_2(parent1, parent2)\n",
        "        child = mutate_2(child)\n",
        "        next_pop.append(child)\n",
        "    next_fitness = evaluate_population(next_pop)\n",
        "    return next_pop, next_fitness"
      ],
      "metadata": {
        "id": "kYZywVzyVqBW"
      },
      "id": "kYZywVzyVqBW",
      "execution_count": 31,
      "outputs": []
    },
    {
      "cell_type": "code",
      "source": [
        "n_population = 100\n",
        "population_trail_load = []\n",
        "\n",
        "for i in range(n_population):\n",
        "    trial_load = {}\n",
        "    for k in stock:\n",
        "        trial_load[k] = np.random.randint(0, stock[k])\n",
        "    population_trail_load.append(trial_load)\n",
        "\n",
        "fitness = evaluate_population(population_trail_load)"
      ],
      "metadata": {
        "id": "9dGQXJxEbWuB"
      },
      "id": "9dGQXJxEbWuB",
      "execution_count": 32,
      "outputs": []
    },
    {
      "cell_type": "code",
      "source": [
        "maxfit = []\n",
        "n_gen = 2000\n",
        "maxfit = np.zeros(n_gen)\n",
        "pop = population_trail_load\n",
        "best_pop = {}\n",
        "for i in range(n_gen):\n",
        "    pop, fitn = ga_step(pop)\n",
        "    maxfit[i] = np.max(fitn)\n",
        "    if (i > 2) and (maxfit[i] > maxfit[i-1]):\n",
        "        print(i, maxfit[i])\n",
        "        best_pop = pop\n",
        "        #print(np.where(fitn == np.max(fitn))[0])\n",
        "        ind = np.where(fitn == maxfit[i])[0][0]\n",
        "        #print('ind',ind)\n",
        "        best_pop = pop[ind]\n",
        "print(best_pop)\n",
        "#print(toDict(best_pop))\n",
        "a = evaluate(best_pop, stock, weight, price)\n",
        "print('Final price', a)\n"
      ],
      "metadata": {
        "colab": {
          "base_uri": "https://localhost:8080/"
        },
        "id": "BoRK-TGWbMPE",
        "outputId": "91b09372-2a47-4820-a223-32b370c03c01"
      },
      "id": "BoRK-TGWbMPE",
      "execution_count": 33,
      "outputs": [
        {
          "output_type": "stream",
          "name": "stdout",
          "text": [
            "6 904.95\n",
            "11 923.9\n",
            "13 930.9500000000002\n",
            "17 932.9500000000003\n",
            "18 950.1500000000003\n",
            "23 952.4000000000003\n",
            "32 954.7500000000002\n",
            "41 959.35\n",
            "47 963.35\n",
            "50 963.9999999999999\n",
            "51 967.5\n",
            "52 969.3000000000001\n",
            "61 970.2000000000002\n",
            "62 971.65\n",
            "71 972.3999999999999\n",
            "74 972.9000000000001\n",
            "76 973.4\n",
            "77 974.4999999999999\n",
            "80 976.3499999999999\n",
            "88 976.8\n",
            "90 978.1500000000001\n",
            "93 979.75\n",
            "99 979.8999999999999\n",
            "102 980.05\n",
            "103 980.1000000000001\n",
            "104 981.05\n",
            "106 981.0999999999999\n",
            "107 981.75\n",
            "109 982.45\n",
            "112 982.9499999999999\n",
            "113 983.5\n",
            "118 984.6000000000001\n",
            "121 984.7\n",
            "122 985.5500000000001\n",
            "124 986.15\n",
            "125 987.0000000000001\n",
            "129 987.8000000000002\n",
            "131 988.0500000000001\n",
            "133 988.0500000000002\n",
            "134 989.3999999999999\n",
            "135 989.6500000000001\n",
            "137 990.3000000000001\n",
            "139 990.4\n",
            "140 990.7499999999999\n",
            "141 990.9999999999999\n",
            "143 991.15\n",
            "144 991.75\n",
            "147 992.65\n",
            "149 993.8\n",
            "152 994.3\n",
            "154 994.45\n",
            "156 995.5\n",
            "158 996.1000000000001\n",
            "162 996.65\n",
            "164 996.9999999999999\n",
            "165 997.4499999999999\n",
            "166 997.9999999999998\n",
            "167 998.7\n",
            "172 999.1\n",
            "175 999.8499999999999\n",
            "178 1000.25\n",
            "182 1000.6500000000001\n",
            "183 1001.4499999999999\n",
            "186 1002.1\n",
            "190 1002.7500000000002\n",
            "191 1003.8000000000001\n",
            "194 1004.4000000000001\n",
            "195 1004.5999999999999\n",
            "198 1004.95\n",
            "199 1005.3\n",
            "201 1006.5000000000001\n",
            "204 1006.9500000000002\n",
            "206 1007.9499999999999\n",
            "213 1008.8499999999999\n",
            "217 1009.15\n",
            "219 1009.8499999999999\n",
            "220 1009.9999999999999\n",
            "224 1010.1500000000001\n",
            "225 1011.05\n",
            "227 1011.0500000000002\n",
            "229 1011.5500000000001\n",
            "231 1013.2\n",
            "239 1015.1999999999998\n",
            "243 1015.45\n",
            "244 1015.5999999999999\n",
            "246 1015.65\n",
            "248 1016.1999999999999\n",
            "249 1017.1499999999999\n",
            "251 1017.5999999999999\n",
            "253 1018.3499999999999\n",
            "255 1018.9999999999999\n",
            "259 1019.5500000000001\n",
            "263 1020.4999999999999\n",
            "264 1021.65\n",
            "269 1021.9\n",
            "273 1022.05\n",
            "276 1023.5\n",
            "279 1024.1499999999999\n",
            "283 1025.2\n",
            "286 1026.85\n",
            "289 1027.75\n",
            "292 1028.0\n",
            "298 1028.1000000000001\n",
            "299 1028.7499999999998\n",
            "304 1028.8500000000001\n",
            "306 1029.2\n",
            "307 1029.7999999999997\n",
            "308 1029.95\n",
            "309 1030.75\n",
            "311 1031.2\n",
            "313 1031.3999999999999\n",
            "317 1031.8500000000001\n",
            "318 1032.0500000000002\n",
            "319 1032.4499999999998\n",
            "322 1033.65\n",
            "325 1034.15\n",
            "329 1034.6\n",
            "331 1035.0\n",
            "333 1036.1\n",
            "337 1037.0000000000002\n",
            "339 1037.1\n",
            "343 1037.9\n",
            "346 1038.5\n",
            "349 1038.6000000000001\n",
            "350 1039.9\n",
            "351 1040.1000000000001\n",
            "357 1040.7\n",
            "360 1040.8000000000002\n",
            "363 1041.7999999999997\n",
            "364 1042.1999999999998\n",
            "366 1042.3999999999999\n",
            "367 1042.7\n",
            "368 1043.85\n",
            "370 1044.25\n",
            "374 1046.1999999999998\n",
            "379 1046.25\n",
            "384 1046.35\n",
            "386 1046.8999999999999\n",
            "388 1047.55\n",
            "390 1047.95\n",
            "391 1048.1999999999998\n",
            "393 1048.35\n",
            "394 1048.8\n",
            "399 1049.2\n",
            "401 1049.5\n",
            "402 1050.8500000000001\n",
            "408 1051.1000000000001\n",
            "413 1052.0\n",
            "421 1052.35\n",
            "425 1053.25\n",
            "429 1053.75\n",
            "431 1054.85\n",
            "435 1056.55\n",
            "439 1056.95\n",
            "444 1057.75\n",
            "445 1058.0\n",
            "447 1058.05\n",
            "450 1058.1000000000001\n",
            "451 1058.9\n",
            "456 1059.4000000000003\n",
            "459 1059.65\n",
            "460 1059.9\n",
            "461 1060.15\n",
            "464 1061.3000000000002\n",
            "466 1061.7\n",
            "469 1061.8\n",
            "470 1062.2\n",
            "473 1063.0\n",
            "477 1063.05\n",
            "479 1064.2\n",
            "484 1064.8000000000002\n",
            "486 1065.2\n",
            "490 1065.65\n",
            "492 1065.8500000000001\n",
            "494 1065.8999999999999\n",
            "497 1068.35\n",
            "509 1068.7\n",
            "510 1068.95\n",
            "511 1069.5\n",
            "512 1070.1\n",
            "517 1070.1000000000001\n",
            "518 1070.2\n",
            "519 1070.4\n",
            "520 1071.05\n",
            "523 1071.15\n",
            "525 1072.25\n",
            "533 1073.0\n",
            "539 1073.1\n",
            "541 1074.45\n",
            "544 1074.7\n",
            "551 1074.8500000000001\n",
            "554 1074.95\n",
            "558 1075.9499999999998\n",
            "564 1076.0000000000002\n",
            "568 1076.3000000000002\n",
            "570 1076.4\n",
            "573 1077.4500000000003\n",
            "583 1077.5\n",
            "584 1077.65\n",
            "585 1077.8500000000001\n",
            "587 1078.05\n",
            "590 1078.2500000000002\n",
            "591 1078.3000000000002\n",
            "592 1079.0000000000002\n",
            "600 1079.2500000000002\n",
            "605 1079.6000000000001\n",
            "609 1080.3000000000002\n",
            "628 1080.4\n",
            "632 1081.05\n",
            "643 1081.25\n",
            "652 1081.5500000000002\n",
            "655 1082.05\n",
            "661 1082.1499999999999\n",
            "662 1082.85\n",
            "667 1082.8999999999999\n",
            "676 1083.15\n",
            "677 1083.3000000000002\n",
            "679 1084.0000000000002\n",
            "694 1084.75\n",
            "696 1084.8500000000001\n",
            "702 1085.0\n",
            "704 1085.05\n",
            "709 1085.25\n",
            "717 1085.3\n",
            "720 1085.4\n",
            "724 1085.45\n",
            "726 1085.5\n",
            "728 1085.6\n",
            "730 1085.9\n",
            "735 1086.05\n",
            "738 1086.3\n",
            "744 1086.75\n",
            "749 1086.8500000000001\n",
            "754 1086.9\n",
            "755 1087.1000000000001\n",
            "774 1087.2500000000002\n",
            "781 1087.3000000000002\n",
            "783 1087.55\n",
            "786 1087.8500000000001\n",
            "788 1088.0\n",
            "790 1088.15\n",
            "800 1088.25\n",
            "801 1088.6000000000001\n",
            "805 1089.15\n",
            "810 1089.25\n",
            "812 1089.75\n",
            "820 1090.0\n",
            "823 1090.25\n",
            "828 1090.5\n",
            "834 1091.7\n",
            "852 1091.8500000000001\n",
            "856 1092.1000000000001\n",
            "859 1092.25\n",
            "865 1092.5\n",
            "867 1092.55\n",
            "875 1092.6000000000001\n",
            "876 1093.4\n",
            "891 1093.6999999999998\n",
            "893 1094.2\n",
            "905 1094.25\n",
            "910 1094.5\n",
            "912 1095.1\n",
            "934 1095.1499999999999\n",
            "939 1095.7\n",
            "945 1095.8\n",
            "946 1096.5\n",
            "959 1096.6\n",
            "962 1096.65\n",
            "964 1096.7\n",
            "966 1097.05\n",
            "967 1097.3000000000002\n",
            "970 1097.45\n",
            "975 1097.6499999999999\n",
            "978 1097.65\n",
            "981 1097.85\n",
            "984 1098.1\n",
            "985 1098.8\n",
            "994 1098.8500000000001\n",
            "996 1099.0\n",
            "997 1099.35\n",
            "1005 1099.65\n",
            "1017 1099.7\n",
            "1019 1100.35\n",
            "1022 1100.55\n",
            "1024 1100.6\n",
            "1033 1100.6499999999999\n",
            "1040 1100.65\n",
            "1053 1100.7\n",
            "1056 1101.05\n",
            "1058 1101.5\n",
            "1071 1101.55\n",
            "1078 1101.6\n",
            "1086 1101.65\n",
            "1091 1101.75\n",
            "1100 1102.0500000000002\n",
            "1105 1102.4499999999998\n",
            "1108 1103.05\n",
            "1124 1103.1499999999999\n",
            "1134 1103.3000000000002\n",
            "1141 1104.6\n",
            "1155 1105.1000000000001\n",
            "1182 1105.2\n",
            "1184 1105.4\n",
            "1193 1105.45\n",
            "1197 1105.8000000000002\n",
            "1198 1105.85\n",
            "1202 1106.5500000000002\n",
            "1219 1106.65\n",
            "1220 1107.2\n",
            "1222 1107.2500000000002\n",
            "1229 1107.3500000000001\n",
            "1236 1107.9500000000003\n",
            "1240 1108.0500000000002\n",
            "1241 1108.1500000000003\n",
            "1242 1108.2500000000002\n",
            "1243 1108.3000000000002\n",
            "1245 1108.3500000000001\n",
            "1246 1108.5500000000002\n",
            "1247 1108.6500000000003\n",
            "1251 1108.8500000000001\n",
            "1261 1108.8500000000004\n",
            "1263 1108.9000000000003\n",
            "1267 1109.65\n",
            "1269 1109.7500000000002\n",
            "1292 1109.8000000000002\n",
            "1301 1109.9000000000003\n",
            "1303 1110.0500000000002\n",
            "1307 1110.7500000000002\n",
            "1318 1111.0500000000002\n",
            "1339 1111.6000000000001\n",
            "1343 1111.8500000000001\n",
            "1360 1112.0\n",
            "1362 1112.3500000000001\n",
            "1382 1112.45\n",
            "1383 1112.65\n",
            "1384 1112.7000000000003\n",
            "1389 1112.7500000000002\n",
            "1390 1113.0000000000002\n",
            "1392 1113.1000000000004\n",
            "1396 1113.95\n",
            "1412 1114.1000000000001\n",
            "1418 1114.1500000000003\n",
            "1423 1114.7500000000002\n",
            "1428 1115.15\n",
            "1452 1115.1500000000003\n",
            "1453 1115.5500000000002\n",
            "1463 1115.7500000000002\n",
            "1468 1115.8500000000001\n",
            "1489 1116.0500000000002\n",
            "1496 1116.45\n",
            "1502 1116.5500000000002\n",
            "1504 1116.9500000000003\n",
            "1524 1117.45\n",
            "1540 1117.5500000000002\n",
            "1546 1117.6000000000001\n",
            "1556 1117.8000000000002\n",
            "1571 1117.9500000000003\n",
            "1573 1118.0000000000002\n",
            "1574 1118.5000000000002\n",
            "1597 1118.5500000000002\n",
            "1603 1118.6000000000001\n",
            "1607 1118.65\n",
            "1628 1118.7500000000002\n",
            "1645 1118.8000000000002\n",
            "1647 1118.8500000000001\n",
            "1650 1118.9500000000003\n",
            "1652 1119.0000000000002\n",
            "1655 1119.0500000000002\n",
            "1669 1119.15\n",
            "1673 1119.3500000000001\n",
            "1734 1119.45\n",
            "1739 1119.5500000000002\n",
            "1740 1119.6000000000004\n",
            "1763 1119.7500000000002\n",
            "1795 1119.8000000000002\n",
            "1843 1120.0500000000002\n",
            "1941 1120.3000000000002\n",
            "{'Apple': 4, 'Apricot': 20, 'Blueberry': 1, 'Cactus Fruit': 84, 'Cherry': 14, 'Cranberry': 72, 'Grape': 64, 'Melon': 1, 'Orange': 39, 'Peach': 54, 'Pomegranate': 3, 'Rhubarb': 1, 'Starfruit': 1, 'Strawberry': 19, 'Amaranth': 19, 'Artichoke': 64, 'Beet': 29, 'Bok Choy': 54, 'Cauliflower': 69, 'Corn': 89, 'Eggplant': 94, 'Garlic': 94, 'Green Bean': 53, 'Hops': 1, 'Hot Pepper': 8, 'Kale': 4, 'Parsnip': 9, 'Potato': 54, 'Pumpkin': 1, 'Radish': 49, 'Red Cabbage': 37, 'Tomato': 64, 'Wheat': 1, 'Yam': 49, 'Blackberry': 19}\n",
            "Final price 1120.3000000000002\n"
          ]
        }
      ]
    },
    {
      "cell_type": "markdown",
      "id": "1db64ad0",
      "metadata": {
        "id": "1db64ad0"
      },
      "source": [
        "## Challenge 2\n"
      ]
    },
    {
      "cell_type": "markdown",
      "id": "ad10e8aa",
      "metadata": {
        "id": "ad10e8aa"
      },
      "source": [
        "The agricultural market in this world is highly variable. This time, you'll be selling your load to a reseller, but you're not sure which one. Each reseller has different prices, so it depends on which one you'll meet. To be prepared, you should explore the possible options."
      ]
    },
    {
      "cell_type": "code",
      "execution_count": 34,
      "id": "6f1fb98d",
      "metadata": {
        "id": "6f1fb98d"
      },
      "outputs": [],
      "source": [
        "price_a = df['price_A'].to_dict()\n",
        "price_b = df['price_B'].to_dict()\n",
        "price_c = df['price_C'].to_dict()"
      ]
    },
    {
      "cell_type": "code",
      "execution_count": 35,
      "id": "c2b295f9",
      "metadata": {
        "colab": {
          "base_uri": "https://localhost:8080/"
        },
        "id": "c2b295f9",
        "outputId": "f7e85412-bf7a-4ea1-f3d8-f872ca0aea10"
      },
      "outputs": [
        {
          "output_type": "execute_result",
          "data": {
            "text/plain": [
              "(0.8, 0.4, 1.1)"
            ]
          },
          "metadata": {},
          "execution_count": 35
        }
      ],
      "source": [
        "price_a['Cherry'], price_b['Cherry'], price_c['Cherry']"
      ]
    },
    {
      "cell_type": "markdown",
      "id": "5ad5ab54",
      "metadata": {
        "id": "5ad5ab54"
      },
      "source": [
        "Given that cherries have very different prices between the different resellers, the example load we made ealier would fetch a wildly different price depending on the reseller:"
      ]
    },
    {
      "cell_type": "code",
      "execution_count": 36,
      "id": "8dc3fa44",
      "metadata": {
        "colab": {
          "base_uri": "https://localhost:8080/"
        },
        "id": "8dc3fa44",
        "outputId": "7d9835d0-f101-4ba2-dd39-8c24c06200b9"
      },
      "outputs": [
        {
          "output_type": "stream",
          "name": "stdout",
          "text": [
            "848.05 368.9999999999999 507.69999999999993\n"
          ]
        }
      ],
      "source": [
        "a = evaluate(trial_load, stock, weight, price_a)\n",
        "b = evaluate(trial_load, stock, weight, price_b)\n",
        "c = evaluate(trial_load, stock, weight, price_c)\n",
        "print(a, b, c)"
      ]
    },
    {
      "cell_type": "markdown",
      "id": "40447192",
      "metadata": {
        "id": "40447192"
      },
      "source": [
        "Prepare four different options for your market day haul: one option that will be good for reseller A, one for reseller B, one for reseller C, and one which would be pretty good for all three. Display these options and compare their different prices."
      ]
    },
    {
      "cell_type": "code",
      "source": [
        "def evaluate_population_2(population, price_2):\n",
        "    fit = []\n",
        "    for i in range(len(population)):\n",
        "      if(price_2 != 'all_three'):\n",
        "        prix_2 = evaluate(population[i], stock, weight, price_2)\n",
        "        fit.append(prix_2)\n",
        "      else:\n",
        "        prix_2 = evaluate(population[i], stock, weight, price_a) + evaluate(population[i], stock, weight, price_b) + evaluate(population[i], stock, weight, price_c)\n",
        "        prix_2 = prix_2/3\n",
        "        fit.append(prix_2)\n",
        "    return fit"
      ],
      "metadata": {
        "id": "HHa1SAeI7keB"
      },
      "id": "HHa1SAeI7keB",
      "execution_count": 37,
      "outputs": []
    },
    {
      "cell_type": "code",
      "source": [
        "def ga_step_2(population, prix):\n",
        "    fitness = evaluate_population_2(population, prix)\n",
        "    fp_fits = np.zeros(20)\n",
        "    next_pop, _ = truncation_selection(population, fitness)\n",
        "    while len(next_pop) < len(population):\n",
        "        parent1, _ = tournament_selection(population, fitness)\n",
        "        parent2, _ = tournament_selection(population, fitness)\n",
        "        #child = crossover(parent1, parent2)\n",
        "        child = crossover_2(parent1, parent2)\n",
        "        child = mutate_2(child)\n",
        "        next_pop.append(child)\n",
        "    next_fitness = evaluate_population_2(next_pop, prix)\n",
        "    return next_pop, next_fitness"
      ],
      "metadata": {
        "id": "RBrHSWMG8bDa"
      },
      "id": "RBrHSWMG8bDa",
      "execution_count": 38,
      "outputs": []
    },
    {
      "cell_type": "code",
      "source": [
        "n_population = 100\n",
        "population_trail_load = []\n",
        "\n",
        "for i in range(n_population):\n",
        "    trial_load = {}\n",
        "    for k in stock:\n",
        "        trial_load[k] = np.random.randint(0, stock[k])\n",
        "    population_trail_load.append(trial_load)\n",
        "\n",
        "fitness = evaluate_population(population_trail_load)"
      ],
      "metadata": {
        "id": "TkDHYSuv8kxV"
      },
      "id": "TkDHYSuv8kxV",
      "execution_count": 39,
      "outputs": []
    },
    {
      "cell_type": "code",
      "source": [
        "from pyparsing.helpers import nullDebugAction\n",
        "maxfit = []\n",
        "list_price = [price_a, price_b, price_c, 'all_three']\n",
        "#list_price = ['all_three']\n",
        "list_etiquette = ['price_a', 'price_b', 'price_c', 'all_three']\n",
        "#list_etiquette = ['all_three']\n",
        "\n",
        "for p in list_price:\n",
        "    result = (0,0)\n",
        "    n_gen = 2000\n",
        "    maxfit = np.zeros(n_gen)\n",
        "    pop = population_trail_load\n",
        "    best_pop = {}\n",
        "    for i in range(n_gen):\n",
        "        pop, fitn = ga_step_2(pop, p)\n",
        "        maxfit[i] = np.max(fitn)\n",
        "        if (i > 2) and (maxfit[i] > maxfit[i-1]):\n",
        "            #print(list_etiquette[list_price.index(p)], i, maxfit[i])\n",
        "            result = (i, maxfit[i])\n",
        "            #print(np.where(fitn == np.max(fitn))[0])\n",
        "            ind = int(np.where(fitn == np.max(fitn))[0][0])\n",
        "            #print('ind',ind)\n",
        "            best_pop = pop[ind]\n",
        "    if p != 'all_three':\n",
        "        print(list_etiquette[list_price.index(p)], result[0], result[1])\n",
        "        print(best_pop)\n",
        "    else:\n",
        "        a = evaluate(best_pop, stock, weight, price_a)\n",
        "        b = evaluate(best_pop, stock, weight, price_b)\n",
        "        c = evaluate(best_pop, stock, weight, price_c)\n",
        "        print(list_etiquette[list_price.index(p)], result[0], (a, b, c))\n",
        "        print(best_pop)\n",
        "        "
      ],
      "metadata": {
        "id": "x3qCDpta8uBe",
        "outputId": "7572f22e-504a-4467-8122-092c4e6a4913",
        "colab": {
          "base_uri": "https://localhost:8080/"
        }
      },
      "id": "x3qCDpta8uBe",
      "execution_count": 40,
      "outputs": [
        {
          "output_type": "stream",
          "name": "stdout",
          "text": [
            "price_a 1997 1125.6500000000003\n",
            "{'Apple': 4, 'Apricot': 48, 'Blueberry': 3, 'Cactus Fruit': 87, 'Cherry': 13, 'Cranberry': 72, 'Grape': 66, 'Melon': 1, 'Orange': 39, 'Peach': 41, 'Pomegranate': 1, 'Rhubarb': 1, 'Starfruit': 0, 'Strawberry': 19, 'Amaranth': 19, 'Artichoke': 64, 'Beet': 29, 'Bok Choy': 54, 'Cauliflower': 69, 'Corn': 89, 'Eggplant': 94, 'Garlic': 94, 'Green Bean': 30, 'Hops': 1, 'Hot Pepper': 24, 'Kale': 4, 'Parsnip': 9, 'Potato': 54, 'Pumpkin': 1, 'Radish': 49, 'Red Cabbage': 42, 'Tomato': 64, 'Wheat': 1, 'Yam': 49, 'Blackberry': 37}\n",
            "price_b 1991 454.7000000000002\n",
            "{'Apple': 4, 'Apricot': 1, 'Blueberry': 4, 'Cactus Fruit': 1, 'Cherry': 14, 'Cranberry': 2, 'Grape': 41, 'Melon': 73, 'Orange': 39, 'Peach': 49, 'Pomegranate': 4, 'Rhubarb': 59, 'Starfruit': 0, 'Strawberry': 19, 'Amaranth': 19, 'Artichoke': 4, 'Beet': 29, 'Bok Choy': 2, 'Cauliflower': 60, 'Corn': 1, 'Eggplant': 1, 'Garlic': 1, 'Green Bean': 1, 'Hops': 37, 'Hot Pepper': 24, 'Kale': 4, 'Parsnip': 8, 'Potato': 11, 'Pumpkin': 28, 'Radish': 49, 'Red Cabbage': 44, 'Tomato': 1, 'Wheat': 11, 'Yam': 49, 'Blackberry': 25}\n",
            "price_c 1977 742.2999999999998\n",
            "{'Apple': 4, 'Apricot': 64, 'Blueberry': 4, 'Cactus Fruit': 7, 'Cherry': 14, 'Cranberry': 64, 'Grape': 69, 'Melon': 58, 'Orange': 39, 'Peach': 45, 'Pomegranate': 4, 'Rhubarb': 1, 'Starfruit': 1, 'Strawberry': 19, 'Amaranth': 19, 'Artichoke': 64, 'Beet': 29, 'Bok Choy': 54, 'Cauliflower': 1, 'Corn': 89, 'Eggplant': 94, 'Garlic': 8, 'Green Bean': 54, 'Hops': 31, 'Hot Pepper': 24, 'Kale': 4, 'Parsnip': 9, 'Potato': 54, 'Pumpkin': 0, 'Radish': 49, 'Red Cabbage': 1, 'Tomato': 64, 'Wheat': 74, 'Yam': 49, 'Blackberry': 66}\n",
            "all_three 1977 (1084.8000000000002, 400.4, 711.7999999999998)\n",
            "{'Apple': 4, 'Apricot': 64, 'Blueberry': 4, 'Cactus Fruit': 40, 'Cherry': 14, 'Cranberry': 51, 'Grape': 69, 'Melon': 22, 'Orange': 39, 'Peach': 35, 'Pomegranate': 4, 'Rhubarb': 1, 'Starfruit': 1, 'Strawberry': 19, 'Amaranth': 19, 'Artichoke': 64, 'Beet': 29, 'Bok Choy': 54, 'Cauliflower': 69, 'Corn': 88, 'Eggplant': 84, 'Garlic': 61, 'Green Bean': 54, 'Hops': 1, 'Hot Pepper': 24, 'Kale': 4, 'Parsnip': 9, 'Potato': 54, 'Pumpkin': 1, 'Radish': 49, 'Red Cabbage': 30, 'Tomato': 64, 'Wheat': 16, 'Yam': 49, 'Blackberry': 51}\n"
          ]
        }
      ]
    },
    {
      "cell_type": "markdown",
      "id": "8c3ff230",
      "metadata": {
        "id": "8c3ff230"
      },
      "source": [
        "Hint: you can use a multi-objective algorithm to optimize for all three reseller prices at the same time."
      ]
    },
    {
      "cell_type": "markdown",
      "id": "0d026d23",
      "metadata": {
        "id": "0d026d23"
      },
      "source": [
        "## Challenge 3"
      ]
    },
    {
      "cell_type": "markdown",
      "id": "1d7603f4",
      "metadata": {
        "id": "1d7603f4"
      },
      "source": [
        "You decide to preprare some of your crops by making food for the market day. You know a number of recipes and are famous for your delicious fruit pies."
      ]
    },
    {
      "cell_type": "code",
      "execution_count": 45,
      "id": "025beabd",
      "metadata": {
        "id": "025beabd"
      },
      "outputs": [],
      "source": [
        "recipes = {'Ratatouille': {'Eggplant': 2, 'Garlic': 2, 'Tomato': 4, 'Hot Pepper': 1},\n",
        " 'Apple Pie': {'Apple': 10, 'Wheat': 5},\n",
        " 'Apricot Pie': {'Apricot': 10, 'Wheat': 5},\n",
        " 'Cherry Pie': {'Cherry': 10, 'Wheat': 5},\n",
        " 'Rhubarb Pie': {'Rhubarb': 10, 'Wheat': 5},\n",
        " 'Strawberry Pie': {'Strawberry': 10, 'Wheat': 5},\n",
        " 'Blackberry Pie': {'Blackberry': 10, 'Wheat': 5},\n",
        " 'Pumpkin Pie': {'Pumpkin': 10, 'Wheat': 5},\n",
        " 'Pizza': {'Tomato': 3, 'Wheat': 2, 'Artichoke': 1},\n",
        " 'Baba Ghanoush': {'Eggplant': 2, 'Garlic': 4},\n",
        " 'Squash Soup': {'Yam': 3, 'Pumpkin': 1},\n",
        " 'Peach Beer': {'Hops': 3, 'Peach': 1},\n",
        " 'Blackberry Beer': {'Hops': 3, 'Blackberry': 1}}"
      ]
    },
    {
      "cell_type": "markdown",
      "id": "1e250a2c",
      "metadata": {
        "id": "1e250a2c"
      },
      "source": [
        "These recipes sell for good prices at each of the resellers:"
      ]
    },
    {
      "cell_type": "code",
      "execution_count": 46,
      "id": "7d0bfc4d",
      "metadata": {
        "colab": {
          "base_uri": "https://localhost:8080/",
          "height": 206
        },
        "id": "7d0bfc4d",
        "outputId": "c35df626-b4d8-479a-998c-62fa0dfc6da7"
      },
      "outputs": [
        {
          "output_type": "execute_result",
          "data": {
            "text/plain": [
              "             price_A  price_B  price_C\n",
              "Ratatouille     68.0     13.0     52.0\n",
              "Apple Pie      146.0     84.0    176.0\n",
              "Apricot Pie     81.0     46.0    110.0\n",
              "Cherry Pie     120.0     72.0    176.0\n",
              "Rhubarb Pie    133.0    162.0     98.0"
            ],
            "text/html": [
              "\n",
              "  <div id=\"df-4fe71f63-dd8a-483d-8bda-8cbfe7492d51\">\n",
              "    <div class=\"colab-df-container\">\n",
              "      <div>\n",
              "<style scoped>\n",
              "    .dataframe tbody tr th:only-of-type {\n",
              "        vertical-align: middle;\n",
              "    }\n",
              "\n",
              "    .dataframe tbody tr th {\n",
              "        vertical-align: top;\n",
              "    }\n",
              "\n",
              "    .dataframe thead th {\n",
              "        text-align: right;\n",
              "    }\n",
              "</style>\n",
              "<table border=\"1\" class=\"dataframe\">\n",
              "  <thead>\n",
              "    <tr style=\"text-align: right;\">\n",
              "      <th></th>\n",
              "      <th>price_A</th>\n",
              "      <th>price_B</th>\n",
              "      <th>price_C</th>\n",
              "    </tr>\n",
              "  </thead>\n",
              "  <tbody>\n",
              "    <tr>\n",
              "      <th>Ratatouille</th>\n",
              "      <td>68.0</td>\n",
              "      <td>13.0</td>\n",
              "      <td>52.0</td>\n",
              "    </tr>\n",
              "    <tr>\n",
              "      <th>Apple Pie</th>\n",
              "      <td>146.0</td>\n",
              "      <td>84.0</td>\n",
              "      <td>176.0</td>\n",
              "    </tr>\n",
              "    <tr>\n",
              "      <th>Apricot Pie</th>\n",
              "      <td>81.0</td>\n",
              "      <td>46.0</td>\n",
              "      <td>110.0</td>\n",
              "    </tr>\n",
              "    <tr>\n",
              "      <th>Cherry Pie</th>\n",
              "      <td>120.0</td>\n",
              "      <td>72.0</td>\n",
              "      <td>176.0</td>\n",
              "    </tr>\n",
              "    <tr>\n",
              "      <th>Rhubarb Pie</th>\n",
              "      <td>133.0</td>\n",
              "      <td>162.0</td>\n",
              "      <td>98.0</td>\n",
              "    </tr>\n",
              "  </tbody>\n",
              "</table>\n",
              "</div>\n",
              "      <button class=\"colab-df-convert\" onclick=\"convertToInteractive('df-4fe71f63-dd8a-483d-8bda-8cbfe7492d51')\"\n",
              "              title=\"Convert this dataframe to an interactive table.\"\n",
              "              style=\"display:none;\">\n",
              "        \n",
              "  <svg xmlns=\"http://www.w3.org/2000/svg\" height=\"24px\"viewBox=\"0 0 24 24\"\n",
              "       width=\"24px\">\n",
              "    <path d=\"M0 0h24v24H0V0z\" fill=\"none\"/>\n",
              "    <path d=\"M18.56 5.44l.94 2.06.94-2.06 2.06-.94-2.06-.94-.94-2.06-.94 2.06-2.06.94zm-11 1L8.5 8.5l.94-2.06 2.06-.94-2.06-.94L8.5 2.5l-.94 2.06-2.06.94zm10 10l.94 2.06.94-2.06 2.06-.94-2.06-.94-.94-2.06-.94 2.06-2.06.94z\"/><path d=\"M17.41 7.96l-1.37-1.37c-.4-.4-.92-.59-1.43-.59-.52 0-1.04.2-1.43.59L10.3 9.45l-7.72 7.72c-.78.78-.78 2.05 0 2.83L4 21.41c.39.39.9.59 1.41.59.51 0 1.02-.2 1.41-.59l7.78-7.78 2.81-2.81c.8-.78.8-2.07 0-2.86zM5.41 20L4 18.59l7.72-7.72 1.47 1.35L5.41 20z\"/>\n",
              "  </svg>\n",
              "      </button>\n",
              "      \n",
              "  <style>\n",
              "    .colab-df-container {\n",
              "      display:flex;\n",
              "      flex-wrap:wrap;\n",
              "      gap: 12px;\n",
              "    }\n",
              "\n",
              "    .colab-df-convert {\n",
              "      background-color: #E8F0FE;\n",
              "      border: none;\n",
              "      border-radius: 50%;\n",
              "      cursor: pointer;\n",
              "      display: none;\n",
              "      fill: #1967D2;\n",
              "      height: 32px;\n",
              "      padding: 0 0 0 0;\n",
              "      width: 32px;\n",
              "    }\n",
              "\n",
              "    .colab-df-convert:hover {\n",
              "      background-color: #E2EBFA;\n",
              "      box-shadow: 0px 1px 2px rgba(60, 64, 67, 0.3), 0px 1px 3px 1px rgba(60, 64, 67, 0.15);\n",
              "      fill: #174EA6;\n",
              "    }\n",
              "\n",
              "    [theme=dark] .colab-df-convert {\n",
              "      background-color: #3B4455;\n",
              "      fill: #D2E3FC;\n",
              "    }\n",
              "\n",
              "    [theme=dark] .colab-df-convert:hover {\n",
              "      background-color: #434B5C;\n",
              "      box-shadow: 0px 1px 3px 1px rgba(0, 0, 0, 0.15);\n",
              "      filter: drop-shadow(0px 1px 2px rgba(0, 0, 0, 0.3));\n",
              "      fill: #FFFFFF;\n",
              "    }\n",
              "  </style>\n",
              "\n",
              "      <script>\n",
              "        const buttonEl =\n",
              "          document.querySelector('#df-4fe71f63-dd8a-483d-8bda-8cbfe7492d51 button.colab-df-convert');\n",
              "        buttonEl.style.display =\n",
              "          google.colab.kernel.accessAllowed ? 'block' : 'none';\n",
              "\n",
              "        async function convertToInteractive(key) {\n",
              "          const element = document.querySelector('#df-4fe71f63-dd8a-483d-8bda-8cbfe7492d51');\n",
              "          const dataTable =\n",
              "            await google.colab.kernel.invokeFunction('convertToInteractive',\n",
              "                                                     [key], {});\n",
              "          if (!dataTable) return;\n",
              "\n",
              "          const docLinkHtml = 'Like what you see? Visit the ' +\n",
              "            '<a target=\"_blank\" href=https://colab.research.google.com/notebooks/data_table.ipynb>data table notebook</a>'\n",
              "            + ' to learn more about interactive tables.';\n",
              "          element.innerHTML = '';\n",
              "          dataTable['output_type'] = 'display_data';\n",
              "          await google.colab.output.renderOutput(dataTable, element);\n",
              "          const docLink = document.createElement('div');\n",
              "          docLink.innerHTML = docLinkHtml;\n",
              "          element.appendChild(docLink);\n",
              "        }\n",
              "      </script>\n",
              "    </div>\n",
              "  </div>\n",
              "  "
            ]
          },
          "metadata": {},
          "execution_count": 46
        }
      ],
      "source": [
        "df = pd.read_csv('recipes.csv', index_col=0)\n",
        "df.head()"
      ]
    },
    {
      "cell_type": "code",
      "execution_count": 47,
      "id": "48b5850f",
      "metadata": {
        "colab": {
          "base_uri": "https://localhost:8080/"
        },
        "id": "48b5850f",
        "outputId": "4afb6480-8b82-46dc-faf0-ff1e0e90d675"
      },
      "outputs": [
        {
          "output_type": "execute_result",
          "data": {
            "text/plain": [
              "(146.0, 84.0, 176.0)"
            ]
          },
          "metadata": {},
          "execution_count": 47
        }
      ],
      "source": [
        "price_a.update(df['price_A'].to_dict())\n",
        "price_b.update(df['price_B'].to_dict())\n",
        "price_c.update(df['price_C'].to_dict())\n",
        "price_a['Apple Pie'], price_b['Apple Pie'], price_c['Apple Pie']"
      ]
    },
    {
      "cell_type": "markdown",
      "id": "f12c408d",
      "metadata": {
        "id": "f12c408d"
      },
      "source": [
        "Modify the evaluation function to take into account these recipes, making sure not to break the weight or stock constraints. The weight of a recipe is the sum total weight of the ingredients, and you can not make a recipe if you don't have the remaining stock of ingredients. Here's an example of calculating the total weight of a random load of only recipes:"
      ]
    },
    {
      "cell_type": "code",
      "execution_count": 48,
      "id": "bf9c9986",
      "metadata": {
        "colab": {
          "base_uri": "https://localhost:8080/"
        },
        "id": "bf9c9986",
        "outputId": "df625764-5376-4e0e-8e36-b699dba6eae2"
      },
      "outputs": [
        {
          "output_type": "execute_result",
          "data": {
            "text/plain": [
              "{'Ratatouille': 2,\n",
              " 'Apple Pie': 4,\n",
              " 'Apricot Pie': 1,\n",
              " 'Cherry Pie': 0,\n",
              " 'Rhubarb Pie': 3,\n",
              " 'Strawberry Pie': 0,\n",
              " 'Blackberry Pie': 2,\n",
              " 'Pumpkin Pie': 2,\n",
              " 'Pizza': 3,\n",
              " 'Baba Ghanoush': 4,\n",
              " 'Squash Soup': 1,\n",
              " 'Peach Beer': 1,\n",
              " 'Blackberry Beer': 1}"
            ]
          },
          "metadata": {},
          "execution_count": 48
        }
      ],
      "source": [
        "recipe_load = {}\n",
        "for k in recipes:\n",
        "    recipe_load[k] = np.random.randint(0, 5)\n",
        "recipe_load"
      ]
    },
    {
      "cell_type": "code",
      "execution_count": 49,
      "id": "6fbd7e02",
      "metadata": {
        "id": "6fbd7e02"
      },
      "outputs": [],
      "source": [
        "def get_weight(recipe_load, recipes, weight):\n",
        "    total_weight = 0\n",
        "    for k in recipe_load:\n",
        "        ingredients = recipes[k]\n",
        "        w = 0\n",
        "        for i in ingredients:\n",
        "            w += weight[i] * ingredients[i]\n",
        "        total_weight += w * recipe_load[k]\n",
        "    return total_weight"
      ]
    },
    {
      "cell_type": "code",
      "execution_count": 50,
      "id": "22027764",
      "metadata": {
        "colab": {
          "base_uri": "https://localhost:8080/"
        },
        "id": "22027764",
        "outputId": "86946958-978b-4095-9be1-08681352520f"
      },
      "outputs": [
        {
          "output_type": "execute_result",
          "data": {
            "text/plain": [
              "1324"
            ]
          },
          "metadata": {},
          "execution_count": 50
        }
      ],
      "source": [
        "get_weight(recipe_load, recipes, weight)"
      ]
    },
    {
      "cell_type": "markdown",
      "id": "16aa5d3d",
      "metadata": {
        "id": "16aa5d3d"
      },
      "source": [
        "Once you've modified the evaluation function, rerun the optimization algorithm to find a new load for the three resellers, and one load which is good for all three. Display this result and the profit gained, making sure that the constraints are met."
      ]
    },
    {
      "cell_type": "code",
      "source": [
        "trial_load = {}\n",
        "\n",
        "for k in stock:\n",
        "    trial_load[k] = np.random.randint(0, stock[k])\n",
        "final_load = {**recipe_load, **trial_load}\n",
        "print(final_load)"
      ],
      "metadata": {
        "id": "wdEDW9Y2QlMF",
        "outputId": "5afb4d88-a153-4775-b067-c7a53fc4d7b7",
        "colab": {
          "base_uri": "https://localhost:8080/"
        }
      },
      "id": "wdEDW9Y2QlMF",
      "execution_count": 59,
      "outputs": [
        {
          "output_type": "stream",
          "name": "stdout",
          "text": [
            "{'Ratatouille': 2, 'Apple Pie': 4, 'Apricot Pie': 1, 'Cherry Pie': 0, 'Rhubarb Pie': 3, 'Strawberry Pie': 0, 'Blackberry Pie': 2, 'Pumpkin Pie': 2, 'Pizza': 3, 'Baba Ghanoush': 4, 'Squash Soup': 1, 'Peach Beer': 1, 'Blackberry Beer': 1, 'Apple': 3, 'Apricot': 16, 'Blueberry': 1, 'Cactus Fruit': 80, 'Cherry': 11, 'Cranberry': 14, 'Grape': 1, 'Melon': 13, 'Orange': 32, 'Peach': 33, 'Pomegranate': 4, 'Rhubarb': 41, 'Starfruit': 3, 'Strawberry': 18, 'Amaranth': 3, 'Artichoke': 0, 'Beet': 9, 'Bok Choy': 40, 'Cauliflower': 14, 'Corn': 60, 'Eggplant': 86, 'Garlic': 73, 'Green Bean': 9, 'Hops': 39, 'Hot Pepper': 22, 'Kale': 0, 'Parsnip': 0, 'Potato': 49, 'Pumpkin': 1, 'Radish': 9, 'Red Cabbage': 30, 'Tomato': 9, 'Wheat': 54, 'Yam': 6, 'Blackberry': 30}\n"
          ]
        }
      ]
    },
    {
      "cell_type": "code",
      "source": [
        "load = final_load.copy()\n",
        "for k in final_load:\n",
        "    if k in recipes.keys():\n",
        "        print(1)\n",
        "        list_ingr = []\n",
        "        dict_thisRecipe = recipes[k]\n",
        "        # Check if there are enough ingredients\n",
        "        for ingredient in dict_thisRecipe:\n",
        "            list_ingr.append(ingredient)\n",
        "        print(list_ingr)\n",
        "        print('longueur', len(dict_thisRecipe))\n",
        "    else:\n",
        "        print(0)"
      ],
      "metadata": {
        "id": "4RdnRVqCRhsS",
        "outputId": "9019d599-d494-405a-ca35-8f9abe8135bc",
        "colab": {
          "base_uri": "https://localhost:8080/"
        }
      },
      "id": "4RdnRVqCRhsS",
      "execution_count": 82,
      "outputs": [
        {
          "output_type": "stream",
          "name": "stdout",
          "text": [
            "1\n",
            "['Eggplant', 'Garlic', 'Tomato', 'Hot Pepper']\n",
            "longueur 4\n",
            "1\n",
            "['Apple', 'Wheat']\n",
            "longueur 2\n",
            "1\n",
            "['Apricot', 'Wheat']\n",
            "longueur 2\n",
            "1\n",
            "['Cherry', 'Wheat']\n",
            "longueur 2\n",
            "1\n",
            "['Rhubarb', 'Wheat']\n",
            "longueur 2\n",
            "1\n",
            "['Strawberry', 'Wheat']\n",
            "longueur 2\n",
            "1\n",
            "['Blackberry', 'Wheat']\n",
            "longueur 2\n",
            "1\n",
            "['Pumpkin', 'Wheat']\n",
            "longueur 2\n",
            "1\n",
            "['Tomato', 'Wheat', 'Artichoke']\n",
            "longueur 3\n",
            "1\n",
            "['Eggplant', 'Garlic']\n",
            "longueur 2\n",
            "1\n",
            "['Yam', 'Pumpkin']\n",
            "longueur 2\n",
            "1\n",
            "['Hops', 'Peach']\n",
            "longueur 2\n",
            "1\n",
            "['Hops', 'Blackberry']\n",
            "longueur 2\n",
            "0\n",
            "0\n",
            "0\n",
            "0\n",
            "0\n",
            "0\n",
            "0\n",
            "0\n",
            "0\n",
            "0\n",
            "0\n",
            "0\n",
            "0\n",
            "0\n",
            "0\n",
            "0\n",
            "0\n",
            "0\n",
            "0\n",
            "0\n",
            "0\n",
            "0\n",
            "0\n",
            "0\n",
            "0\n",
            "0\n",
            "0\n",
            "0\n",
            "0\n",
            "0\n",
            "0\n",
            "0\n",
            "0\n",
            "0\n",
            "0\n"
          ]
        }
      ]
    },
    {
      "cell_type": "code",
      "source": [
        "def evaluate_with_recipes(load, stock, weight, price, max_weight=5000):\n",
        "    total_weight = 0\n",
        "    total_price = 0\n",
        "    current_stock = stock.copy()\n",
        "    for k in load:\n",
        "        if k in recipes.keys():\n",
        "            dict_thisRecipe = recipes[k]\n",
        "            weight_recipe = 0\n",
        "            # Check if there are enough ingredients\n",
        "            for ingredient in dict_thisRecipe:\n",
        "                nb_ingredient = load[k] * dict_thisRecipe[ingredient]\n",
        "                if (nb_ingredient+load[ingredient]) < current_stock[ingredient]:\n",
        "                    weight_recipe += nb_ingredient * weight[ingredient]\n",
        "                    #load.update({str(ingredient) : load[ingredient] - nb_ingredient})\n",
        "                    current_stock.update({str(ingredient) : current_stock[ingredient] - nb_ingredient})\n",
        "                else:\n",
        "                    return 0\n",
        "            total_price = final_load[k] * price[k]\n",
        "            total_weight += weight_recipe       \n",
        "        else:\n",
        "            # Initial evaluation for the remaining elements in the final load\n",
        "            if load[k] <= stock[k]:\n",
        "                total_price += load[k] * price[k]\n",
        "                total_weight += load[k] * weight[k]\n",
        "                if total_weight > max_weight:\n",
        "                    return 0\n",
        "            else:\n",
        "                return 0\n",
        "    return total_price"
      ],
      "metadata": {
        "id": "fvBGtrBTMDV6"
      },
      "id": "fvBGtrBTMDV6",
      "execution_count": 77,
      "outputs": []
    },
    {
      "cell_type": "code",
      "source": [
        "def evaluate_with_recipes2(load, stock, weight, price, max_weight=5000):\n",
        "    total_weight = 0\n",
        "    total_price = 0\n",
        "    final_load = load.copy()\n",
        "    for k in load:\n",
        "        for r in recipes.keys():\n",
        "            dict_thisRecipe = recipes[r]\n",
        "            weight_recipe = 0\n",
        "            nb_recipe = 0\n",
        "            # Check if we can make the recipe with our numbers of ingredients\n",
        "            list_ingredient = np.zeros(len(dict_thisRecipe))\n",
        "            for ingredient in dict_thisRecipe:\n",
        "                nb_ingredient = 0\n",
        "                ind = 0\n",
        "                while nb_ingredient * dict_thisRecipe[ingredient] < stock[ingredient]:\n",
        "                    list_ingredient[ind] = nb_ingredient\n",
        "                    nb_ingredient += 1\n",
        "                if list_ingredient[ind] == 0:\n",
        "                    break\n",
        "                ind += 1\n",
        "            nb_recipe = np.min(list_ingredient)\n",
        "            if nb_recipe != 0:\n",
        "                for ing in dict_thisRecipe:\n",
        "                    nb_ing = nb_recipe * dict_thisRecipe[ing]\n",
        "                    weight_recipe += nb_ing * weight[ing]\n",
        "                    #load.update({str(ingredient) : load[ingredient] - nb_ingredient})\n",
        "                    final_load.update({str(ing) : final_load[ing] - nb_ing})\n",
        "                    recipe_load.update({str(r) : nb_recipe})\n",
        "                print(recipe_load)\n",
        "                total_price += nb_recipe * price[k]\n",
        "                total_weight += weight_recipe      \n",
        "        else:\n",
        "            # Initial evaluation for the remaining elements in the final load\n",
        "            if final_load[k] <= stock[k]:\n",
        "                total_price += final_load[k] * price[k]\n",
        "                total_weight += final_load[k] * weight[k]\n",
        "                if total_weight > max_weight:\n",
        "                    return 0\n",
        "            else:\n",
        "                return 0\n",
        "    return total_price"
      ],
      "metadata": {
        "id": "CM0Fb0kibj1H"
      },
      "id": "CM0Fb0kibj1H",
      "execution_count": 92,
      "outputs": []
    },
    {
      "cell_type": "code",
      "source": [
        "evaluate_with_recipes(final_load, stock, weight, price_a)"
      ],
      "metadata": {
        "id": "XNqVGEjDXRRj",
        "outputId": "c3c7eeca-2c38-46e8-b985-d59ae99d6302",
        "colab": {
          "base_uri": "https://localhost:8080/",
          "height": 288
        }
      },
      "id": "XNqVGEjDXRRj",
      "execution_count": 84,
      "outputs": [
        {
          "output_type": "error",
          "ename": "KeyError",
          "evalue": "ignored",
          "traceback": [
            "\u001b[0;31m---------------------------------------------------------------------------\u001b[0m",
            "\u001b[0;31mKeyError\u001b[0m                                  Traceback (most recent call last)",
            "\u001b[0;32m<ipython-input-84-78a8e09578c4>\u001b[0m in \u001b[0;36m<module>\u001b[0;34m\u001b[0m\n\u001b[0;32m----> 1\u001b[0;31m \u001b[0mevaluate_with_recipes\u001b[0m\u001b[0;34m(\u001b[0m\u001b[0mfinal_load\u001b[0m\u001b[0;34m,\u001b[0m \u001b[0mstock\u001b[0m\u001b[0;34m,\u001b[0m \u001b[0mweight\u001b[0m\u001b[0;34m,\u001b[0m \u001b[0mprice_a\u001b[0m\u001b[0;34m)\u001b[0m\u001b[0;34m\u001b[0m\u001b[0;34m\u001b[0m\u001b[0m\n\u001b[0m",
            "\u001b[0;32m<ipython-input-83-9e72d1b2d36c>\u001b[0m in \u001b[0;36mevaluate_with_recipes\u001b[0;34m(load, stock, weight, price, max_weight)\u001b[0m\n\u001b[1;32m     30\u001b[0m         \u001b[0;32melse\u001b[0m\u001b[0;34m:\u001b[0m\u001b[0;34m\u001b[0m\u001b[0;34m\u001b[0m\u001b[0m\n\u001b[1;32m     31\u001b[0m             \u001b[0;31m# Initial evaluation for the remaining elements in the final load\u001b[0m\u001b[0;34m\u001b[0m\u001b[0;34m\u001b[0m\u001b[0;34m\u001b[0m\u001b[0m\n\u001b[0;32m---> 32\u001b[0;31m             \u001b[0;32mif\u001b[0m \u001b[0mfinal_load\u001b[0m\u001b[0;34m[\u001b[0m\u001b[0mk\u001b[0m\u001b[0;34m]\u001b[0m \u001b[0;34m<=\u001b[0m \u001b[0mstock\u001b[0m\u001b[0;34m[\u001b[0m\u001b[0mk\u001b[0m\u001b[0;34m]\u001b[0m\u001b[0;34m:\u001b[0m\u001b[0;34m\u001b[0m\u001b[0;34m\u001b[0m\u001b[0m\n\u001b[0m\u001b[1;32m     33\u001b[0m                 \u001b[0mtotal_price\u001b[0m \u001b[0;34m+=\u001b[0m \u001b[0mfinal_load\u001b[0m\u001b[0;34m[\u001b[0m\u001b[0mk\u001b[0m\u001b[0;34m]\u001b[0m \u001b[0;34m*\u001b[0m \u001b[0mprice\u001b[0m\u001b[0;34m[\u001b[0m\u001b[0mk\u001b[0m\u001b[0;34m]\u001b[0m\u001b[0;34m\u001b[0m\u001b[0;34m\u001b[0m\u001b[0m\n\u001b[1;32m     34\u001b[0m                 \u001b[0mtotal_weight\u001b[0m \u001b[0;34m+=\u001b[0m \u001b[0mfinal_load\u001b[0m\u001b[0;34m[\u001b[0m\u001b[0mk\u001b[0m\u001b[0;34m]\u001b[0m \u001b[0;34m*\u001b[0m \u001b[0mweight\u001b[0m\u001b[0;34m[\u001b[0m\u001b[0mk\u001b[0m\u001b[0;34m]\u001b[0m\u001b[0;34m\u001b[0m\u001b[0;34m\u001b[0m\u001b[0m\n",
            "\u001b[0;31mKeyError\u001b[0m: 'Ratatouille'"
          ]
        }
      ]
    },
    {
      "cell_type": "code",
      "source": [
        "def evaluate_population_3(population, price_2):\n",
        "    fit = []\n",
        "    for i in range(len(population)):\n",
        "      if(price_2 != 'all_three'):\n",
        "        prix_2 = evaluate_with_recipes2(population[i], stock, weight, price_2)\n",
        "        fit.append(prix_2)\n",
        "      else:\n",
        "        prix_2 = evaluate(population[i], stock, weight, price_a) + evaluate(population[i], stock, weight, price_b) + evaluate(population[i], stock, weight, price_c)\n",
        "        prix_2 = prix_2/3\n",
        "        fit.append(prix_2)\n",
        "    return fit"
      ],
      "metadata": {
        "id": "ugwaUM2sMaNP"
      },
      "id": "ugwaUM2sMaNP",
      "execution_count": 93,
      "outputs": []
    },
    {
      "cell_type": "code",
      "source": [
        "n_population = 100\n",
        "population_trail_load = []\n",
        "\n",
        "for i in range(n_population):\n",
        "    trial_load = {}\n",
        "    for k in stock:\n",
        "        trial_load[k] = np.random.randint(0, stock[k])\n",
        "    population_trail_load.append(trial_load)\n",
        "    '''\n",
        "    recipe_load = {}\n",
        "    for k in recipes:\n",
        "        recipe_load[k] = np.random.randint(0, 5)\n",
        "    final_load = {**recipe_load, **trial_load}\n",
        "    population_trail_load.append(final_load)\n",
        "    '''\n",
        "    \n",
        "\n",
        "fitness = evaluate_population_3(population_trail_load, price_a)\n",
        "\n",
        "count = 0\n",
        "for fit in fitness:\n",
        "    if fit != 0:\n",
        "        print(fit)\n",
        "        count += 1\n",
        "print('Nb of non-null fitness:', count)"
      ],
      "metadata": {
        "id": "nfAkRsilZN7S",
        "outputId": "96146d57-ba76-402d-8c84-b9a173515f39",
        "colab": {
          "base_uri": "https://localhost:8080/"
        }
      },
      "id": "nfAkRsilZN7S",
      "execution_count": 94,
      "outputs": [
        {
          "output_type": "stream",
          "name": "stdout",
          "text": [
            "796.1499999999999\n",
            "714.9000000000001\n",
            "595.0\n",
            "777.3500000000003\n",
            "713.9\n",
            "823.45\n",
            "819.7500000000001\n",
            "941.1999999999999\n",
            "703.85\n",
            "662.8499999999998\n",
            "808.8000000000002\n",
            "786.9999999999999\n",
            "685.4500000000002\n",
            "549.85\n",
            "599.9\n",
            "635.4\n",
            "722.5999999999998\n",
            "605.0\n",
            "713.8500000000001\n",
            "709.25\n",
            "663.45\n",
            "670.5\n",
            "817.6999999999999\n",
            "772.15\n",
            "722.1\n",
            "445.59999999999997\n",
            "660.9500000000002\n",
            "602.9\n",
            "716.1499999999999\n",
            "773.65\n",
            "781.0999999999999\n",
            "703.3999999999999\n",
            "572.3499999999999\n",
            "694.0000000000001\n",
            "806.5000000000001\n",
            "642.05\n",
            "657.4\n",
            "757.0500000000002\n",
            "718.3500000000001\n",
            "651.6999999999999\n",
            "802.0000000000001\n",
            "762.1999999999999\n",
            "716.6\n",
            "621.7500000000001\n",
            "791.5000000000001\n",
            "768.75\n",
            "694.9499999999999\n",
            "658.9000000000001\n",
            "779.4000000000001\n",
            "754.6000000000001\n",
            "815.1000000000001\n",
            "731.2500000000001\n",
            "645.0\n",
            "800.5999999999999\n",
            "624.9999999999999\n",
            "635.6999999999999\n",
            "837.05\n",
            "663.9499999999999\n",
            "704.75\n",
            "788.4500000000002\n",
            "623.7499999999999\n",
            "652.9499999999999\n",
            "712.45\n",
            "555.4999999999999\n",
            "766.9499999999999\n",
            "718.4499999999998\n",
            "821.7500000000001\n",
            "739.5000000000002\n",
            "697.35\n",
            "758.9999999999999\n",
            "856.5\n",
            "853.4000000000004\n",
            "681.0999999999999\n",
            "562.3000000000001\n",
            "623.45\n",
            "771.7500000000001\n",
            "779.7999999999998\n",
            "737.25\n",
            "775.4\n",
            "768.0\n",
            "705.45\n",
            "616.8999999999997\n",
            "639.15\n",
            "615.6499999999999\n",
            "613.25\n",
            "636.0499999999998\n",
            "698.7000000000002\n",
            "772.85\n",
            "759.6000000000001\n",
            "634.6500000000001\n",
            "644.6999999999999\n",
            "690.75\n",
            "721.6500000000001\n",
            "Nb of non-null fitness: 93\n"
          ]
        }
      ]
    },
    {
      "cell_type": "markdown",
      "id": "ac9e164e",
      "metadata": {
        "id": "ac9e164e"
      },
      "source": [
        "## Evaluation"
      ]
    },
    {
      "cell_type": "markdown",
      "id": "3fc7150b",
      "metadata": {
        "id": "3fc7150b"
      },
      "source": [
        "You should submit a saved copy of your notebook (including all of the cell output) to the LMS by December 13th, EOD. You may work with one partner, but you must **individually submit a notebook**. You will be graded based on your results, your code, and any text or visual explanations, according to the following rubric:\n",
        "\n",
        "Criterion | Points\n",
        "--- | ---\n",
        "Results - Challenge 1 | 7\n",
        "Results - Challenge 2 | 5\n",
        "Results - Challenge 3 | 3\n",
        "Presentation (code, text) | 5"
      ]
    },
    {
      "cell_type": "code",
      "execution_count": null,
      "id": "7520033a",
      "metadata": {
        "id": "7520033a"
      },
      "outputs": [],
      "source": []
    },
    {
      "cell_type": "code",
      "source": [
        "from pymoo.core.problem import ElementwiseProblem\n",
        "from pymoo.core.variable import Real, Integer, Choice, Binary\n",
        "\n",
        "class MOPMD(ElementwiseProblem):\n",
        "    \n",
        "    def __init__(self, **kwargs):\n",
        "        \n",
        "        # lower bound\n",
        "        variable = {}\n",
        "        \n",
        "        for k in stock:\n",
        "            trial_load[k] = Integer(0, stock[k])\n",
        "        \n",
        "        #self.n_obj\n",
        "        \n",
        "        super().__init__(n_var=35, n_obj=3, **kwargs)\n",
        "        \n",
        "    def evaluate(self, load, stock, weight, price, max_weight=5000):\n",
        "        total_weight = 0\n",
        "        total_price = 0\n",
        "        for k in load:\n",
        "            if load[k] <= stock[k]:\n",
        "                total_price += load[k] * price[k]\n",
        "                total_weight += load[k] * weight[k]\n",
        "                if total_weight > max_weight:\n",
        "                    total_price = 0\n",
        "                    break\n",
        "            else:\n",
        "                total_price = 0\n",
        "                break\n",
        "        return total_price\n",
        "    \n",
        "    def evaluate_population_2(self, population, out, price_2):\n",
        "        fit = np.zeros((len(self.n_obs),len(self.population)))\n",
        "        for p in range(len(self.n_obs)):\n",
        "            for i in range(len(self.population)):\n",
        "                prix_2 = self.evaluate(population[i], stock, weight, price_2)\n",
        "                fit[p][i] = prix_2\n",
        "        out[\"F\"] = [fit[0][:], fit[1][:], fit[2][:]]"
      ],
      "metadata": {
        "id": "Dccbay2i-9NN"
      },
      "id": "Dccbay2i-9NN",
      "execution_count": 41,
      "outputs": []
    },
    {
      "cell_type": "code",
      "source": [
        "from pymoo.algorithms.moo.nsga2 import NSGA2\n",
        "from pymoo.operators.crossover.erx import EdgeRecombinationCrossover\n",
        "from pymoo.operators.sampling.rnd import PermutationRandomSampling\n",
        "from pymoo.operators.mutation.inversion import InversionMutation\n",
        "\n",
        "algorithm = NSGA2(\n",
        "    pop_size=100,\n",
        "    n_offspring = 100,\n",
        "    sampling=PermutationRandomSampling(),\n",
        "    crossover=EdgeRecombinationCrossover(),\n",
        "    mutation=InversionMutation(),\n",
        "    eliminate_duplicates=True\n",
        ")"
      ],
      "metadata": {
        "id": "I-ivKx-LAOU0"
      },
      "id": "I-ivKx-LAOU0",
      "execution_count": 42,
      "outputs": []
    },
    {
      "cell_type": "code",
      "source": [
        "problem = MOPMD()\n",
        "\n",
        "from pymoo.optimize import maximize\n",
        "\n",
        "res = maximize(problem,\n",
        "               algorithm,\n",
        "               (\"n_gen\", 100),\n",
        "               seed=1,\n",
        "               save_history=True,\n",
        "               verbose=False)"
      ],
      "metadata": {
        "id": "k5wa4k3g2UXH",
        "outputId": "1863f5ed-4932-47a6-b98e-0a0007b2b894",
        "colab": {
          "base_uri": "https://localhost:8080/",
          "height": 374
        }
      },
      "id": "k5wa4k3g2UXH",
      "execution_count": 43,
      "outputs": [
        {
          "output_type": "error",
          "ename": "ImportError",
          "evalue": "ignored",
          "traceback": [
            "\u001b[0;31m---------------------------------------------------------------------------\u001b[0m",
            "\u001b[0;31mImportError\u001b[0m                               Traceback (most recent call last)",
            "\u001b[0;32m<ipython-input-43-61e6a87a89d6>\u001b[0m in \u001b[0;36m<module>\u001b[0;34m\u001b[0m\n\u001b[1;32m      1\u001b[0m \u001b[0mproblem\u001b[0m \u001b[0;34m=\u001b[0m \u001b[0mMOPMD\u001b[0m\u001b[0;34m(\u001b[0m\u001b[0;34m)\u001b[0m\u001b[0;34m\u001b[0m\u001b[0;34m\u001b[0m\u001b[0m\n\u001b[1;32m      2\u001b[0m \u001b[0;34m\u001b[0m\u001b[0m\n\u001b[0;32m----> 3\u001b[0;31m \u001b[0;32mfrom\u001b[0m \u001b[0mpymoo\u001b[0m\u001b[0;34m.\u001b[0m\u001b[0moptimize\u001b[0m \u001b[0;32mimport\u001b[0m \u001b[0mmaximize\u001b[0m\u001b[0;34m\u001b[0m\u001b[0;34m\u001b[0m\u001b[0m\n\u001b[0m\u001b[1;32m      4\u001b[0m \u001b[0;34m\u001b[0m\u001b[0m\n\u001b[1;32m      5\u001b[0m res = maximize(problem,\n",
            "\u001b[0;31mImportError\u001b[0m: cannot import name 'maximize' from 'pymoo.optimize' (/usr/local/lib/python3.8/dist-packages/pymoo/optimize.py)",
            "",
            "\u001b[0;31m---------------------------------------------------------------------------\u001b[0;32m\nNOTE: If your import is failing due to a missing package, you can\nmanually install dependencies using either !pip or !apt.\n\nTo view examples of installing some common dependencies, click the\n\"Open Examples\" button below.\n\u001b[0;31m---------------------------------------------------------------------------\u001b[0m\n"
          ],
          "errorDetails": {
            "actions": [
              {
                "action": "open_url",
                "actionText": "Open Examples",
                "url": "/notebooks/snippets/importing_libraries.ipynb"
              }
            ]
          }
        }
      ]
    }
  ],
  "metadata": {
    "kernelspec": {
      "display_name": "Python 3 (ipykernel)",
      "language": "python",
      "name": "python3"
    },
    "language_info": {
      "codemirror_mode": {
        "name": "ipython",
        "version": 3
      },
      "file_extension": ".py",
      "mimetype": "text/x-python",
      "name": "python",
      "nbconvert_exporter": "python",
      "pygments_lexer": "ipython3",
      "version": "3.8.10"
    },
    "colab": {
      "provenance": [],
      "include_colab_link": true
    }
  },
  "nbformat": 4,
  "nbformat_minor": 5
}