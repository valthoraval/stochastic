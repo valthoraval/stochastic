{
  "cells": [
    {
      "cell_type": "markdown",
      "metadata": {
        "id": "view-in-github",
        "colab_type": "text"
      },
      "source": [
        "<a href=\"https://colab.research.google.com/github/valthoraval/stochastic/blob/master/Project_Market_Day_checkpoint.ipynb\" target=\"_parent\"><img src=\"https://colab.research.google.com/assets/colab-badge.svg\" alt=\"Open In Colab\"/></a>"
      ]
    },
    {
      "cell_type": "markdown",
      "id": "d8823f9d",
      "metadata": {
        "id": "d8823f9d"
      },
      "source": [
        "# Project - Market Day\n",
        "\n",
        "<a rel=\"license\" href=\"http://creativecommons.org/licenses/by-sa/4.0/\"><img alt=\"Creative Commons License\" align=\"left\" src=\"https://i.creativecommons.org/l/by-sa/4.0/80x15.png\" /></a>&nbsp;| Dennis G. Wilson | <a href=\"https://supaerodatascience.github.io/stochastic/\">https://supaerodatascience.github.io/stochastic/</a>"
      ]
    },
    {
      "cell_type": "markdown",
      "id": "e6452934",
      "metadata": {
        "id": "e6452934"
      },
      "source": [
        "![Stardew Valley](https://venturebeat.com/wp-content/uploads/2018/01/sw7rtba7p1xs77klsime.png)"
      ]
    },
    {
      "cell_type": "markdown",
      "id": "68359e75",
      "metadata": {
        "id": "68359e75"
      },
      "source": [
        "It is Market Day! You've been working hard for a whole season, planting, watering, and taking care of crops. Now it is time to sell them in town. Just one problem though - your old truck can only carry so much weight. Which crops should you bring to maximize your profits? "
      ]
    },
    {
      "cell_type": "markdown",
      "id": "fa661645",
      "metadata": {
        "id": "fa661645"
      },
      "source": [
        "In this project, you will use a stochastic algorithm of your choice to find the best crop configuration you can load into your truck. You know how much stock you have of each crop, how much each crop weighs, and what price it will fetch at the market. You should use these values throughout the project."
      ]
    },
    {
      "cell_type": "markdown",
      "id": "459e3e1a",
      "metadata": {
        "id": "459e3e1a"
      },
      "source": [
        "Before we start, if you're using colab to run this notebook, you'll need to uncomment and run the following lines:"
      ]
    },
    {
      "cell_type": "code",
      "execution_count": 1,
      "id": "c98dedf7",
      "metadata": {
        "colab": {
          "base_uri": "https://localhost:8080/"
        },
        "id": "c98dedf7",
        "outputId": "14c3ac06-c7e5-4830-cb26-cbf5a6491eca"
      },
      "outputs": [
        {
          "output_type": "stream",
          "name": "stdout",
          "text": [
            "--2022-12-06 22:28:11--  https://raw.githubusercontent.com/SupaeroDataScience/stochastic/master/project/market.csv\n",
            "Resolving raw.githubusercontent.com (raw.githubusercontent.com)... 185.199.108.133, 185.199.109.133, 185.199.110.133, ...\n",
            "Connecting to raw.githubusercontent.com (raw.githubusercontent.com)|185.199.108.133|:443... connected.\n",
            "HTTP request sent, awaiting response... 200 OK\n",
            "Length: 927 [text/plain]\n",
            "Saving to: ‘market.csv’\n",
            "\n",
            "\rmarket.csv            0%[                    ]       0  --.-KB/s               \rmarket.csv          100%[===================>]     927  --.-KB/s    in 0s      \n",
            "\n",
            "2022-12-06 22:28:11 (40.8 MB/s) - ‘market.csv’ saved [927/927]\n",
            "\n",
            "--2022-12-06 22:28:11--  https://raw.githubusercontent.com/SupaeroDataScience/stochastic/master/project/recipes.csv\n",
            "Resolving raw.githubusercontent.com (raw.githubusercontent.com)... 185.199.108.133, 185.199.109.133, 185.199.110.133, ...\n",
            "Connecting to raw.githubusercontent.com (raw.githubusercontent.com)|185.199.108.133|:443... connected.\n",
            "HTTP request sent, awaiting response... 200 OK\n",
            "Length: 388 [text/plain]\n",
            "Saving to: ‘recipes.csv’\n",
            "\n",
            "recipes.csv         100%[===================>]     388  --.-KB/s    in 0s      \n",
            "\n",
            "2022-12-06 22:28:11 (18.7 MB/s) - ‘recipes.csv’ saved [388/388]\n",
            "\n",
            "Looking in indexes: https://pypi.org/simple, https://us-python.pkg.dev/colab-wheels/public/simple/\n",
            "Collecting pymoo\n",
            "  Downloading pymoo-0.6.0-cp38-cp38-manylinux_2_24_x86_64.whl (2.1 MB)\n",
            "\u001b[K     |████████████████████████████████| 2.1 MB 18.9 MB/s \n",
            "\u001b[?25hRequirement already satisfied: autograd>=1.4 in /usr/local/lib/python3.8/dist-packages (from pymoo) (1.5)\n",
            "Collecting cma==3.2.2\n",
            "  Downloading cma-3.2.2-py2.py3-none-any.whl (249 kB)\n",
            "\u001b[K     |████████████████████████████████| 249 kB 42.4 MB/s \n",
            "\u001b[?25hRequirement already satisfied: matplotlib>=3 in /usr/local/lib/python3.8/dist-packages (from pymoo) (3.2.2)\n",
            "Requirement already satisfied: numpy>=1.15 in /usr/local/lib/python3.8/dist-packages (from pymoo) (1.21.6)\n",
            "Requirement already satisfied: scipy>=1.1 in /usr/local/lib/python3.8/dist-packages (from pymoo) (1.7.3)\n",
            "Collecting alive-progress\n",
            "  Downloading alive_progress-2.4.1-py3-none-any.whl (80 kB)\n",
            "\u001b[K     |████████████████████████████████| 80 kB 7.4 MB/s \n",
            "\u001b[?25hCollecting Deprecated\n",
            "  Downloading Deprecated-1.2.13-py2.py3-none-any.whl (9.6 kB)\n",
            "Requirement already satisfied: dill in /usr/local/lib/python3.8/dist-packages (from pymoo) (0.3.6)\n",
            "Requirement already satisfied: future>=0.15.2 in /usr/local/lib/python3.8/dist-packages (from autograd>=1.4->pymoo) (0.16.0)\n",
            "Requirement already satisfied: pyparsing!=2.0.4,!=2.1.2,!=2.1.6,>=2.0.1 in /usr/local/lib/python3.8/dist-packages (from matplotlib>=3->pymoo) (3.0.9)\n",
            "Requirement already satisfied: cycler>=0.10 in /usr/local/lib/python3.8/dist-packages (from matplotlib>=3->pymoo) (0.11.0)\n",
            "Requirement already satisfied: kiwisolver>=1.0.1 in /usr/local/lib/python3.8/dist-packages (from matplotlib>=3->pymoo) (1.4.4)\n",
            "Requirement already satisfied: python-dateutil>=2.1 in /usr/local/lib/python3.8/dist-packages (from matplotlib>=3->pymoo) (2.8.2)\n",
            "Requirement already satisfied: six>=1.5 in /usr/local/lib/python3.8/dist-packages (from python-dateutil>=2.1->matplotlib>=3->pymoo) (1.15.0)\n",
            "Collecting grapheme==0.6.0\n",
            "  Downloading grapheme-0.6.0.tar.gz (207 kB)\n",
            "\u001b[K     |████████████████████████████████| 207 kB 44.1 MB/s \n",
            "\u001b[?25hCollecting about-time==3.1.1\n",
            "  Downloading about_time-3.1.1-py3-none-any.whl (9.1 kB)\n",
            "Requirement already satisfied: wrapt<2,>=1.10 in /usr/local/lib/python3.8/dist-packages (from Deprecated->pymoo) (1.14.1)\n",
            "Building wheels for collected packages: grapheme\n",
            "  Building wheel for grapheme (setup.py) ... \u001b[?25l\u001b[?25hdone\n",
            "  Created wheel for grapheme: filename=grapheme-0.6.0-py3-none-any.whl size=210096 sha256=d9146ad3f84b67deb7b0f5b8a6f372b85e075bdad301166a373a19d76f62b19b\n",
            "  Stored in directory: /root/.cache/pip/wheels/2d/08/6b/126ea9009f7482fd53a78d0db2ece5aca70af8f4a30445386b\n",
            "Successfully built grapheme\n",
            "Installing collected packages: grapheme, about-time, Deprecated, cma, alive-progress, pymoo\n",
            "Successfully installed Deprecated-1.2.13 about-time-3.1.1 alive-progress-2.4.1 cma-3.2.2 grapheme-0.6.0 pymoo-0.6.0\n"
          ]
        }
      ],
      "source": [
        "!wget https://raw.githubusercontent.com/SupaeroDataScience/stochastic/master/project/market.csv\n",
        "!wget https://raw.githubusercontent.com/SupaeroDataScience/stochastic/master/project/recipes.csv\n",
        "!pip install pymoo"
      ]
    },
    {
      "cell_type": "code",
      "execution_count": 2,
      "id": "3fd3c7cf",
      "metadata": {
        "id": "3fd3c7cf"
      },
      "outputs": [],
      "source": [
        "import numpy as np\n",
        "import pandas as pd\n",
        "import pymoo\n",
        "import copy\n",
        "\n",
        "%matplotlib inline\n",
        "import matplotlib.pyplot as plt\n",
        "import numpy as np\n",
        "import math\n",
        "\n",
        "import random"
      ]
    },
    {
      "cell_type": "code",
      "execution_count": 3,
      "id": "1c3d4f41",
      "metadata": {
        "colab": {
          "base_uri": "https://localhost:8080/",
          "height": 206
        },
        "id": "1c3d4f41",
        "outputId": "e54d7d5a-76ea-4337-9db9-49ccd9dac54b"
      },
      "outputs": [
        {
          "output_type": "execute_result",
          "data": {
            "text/plain": [
              "              stock  weight  price_A  price_B  price_C\n",
              "Apple             5       5     1.00      0.5      1.1\n",
              "Apricot          65       3     0.50      0.2      0.6\n",
              "Blueberry         5       3     0.50      0.3      1.2\n",
              "Cactus Fruit     90       4     0.75      0.3      0.3\n",
              "Cherry           15       4     0.80      0.4      1.1"
            ],
            "text/html": [
              "\n",
              "  <div id=\"df-743d3464-d0eb-4c12-9ace-9124cf11ddd1\">\n",
              "    <div class=\"colab-df-container\">\n",
              "      <div>\n",
              "<style scoped>\n",
              "    .dataframe tbody tr th:only-of-type {\n",
              "        vertical-align: middle;\n",
              "    }\n",
              "\n",
              "    .dataframe tbody tr th {\n",
              "        vertical-align: top;\n",
              "    }\n",
              "\n",
              "    .dataframe thead th {\n",
              "        text-align: right;\n",
              "    }\n",
              "</style>\n",
              "<table border=\"1\" class=\"dataframe\">\n",
              "  <thead>\n",
              "    <tr style=\"text-align: right;\">\n",
              "      <th></th>\n",
              "      <th>stock</th>\n",
              "      <th>weight</th>\n",
              "      <th>price_A</th>\n",
              "      <th>price_B</th>\n",
              "      <th>price_C</th>\n",
              "    </tr>\n",
              "  </thead>\n",
              "  <tbody>\n",
              "    <tr>\n",
              "      <th>Apple</th>\n",
              "      <td>5</td>\n",
              "      <td>5</td>\n",
              "      <td>1.00</td>\n",
              "      <td>0.5</td>\n",
              "      <td>1.1</td>\n",
              "    </tr>\n",
              "    <tr>\n",
              "      <th>Apricot</th>\n",
              "      <td>65</td>\n",
              "      <td>3</td>\n",
              "      <td>0.50</td>\n",
              "      <td>0.2</td>\n",
              "      <td>0.6</td>\n",
              "    </tr>\n",
              "    <tr>\n",
              "      <th>Blueberry</th>\n",
              "      <td>5</td>\n",
              "      <td>3</td>\n",
              "      <td>0.50</td>\n",
              "      <td>0.3</td>\n",
              "      <td>1.2</td>\n",
              "    </tr>\n",
              "    <tr>\n",
              "      <th>Cactus Fruit</th>\n",
              "      <td>90</td>\n",
              "      <td>4</td>\n",
              "      <td>0.75</td>\n",
              "      <td>0.3</td>\n",
              "      <td>0.3</td>\n",
              "    </tr>\n",
              "    <tr>\n",
              "      <th>Cherry</th>\n",
              "      <td>15</td>\n",
              "      <td>4</td>\n",
              "      <td>0.80</td>\n",
              "      <td>0.4</td>\n",
              "      <td>1.1</td>\n",
              "    </tr>\n",
              "  </tbody>\n",
              "</table>\n",
              "</div>\n",
              "      <button class=\"colab-df-convert\" onclick=\"convertToInteractive('df-743d3464-d0eb-4c12-9ace-9124cf11ddd1')\"\n",
              "              title=\"Convert this dataframe to an interactive table.\"\n",
              "              style=\"display:none;\">\n",
              "        \n",
              "  <svg xmlns=\"http://www.w3.org/2000/svg\" height=\"24px\"viewBox=\"0 0 24 24\"\n",
              "       width=\"24px\">\n",
              "    <path d=\"M0 0h24v24H0V0z\" fill=\"none\"/>\n",
              "    <path d=\"M18.56 5.44l.94 2.06.94-2.06 2.06-.94-2.06-.94-.94-2.06-.94 2.06-2.06.94zm-11 1L8.5 8.5l.94-2.06 2.06-.94-2.06-.94L8.5 2.5l-.94 2.06-2.06.94zm10 10l.94 2.06.94-2.06 2.06-.94-2.06-.94-.94-2.06-.94 2.06-2.06.94z\"/><path d=\"M17.41 7.96l-1.37-1.37c-.4-.4-.92-.59-1.43-.59-.52 0-1.04.2-1.43.59L10.3 9.45l-7.72 7.72c-.78.78-.78 2.05 0 2.83L4 21.41c.39.39.9.59 1.41.59.51 0 1.02-.2 1.41-.59l7.78-7.78 2.81-2.81c.8-.78.8-2.07 0-2.86zM5.41 20L4 18.59l7.72-7.72 1.47 1.35L5.41 20z\"/>\n",
              "  </svg>\n",
              "      </button>\n",
              "      \n",
              "  <style>\n",
              "    .colab-df-container {\n",
              "      display:flex;\n",
              "      flex-wrap:wrap;\n",
              "      gap: 12px;\n",
              "    }\n",
              "\n",
              "    .colab-df-convert {\n",
              "      background-color: #E8F0FE;\n",
              "      border: none;\n",
              "      border-radius: 50%;\n",
              "      cursor: pointer;\n",
              "      display: none;\n",
              "      fill: #1967D2;\n",
              "      height: 32px;\n",
              "      padding: 0 0 0 0;\n",
              "      width: 32px;\n",
              "    }\n",
              "\n",
              "    .colab-df-convert:hover {\n",
              "      background-color: #E2EBFA;\n",
              "      box-shadow: 0px 1px 2px rgba(60, 64, 67, 0.3), 0px 1px 3px 1px rgba(60, 64, 67, 0.15);\n",
              "      fill: #174EA6;\n",
              "    }\n",
              "\n",
              "    [theme=dark] .colab-df-convert {\n",
              "      background-color: #3B4455;\n",
              "      fill: #D2E3FC;\n",
              "    }\n",
              "\n",
              "    [theme=dark] .colab-df-convert:hover {\n",
              "      background-color: #434B5C;\n",
              "      box-shadow: 0px 1px 3px 1px rgba(0, 0, 0, 0.15);\n",
              "      filter: drop-shadow(0px 1px 2px rgba(0, 0, 0, 0.3));\n",
              "      fill: #FFFFFF;\n",
              "    }\n",
              "  </style>\n",
              "\n",
              "      <script>\n",
              "        const buttonEl =\n",
              "          document.querySelector('#df-743d3464-d0eb-4c12-9ace-9124cf11ddd1 button.colab-df-convert');\n",
              "        buttonEl.style.display =\n",
              "          google.colab.kernel.accessAllowed ? 'block' : 'none';\n",
              "\n",
              "        async function convertToInteractive(key) {\n",
              "          const element = document.querySelector('#df-743d3464-d0eb-4c12-9ace-9124cf11ddd1');\n",
              "          const dataTable =\n",
              "            await google.colab.kernel.invokeFunction('convertToInteractive',\n",
              "                                                     [key], {});\n",
              "          if (!dataTable) return;\n",
              "\n",
              "          const docLinkHtml = 'Like what you see? Visit the ' +\n",
              "            '<a target=\"_blank\" href=https://colab.research.google.com/notebooks/data_table.ipynb>data table notebook</a>'\n",
              "            + ' to learn more about interactive tables.';\n",
              "          element.innerHTML = '';\n",
              "          dataTable['output_type'] = 'display_data';\n",
              "          await google.colab.output.renderOutput(dataTable, element);\n",
              "          const docLink = document.createElement('div');\n",
              "          docLink.innerHTML = docLinkHtml;\n",
              "          element.appendChild(docLink);\n",
              "        }\n",
              "      </script>\n",
              "    </div>\n",
              "  </div>\n",
              "  "
            ]
          },
          "metadata": {},
          "execution_count": 3
        }
      ],
      "source": [
        "df = pd.read_csv('market.csv', index_col=0)\n",
        "df.head()"
      ]
    },
    {
      "cell_type": "code",
      "execution_count": 4,
      "id": "614d7ba3",
      "metadata": {
        "id": "614d7ba3"
      },
      "outputs": [],
      "source": [
        "stock = df['stock'].to_dict()\n",
        "weight = df['weight'].to_dict()\n",
        "price = df['price_A'].to_dict()"
      ]
    },
    {
      "cell_type": "code",
      "execution_count": 5,
      "id": "5d28fa1e",
      "metadata": {
        "colab": {
          "base_uri": "https://localhost:8080/"
        },
        "id": "5d28fa1e",
        "outputId": "fb8f9c08-d645-43eb-f3ff-ecf6fc7803fd"
      },
      "outputs": [
        {
          "output_type": "execute_result",
          "data": {
            "text/plain": [
              "{'Apple': 5,\n",
              " 'Apricot': 65,\n",
              " 'Blueberry': 5,\n",
              " 'Cactus Fruit': 90,\n",
              " 'Cherry': 15,\n",
              " 'Cranberry': 75,\n",
              " 'Grape': 70,\n",
              " 'Melon': 75,\n",
              " 'Orange': 40,\n",
              " 'Peach': 55,\n",
              " 'Pomegranate': 5,\n",
              " 'Rhubarb': 70,\n",
              " 'Starfruit': 5,\n",
              " 'Strawberry': 20,\n",
              " 'Amaranth': 20,\n",
              " 'Artichoke': 65,\n",
              " 'Beet': 30,\n",
              " 'Bok Choy': 55,\n",
              " 'Cauliflower': 70,\n",
              " 'Corn': 90,\n",
              " 'Eggplant': 95,\n",
              " 'Garlic': 95,\n",
              " 'Green Bean': 55,\n",
              " 'Hops': 75,\n",
              " 'Hot Pepper': 25,\n",
              " 'Kale': 5,\n",
              " 'Parsnip': 10,\n",
              " 'Potato': 55,\n",
              " 'Pumpkin': 30,\n",
              " 'Radish': 50,\n",
              " 'Red Cabbage': 55,\n",
              " 'Tomato': 65,\n",
              " 'Wheat': 75,\n",
              " 'Yam': 50,\n",
              " 'Blackberry': 70}"
            ]
          },
          "metadata": {},
          "execution_count": 5
        }
      ],
      "source": [
        "stock"
      ]
    },
    {
      "cell_type": "markdown",
      "id": "91c0dc4b",
      "metadata": {
        "id": "91c0dc4b"
      },
      "source": [
        "To evaluate your possible load going to the market, we will use a function that takes in a dictionary of this type, specifying how many of each crop you will take. This function will take into the constraints of having enough stock of the crop type and of not surpassing the weight limit."
      ]
    },
    {
      "cell_type": "code",
      "execution_count": 6,
      "id": "587b7af3",
      "metadata": {
        "id": "587b7af3"
      },
      "outputs": [],
      "source": [
        "def evaluate(load, stock, weight, price, max_weight=5000):\n",
        "    total_weight = 0\n",
        "    total_price = 0\n",
        "    for k in load:\n",
        "        if load[k] <= stock[k]:\n",
        "            total_price += load[k] * price[k]\n",
        "            total_weight += load[k] * weight[k]\n",
        "            if total_weight > max_weight:\n",
        "                return 0\n",
        "        else:\n",
        "            return 0\n",
        "    return total_price"
      ]
    },
    {
      "cell_type": "code",
      "source": [
        "def evaluate_autre(load, stock, weight, price, max_weight=5000):\n",
        "    total_weight = 0\n",
        "    total_price = 0\n",
        "    for k in load:\n",
        "        if load[k] <= stock[k]:\n",
        "            total_price += load[k] * price[k]\n",
        "            total_weight += load[k] * weight[k]\n",
        "            if total_weight > max_weight:\n",
        "                total_price -= load[k] * price[k]\n",
        "                total_weight -= load[k] * weight[k]\n",
        "                break\n",
        "        else:\n",
        "            pass\n",
        "    print(\"Total weight\", total_weight)\n",
        "    return total_price"
      ],
      "metadata": {
        "id": "lee-nFuth0Sc"
      },
      "id": "lee-nFuth0Sc",
      "execution_count": 7,
      "outputs": []
    },
    {
      "cell_type": "code",
      "source": [
        "def toDict(lst):\n",
        "    res_dct = {lst[i][0] : lst[i][1] for i in range(0, len(lst))}\n",
        "    return res_dct"
      ],
      "metadata": {
        "id": "rZYYQb8VMSf2"
      },
      "id": "rZYYQb8VMSf2",
      "execution_count": 8,
      "outputs": []
    },
    {
      "cell_type": "markdown",
      "id": "f832b811",
      "metadata": {
        "id": "f832b811"
      },
      "source": [
        "You can try this with an example load generated randomly:"
      ]
    },
    {
      "cell_type": "code",
      "source": [
        "trial_load = {}\n",
        "\n",
        "for k in stock:\n",
        "    trial_load[k] = np.random.randint(0, stock[k])\n",
        "\n",
        "print(trial_load)\n",
        "type(trial_load)\n",
        "print(list(trial_load.items())[:10])\n",
        "dict_1 = toDict(list(trial_load.items())[:10])\n",
        "print(dict_1)\n",
        "dict_2 = toDict(list(trial_load.items())[10:])\n",
        "print(dict_2)\n",
        "print({**dict_1, **dict_2})"
      ],
      "metadata": {
        "colab": {
          "base_uri": "https://localhost:8080/"
        },
        "id": "iq2pLv5H_z7c",
        "outputId": "167e7602-93cc-4f3c-8d0c-beb0c5dba72e"
      },
      "id": "iq2pLv5H_z7c",
      "execution_count": 9,
      "outputs": [
        {
          "output_type": "stream",
          "name": "stdout",
          "text": [
            "{'Apple': 3, 'Apricot': 1, 'Blueberry': 2, 'Cactus Fruit': 17, 'Cherry': 10, 'Cranberry': 3, 'Grape': 14, 'Melon': 55, 'Orange': 2, 'Peach': 27, 'Pomegranate': 2, 'Rhubarb': 34, 'Starfruit': 3, 'Strawberry': 3, 'Amaranth': 10, 'Artichoke': 18, 'Beet': 12, 'Bok Choy': 9, 'Cauliflower': 55, 'Corn': 29, 'Eggplant': 81, 'Garlic': 15, 'Green Bean': 42, 'Hops': 69, 'Hot Pepper': 7, 'Kale': 1, 'Parsnip': 4, 'Potato': 34, 'Pumpkin': 21, 'Radish': 8, 'Red Cabbage': 47, 'Tomato': 52, 'Wheat': 58, 'Yam': 27, 'Blackberry': 6}\n",
            "[('Apple', 3), ('Apricot', 1), ('Blueberry', 2), ('Cactus Fruit', 17), ('Cherry', 10), ('Cranberry', 3), ('Grape', 14), ('Melon', 55), ('Orange', 2), ('Peach', 27)]\n",
            "{'Apple': 3, 'Apricot': 1, 'Blueberry': 2, 'Cactus Fruit': 17, 'Cherry': 10, 'Cranberry': 3, 'Grape': 14, 'Melon': 55, 'Orange': 2, 'Peach': 27}\n",
            "{'Pomegranate': 2, 'Rhubarb': 34, 'Starfruit': 3, 'Strawberry': 3, 'Amaranth': 10, 'Artichoke': 18, 'Beet': 12, 'Bok Choy': 9, 'Cauliflower': 55, 'Corn': 29, 'Eggplant': 81, 'Garlic': 15, 'Green Bean': 42, 'Hops': 69, 'Hot Pepper': 7, 'Kale': 1, 'Parsnip': 4, 'Potato': 34, 'Pumpkin': 21, 'Radish': 8, 'Red Cabbage': 47, 'Tomato': 52, 'Wheat': 58, 'Yam': 27, 'Blackberry': 6}\n",
            "{'Apple': 3, 'Apricot': 1, 'Blueberry': 2, 'Cactus Fruit': 17, 'Cherry': 10, 'Cranberry': 3, 'Grape': 14, 'Melon': 55, 'Orange': 2, 'Peach': 27, 'Pomegranate': 2, 'Rhubarb': 34, 'Starfruit': 3, 'Strawberry': 3, 'Amaranth': 10, 'Artichoke': 18, 'Beet': 12, 'Bok Choy': 9, 'Cauliflower': 55, 'Corn': 29, 'Eggplant': 81, 'Garlic': 15, 'Green Bean': 42, 'Hops': 69, 'Hot Pepper': 7, 'Kale': 1, 'Parsnip': 4, 'Potato': 34, 'Pumpkin': 21, 'Radish': 8, 'Red Cabbage': 47, 'Tomato': 52, 'Wheat': 58, 'Yam': 27, 'Blackberry': 6}\n"
          ]
        }
      ]
    },
    {
      "cell_type": "code",
      "source": [
        "print(list(trial_load.values())[5])\n",
        "print(list(trial_load.keys())[5])\n",
        "trial_2 = trial_load.copy()\n",
        "print(trial_2)\n",
        "trial_2.update({str(list(trial_load.keys())[5]):20})\n",
        "print(trial_2)"
      ],
      "metadata": {
        "colab": {
          "base_uri": "https://localhost:8080/"
        },
        "id": "byvXmYOdP-9b",
        "outputId": "8603e73d-aeb9-4246-9a2f-4d9e640b819a"
      },
      "id": "byvXmYOdP-9b",
      "execution_count": 10,
      "outputs": [
        {
          "output_type": "stream",
          "name": "stdout",
          "text": [
            "3\n",
            "Cranberry\n",
            "{'Apple': 3, 'Apricot': 1, 'Blueberry': 2, 'Cactus Fruit': 17, 'Cherry': 10, 'Cranberry': 3, 'Grape': 14, 'Melon': 55, 'Orange': 2, 'Peach': 27, 'Pomegranate': 2, 'Rhubarb': 34, 'Starfruit': 3, 'Strawberry': 3, 'Amaranth': 10, 'Artichoke': 18, 'Beet': 12, 'Bok Choy': 9, 'Cauliflower': 55, 'Corn': 29, 'Eggplant': 81, 'Garlic': 15, 'Green Bean': 42, 'Hops': 69, 'Hot Pepper': 7, 'Kale': 1, 'Parsnip': 4, 'Potato': 34, 'Pumpkin': 21, 'Radish': 8, 'Red Cabbage': 47, 'Tomato': 52, 'Wheat': 58, 'Yam': 27, 'Blackberry': 6}\n",
            "{'Apple': 3, 'Apricot': 1, 'Blueberry': 2, 'Cactus Fruit': 17, 'Cherry': 10, 'Cranberry': 20, 'Grape': 14, 'Melon': 55, 'Orange': 2, 'Peach': 27, 'Pomegranate': 2, 'Rhubarb': 34, 'Starfruit': 3, 'Strawberry': 3, 'Amaranth': 10, 'Artichoke': 18, 'Beet': 12, 'Bok Choy': 9, 'Cauliflower': 55, 'Corn': 29, 'Eggplant': 81, 'Garlic': 15, 'Green Bean': 42, 'Hops': 69, 'Hot Pepper': 7, 'Kale': 1, 'Parsnip': 4, 'Potato': 34, 'Pumpkin': 21, 'Radish': 8, 'Red Cabbage': 47, 'Tomato': 52, 'Wheat': 58, 'Yam': 27, 'Blackberry': 6}\n"
          ]
        }
      ]
    },
    {
      "cell_type": "code",
      "execution_count": null,
      "id": "e9538ac0",
      "metadata": {
        "colab": {
          "base_uri": "https://localhost:8080/"
        },
        "id": "e9538ac0",
        "outputId": "b681c335-e019-4d43-e24f-862ff72062a3"
      },
      "outputs": [
        {
          "output_type": "execute_result",
          "data": {
            "text/plain": [
              "686.5999999999999"
            ]
          },
          "metadata": {},
          "execution_count": 93
        }
      ],
      "source": [
        "evaluate(trial_load, stock, weight, price)"
      ]
    },
    {
      "cell_type": "markdown",
      "id": "b49edb3c",
      "metadata": {
        "id": "b49edb3c"
      },
      "source": [
        "## Challenge 1\n",
        "\n",
        "Use a stochastic algorithm to find the configuration of crops that maximizes profit while respecting the constraints of the weight limit and stock. You can use any of the class code or a library like `pymoo`. You should create a reasonable representation for the problem and appropriate modification functions like mutation and crossover. You can also modify the evaluation function, as long as your final solution is valid according to the weight and stock constraints.\n",
        "\n",
        "Include your code for optimization, any visualizations of the optimization process, as well as code to show the final market load and profit gained. Can you beat the random trial load profits?\n",
        "\n",
        "Hint: this is a constrained case of the [knapsack problem](https://en.wikipedia.org/wiki/Knapsack_problem)"
      ]
    },
    {
      "cell_type": "code",
      "source": [
        "n_population = 100\n",
        "population_trail_load = []\n",
        "\n",
        "for i in range(n_population):\n",
        "    trial_load = {}\n",
        "    for k in stock:\n",
        "        trial_load[k] = np.random.randint(0, stock[k])\n",
        "    population_trail_load.append(trial_load)\n",
        "#trial_load\n",
        "len(population_trail_load)\n",
        "print(population_trail_load[20])\n",
        "print(type(population_trail_load[20]))\n",
        "\n",
        "print(len(population_trail_load))"
      ],
      "metadata": {
        "colab": {
          "base_uri": "https://localhost:8080/"
        },
        "id": "C1EwhrvG9D8p",
        "outputId": "c999601c-3099-420b-e7af-c7bf68d652da"
      },
      "id": "C1EwhrvG9D8p",
      "execution_count": 11,
      "outputs": [
        {
          "output_type": "stream",
          "name": "stdout",
          "text": [
            "{'Apple': 4, 'Apricot': 50, 'Blueberry': 0, 'Cactus Fruit': 34, 'Cherry': 5, 'Cranberry': 43, 'Grape': 4, 'Melon': 61, 'Orange': 8, 'Peach': 27, 'Pomegranate': 4, 'Rhubarb': 69, 'Starfruit': 3, 'Strawberry': 15, 'Amaranth': 0, 'Artichoke': 28, 'Beet': 14, 'Bok Choy': 16, 'Cauliflower': 24, 'Corn': 71, 'Eggplant': 63, 'Garlic': 5, 'Green Bean': 23, 'Hops': 55, 'Hot Pepper': 4, 'Kale': 1, 'Parsnip': 1, 'Potato': 39, 'Pumpkin': 4, 'Radish': 37, 'Red Cabbage': 52, 'Tomato': 19, 'Wheat': 66, 'Yam': 3, 'Blackberry': 6}\n",
            "<class 'dict'>\n",
            "100\n"
          ]
        }
      ]
    },
    {
      "cell_type": "code",
      "source": [
        "def evaluate_population(population):\n",
        "    fit = []\n",
        "    for i in range(len(population)):\n",
        "        prix = evaluate(population[i], stock, weight, price)\n",
        "        fit.append(prix)\n",
        "    return fit"
      ],
      "metadata": {
        "id": "ZSv_yHG3V2AL"
      },
      "id": "ZSv_yHG3V2AL",
      "execution_count": 12,
      "outputs": []
    },
    {
      "cell_type": "code",
      "source": [
        "fitness = evaluate_population(population_trail_load)\n",
        "print(fitness)"
      ],
      "metadata": {
        "colab": {
          "base_uri": "https://localhost:8080/"
        },
        "id": "9Xi01UzWX0W7",
        "outputId": "86a6fa79-9718-4ffe-fedb-180b6b62d630"
      },
      "id": "9Xi01UzWX0W7",
      "execution_count": 13,
      "outputs": [
        {
          "output_type": "stream",
          "name": "stdout",
          "text": [
            "[790.0, 807.2500000000001, 963.0500000000002, 800.95, 655.7, 698.9000000000001, 774.6500000000002, 761.0500000000001, 681.4, 658.45, 703.7500000000001, 685.9, 638.1999999999999, 603.2000000000003, 587.3, 684.3, 750.75, 699.75, 0, 0, 720.7500000000001, 598.0999999999999, 714.2, 684.9999999999999, 774.8, 506.9500000000001, 650.55, 721.65, 850.8, 538.7, 891.7499999999999, 641.5, 0, 708.4999999999999, 621.5, 643.9, 611.25, 493.15000000000003, 743.65, 745.7500000000001, 744.8500000000001, 820.45, 0, 787.6499999999999, 0, 768.0, 754.4999999999999, 687.9499999999999, 822.3500000000001, 776.3499999999999, 588.45, 819.0, 799.3499999999999, 579.6, 649.85, 643.85, 830.6999999999999, 759.1500000000001, 791.2499999999999, 774.8, 694.7, 655.6, 846.65, 716.0000000000001, 636.4, 732.6499999999999, 664.8500000000003, 796.15, 637.7999999999998, 810.9499999999999, 794.2499999999999, 768.55, 605.0, 701.7, 740.95, 780.3999999999999, 768.2500000000001, 633.65, 790.9500000000002, 646.6, 763.5, 771.55, 752.1000000000003, 742.8499999999998, 620.8, 612.9, 696.4999999999998, 589.6499999999999, 741.8500000000001, 830.1000000000003, 693.5499999999998, 658.75, 659.8000000000002, 751.7, 714.55, 723.45, 671.5999999999999, 746.4999999999998, 639.45, 0]\n"
          ]
        }
      ]
    },
    {
      "cell_type": "code",
      "source": [
        "def fp_selection(population, fitness):\n",
        "    m = max(fitness)\n",
        "    p = np.zeros(len(fitness))\n",
        "    for i in range(len(fitness)):\n",
        "        p[i] = (m - fitness[i])\n",
        "    p /= sum(p)\n",
        "    rng = np.random.default_rng()\n",
        "    n = len(population)\n",
        "    #continueSelection = True\n",
        "    '''\n",
        "    while(continueSelection):\n",
        "        ind = rng.choice(n, p=p)\n",
        "        #print(ind)\n",
        "        if(fitness[ind] != 0):\n",
        "           continueSelection = False\n",
        "    '''\n",
        "    ind = rng.choice(n, p=p)\n",
        "    return population[ind], fitness[ind]"
      ],
      "metadata": {
        "id": "yPd9dDl9XKj6"
      },
      "id": "yPd9dDl9XKj6",
      "execution_count": 14,
      "outputs": []
    },
    {
      "cell_type": "code",
      "source": [
        "fp_fits = np.zeros(20)\n",
        "for i in range(20):\n",
        "    p, f = fp_selection(population_trail_load, fitness)\n",
        "    fp_fits[i] = f\n",
        "plt.hist(fitness, color='k')\n",
        "#plt.hist(efit, color='b')\n",
        "plt.hist(fp_fits, color='r');\n",
        "print(fp_fits.size)"
      ],
      "metadata": {
        "colab": {
          "base_uri": "https://localhost:8080/",
          "height": 282
        },
        "id": "iMa7wWAvXb8L",
        "outputId": "0eb6f48f-0e74-4f5d-c52d-dc37cb9b52a3"
      },
      "id": "iMa7wWAvXb8L",
      "execution_count": 15,
      "outputs": [
        {
          "output_type": "stream",
          "name": "stdout",
          "text": [
            "20\n"
          ]
        },
        {
          "output_type": "display_data",
          "data": {
            "text/plain": [
              "<Figure size 432x288 with 1 Axes>"
            ],
            "image/png": "[encoded data removed]"
          },
          "metadata": {
            "needs_background": "light"
          }
        }
      ]
    },
    {
      "cell_type": "code",
      "source": [
        "def truncation_selection(population, fitness, p=0.2):\n",
        "    n_elites = len(population) - int(np.floor(len(population) * p))\n",
        "    #print(n_elites)\n",
        "    elites = np.argsort(np.array(fitness))[n_elites:]\n",
        "    selected_pop, selected_fitness = [], []\n",
        "    for index in elites:\n",
        "        selected_pop.append(population[index])\n",
        "        selected_fitness.append(fitness[index])\n",
        "    return selected_pop, selected_fitness"
      ],
      "metadata": {
        "id": "jb6ZF_lpdliG"
      },
      "id": "jb6ZF_lpdliG",
      "execution_count": 16,
      "outputs": []
    },
    {
      "cell_type": "code",
      "source": [
        "p_elites, efit = truncation_selection(population_trail_load, fitness)\n",
        "plt.hist(fitness, color='k')\n",
        "plt.hist(efit, color='b');\n",
        "print('elites',p_elites,len(p_elites))\n",
        "print(len(p_elites), len(efit), len(population_trail_load), len(fitness))"
      ],
      "metadata": {
        "colab": {
          "base_uri": "https://localhost:8080/",
          "height": 320
        },
        "id": "07X_3WOAeOik",
        "outputId": "302ff63a-4c7b-403b-a727-64aadd186f23"
      },
      "id": "07X_3WOAeOik",
      "execution_count": 17,
      "outputs": [
        {
          "output_type": "stream",
          "name": "stdout",
          "text": [
            "elites [{'Apple': 3, 'Apricot': 18, 'Blueberry': 1, 'Cactus Fruit': 73, 'Cherry': 2, 'Cranberry': 52, 'Grape': 13, 'Melon': 35, 'Orange': 0, 'Peach': 51, 'Pomegranate': 4, 'Rhubarb': 56, 'Starfruit': 2, 'Strawberry': 11, 'Amaranth': 7, 'Artichoke': 31, 'Beet': 14, 'Bok Choy': 6, 'Cauliflower': 60, 'Corn': 86, 'Eggplant': 28, 'Garlic': 7, 'Green Bean': 14, 'Hops': 30, 'Hot Pepper': 22, 'Kale': 0, 'Parsnip': 9, 'Potato': 28, 'Pumpkin': 22, 'Radish': 14, 'Red Cabbage': 35, 'Tomato': 18, 'Wheat': 10, 'Yam': 38, 'Blackberry': 18}, {'Apple': 3, 'Apricot': 20, 'Blueberry': 2, 'Cactus Fruit': 58, 'Cherry': 6, 'Cranberry': 15, 'Grape': 69, 'Melon': 55, 'Orange': 29, 'Peach': 48, 'Pomegranate': 1, 'Rhubarb': 66, 'Starfruit': 3, 'Strawberry': 2, 'Amaranth': 3, 'Artichoke': 25, 'Beet': 14, 'Bok Choy': 28, 'Cauliflower': 59, 'Corn': 22, 'Eggplant': 25, 'Garlic': 90, 'Green Bean': 23, 'Hops': 28, 'Hot Pepper': 11, 'Kale': 1, 'Parsnip': 0, 'Potato': 17, 'Pumpkin': 14, 'Radish': 16, 'Red Cabbage': 0, 'Tomato': 3, 'Wheat': 13, 'Yam': 44, 'Blackberry': 47}, {'Apple': 3, 'Apricot': 45, 'Blueberry': 2, 'Cactus Fruit': 88, 'Cherry': 9, 'Cranberry': 34, 'Grape': 25, 'Melon': 7, 'Orange': 23, 'Peach': 12, 'Pomegranate': 4, 'Rhubarb': 10, 'Starfruit': 3, 'Strawberry': 1, 'Amaranth': 17, 'Artichoke': 45, 'Beet': 29, 'Bok Choy': 26, 'Cauliflower': 52, 'Corn': 46, 'Eggplant': 68, 'Garlic': 86, 'Green Bean': 2, 'Hops': 58, 'Hot Pepper': 16, 'Kale': 4, 'Parsnip': 8, 'Potato': 14, 'Pumpkin': 0, 'Radish': 33, 'Red Cabbage': 35, 'Tomato': 38, 'Wheat': 42, 'Yam': 32, 'Blackberry': 66}, {'Apple': 1, 'Apricot': 53, 'Blueberry': 1, 'Cactus Fruit': 11, 'Cherry': 13, 'Cranberry': 58, 'Grape': 44, 'Melon': 72, 'Orange': 39, 'Peach': 5, 'Pomegranate': 3, 'Rhubarb': 9, 'Starfruit': 0, 'Strawberry': 19, 'Amaranth': 5, 'Artichoke': 63, 'Beet': 13, 'Bok Choy': 25, 'Cauliflower': 31, 'Corn': 14, 'Eggplant': 67, 'Garlic': 4, 'Green Bean': 53, 'Hops': 5, 'Hot Pepper': 20, 'Kale': 3, 'Parsnip': 0, 'Potato': 44, 'Pumpkin': 9, 'Radish': 39, 'Red Cabbage': 45, 'Tomato': 36, 'Wheat': 66, 'Yam': 2, 'Blackberry': 16}, {'Apple': 0, 'Apricot': 21, 'Blueberry': 1, 'Cactus Fruit': 73, 'Cherry': 11, 'Cranberry': 7, 'Grape': 63, 'Melon': 56, 'Orange': 18, 'Peach': 31, 'Pomegranate': 0, 'Rhubarb': 15, 'Starfruit': 4, 'Strawberry': 16, 'Amaranth': 3, 'Artichoke': 50, 'Beet': 19, 'Bok Choy': 48, 'Cauliflower': 2, 'Corn': 71, 'Eggplant': 91, 'Garlic': 30, 'Green Bean': 6, 'Hops': 38, 'Hot Pepper': 24, 'Kale': 3, 'Parsnip': 1, 'Potato': 50, 'Pumpkin': 19, 'Radish': 3, 'Red Cabbage': 20, 'Tomato': 28, 'Wheat': 28, 'Yam': 49, 'Blackberry': 13}, {'Apple': 3, 'Apricot': 58, 'Blueberry': 4, 'Cactus Fruit': 39, 'Cherry': 13, 'Cranberry': 70, 'Grape': 27, 'Melon': 69, 'Orange': 19, 'Peach': 12, 'Pomegranate': 0, 'Rhubarb': 13, 'Starfruit': 4, 'Strawberry': 10, 'Amaranth': 11, 'Artichoke': 14, 'Beet': 1, 'Bok Choy': 27, 'Cauliflower': 49, 'Corn': 36, 'Eggplant': 51, 'Garlic': 18, 'Green Bean': 47, 'Hops': 55, 'Hot Pepper': 17, 'Kale': 2, 'Parsnip': 0, 'Potato': 23, 'Pumpkin': 7, 'Radish': 18, 'Red Cabbage': 49, 'Tomato': 58, 'Wheat': 46, 'Yam': 41, 'Blackberry': 0}, {'Apple': 2, 'Apricot': 54, 'Blueberry': 3, 'Cactus Fruit': 66, 'Cherry': 13, 'Cranberry': 56, 'Grape': 57, 'Melon': 57, 'Orange': 15, 'Peach': 20, 'Pomegranate': 3, 'Rhubarb': 63, 'Starfruit': 4, 'Strawberry': 7, 'Amaranth': 15, 'Artichoke': 17, 'Beet': 6, 'Bok Choy': 49, 'Cauliflower': 51, 'Corn': 5, 'Eggplant': 44, 'Garlic': 5, 'Green Bean': 31, 'Hops': 44, 'Hot Pepper': 9, 'Kale': 1, 'Parsnip': 8, 'Potato': 14, 'Pumpkin': 24, 'Radish': 23, 'Red Cabbage': 15, 'Tomato': 51, 'Wheat': 10, 'Yam': 32, 'Blackberry': 12}, {'Apple': 3, 'Apricot': 37, 'Blueberry': 4, 'Cactus Fruit': 75, 'Cherry': 6, 'Cranberry': 43, 'Grape': 15, 'Melon': 20, 'Orange': 2, 'Peach': 26, 'Pomegranate': 0, 'Rhubarb': 26, 'Starfruit': 2, 'Strawberry': 18, 'Amaranth': 7, 'Artichoke': 43, 'Beet': 20, 'Bok Choy': 45, 'Cauliflower': 45, 'Corn': 85, 'Eggplant': 60, 'Garlic': 5, 'Green Bean': 22, 'Hops': 21, 'Hot Pepper': 5, 'Kale': 1, 'Parsnip': 3, 'Potato': 48, 'Pumpkin': 29, 'Radish': 25, 'Red Cabbage': 34, 'Tomato': 62, 'Wheat': 34, 'Yam': 22, 'Blackberry': 57}, {'Apple': 1, 'Apricot': 56, 'Blueberry': 2, 'Cactus Fruit': 75, 'Cherry': 12, 'Cranberry': 18, 'Grape': 50, 'Melon': 41, 'Orange': 19, 'Peach': 37, 'Pomegranate': 3, 'Rhubarb': 13, 'Starfruit': 2, 'Strawberry': 4, 'Amaranth': 5, 'Artichoke': 31, 'Beet': 1, 'Bok Choy': 51, 'Cauliflower': 64, 'Corn': 42, 'Eggplant': 64, 'Garlic': 3, 'Green Bean': 24, 'Hops': 71, 'Hot Pepper': 0, 'Kale': 0, 'Parsnip': 6, 'Potato': 14, 'Pumpkin': 8, 'Radish': 30, 'Red Cabbage': 17, 'Tomato': 55, 'Wheat': 29, 'Yam': 48, 'Blackberry': 20}, {'Apple': 0, 'Apricot': 28, 'Blueberry': 0, 'Cactus Fruit': 34, 'Cherry': 6, 'Cranberry': 38, 'Grape': 22, 'Melon': 23, 'Orange': 38, 'Peach': 41, 'Pomegranate': 3, 'Rhubarb': 26, 'Starfruit': 0, 'Strawberry': 17, 'Amaranth': 0, 'Artichoke': 51, 'Beet': 3, 'Bok Choy': 25, 'Cauliflower': 65, 'Corn': 76, 'Eggplant': 65, 'Garlic': 92, 'Green Bean': 52, 'Hops': 4, 'Hot Pepper': 2, 'Kale': 3, 'Parsnip': 2, 'Potato': 32, 'Pumpkin': 4, 'Radish': 33, 'Red Cabbage': 8, 'Tomato': 0, 'Wheat': 54, 'Yam': 47, 'Blackberry': 1}, {'Apple': 0, 'Apricot': 24, 'Blueberry': 2, 'Cactus Fruit': 0, 'Cherry': 13, 'Cranberry': 59, 'Grape': 5, 'Melon': 58, 'Orange': 12, 'Peach': 18, 'Pomegranate': 0, 'Rhubarb': 65, 'Starfruit': 3, 'Strawberry': 10, 'Amaranth': 19, 'Artichoke': 42, 'Beet': 8, 'Bok Choy': 49, 'Cauliflower': 46, 'Corn': 38, 'Eggplant': 59, 'Garlic': 80, 'Green Bean': 38, 'Hops': 5, 'Hot Pepper': 5, 'Kale': 0, 'Parsnip': 9, 'Potato': 11, 'Pumpkin': 22, 'Radish': 19, 'Red Cabbage': 50, 'Tomato': 19, 'Wheat': 64, 'Yam': 17, 'Blackberry': 44}, {'Apple': 3, 'Apricot': 53, 'Blueberry': 4, 'Cactus Fruit': 61, 'Cherry': 10, 'Cranberry': 50, 'Grape': 52, 'Melon': 46, 'Orange': 35, 'Peach': 50, 'Pomegranate': 0, 'Rhubarb': 47, 'Starfruit': 2, 'Strawberry': 11, 'Amaranth': 17, 'Artichoke': 22, 'Beet': 14, 'Bok Choy': 21, 'Cauliflower': 19, 'Corn': 21, 'Eggplant': 33, 'Garlic': 89, 'Green Bean': 38, 'Hops': 7, 'Hot Pepper': 19, 'Kale': 4, 'Parsnip': 6, 'Potato': 21, 'Pumpkin': 27, 'Radish': 2, 'Red Cabbage': 22, 'Tomato': 3, 'Wheat': 57, 'Yam': 47, 'Blackberry': 36}, {'Apple': 1, 'Apricot': 64, 'Blueberry': 1, 'Cactus Fruit': 43, 'Cherry': 12, 'Cranberry': 31, 'Grape': 21, 'Melon': 63, 'Orange': 38, 'Peach': 33, 'Pomegranate': 1, 'Rhubarb': 30, 'Starfruit': 2, 'Strawberry': 8, 'Amaranth': 13, 'Artichoke': 17, 'Beet': 22, 'Bok Choy': 32, 'Cauliflower': 37, 'Corn': 46, 'Eggplant': 71, 'Garlic': 81, 'Green Bean': 2, 'Hops': 20, 'Hot Pepper': 11, 'Kale': 2, 'Parsnip': 6, 'Potato': 24, 'Pumpkin': 17, 'Radish': 37, 'Red Cabbage': 17, 'Tomato': 35, 'Wheat': 38, 'Yam': 42, 'Blackberry': 9}, {'Apple': 3, 'Apricot': 33, 'Blueberry': 2, 'Cactus Fruit': 12, 'Cherry': 6, 'Cranberry': 55, 'Grape': 6, 'Melon': 38, 'Orange': 34, 'Peach': 35, 'Pomegranate': 3, 'Rhubarb': 23, 'Starfruit': 1, 'Strawberry': 18, 'Amaranth': 16, 'Artichoke': 56, 'Beet': 18, 'Bok Choy': 19, 'Cauliflower': 22, 'Corn': 83, 'Eggplant': 11, 'Garlic': 56, 'Green Bean': 20, 'Hops': 73, 'Hot Pepper': 15, 'Kale': 0, 'Parsnip': 1, 'Potato': 37, 'Pumpkin': 16, 'Radish': 41, 'Red Cabbage': 31, 'Tomato': 55, 'Wheat': 2, 'Yam': 49, 'Blackberry': 41}, {'Apple': 1, 'Apricot': 59, 'Blueberry': 1, 'Cactus Fruit': 14, 'Cherry': 4, 'Cranberry': 68, 'Grape': 12, 'Melon': 14, 'Orange': 2, 'Peach': 20, 'Pomegranate': 4, 'Rhubarb': 62, 'Starfruit': 1, 'Strawberry': 10, 'Amaranth': 19, 'Artichoke': 41, 'Beet': 23, 'Bok Choy': 28, 'Cauliflower': 37, 'Corn': 51, 'Eggplant': 34, 'Garlic': 86, 'Green Bean': 23, 'Hops': 52, 'Hot Pepper': 24, 'Kale': 2, 'Parsnip': 7, 'Potato': 52, 'Pumpkin': 16, 'Radish': 27, 'Red Cabbage': 35, 'Tomato': 44, 'Wheat': 72, 'Yam': 47, 'Blackberry': 5}, {'Apple': 1, 'Apricot': 40, 'Blueberry': 1, 'Cactus Fruit': 29, 'Cherry': 4, 'Cranberry': 74, 'Grape': 42, 'Melon': 25, 'Orange': 35, 'Peach': 50, 'Pomegranate': 2, 'Rhubarb': 52, 'Starfruit': 0, 'Strawberry': 2, 'Amaranth': 0, 'Artichoke': 18, 'Beet': 26, 'Bok Choy': 46, 'Cauliflower': 49, 'Corn': 67, 'Eggplant': 52, 'Garlic': 61, 'Green Bean': 45, 'Hops': 10, 'Hot Pepper': 17, 'Kale': 4, 'Parsnip': 3, 'Potato': 36, 'Pumpkin': 15, 'Radish': 27, 'Red Cabbage': 28, 'Tomato': 7, 'Wheat': 11, 'Yam': 39, 'Blackberry': 20}, {'Apple': 4, 'Apricot': 45, 'Blueberry': 1, 'Cactus Fruit': 62, 'Cherry': 10, 'Cranberry': 52, 'Grape': 11, 'Melon': 34, 'Orange': 23, 'Peach': 19, 'Pomegranate': 3, 'Rhubarb': 45, 'Starfruit': 0, 'Strawberry': 8, 'Amaranth': 19, 'Artichoke': 16, 'Beet': 1, 'Bok Choy': 53, 'Cauliflower': 39, 'Corn': 74, 'Eggplant': 89, 'Garlic': 68, 'Green Bean': 51, 'Hops': 33, 'Hot Pepper': 5, 'Kale': 3, 'Parsnip': 2, 'Potato': 15, 'Pumpkin': 26, 'Radish': 30, 'Red Cabbage': 50, 'Tomato': 5, 'Wheat': 29, 'Yam': 43, 'Blackberry': 8}, {'Apple': 3, 'Apricot': 9, 'Blueberry': 3, 'Cactus Fruit': 72, 'Cherry': 9, 'Cranberry': 61, 'Grape': 26, 'Melon': 49, 'Orange': 9, 'Peach': 26, 'Pomegranate': 0, 'Rhubarb': 55, 'Starfruit': 2, 'Strawberry': 16, 'Amaranth': 11, 'Artichoke': 57, 'Beet': 20, 'Bok Choy': 34, 'Cauliflower': 48, 'Corn': 15, 'Eggplant': 8, 'Garlic': 69, 'Green Bean': 45, 'Hops': 16, 'Hot Pepper': 3, 'Kale': 3, 'Parsnip': 4, 'Potato': 47, 'Pumpkin': 21, 'Radish': 49, 'Red Cabbage': 13, 'Tomato': 35, 'Wheat': 29, 'Yam': 26, 'Blackberry': 37}, {'Apple': 4, 'Apricot': 15, 'Blueberry': 4, 'Cactus Fruit': 43, 'Cherry': 4, 'Cranberry': 71, 'Grape': 30, 'Melon': 70, 'Orange': 2, 'Peach': 46, 'Pomegranate': 0, 'Rhubarb': 23, 'Starfruit': 1, 'Strawberry': 12, 'Amaranth': 18, 'Artichoke': 44, 'Beet': 12, 'Bok Choy': 53, 'Cauliflower': 33, 'Corn': 45, 'Eggplant': 49, 'Garlic': 7, 'Green Bean': 50, 'Hops': 3, 'Hot Pepper': 18, 'Kale': 2, 'Parsnip': 9, 'Potato': 28, 'Pumpkin': 24, 'Radish': 12, 'Red Cabbage': 54, 'Tomato': 52, 'Wheat': 8, 'Yam': 43, 'Blackberry': 46}, {'Apple': 4, 'Apricot': 62, 'Blueberry': 3, 'Cactus Fruit': 30, 'Cherry': 13, 'Cranberry': 35, 'Grape': 69, 'Melon': 38, 'Orange': 31, 'Peach': 33, 'Pomegranate': 0, 'Rhubarb': 23, 'Starfruit': 0, 'Strawberry': 15, 'Amaranth': 6, 'Artichoke': 52, 'Beet': 29, 'Bok Choy': 52, 'Cauliflower': 64, 'Corn': 86, 'Eggplant': 62, 'Garlic': 67, 'Green Bean': 30, 'Hops': 46, 'Hot Pepper': 5, 'Kale': 1, 'Parsnip': 0, 'Potato': 40, 'Pumpkin': 16, 'Radish': 49, 'Red Cabbage': 15, 'Tomato': 40, 'Wheat': 8, 'Yam': 41, 'Blackberry': 33}] 20\n",
            "20 20 100 100\n"
          ]
        },
        {
          "output_type": "display_data",
          "data": {
            "text/plain": [
              "<Figure size 432x288 with 1 Axes>"
            ],
            "image/png": "[encoded data removed]"
          },
          "metadata": {
            "needs_background": "light"
          }
        }
      ]
    },
    {
      "cell_type": "code",
      "source": [
        "def tournament_selection(population, fitness, t_size=3):\n",
        "    rng = np.random.default_rng()\n",
        "    tournament = rng.choice(len(population), size=t_size)\n",
        "    #print('tournament',type(tournament))\n",
        "    #print('tournament', tournament)\n",
        "    ind = []\n",
        "    for i in range(len(tournament)):\n",
        "        ind.append(fitness[tournament[i]])\n",
        "    ind = ind.index(max(ind))\n",
        "    return population[ind], fitness[ind]\n"
      ],
      "metadata": {
        "id": "NCthSEBkkRab"
      },
      "id": "NCthSEBkkRab",
      "execution_count": 18,
      "outputs": []
    },
    {
      "cell_type": "code",
      "source": [
        "for j in range(5):\n",
        "    p, f = tournament_selection(population_trail_load, fitness, t_size=3)\n",
        "    print(p)\n",
        "    print(f)"
      ],
      "metadata": {
        "colab": {
          "base_uri": "https://localhost:8080/"
        },
        "id": "scmO5vaX9HlP",
        "outputId": "a37d635e-48e5-47ad-a911-bc4cc912e505"
      },
      "id": "scmO5vaX9HlP",
      "execution_count": 19,
      "outputs": [
        {
          "output_type": "stream",
          "name": "stdout",
          "text": [
            "{'Apple': 3, 'Apricot': 45, 'Blueberry': 2, 'Cactus Fruit': 88, 'Cherry': 9, 'Cranberry': 34, 'Grape': 25, 'Melon': 7, 'Orange': 23, 'Peach': 12, 'Pomegranate': 4, 'Rhubarb': 10, 'Starfruit': 3, 'Strawberry': 1, 'Amaranth': 17, 'Artichoke': 45, 'Beet': 29, 'Bok Choy': 26, 'Cauliflower': 52, 'Corn': 46, 'Eggplant': 68, 'Garlic': 86, 'Green Bean': 2, 'Hops': 58, 'Hot Pepper': 16, 'Kale': 4, 'Parsnip': 8, 'Potato': 14, 'Pumpkin': 0, 'Radish': 33, 'Red Cabbage': 35, 'Tomato': 38, 'Wheat': 42, 'Yam': 32, 'Blackberry': 66}\n",
            "790.0\n",
            "{'Apple': 4, 'Apricot': 62, 'Blueberry': 3, 'Cactus Fruit': 30, 'Cherry': 13, 'Cranberry': 35, 'Grape': 69, 'Melon': 38, 'Orange': 31, 'Peach': 33, 'Pomegranate': 0, 'Rhubarb': 23, 'Starfruit': 0, 'Strawberry': 15, 'Amaranth': 6, 'Artichoke': 52, 'Beet': 29, 'Bok Choy': 52, 'Cauliflower': 64, 'Corn': 86, 'Eggplant': 62, 'Garlic': 67, 'Green Bean': 30, 'Hops': 46, 'Hot Pepper': 5, 'Kale': 1, 'Parsnip': 0, 'Potato': 40, 'Pumpkin': 16, 'Radish': 49, 'Red Cabbage': 15, 'Tomato': 40, 'Wheat': 8, 'Yam': 41, 'Blackberry': 33}\n",
            "963.0500000000002\n",
            "{'Apple': 3, 'Apricot': 45, 'Blueberry': 2, 'Cactus Fruit': 88, 'Cherry': 9, 'Cranberry': 34, 'Grape': 25, 'Melon': 7, 'Orange': 23, 'Peach': 12, 'Pomegranate': 4, 'Rhubarb': 10, 'Starfruit': 3, 'Strawberry': 1, 'Amaranth': 17, 'Artichoke': 45, 'Beet': 29, 'Bok Choy': 26, 'Cauliflower': 52, 'Corn': 46, 'Eggplant': 68, 'Garlic': 86, 'Green Bean': 2, 'Hops': 58, 'Hot Pepper': 16, 'Kale': 4, 'Parsnip': 8, 'Potato': 14, 'Pumpkin': 0, 'Radish': 33, 'Red Cabbage': 35, 'Tomato': 38, 'Wheat': 42, 'Yam': 32, 'Blackberry': 66}\n",
            "790.0\n",
            "{'Apple': 0, 'Apricot': 28, 'Blueberry': 0, 'Cactus Fruit': 34, 'Cherry': 6, 'Cranberry': 38, 'Grape': 22, 'Melon': 23, 'Orange': 38, 'Peach': 41, 'Pomegranate': 3, 'Rhubarb': 26, 'Starfruit': 0, 'Strawberry': 17, 'Amaranth': 0, 'Artichoke': 51, 'Beet': 3, 'Bok Choy': 25, 'Cauliflower': 65, 'Corn': 76, 'Eggplant': 65, 'Garlic': 92, 'Green Bean': 52, 'Hops': 4, 'Hot Pepper': 2, 'Kale': 3, 'Parsnip': 2, 'Potato': 32, 'Pumpkin': 4, 'Radish': 33, 'Red Cabbage': 8, 'Tomato': 0, 'Wheat': 54, 'Yam': 47, 'Blackberry': 1}\n",
            "807.2500000000001\n",
            "{'Apple': 3, 'Apricot': 45, 'Blueberry': 2, 'Cactus Fruit': 88, 'Cherry': 9, 'Cranberry': 34, 'Grape': 25, 'Melon': 7, 'Orange': 23, 'Peach': 12, 'Pomegranate': 4, 'Rhubarb': 10, 'Starfruit': 3, 'Strawberry': 1, 'Amaranth': 17, 'Artichoke': 45, 'Beet': 29, 'Bok Choy': 26, 'Cauliflower': 52, 'Corn': 46, 'Eggplant': 68, 'Garlic': 86, 'Green Bean': 2, 'Hops': 58, 'Hot Pepper': 16, 'Kale': 4, 'Parsnip': 8, 'Potato': 14, 'Pumpkin': 0, 'Radish': 33, 'Red Cabbage': 35, 'Tomato': 38, 'Wheat': 42, 'Yam': 32, 'Blackberry': 66}\n",
            "790.0\n"
          ]
        }
      ]
    },
    {
      "cell_type": "code",
      "source": [
        "def crossover(parent1, parent2):\n",
        "    rng = np.random.default_rng()\n",
        "    x = rng.choice(np.arange(1, np.minimum(len(parent1)-1, len(parent2)-1)))\n",
        "    #print(x)\n",
        "    p1 = toDict(list(parent1.items())[:x])\n",
        "    p2 = toDict(list(parent2.items())[x:])\n",
        "    child = {**p1, **p2}\n",
        "    return child"
      ],
      "metadata": {
        "id": "W2j-WbIGIVFO"
      },
      "id": "W2j-WbIGIVFO",
      "execution_count": 20,
      "outputs": []
    },
    {
      "cell_type": "code",
      "source": [
        "parent1, _ = tournament_selection(population_trail_load, fitness, t_size=3)\n",
        "parent2, _ = tournament_selection(population_trail_load, fitness, t_size=3)\n",
        " \n",
        "print(parent1)\n",
        "print(parent2)\n",
        "print('Child')\n",
        "print(crossover(parent1, parent2))"
      ],
      "metadata": {
        "colab": {
          "base_uri": "https://localhost:8080/"
        },
        "id": "GWo7sD37OusF",
        "outputId": "05c53e18-4248-488b-cc87-c44c070dde85"
      },
      "id": "GWo7sD37OusF",
      "execution_count": 21,
      "outputs": [
        {
          "output_type": "stream",
          "name": "stdout",
          "text": [
            "{'Apple': 3, 'Apricot': 45, 'Blueberry': 2, 'Cactus Fruit': 88, 'Cherry': 9, 'Cranberry': 34, 'Grape': 25, 'Melon': 7, 'Orange': 23, 'Peach': 12, 'Pomegranate': 4, 'Rhubarb': 10, 'Starfruit': 3, 'Strawberry': 1, 'Amaranth': 17, 'Artichoke': 45, 'Beet': 29, 'Bok Choy': 26, 'Cauliflower': 52, 'Corn': 46, 'Eggplant': 68, 'Garlic': 86, 'Green Bean': 2, 'Hops': 58, 'Hot Pepper': 16, 'Kale': 4, 'Parsnip': 8, 'Potato': 14, 'Pumpkin': 0, 'Radish': 33, 'Red Cabbage': 35, 'Tomato': 38, 'Wheat': 42, 'Yam': 32, 'Blackberry': 66}\n",
            "{'Apple': 4, 'Apricot': 62, 'Blueberry': 3, 'Cactus Fruit': 30, 'Cherry': 13, 'Cranberry': 35, 'Grape': 69, 'Melon': 38, 'Orange': 31, 'Peach': 33, 'Pomegranate': 0, 'Rhubarb': 23, 'Starfruit': 0, 'Strawberry': 15, 'Amaranth': 6, 'Artichoke': 52, 'Beet': 29, 'Bok Choy': 52, 'Cauliflower': 64, 'Corn': 86, 'Eggplant': 62, 'Garlic': 67, 'Green Bean': 30, 'Hops': 46, 'Hot Pepper': 5, 'Kale': 1, 'Parsnip': 0, 'Potato': 40, 'Pumpkin': 16, 'Radish': 49, 'Red Cabbage': 15, 'Tomato': 40, 'Wheat': 8, 'Yam': 41, 'Blackberry': 33}\n",
            "Child\n",
            "{'Apple': 3, 'Apricot': 45, 'Blueberry': 2, 'Cactus Fruit': 30, 'Cherry': 13, 'Cranberry': 35, 'Grape': 69, 'Melon': 38, 'Orange': 31, 'Peach': 33, 'Pomegranate': 0, 'Rhubarb': 23, 'Starfruit': 0, 'Strawberry': 15, 'Amaranth': 6, 'Artichoke': 52, 'Beet': 29, 'Bok Choy': 52, 'Cauliflower': 64, 'Corn': 86, 'Eggplant': 62, 'Garlic': 67, 'Green Bean': 30, 'Hops': 46, 'Hot Pepper': 5, 'Kale': 1, 'Parsnip': 0, 'Potato': 40, 'Pumpkin': 16, 'Radish': 49, 'Red Cabbage': 15, 'Tomato': 40, 'Wheat': 8, 'Yam': 41, 'Blackberry': 33}\n"
          ]
        }
      ]
    },
    {
      "cell_type": "code",
      "source": [
        "def crossover_2(parent1, parent2):\n",
        "    rng = np.random.default_rng()\n",
        "    x = rng.choice(np.arange(1, np.minimum(len(parent1)-1, len(parent2)-1)))\n",
        "    #print(x)\n",
        "    cross_list = list(np.zeros(len(parent1)))\n",
        "    ind_list = random.sample(list(np.arange(len(parent1))),x)\n",
        "    for index in ind_list:\n",
        "        cross_list[index] = 1\n",
        "    #print(cross_list)\n",
        "    child = {}\n",
        "    for i in range(len(parent1)):\n",
        "        if cross_list[i] == 0:\n",
        "            child[list(parent1.keys())[i]] = list(parent1.values())[i]\n",
        "        else:\n",
        "            child[list(parent2.keys())[i]] = list(parent2.values())[i]\n",
        "    return child"
      ],
      "metadata": {
        "id": "tLXrslOQnR9T"
      },
      "id": "tLXrslOQnR9T",
      "execution_count": 22,
      "outputs": []
    },
    {
      "cell_type": "code",
      "source": [
        "parent1, _ = tournament_selection(population_trail_load, fitness, t_size=3)\n",
        "parent2, _ = tournament_selection(population_trail_load, fitness, t_size=3)\n",
        " \n",
        "print(parent1)\n",
        "print(parent2)\n",
        "print('Child')\n",
        "print(crossover_2(parent1, parent2))"
      ],
      "metadata": {
        "colab": {
          "base_uri": "https://localhost:8080/"
        },
        "id": "U_drPi4Bp4eC",
        "outputId": "7387e2c7-b02c-4956-aa24-5bb94458cc46"
      },
      "id": "U_drPi4Bp4eC",
      "execution_count": 23,
      "outputs": [
        {
          "output_type": "stream",
          "name": "stdout",
          "text": [
            "{'Apple': 4, 'Apricot': 62, 'Blueberry': 3, 'Cactus Fruit': 30, 'Cherry': 13, 'Cranberry': 35, 'Grape': 69, 'Melon': 38, 'Orange': 31, 'Peach': 33, 'Pomegranate': 0, 'Rhubarb': 23, 'Starfruit': 0, 'Strawberry': 15, 'Amaranth': 6, 'Artichoke': 52, 'Beet': 29, 'Bok Choy': 52, 'Cauliflower': 64, 'Corn': 86, 'Eggplant': 62, 'Garlic': 67, 'Green Bean': 30, 'Hops': 46, 'Hot Pepper': 5, 'Kale': 1, 'Parsnip': 0, 'Potato': 40, 'Pumpkin': 16, 'Radish': 49, 'Red Cabbage': 15, 'Tomato': 40, 'Wheat': 8, 'Yam': 41, 'Blackberry': 33}\n",
            "{'Apple': 4, 'Apricot': 62, 'Blueberry': 3, 'Cactus Fruit': 30, 'Cherry': 13, 'Cranberry': 35, 'Grape': 69, 'Melon': 38, 'Orange': 31, 'Peach': 33, 'Pomegranate': 0, 'Rhubarb': 23, 'Starfruit': 0, 'Strawberry': 15, 'Amaranth': 6, 'Artichoke': 52, 'Beet': 29, 'Bok Choy': 52, 'Cauliflower': 64, 'Corn': 86, 'Eggplant': 62, 'Garlic': 67, 'Green Bean': 30, 'Hops': 46, 'Hot Pepper': 5, 'Kale': 1, 'Parsnip': 0, 'Potato': 40, 'Pumpkin': 16, 'Radish': 49, 'Red Cabbage': 15, 'Tomato': 40, 'Wheat': 8, 'Yam': 41, 'Blackberry': 33}\n",
            "Child\n",
            "{'Apple': 4, 'Apricot': 62, 'Blueberry': 3, 'Cactus Fruit': 30, 'Cherry': 13, 'Cranberry': 35, 'Grape': 69, 'Melon': 38, 'Orange': 31, 'Peach': 33, 'Pomegranate': 0, 'Rhubarb': 23, 'Starfruit': 0, 'Strawberry': 15, 'Amaranth': 6, 'Artichoke': 52, 'Beet': 29, 'Bok Choy': 52, 'Cauliflower': 64, 'Corn': 86, 'Eggplant': 62, 'Garlic': 67, 'Green Bean': 30, 'Hops': 46, 'Hot Pepper': 5, 'Kale': 1, 'Parsnip': 0, 'Potato': 40, 'Pumpkin': 16, 'Radish': 49, 'Red Cabbage': 15, 'Tomato': 40, 'Wheat': 8, 'Yam': 41, 'Blackberry': 33}\n"
          ]
        }
      ]
    },
    {
      "cell_type": "code",
      "source": [
        "\n",
        "def mutate(ind):\n",
        "    rng = np.random.default_rng()\n",
        "    continue_mutation = True\n",
        "    while(continue_mutation):\n",
        "        x = rng.choice(len(ind)-1)\n",
        "        #print('x_mutate',x)\n",
        "        if((list(ind.values())[x] < list(stock.values())[x+1]) and\n",
        "           (list(ind.values())[x+1] < list(stock.values())[x])):\n",
        "              child = ind.copy()\n",
        "              child.update({str(list(ind.keys())[x]):list(ind.values())[x+1]})\n",
        "              child.update({str(list(ind.keys())[x+1]):list(ind.values())[x]})\n",
        "              continue_mutation = False\n",
        "    return child\n"
      ],
      "metadata": {
        "id": "Z-Ft-CgDPa7L"
      },
      "id": "Z-Ft-CgDPa7L",
      "execution_count": 37,
      "outputs": []
    },
    {
      "cell_type": "code",
      "source": [
        "def mutate_2(ind):\n",
        "    rng = np.random.default_rng()\n",
        "    continue_mutation = True\n",
        "    while(continue_mutation):\n",
        "        x = rng.choice(len(ind)-1)\n",
        "        #print('x_mutate',x)\n",
        "        if((list(ind.values())[x]+1 < list(stock.values())[x]) and\n",
        "           (list(ind.values())[x+1]-1 > 0)):\n",
        "              child = ind.copy()\n",
        "              child.update({str(list(ind.keys())[x]):list(ind.values())[x]+1})\n",
        "              child.update({str(list(ind.keys())[x+1]):list(ind.values())[x+1]-1})\n",
        "              continue_mutation = False\n",
        "    return child"
      ],
      "metadata": {
        "id": "ZZp-MPdwhQ5G"
      },
      "id": "ZZp-MPdwhQ5G",
      "execution_count": 38,
      "outputs": []
    },
    {
      "cell_type": "code",
      "source": [
        "parent1, _ = tournament_selection(population_trail_load, fitness, t_size=3)\n",
        "parent2, _ = tournament_selection(population_trail_load, fitness, t_size=3)\n",
        "print(parent1)\n",
        "print(parent2)\n",
        "child_1 = crossover(parent1, parent2)\n",
        "child_1 = mutate(child_1)\n",
        "print(child_1)"
      ],
      "metadata": {
        "colab": {
          "base_uri": "https://localhost:8080/"
        },
        "id": "a9uwrbBYRthz",
        "outputId": "9b130924-9670-49d0-e640-7d8fd94074e3"
      },
      "id": "a9uwrbBYRthz",
      "execution_count": 25,
      "outputs": [
        {
          "output_type": "stream",
          "name": "stdout",
          "text": [
            "{'Apple': 4, 'Apricot': 62, 'Blueberry': 3, 'Cactus Fruit': 30, 'Cherry': 13, 'Cranberry': 35, 'Grape': 69, 'Melon': 38, 'Orange': 31, 'Peach': 33, 'Pomegranate': 0, 'Rhubarb': 23, 'Starfruit': 0, 'Strawberry': 15, 'Amaranth': 6, 'Artichoke': 52, 'Beet': 29, 'Bok Choy': 52, 'Cauliflower': 64, 'Corn': 86, 'Eggplant': 62, 'Garlic': 67, 'Green Bean': 30, 'Hops': 46, 'Hot Pepper': 5, 'Kale': 1, 'Parsnip': 0, 'Potato': 40, 'Pumpkin': 16, 'Radish': 49, 'Red Cabbage': 15, 'Tomato': 40, 'Wheat': 8, 'Yam': 41, 'Blackberry': 33}\n",
            "{'Apple': 4, 'Apricot': 62, 'Blueberry': 3, 'Cactus Fruit': 30, 'Cherry': 13, 'Cranberry': 35, 'Grape': 69, 'Melon': 38, 'Orange': 31, 'Peach': 33, 'Pomegranate': 0, 'Rhubarb': 23, 'Starfruit': 0, 'Strawberry': 15, 'Amaranth': 6, 'Artichoke': 52, 'Beet': 29, 'Bok Choy': 52, 'Cauliflower': 64, 'Corn': 86, 'Eggplant': 62, 'Garlic': 67, 'Green Bean': 30, 'Hops': 46, 'Hot Pepper': 5, 'Kale': 1, 'Parsnip': 0, 'Potato': 40, 'Pumpkin': 16, 'Radish': 49, 'Red Cabbage': 15, 'Tomato': 40, 'Wheat': 8, 'Yam': 41, 'Blackberry': 33}\n",
            "{'Apple': 4, 'Apricot': 62, 'Blueberry': 3, 'Cactus Fruit': 30, 'Cherry': 13, 'Cranberry': 35, 'Grape': 69, 'Melon': 38, 'Orange': 31, 'Peach': 33, 'Pomegranate': 0, 'Rhubarb': 23, 'Starfruit': 0, 'Strawberry': 15, 'Amaranth': 6, 'Artichoke': 52, 'Beet': 29, 'Bok Choy': 52, 'Cauliflower': 64, 'Corn': 86, 'Eggplant': 62, 'Garlic': 67, 'Green Bean': 30, 'Hops': 46, 'Hot Pepper': 5, 'Kale': 1, 'Parsnip': 0, 'Potato': 40, 'Pumpkin': 16, 'Radish': 49, 'Red Cabbage': 16, 'Tomato': 39, 'Wheat': 8, 'Yam': 41, 'Blackberry': 33}\n"
          ]
        }
      ]
    },
    {
      "cell_type": "code",
      "source": [
        "def ga_step(population):\n",
        "    fitness = evaluate_population(population)\n",
        "    fp_fits = np.zeros(20)\n",
        "    next_pop, _ = truncation_selection(population, fitness)\n",
        "    '''\n",
        "    next_pop = []\n",
        "    for i in range(20):\n",
        "        p, f = fp_selection(population_trail_load, fitness)\n",
        "        next_pop.append(p)\n",
        "        fp_fits[i] = f\n",
        "    '''\n",
        "    while len(next_pop) < len(population):\n",
        "        parent1, _ = tournament_selection(population, fitness)\n",
        "        parent2, _ = tournament_selection(population, fitness)\n",
        "        #child = crossover(parent1, parent2)\n",
        "        child = crossover_2(parent1, parent2)\n",
        "        child = mutate_2(child)\n",
        "        next_pop.append(child)\n",
        "    #next_fitness = evaluate_population(next_pop)\n",
        "    return next_pop, fitness"
      ],
      "metadata": {
        "id": "kYZywVzyVqBW"
      },
      "id": "kYZywVzyVqBW",
      "execution_count": 66,
      "outputs": []
    },
    {
      "cell_type": "code",
      "source": [
        "n_population = 100\n",
        "population_trail_load = []\n",
        "\n",
        "for i in range(n_population):\n",
        "    trial_load = {}\n",
        "    for k in stock:\n",
        "        trial_load[k] = np.random.randint(0, stock[k])\n",
        "    population_trail_load.append(trial_load)\n",
        "\n",
        "fitness = evaluate_population(population_trail_load)"
      ],
      "metadata": {
        "id": "9dGQXJxEbWuB"
      },
      "id": "9dGQXJxEbWuB",
      "execution_count": 67,
      "outputs": []
    },
    {
      "cell_type": "code",
      "source": [
        "maxfit = []\n",
        "n_gen = 2000\n",
        "maxfit = np.zeros(n_gen)\n",
        "pop = population_trail_load\n",
        "for i in range(n_gen):\n",
        "    pop, fitn = ga_step(pop)\n",
        "    maxfit[i] = np.max(fitn)\n",
        "    if (i > 2) and (maxfit[i] > maxfit[i-1]):\n",
        "        print(i, maxfit[i])"
      ],
      "metadata": {
        "colab": {
          "base_uri": "https://localhost:8080/"
        },
        "id": "BoRK-TGWbMPE",
        "outputId": "cfd772fc-1954-4e11-b802-bfa26f241432"
      },
      "id": "BoRK-TGWbMPE",
      "execution_count": 91,
      "outputs": [
        {
          "output_type": "stream",
          "name": "stdout",
          "text": [
            "4 881.4000000000001\n",
            "7 882.65\n",
            "8 935.0999999999998\n",
            "13 942.4999999999999\n",
            "15 943.5000000000002\n",
            "17 947.9\n",
            "18 962.35\n",
            "21 982.2499999999999\n",
            "26 985.5999999999998\n",
            "28 1006.9999999999999\n",
            "31 1008.3499999999999\n",
            "36 1018.1499999999999\n",
            "43 1024.9999999999998\n",
            "47 1025.75\n",
            "48 1036.3\n",
            "62 1040.8\n",
            "63 1042.85\n",
            "69 1044.75\n",
            "85 1046.3999999999999\n",
            "93 1047.3999999999999\n",
            "106 1047.6\n",
            "109 1047.7499999999998\n",
            "110 1048.8999999999999\n",
            "113 1050.9\n",
            "121 1051.4\n",
            "122 1052.7\n",
            "131 1053.4500000000003\n",
            "133 1053.5499999999997\n",
            "136 1053.6000000000001\n",
            "137 1053.75\n",
            "138 1054.45\n",
            "141 1054.8000000000002\n",
            "143 1056.3\n",
            "145 1056.8\n",
            "147 1057.45\n",
            "151 1058.0\n",
            "156 1058.5500000000002\n",
            "158 1059.5000000000002\n",
            "159 1059.6\n",
            "165 1060.65\n",
            "168 1060.7\n",
            "172 1061.0500000000004\n",
            "173 1061.55\n",
            "175 1062.6000000000001\n",
            "180 1063.8000000000002\n",
            "189 1065.25\n",
            "191 1065.3500000000001\n",
            "195 1065.7000000000003\n",
            "197 1066.95\n",
            "201 1067.35\n",
            "202 1067.55\n",
            "207 1067.7500000000002\n",
            "209 1068.5000000000002\n",
            "211 1068.8500000000001\n",
            "214 1068.95\n",
            "216 1068.9500000000003\n",
            "218 1069.1500000000003\n",
            "219 1070.65\n",
            "228 1072.3000000000002\n",
            "236 1073.1000000000001\n",
            "237 1073.25\n",
            "241 1073.4500000000003\n",
            "243 1074.05\n",
            "245 1074.0500000000002\n",
            "246 1074.5\n",
            "247 1075.2000000000003\n",
            "250 1076.0000000000002\n",
            "253 1076.6000000000001\n",
            "254 1076.95\n",
            "257 1076.9500000000003\n",
            "259 1077.45\n",
            "261 1078.25\n",
            "264 1078.3\n",
            "265 1078.9\n",
            "274 1079.3000000000002\n",
            "275 1079.8\n",
            "279 1080.4\n",
            "280 1080.4500000000003\n",
            "285 1080.6999999999998\n",
            "289 1080.85\n",
            "291 1081.0\n",
            "292 1081.5\n",
            "295 1081.8\n",
            "296 1082.8500000000001\n",
            "303 1083.05\n",
            "305 1084.7\n",
            "316 1085.0000000000002\n",
            "321 1085.2\n",
            "323 1085.25\n",
            "325 1085.3000000000002\n",
            "327 1085.7\n",
            "331 1086.2\n",
            "335 1088.0500000000002\n",
            "345 1088.25\n",
            "348 1089.2000000000003\n",
            "351 1091.05\n",
            "365 1091.45\n",
            "369 1091.55\n",
            "370 1092.8000000000002\n",
            "377 1092.9\n",
            "380 1093.95\n",
            "386 1094.7\n",
            "396 1095.75\n",
            "403 1096.1000000000001\n",
            "405 1096.75\n",
            "406 1096.8\n",
            "408 1097.3999999999999\n",
            "410 1097.8\n",
            "414 1098.9\n",
            "421 1099.2500000000002\n",
            "425 1099.3\n",
            "426 1099.45\n",
            "427 1099.5500000000002\n",
            "429 1100.3500000000001\n",
            "434 1100.8500000000001\n",
            "437 1101.0000000000002\n",
            "441 1101.65\n",
            "444 1101.9\n",
            "448 1101.95\n",
            "449 1102.75\n",
            "453 1103.5500000000002\n",
            "458 1103.75\n",
            "461 1103.95\n",
            "464 1104.2\n",
            "465 1104.5000000000002\n",
            "467 1104.7500000000002\n",
            "468 1105.1000000000001\n",
            "472 1105.6000000000001\n",
            "479 1106.2\n",
            "480 1106.45\n",
            "487 1106.4500000000003\n",
            "493 1106.65\n",
            "494 1106.8000000000002\n",
            "495 1107.3500000000001\n",
            "500 1107.3999999999999\n",
            "503 1108.15\n",
            "512 1108.45\n",
            "514 1108.7\n",
            "517 1108.8\n",
            "520 1109.15\n",
            "522 1109.8\n",
            "524 1110.05\n",
            "526 1110.1499999999999\n",
            "532 1110.15\n",
            "534 1110.2\n",
            "536 1110.45\n",
            "537 1110.4500000000003\n",
            "538 1110.75\n",
            "546 1110.8\n",
            "548 1110.8999999999999\n",
            "549 1111.65\n",
            "554 1111.8999999999999\n",
            "556 1112.2\n",
            "559 1113.05\n",
            "568 1113.1\n",
            "570 1113.1000000000001\n",
            "571 1113.1999999999998\n",
            "573 1113.2500000000002\n",
            "574 1113.3000000000002\n",
            "577 1113.9\n",
            "582 1114.5\n",
            "588 1114.55\n",
            "593 1114.6\n",
            "594 1114.6000000000001\n",
            "600 1114.9\n",
            "602 1115.85\n",
            "607 1116.25\n",
            "612 1116.3999999999999\n",
            "613 1116.5500000000002\n",
            "617 1116.8\n",
            "618 1117.2\n",
            "619 1117.45\n",
            "623 1117.6000000000001\n",
            "631 1118.4\n",
            "635 1118.75\n",
            "653 1119.25\n",
            "657 1119.4\n",
            "663 1120.1000000000001\n",
            "680 1120.45\n",
            "685 1120.9\n",
            "690 1121.2\n",
            "700 1121.3000000000002\n",
            "701 1121.5\n",
            "705 1121.5500000000002\n",
            "706 1121.7000000000003\n",
            "714 1122.4\n",
            "718 1123.15\n",
            "730 1123.1500000000003\n",
            "754 1123.3500000000001\n"
          ]
        }
      ]
    },
    {
      "cell_type": "markdown",
      "id": "1db64ad0",
      "metadata": {
        "id": "1db64ad0"
      },
      "source": [
        "## Challenge 2\n"
      ]
    },
    {
      "cell_type": "markdown",
      "id": "ad10e8aa",
      "metadata": {
        "id": "ad10e8aa"
      },
      "source": [
        "The agricultural market in this world is highly variable. This time, you'll be selling your load to a reseller, but you're not sure which one. Each reseller has different prices, so it depends on which one you'll meet. To be prepared, you should explore the possible options."
      ]
    },
    {
      "cell_type": "code",
      "execution_count": 32,
      "id": "6f1fb98d",
      "metadata": {
        "id": "6f1fb98d"
      },
      "outputs": [],
      "source": [
        "price_a = df['price_A'].to_dict()\n",
        "price_b = df['price_B'].to_dict()\n",
        "price_c = df['price_C'].to_dict()"
      ]
    },
    {
      "cell_type": "code",
      "execution_count": 33,
      "id": "c2b295f9",
      "metadata": {
        "colab": {
          "base_uri": "https://localhost:8080/"
        },
        "id": "c2b295f9",
        "outputId": "199dcde2-f3eb-4b36-e065-35b757de10d2"
      },
      "outputs": [
        {
          "output_type": "execute_result",
          "data": {
            "text/plain": [
              "(0.8, 0.4, 1.1)"
            ]
          },
          "metadata": {},
          "execution_count": 33
        }
      ],
      "source": [
        "price_a['Cherry'], price_b['Cherry'], price_c['Cherry']"
      ]
    },
    {
      "cell_type": "markdown",
      "id": "5ad5ab54",
      "metadata": {
        "id": "5ad5ab54"
      },
      "source": [
        "Given that cherries have very different prices between the different resellers, the example load we made ealier would fetch a wildly different price depending on the reseller:"
      ]
    },
    {
      "cell_type": "code",
      "execution_count": 34,
      "id": "8dc3fa44",
      "metadata": {
        "colab": {
          "base_uri": "https://localhost:8080/"
        },
        "id": "8dc3fa44",
        "outputId": "654f98ff-e9d2-4da7-8657-469f07cd73c4"
      },
      "outputs": [
        {
          "output_type": "stream",
          "name": "stdout",
          "text": [
            "679.9 319.70000000000005 413.6000000000001\n"
          ]
        }
      ],
      "source": [
        "a = evaluate(trial_load, stock, weight, price_a)\n",
        "b = evaluate(trial_load, stock, weight, price_b)\n",
        "c = evaluate(trial_load, stock, weight, price_c)\n",
        "print(a, b, c)"
      ]
    },
    {
      "cell_type": "markdown",
      "id": "40447192",
      "metadata": {
        "id": "40447192"
      },
      "source": [
        "Prepare four different options for your market day haul: one option that will be good for reseller A, one for reseller B, one for reseller C, and one which would be pretty good for all three. Display these options and compare their different prices."
      ]
    },
    {
      "cell_type": "code",
      "source": [
        "def evaluate_population_2(population, price_2):\n",
        "    fit = []\n",
        "    for i in range(len(population)):\n",
        "      if(price_2 != 'all_three'):\n",
        "        prix_2 = evaluate(population[i], stock, weight, price_2)\n",
        "        fit.append(prix_2)\n",
        "      else:\n",
        "        prix_2 = evaluate(population[i], stock, weight, price_a) + evaluate(population[i], stock, weight, price_b) + evaluate(population[i], stock, weight, price_c)\n",
        "        prix_2 = prix_2/3\n",
        "        fit.append(prix_2)\n",
        "    return fit"
      ],
      "metadata": {
        "id": "HHa1SAeI7keB"
      },
      "id": "HHa1SAeI7keB",
      "execution_count": 113,
      "outputs": []
    },
    {
      "cell_type": "code",
      "source": [
        "def ga_step_2(population, prix):\n",
        "    fitness = evaluate_population_2(population, prix)\n",
        "    fp_fits = np.zeros(20)\n",
        "    next_pop, _ = truncation_selection(population, fitness)\n",
        "    while len(next_pop) < len(population):\n",
        "        parent1, _ = tournament_selection(population, fitness)\n",
        "        parent2, _ = tournament_selection(population, fitness)\n",
        "        #child = crossover(parent1, parent2)\n",
        "        child = crossover_2(parent1, parent2)\n",
        "        child = mutate_2(child)\n",
        "        next_pop.append(child)\n",
        "    #next_fitness = evaluate_population(next_pop)\n",
        "    return next_pop, fitness"
      ],
      "metadata": {
        "id": "RBrHSWMG8bDa"
      },
      "id": "RBrHSWMG8bDa",
      "execution_count": 114,
      "outputs": []
    },
    {
      "cell_type": "code",
      "source": [
        "n_population = 100\n",
        "population_trail_load = []\n",
        "\n",
        "for i in range(n_population):\n",
        "    trial_load = {}\n",
        "    for k in stock:\n",
        "        trial_load[k] = np.random.randint(0, stock[k])\n",
        "    population_trail_load.append(trial_load)\n",
        "\n",
        "fitness = evaluate_population(population_trail_load)"
      ],
      "metadata": {
        "id": "TkDHYSuv8kxV"
      },
      "id": "TkDHYSuv8kxV",
      "execution_count": 115,
      "outputs": []
    },
    {
      "cell_type": "code",
      "source": [
        "from pyparsing.helpers import nullDebugAction\n",
        "maxfit = []\n",
        "list_price = [price_a, price_b, price_c, 'all_three']\n",
        "#list_price = ['all_three']\n",
        "list_etiquette = ['price_a', 'price_b', 'price_c', 'all_three']\n",
        "#list_etiquette = ['all_three']\n",
        "\n",
        "for p in list_price:\n",
        "    result = (0,0)\n",
        "    n_gen = 1000\n",
        "    maxfit = np.zeros(n_gen)\n",
        "    pop = population_trail_load\n",
        "    best_pop = {}\n",
        "    for i in range(n_gen):\n",
        "        pop, fitn = ga_step_2(pop, p)\n",
        "        maxfit[i] = np.max(fitn)\n",
        "        if (i > 2) and (maxfit[i] > maxfit[i-1]):\n",
        "            #print(list_etiquette[list_price.index(p)], i, maxfit[i])\n",
        "            result = (i, maxfit[i])\n",
        "            #print(np.where(fitn == np.max(fitn))[0])\n",
        "            ind = int(np.where(fitn == np.max(fitn))[0][0])\n",
        "            #print('ind',ind)\n",
        "            best_pop = pop[ind]\n",
        "    if p != 'all_three':\n",
        "        print(list_etiquette[list_price.index(p)], result[0], result[1])\n",
        "        print(best_pop)\n",
        "    else:\n",
        "        a = evaluate(best_pop, stock, weight, price_a)\n",
        "        b = evaluate(best_pop, stock, weight, price_b)\n",
        "        c = evaluate(best_pop, stock, weight, price_c)\n",
        "        print(list_etiquette[list_price.index(p)], result[0], (a, b, c))\n",
        "        print(best_pop)\n",
        "        "
      ],
      "metadata": {
        "id": "x3qCDpta8uBe",
        "outputId": "98ede0b7-35f1-4277-b6d2-b4425249767b",
        "colab": {
          "base_uri": "https://localhost:8080/"
        }
      },
      "id": "x3qCDpta8uBe",
      "execution_count": 130,
      "outputs": [
        {
          "output_type": "stream",
          "name": "stdout",
          "text": [
            "price_a 576 1096.25\n",
            "{'Apple': 4, 'Apricot': 14, 'Blueberry': 1, 'Cactus Fruit': 56, 'Cherry': 14, 'Cranberry': 26, 'Grape': 69, 'Melon': 12, 'Orange': 27, 'Peach': 53, 'Pomegranate': 3, 'Rhubarb': 1, 'Starfruit': 0, 'Strawberry': 19, 'Amaranth': 19, 'Artichoke': 64, 'Beet': 29, 'Bok Choy': 54, 'Cauliflower': 69, 'Corn': 89, 'Eggplant': 94, 'Garlic': 94, 'Green Bean': 33, 'Hops': 1, 'Hot Pepper': 18, 'Kale': 4, 'Parsnip': 9, 'Potato': 54, 'Pumpkin': 2, 'Radish': 49, 'Red Cabbage': 46, 'Tomato': 64, 'Wheat': 35, 'Yam': 49, 'Blackberry': 53}\n",
            "price_b 757 442.1\n",
            "{'Apple': 4, 'Apricot': 48, 'Blueberry': 4, 'Cactus Fruit': 59, 'Cherry': 14, 'Cranberry': 60, 'Grape': 27, 'Melon': 51, 'Orange': 39, 'Peach': 40, 'Pomegranate': 4, 'Rhubarb': 60, 'Starfruit': 1, 'Strawberry': 19, 'Amaranth': 19, 'Artichoke': 1, 'Beet': 23, 'Bok Choy': 1, 'Cauliflower': 15, 'Corn': 23, 'Eggplant': 2, 'Garlic': 1, 'Green Bean': 1, 'Hops': 69, 'Hot Pepper': 21, 'Kale': 4, 'Parsnip': 9, 'Potato': 4, 'Pumpkin': 20, 'Radish': 49, 'Red Cabbage': 45, 'Tomato': 17, 'Wheat': 19, 'Yam': 49, 'Blackberry': 0}\n",
            "price_c 628 712.9000000000002\n",
            "{'Apple': 4, 'Apricot': 64, 'Blueberry': 4, 'Cactus Fruit': 55, 'Cherry': 14, 'Cranberry': 6, 'Grape': 69, 'Melon': 68, 'Orange': 39, 'Peach': 38, 'Pomegranate': 4, 'Rhubarb': 7, 'Starfruit': 0, 'Strawberry': 19, 'Amaranth': 19, 'Artichoke': 62, 'Beet': 29, 'Bok Choy': 54, 'Cauliflower': 11, 'Corn': 49, 'Eggplant': 93, 'Garlic': 1, 'Green Bean': 54, 'Hops': 59, 'Hot Pepper': 24, 'Kale': 4, 'Parsnip': 9, 'Potato': 32, 'Pumpkin': 1, 'Radish': 49, 'Red Cabbage': 3, 'Tomato': 63, 'Wheat': 45, 'Yam': 49, 'Blackberry': 57}\n",
            "all_three 689 (1013.6999999999999, 404.8, 707.8999999999999)\n",
            "{'Apple': 4, 'Apricot': 64, 'Blueberry': 4, 'Cactus Fruit': 28, 'Cherry': 14, 'Cranberry': 70, 'Grape': 69, 'Melon': 68, 'Orange': 27, 'Peach': 7, 'Pomegranate': 3, 'Rhubarb': 1, 'Starfruit': 1, 'Strawberry': 14, 'Amaranth': 19, 'Artichoke': 55, 'Beet': 29, 'Bok Choy': 41, 'Cauliflower': 68, 'Corn': 52, 'Eggplant': 93, 'Garlic': 28, 'Green Bean': 54, 'Hops': 5, 'Hot Pepper': 24, 'Kale': 4, 'Parsnip': 9, 'Potato': 54, 'Pumpkin': 5, 'Radish': 49, 'Red Cabbage': 4, 'Tomato': 64, 'Wheat': 40, 'Yam': 49, 'Blackberry': 61}\n"
          ]
        }
      ]
    },
    {
      "cell_type": "code",
      "source": [],
      "metadata": {
        "id": "vamQ1zBQSNko"
      },
      "id": "vamQ1zBQSNko",
      "execution_count": null,
      "outputs": []
    },
    {
      "cell_type": "markdown",
      "id": "8c3ff230",
      "metadata": {
        "id": "8c3ff230"
      },
      "source": [
        "Hint: you can use a multi-objective algorithm to optimize for all three reseller prices at the same time."
      ]
    },
    {
      "cell_type": "code",
      "source": [
        "from pymoo.core.problem import ElementwiseProblem\n",
        "from pymoo.core.variable import Real, Integer, Choice, Binary\n",
        "\n",
        "class MOPMD(ElementwiseProblem):\n",
        "    \n",
        "    def __init__(self, **kwargs):\n",
        "        \n",
        "        # lower bound\n",
        "        variable = {}\n",
        "        \n",
        "        for k in stock:\n",
        "            trial_load[k] = Integer(0, stock[k])\n",
        "        \n",
        "        self.n_obj\n",
        "        \n",
        "        super().__init__(n_var=trial_load, n_obj=3, **kwargs)\n",
        "        \n",
        "    def evaluate(self, load, stock, weight, price, max_weight=5000):\n",
        "        total_weight = 0\n",
        "        total_price = 0\n",
        "        for k in load:\n",
        "            if load[k] <= stock[k]:\n",
        "                total_price += load[k] * price[k]\n",
        "                total_weight += load[k] * weight[k]\n",
        "                if total_weight > max_weight:\n",
        "                    total_price = 0\n",
        "                    break\n",
        "            else:\n",
        "                total_price = 0\n",
        "                break\n",
        "        return total_price\n",
        "    \n",
        "    def evaluate_population_2(self, population, out, price_2):\n",
        "        fit = np.zeros((len(self.n_obs),len(self.population)))\n",
        "        for p in range(len(self.n_obs)):\n",
        "            for i in range(len(self.population)):\n",
        "                prix_2 = self.evaluate(population[i], stock, weight, price_2)\n",
        "                fit[p][i] = prix_2\n",
        "        out[\"F\"] = [fit[0][:], fit[1][:], fit[2][:]]"
      ],
      "metadata": {
        "id": "Dccbay2i-9NN"
      },
      "id": "Dccbay2i-9NN",
      "execution_count": null,
      "outputs": []
    },
    {
      "cell_type": "code",
      "source": [
        "from pymoo.algorithms.moo.nsga2 import NSGA2\n",
        "from pymoo.operators.crossover.erx import EdgeRecombinationCrossover\n",
        "from pymoo.operators.sampling.rnd import PermutationRandomSampling\n",
        "from pymoo.operators.mutation.inversion import InversionMutation\n",
        "\n",
        "algorithm = NSGA2(\n",
        "    pop_size=100,\n",
        "    sampling=PermutationRandomSampling(),\n",
        "    crossover=EdgeRecombinationCrossover(),\n",
        "    mutation=InversionMutation(),\n",
        "    eliminate_duplicates=True\n",
        ")"
      ],
      "metadata": {
        "id": "I-ivKx-LAOU0"
      },
      "id": "I-ivKx-LAOU0",
      "execution_count": null,
      "outputs": []
    },
    {
      "cell_type": "markdown",
      "id": "0d026d23",
      "metadata": {
        "id": "0d026d23"
      },
      "source": [
        "## Challenge 3"
      ]
    },
    {
      "cell_type": "markdown",
      "id": "1d7603f4",
      "metadata": {
        "id": "1d7603f4"
      },
      "source": [
        "You decide to preprare some of your crops by making food for the market day. You know a number of recipes and are famous for your delicious fruit pies."
      ]
    },
    {
      "cell_type": "code",
      "execution_count": null,
      "id": "025beabd",
      "metadata": {
        "id": "025beabd"
      },
      "outputs": [],
      "source": [
        "recipes = {'Ratatouille': {'Eggplant': 2, 'Garlic': 2, 'Tomato': 4, 'Hot Pepper': 1},\n",
        " 'Apple Pie': {'Apple': 10, 'Wheat': 5},\n",
        " 'Apricot Pie': {'Apricot': 10, 'Wheat': 5},\n",
        " 'Cherry Pie': {'Cherry': 10, 'Wheat': 5},\n",
        " 'Rhubarb Pie': {'Rhubarb': 10, 'Wheat': 5},\n",
        " 'Strawberry Pie': {'Strawberry': 10, 'Wheat': 5},\n",
        " 'Blackberry Pie': {'Blackberry': 10, 'Wheat': 5},\n",
        " 'Pumpkin Pie': {'Pumpkin': 10, 'Wheat': 5},\n",
        " 'Pizza': {'Tomato': 3, 'Wheat': 2, 'Artichoke': 1},\n",
        " 'Baba Ghanoush': {'Eggplant': 2, 'Garlic': 4},\n",
        " 'Squash Soup': {'Yam': 3, 'Pumpkin': 1},\n",
        " 'Peach Beer': {'Hops': 3, 'Peach': 1},\n",
        " 'Blackberry Beer': {'Hops': 3, 'Blackberry': 1}}"
      ]
    },
    {
      "cell_type": "markdown",
      "id": "1e250a2c",
      "metadata": {
        "id": "1e250a2c"
      },
      "source": [
        "These recipes sell for good prices at each of the resellers:"
      ]
    },
    {
      "cell_type": "code",
      "execution_count": null,
      "id": "7d0bfc4d",
      "metadata": {
        "colab": {
          "base_uri": "https://localhost:8080/",
          "height": 206
        },
        "id": "7d0bfc4d",
        "outputId": "a1e9bb67-2d77-41ee-96b2-86a8d14a25b4"
      },
      "outputs": [
        {
          "output_type": "execute_result",
          "data": {
            "text/plain": [
              "             price_A  price_B  price_C\n",
              "Ratatouille     68.0     13.0     52.0\n",
              "Apple Pie      146.0     84.0    176.0\n",
              "Apricot Pie     81.0     46.0    110.0\n",
              "Cherry Pie     120.0     72.0    176.0\n",
              "Rhubarb Pie    133.0    162.0     98.0"
            ],
            "text/html": [
              "\n",
              "  <div id=\"df-39ca5111-a701-47b5-a899-7a533bd8dece\">\n",
              "    <div class=\"colab-df-container\">\n",
              "      <div>\n",
              "<style scoped>\n",
              "    .dataframe tbody tr th:only-of-type {\n",
              "        vertical-align: middle;\n",
              "    }\n",
              "\n",
              "    .dataframe tbody tr th {\n",
              "        vertical-align: top;\n",
              "    }\n",
              "\n",
              "    .dataframe thead th {\n",
              "        text-align: right;\n",
              "    }\n",
              "</style>\n",
              "<table border=\"1\" class=\"dataframe\">\n",
              "  <thead>\n",
              "    <tr style=\"text-align: right;\">\n",
              "      <th></th>\n",
              "      <th>price_A</th>\n",
              "      <th>price_B</th>\n",
              "      <th>price_C</th>\n",
              "    </tr>\n",
              "  </thead>\n",
              "  <tbody>\n",
              "    <tr>\n",
              "      <th>Ratatouille</th>\n",
              "      <td>68.0</td>\n",
              "      <td>13.0</td>\n",
              "      <td>52.0</td>\n",
              "    </tr>\n",
              "    <tr>\n",
              "      <th>Apple Pie</th>\n",
              "      <td>146.0</td>\n",
              "      <td>84.0</td>\n",
              "      <td>176.0</td>\n",
              "    </tr>\n",
              "    <tr>\n",
              "      <th>Apricot Pie</th>\n",
              "      <td>81.0</td>\n",
              "      <td>46.0</td>\n",
              "      <td>110.0</td>\n",
              "    </tr>\n",
              "    <tr>\n",
              "      <th>Cherry Pie</th>\n",
              "      <td>120.0</td>\n",
              "      <td>72.0</td>\n",
              "      <td>176.0</td>\n",
              "    </tr>\n",
              "    <tr>\n",
              "      <th>Rhubarb Pie</th>\n",
              "      <td>133.0</td>\n",
              "      <td>162.0</td>\n",
              "      <td>98.0</td>\n",
              "    </tr>\n",
              "  </tbody>\n",
              "</table>\n",
              "</div>\n",
              "      <button class=\"colab-df-convert\" onclick=\"convertToInteractive('df-39ca5111-a701-47b5-a899-7a533bd8dece')\"\n",
              "              title=\"Convert this dataframe to an interactive table.\"\n",
              "              style=\"display:none;\">\n",
              "        \n",
              "  <svg xmlns=\"http://www.w3.org/2000/svg\" height=\"24px\"viewBox=\"0 0 24 24\"\n",
              "       width=\"24px\">\n",
              "    <path d=\"M0 0h24v24H0V0z\" fill=\"none\"/>\n",
              "    <path d=\"M18.56 5.44l.94 2.06.94-2.06 2.06-.94-2.06-.94-.94-2.06-.94 2.06-2.06.94zm-11 1L8.5 8.5l.94-2.06 2.06-.94-2.06-.94L8.5 2.5l-.94 2.06-2.06.94zm10 10l.94 2.06.94-2.06 2.06-.94-2.06-.94-.94-2.06-.94 2.06-2.06.94z\"/><path d=\"M17.41 7.96l-1.37-1.37c-.4-.4-.92-.59-1.43-.59-.52 0-1.04.2-1.43.59L10.3 9.45l-7.72 7.72c-.78.78-.78 2.05 0 2.83L4 21.41c.39.39.9.59 1.41.59.51 0 1.02-.2 1.41-.59l7.78-7.78 2.81-2.81c.8-.78.8-2.07 0-2.86zM5.41 20L4 18.59l7.72-7.72 1.47 1.35L5.41 20z\"/>\n",
              "  </svg>\n",
              "      </button>\n",
              "      \n",
              "  <style>\n",
              "    .colab-df-container {\n",
              "      display:flex;\n",
              "      flex-wrap:wrap;\n",
              "      gap: 12px;\n",
              "    }\n",
              "\n",
              "    .colab-df-convert {\n",
              "      background-color: #E8F0FE;\n",
              "      border: none;\n",
              "      border-radius: 50%;\n",
              "      cursor: pointer;\n",
              "      display: none;\n",
              "      fill: #1967D2;\n",
              "      height: 32px;\n",
              "      padding: 0 0 0 0;\n",
              "      width: 32px;\n",
              "    }\n",
              "\n",
              "    .colab-df-convert:hover {\n",
              "      background-color: #E2EBFA;\n",
              "      box-shadow: 0px 1px 2px rgba(60, 64, 67, 0.3), 0px 1px 3px 1px rgba(60, 64, 67, 0.15);\n",
              "      fill: #174EA6;\n",
              "    }\n",
              "\n",
              "    [theme=dark] .colab-df-convert {\n",
              "      background-color: #3B4455;\n",
              "      fill: #D2E3FC;\n",
              "    }\n",
              "\n",
              "    [theme=dark] .colab-df-convert:hover {\n",
              "      background-color: #434B5C;\n",
              "      box-shadow: 0px 1px 3px 1px rgba(0, 0, 0, 0.15);\n",
              "      filter: drop-shadow(0px 1px 2px rgba(0, 0, 0, 0.3));\n",
              "      fill: #FFFFFF;\n",
              "    }\n",
              "  </style>\n",
              "\n",
              "      <script>\n",
              "        const buttonEl =\n",
              "          document.querySelector('#df-39ca5111-a701-47b5-a899-7a533bd8dece button.colab-df-convert');\n",
              "        buttonEl.style.display =\n",
              "          google.colab.kernel.accessAllowed ? 'block' : 'none';\n",
              "\n",
              "        async function convertToInteractive(key) {\n",
              "          const element = document.querySelector('#df-39ca5111-a701-47b5-a899-7a533bd8dece');\n",
              "          const dataTable =\n",
              "            await google.colab.kernel.invokeFunction('convertToInteractive',\n",
              "                                                     [key], {});\n",
              "          if (!dataTable) return;\n",
              "\n",
              "          const docLinkHtml = 'Like what you see? Visit the ' +\n",
              "            '<a target=\"_blank\" href=https://colab.research.google.com/notebooks/data_table.ipynb>data table notebook</a>'\n",
              "            + ' to learn more about interactive tables.';\n",
              "          element.innerHTML = '';\n",
              "          dataTable['output_type'] = 'display_data';\n",
              "          await google.colab.output.renderOutput(dataTable, element);\n",
              "          const docLink = document.createElement('div');\n",
              "          docLink.innerHTML = docLinkHtml;\n",
              "          element.appendChild(docLink);\n",
              "        }\n",
              "      </script>\n",
              "    </div>\n",
              "  </div>\n",
              "  "
            ]
          },
          "metadata": {},
          "execution_count": 21
        }
      ],
      "source": [
        "df = pd.read_csv('recipes.csv', index_col=0)\n",
        "df.head()"
      ]
    },
    {
      "cell_type": "code",
      "execution_count": null,
      "id": "48b5850f",
      "metadata": {
        "colab": {
          "base_uri": "https://localhost:8080/"
        },
        "id": "48b5850f",
        "outputId": "bcd8a9e7-1c2a-4e2f-a35e-b32e9860dc19"
      },
      "outputs": [
        {
          "output_type": "execute_result",
          "data": {
            "text/plain": [
              "(146.0, 84.0, 176.0)"
            ]
          },
          "metadata": {},
          "execution_count": 22
        }
      ],
      "source": [
        "price_a.update(df['price_A'].to_dict())\n",
        "price_b.update(df['price_B'].to_dict())\n",
        "price_c.update(df['price_C'].to_dict())\n",
        "price_a['Apple Pie'], price_b['Apple Pie'], price_c['Apple Pie']"
      ]
    },
    {
      "cell_type": "markdown",
      "id": "f12c408d",
      "metadata": {
        "id": "f12c408d"
      },
      "source": [
        "Modify the evaluation function to take into account these recipes, making sure not to break the weight or stock constraints. The weight of a recipe is the sum total weight of the ingredients, and you can not make a recipe if you don't have the remaining stock of ingredients. Here's an example of calculating the total weight of a random load of only recipes:"
      ]
    },
    {
      "cell_type": "code",
      "execution_count": null,
      "id": "bf9c9986",
      "metadata": {
        "colab": {
          "base_uri": "https://localhost:8080/"
        },
        "id": "bf9c9986",
        "outputId": "f227a597-dd14-4cca-fa1e-fa3bdc38c9bb"
      },
      "outputs": [
        {
          "output_type": "execute_result",
          "data": {
            "text/plain": [
              "{'Ratatouille': 2,\n",
              " 'Apple Pie': 0,\n",
              " 'Apricot Pie': 2,\n",
              " 'Cherry Pie': 3,\n",
              " 'Rhubarb Pie': 2,\n",
              " 'Strawberry Pie': 0,\n",
              " 'Blackberry Pie': 2,\n",
              " 'Pumpkin Pie': 1,\n",
              " 'Pizza': 2,\n",
              " 'Baba Ghanoush': 0,\n",
              " 'Squash Soup': 0,\n",
              " 'Peach Beer': 4,\n",
              " 'Blackberry Beer': 3}"
            ]
          },
          "metadata": {},
          "execution_count": 23
        }
      ],
      "source": [
        "recipe_load = {}\n",
        "for k in recipes:\n",
        "    recipe_load[k] = np.random.randint(0, 5)\n",
        "recipe_load"
      ]
    },
    {
      "cell_type": "code",
      "execution_count": null,
      "id": "6fbd7e02",
      "metadata": {
        "id": "6fbd7e02"
      },
      "outputs": [],
      "source": [
        "def get_weight(recipe_load, recipes, weight):\n",
        "    total_weight = 0\n",
        "    for k in recipe_load:\n",
        "        ingredients = recipes[k]\n",
        "        w = 0\n",
        "        for i in ingredients:\n",
        "            w += weight[i] * ingredients[i]\n",
        "        total_weight += w * recipe_load[k]\n",
        "    return total_weight"
      ]
    },
    {
      "cell_type": "code",
      "execution_count": null,
      "id": "22027764",
      "metadata": {
        "colab": {
          "base_uri": "https://localhost:8080/"
        },
        "id": "22027764",
        "outputId": "b3c1b54c-1664-41c1-e950-3e8d75354aa1"
      },
      "outputs": [
        {
          "output_type": "execute_result",
          "data": {
            "text/plain": [
              "700"
            ]
          },
          "metadata": {},
          "execution_count": 25
        }
      ],
      "source": [
        "get_weight(recipe_load, recipes, weight)"
      ]
    },
    {
      "cell_type": "markdown",
      "id": "16aa5d3d",
      "metadata": {
        "id": "16aa5d3d"
      },
      "source": [
        "Once you've modified the evaluation function, rerun the optimization algorithm to find a new load for the three resellers, and one load which is good for all three. Display this result and the profit gained, making sure that the constraints are met."
      ]
    },
    {
      "cell_type": "markdown",
      "id": "ac9e164e",
      "metadata": {
        "id": "ac9e164e"
      },
      "source": [
        "## Evaluation"
      ]
    },
    {
      "cell_type": "markdown",
      "id": "3fc7150b",
      "metadata": {
        "id": "3fc7150b"
      },
      "source": [
        "You should submit a saved copy of your notebook (including all of the cell output) to the LMS by December 13th, EOD. You may work with one partner, but you must **individually submit a notebook**. You will be graded based on your results, your code, and any text or visual explanations, according to the following rubric:\n",
        "\n",
        "Criterion | Points\n",
        "--- | ---\n",
        "Results - Challenge 1 | 7\n",
        "Results - Challenge 2 | 5\n",
        "Results - Challenge 3 | 3\n",
        "Presentation (code, text) | 5"
      ]
    },
    {
      "cell_type": "code",
      "execution_count": null,
      "id": "7520033a",
      "metadata": {
        "id": "7520033a"
      },
      "outputs": [],
      "source": []
    }
  ],
  "metadata": {
    "kernelspec": {
      "display_name": "Python 3 (ipykernel)",
      "language": "python",
      "name": "python3"
    },
    "language_info": {
      "codemirror_mode": {
        "name": "ipython",
        "version": 3
      },
      "file_extension": ".py",
      "mimetype": "text/x-python",
      "name": "python",
      "nbconvert_exporter": "python",
      "pygments_lexer": "ipython3",
      "version": "3.8.10"
    },
    "colab": {
      "provenance": [],
      "include_colab_link": true
    }
  },
  "nbformat": 4,
  "nbformat_minor": 5
}